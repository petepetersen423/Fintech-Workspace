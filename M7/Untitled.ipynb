{
 "cells": [
  {
   "cell_type": "code",
   "execution_count": 1,
   "id": "4c9b9be7",
   "metadata": {},
   "outputs": [],
   "source": [
    "import pandas as pd\n",
    "import sqlalchemy"
   ]
  },
  {
   "cell_type": "code",
   "execution_count": 2,
   "id": "5d40cd34",
   "metadata": {},
   "outputs": [],
   "source": [
    "# Create a temporary sqlite database\n",
    "database_connection_string = 'sqlite:///'"
   ]
  },
  {
   "cell_type": "code",
   "execution_count": 3,
   "id": "82d9f524",
   "metadata": {},
   "outputs": [
    {
     "data": {
      "text/plain": [
       "Engine(sqlite:///)"
      ]
     },
     "execution_count": 3,
     "metadata": {},
     "output_type": "execute_result"
    }
   ],
   "source": [
    "engine = sqlalchemy.create_engine(database_connection_string)\n",
    "engine"
   ]
  },
  {
   "cell_type": "code",
   "execution_count": 4,
   "id": "3490fe02",
   "metadata": {},
   "outputs": [
    {
     "name": "stderr",
     "output_type": "stream",
     "text": [
      "/Users/pete/opt/anaconda3/envs/dev/lib/python3.7/site-packages/ipykernel_launcher.py:1: SADeprecationWarning: The Engine.table_names() method is deprecated and will be removed in a future release.  Please refer to Inspector.get_table_names(). (deprecated since: 1.4)\n",
      "  \"\"\"Entry point for launching an IPython kernel.\n"
     ]
    },
    {
     "data": {
      "text/plain": [
       "[]"
      ]
     },
     "execution_count": 4,
     "metadata": {},
     "output_type": "execute_result"
    }
   ],
   "source": [
    "engine.table_names()"
   ]
  },
  {
   "cell_type": "code",
   "execution_count": 5,
   "id": "312f4c67",
   "metadata": {},
   "outputs": [
    {
     "data": {
      "text/html": [
       "<div>\n",
       "<style scoped>\n",
       "    .dataframe tbody tr th:only-of-type {\n",
       "        vertical-align: middle;\n",
       "    }\n",
       "\n",
       "    .dataframe tbody tr th {\n",
       "        vertical-align: top;\n",
       "    }\n",
       "\n",
       "    .dataframe thead th {\n",
       "        text-align: right;\n",
       "    }\n",
       "</style>\n",
       "<table border=\"1\" class=\"dataframe\">\n",
       "  <thead>\n",
       "    <tr style=\"text-align: right;\">\n",
       "      <th></th>\n",
       "      <th>AAPL</th>\n",
       "      <th>GOOG</th>\n",
       "    </tr>\n",
       "  </thead>\n",
       "  <tbody>\n",
       "    <tr>\n",
       "      <th>0</th>\n",
       "      <td>1</td>\n",
       "      <td>3</td>\n",
       "    </tr>\n",
       "    <tr>\n",
       "      <th>1</th>\n",
       "      <td>2</td>\n",
       "      <td>4</td>\n",
       "    </tr>\n",
       "  </tbody>\n",
       "</table>\n",
       "</div>"
      ],
      "text/plain": [
       "   AAPL  GOOG\n",
       "0     1     3\n",
       "1     2     4"
      ]
     },
     "execution_count": 5,
     "metadata": {},
     "output_type": "execute_result"
    }
   ],
   "source": [
    "stocks_dataframe = pd.DataFrame({'AAPL': [1, 2], 'GOOG': [3, 4]})\n",
    "stocks_dataframe"
   ]
  },
  {
   "cell_type": "code",
   "execution_count": 6,
   "id": "51984cb3",
   "metadata": {},
   "outputs": [],
   "source": [
    "stocks_dataframe.to_sql('stocks', engine)\n"
   ]
  },
  {
   "cell_type": "code",
   "execution_count": 7,
   "id": "9e374e5d",
   "metadata": {},
   "outputs": [
    {
     "name": "stderr",
     "output_type": "stream",
     "text": [
      "/Users/pete/opt/anaconda3/envs/dev/lib/python3.7/site-packages/ipykernel_launcher.py:1: SADeprecationWarning: The Engine.table_names() method is deprecated and will be removed in a future release.  Please refer to Inspector.get_table_names(). (deprecated since: 1.4)\n",
      "  \"\"\"Entry point for launching an IPython kernel.\n"
     ]
    },
    {
     "data": {
      "text/plain": [
       "['stocks']"
      ]
     },
     "execution_count": 7,
     "metadata": {},
     "output_type": "execute_result"
    }
   ],
   "source": [
    "engine.table_names()"
   ]
  },
  {
   "cell_type": "code",
   "execution_count": 8,
   "id": "13fc7a5c",
   "metadata": {},
   "outputs": [
    {
     "data": {
      "text/html": [
       "<div>\n",
       "<style scoped>\n",
       "    .dataframe tbody tr th:only-of-type {\n",
       "        vertical-align: middle;\n",
       "    }\n",
       "\n",
       "    .dataframe tbody tr th {\n",
       "        vertical-align: top;\n",
       "    }\n",
       "\n",
       "    .dataframe thead th {\n",
       "        text-align: right;\n",
       "    }\n",
       "</style>\n",
       "<table border=\"1\" class=\"dataframe\">\n",
       "  <thead>\n",
       "    <tr style=\"text-align: right;\">\n",
       "      <th></th>\n",
       "      <th>index</th>\n",
       "      <th>AAPL</th>\n",
       "      <th>GOOG</th>\n",
       "    </tr>\n",
       "  </thead>\n",
       "  <tbody>\n",
       "    <tr>\n",
       "      <th>0</th>\n",
       "      <td>0</td>\n",
       "      <td>1</td>\n",
       "      <td>3</td>\n",
       "    </tr>\n",
       "    <tr>\n",
       "      <th>1</th>\n",
       "      <td>1</td>\n",
       "      <td>2</td>\n",
       "      <td>4</td>\n",
       "    </tr>\n",
       "  </tbody>\n",
       "</table>\n",
       "</div>"
      ],
      "text/plain": [
       "   index  AAPL  GOOG\n",
       "0      0     1     3\n",
       "1      1     2     4"
      ]
     },
     "execution_count": 8,
     "metadata": {},
     "output_type": "execute_result"
    }
   ],
   "source": [
    "sql_stocks_df = pd.read_sql_table('stocks', con=engine)\n",
    "sql_stocks_df"
   ]
  },
  {
   "cell_type": "code",
   "execution_count": 9,
   "id": "382791bf",
   "metadata": {},
   "outputs": [
    {
     "data": {
      "text/html": [
       "<div>\n",
       "<style scoped>\n",
       "    .dataframe tbody tr th:only-of-type {\n",
       "        vertical-align: middle;\n",
       "    }\n",
       "\n",
       "    .dataframe tbody tr th {\n",
       "        vertical-align: top;\n",
       "    }\n",
       "\n",
       "    .dataframe thead th {\n",
       "        text-align: right;\n",
       "    }\n",
       "</style>\n",
       "<table border=\"1\" class=\"dataframe\">\n",
       "  <thead>\n",
       "    <tr style=\"text-align: right;\">\n",
       "      <th></th>\n",
       "      <th>AAPL</th>\n",
       "      <th>GOOG</th>\n",
       "    </tr>\n",
       "  </thead>\n",
       "  <tbody>\n",
       "    <tr>\n",
       "      <th>0</th>\n",
       "      <td>1</td>\n",
       "      <td>3</td>\n",
       "    </tr>\n",
       "    <tr>\n",
       "      <th>1</th>\n",
       "      <td>2</td>\n",
       "      <td>4</td>\n",
       "    </tr>\n",
       "  </tbody>\n",
       "</table>\n",
       "</div>"
      ],
      "text/plain": [
       "   AAPL  GOOG\n",
       "0     1     3\n",
       "1     2     4"
      ]
     },
     "execution_count": 9,
     "metadata": {},
     "output_type": "execute_result"
    }
   ],
   "source": [
    "stocks_dataframe.to_sql('stocks', engine, index=False, if_exists='replace')\n",
    "sql_stocks_df = pd.read_sql_table('stocks', con=engine)\n",
    "sql_stocks_df"
   ]
  },
  {
   "cell_type": "code",
   "execution_count": 10,
   "id": "8d7c87c1",
   "metadata": {},
   "outputs": [],
   "source": [
    "# Create a temporary sqlite database\n",
    "database_connection_string = 'sqlite:///'\n",
    "\n",
    "# Create the database engine\n",
    "engine = sqlalchemy.create_engine(\n",
    "    database_connection_string,\n",
    "    echo=True\n",
    ")\n"
   ]
  },
  {
   "cell_type": "code",
   "execution_count": 11,
   "id": "4d9efcff",
   "metadata": {},
   "outputs": [
    {
     "name": "stdout",
     "output_type": "stream",
     "text": [
      "2022-03-06 18:32:41,607 INFO sqlalchemy.engine.Engine PRAGMA main.table_info(\"stocks\")\n",
      "2022-03-06 18:32:41,610 INFO sqlalchemy.engine.Engine [raw sql] ()\n",
      "2022-03-06 18:32:41,612 INFO sqlalchemy.engine.Engine PRAGMA temp.table_info(\"stocks\")\n",
      "2022-03-06 18:32:41,614 INFO sqlalchemy.engine.Engine [raw sql] ()\n",
      "2022-03-06 18:32:41,617 INFO sqlalchemy.engine.Engine BEGIN (implicit)\n",
      "2022-03-06 18:32:41,618 INFO sqlalchemy.engine.Engine \n",
      "CREATE TABLE stocks (\n",
      "\t\"AAPL\" BIGINT, \n",
      "\t\"GOOG\" BIGINT\n",
      ")\n",
      "\n",
      "\n",
      "2022-03-06 18:32:41,620 INFO sqlalchemy.engine.Engine [no key 0.00112s] ()\n",
      "2022-03-06 18:32:41,620 INFO sqlalchemy.engine.Engine COMMIT\n",
      "2022-03-06 18:32:41,621 INFO sqlalchemy.engine.Engine BEGIN (implicit)\n",
      "2022-03-06 18:32:41,623 INFO sqlalchemy.engine.Engine INSERT INTO stocks (\"AAPL\", \"GOOG\") VALUES (?, ?)\n",
      "2022-03-06 18:32:41,623 INFO sqlalchemy.engine.Engine [generated in 0.00049s] ((1, 3), (2, 4))\n",
      "2022-03-06 18:32:41,624 INFO sqlalchemy.engine.Engine COMMIT\n"
     ]
    }
   ],
   "source": [
    "stocks_dataframe.to_sql('stocks', engine, index=False, if_exists='replace')\n"
   ]
  },
  {
   "cell_type": "code",
   "execution_count": 12,
   "id": "042da51e",
   "metadata": {},
   "outputs": [
    {
     "data": {
      "text/plain": [
       "'\\nCREATE TABLE stocks (\\n    \"AAPL\" BIGINT,\\n    \"GOOG\" BIGINT\\n)\\n'"
      ]
     },
     "execution_count": 12,
     "metadata": {},
     "output_type": "execute_result"
    }
   ],
   "source": [
    "create_table = \"\"\"\n",
    "CREATE TABLE stocks (\n",
    "    \"AAPL\" BIGINT,\n",
    "    \"GOOG\" BIGINT\n",
    ")\n",
    "\"\"\"\n",
    "create_table"
   ]
  },
  {
   "cell_type": "code",
   "execution_count": 13,
   "id": "f6b7c21f",
   "metadata": {},
   "outputs": [],
   "source": [
    "create_table = \"\"\"\n",
    "CREATE TABLE delicious_stocks (\n",
    "    \"EAT\" BIGINT,\n",
    "    \"CAKE\" BIGINT\n",
    ")\n",
    "\"\"\""
   ]
  },
  {
   "cell_type": "code",
   "execution_count": 14,
   "id": "a535abb5",
   "metadata": {},
   "outputs": [
    {
     "data": {
      "text/plain": [
       "'\\nCREATE TABLE delicious_stocks (\\n    \"EAT\" BIGINT,\\n    \"CAKE\" BIGINT\\n)\\n'"
      ]
     },
     "execution_count": 14,
     "metadata": {},
     "output_type": "execute_result"
    }
   ],
   "source": [
    "create_table"
   ]
  },
  {
   "cell_type": "code",
   "execution_count": null,
   "id": "9b3170bf",
   "metadata": {},
   "outputs": [],
   "source": []
  },
  {
   "cell_type": "code",
   "execution_count": 15,
   "id": "6413217e",
   "metadata": {},
   "outputs": [
    {
     "name": "stdout",
     "output_type": "stream",
     "text": [
      "2022-03-06 18:36:08,437 INFO sqlalchemy.engine.Engine \n",
      "CREATE TABLE delicious_stocks (\n",
      "    \"EAT\" BIGINT,\n",
      "    \"CAKE\" BIGINT\n",
      ")\n",
      "\n",
      "2022-03-06 18:36:08,443 INFO sqlalchemy.engine.Engine [raw sql] ()\n",
      "2022-03-06 18:36:08,444 INFO sqlalchemy.engine.Engine COMMIT\n"
     ]
    },
    {
     "data": {
      "text/plain": [
       "<sqlalchemy.engine.cursor.LegacyCursorResult at 0x7fac38a4c2d0>"
      ]
     },
     "execution_count": 15,
     "metadata": {},
     "output_type": "execute_result"
    }
   ],
   "source": [
    "engine.execute(create_table)\n"
   ]
  },
  {
   "cell_type": "code",
   "execution_count": 16,
   "id": "5a014e8c",
   "metadata": {},
   "outputs": [
    {
     "name": "stdout",
     "output_type": "stream",
     "text": [
      "2022-03-06 18:36:39,370 INFO sqlalchemy.engine.Engine SELECT name FROM sqlite_master WHERE type='table' ORDER BY name\n",
      "2022-03-06 18:36:39,373 INFO sqlalchemy.engine.Engine [raw sql] ()\n"
     ]
    },
    {
     "name": "stderr",
     "output_type": "stream",
     "text": [
      "/Users/pete/opt/anaconda3/envs/dev/lib/python3.7/site-packages/ipykernel_launcher.py:1: SADeprecationWarning: The Engine.table_names() method is deprecated and will be removed in a future release.  Please refer to Inspector.get_table_names(). (deprecated since: 1.4)\n",
      "  \"\"\"Entry point for launching an IPython kernel.\n"
     ]
    },
    {
     "data": {
      "text/plain": [
       "['delicious_stocks', 'stocks']"
      ]
     },
     "execution_count": 16,
     "metadata": {},
     "output_type": "execute_result"
    }
   ],
   "source": [
    "engine.table_names()\n"
   ]
  },
  {
   "cell_type": "code",
   "execution_count": 17,
   "id": "7012889f",
   "metadata": {},
   "outputs": [
    {
     "name": "stdout",
     "output_type": "stream",
     "text": [
      "2022-03-06 18:38:41,812 INFO sqlalchemy.engine.Engine SELECT name FROM sqlite_master WHERE type='table' ORDER BY name\n",
      "2022-03-06 18:38:41,818 INFO sqlalchemy.engine.Engine [raw sql] ()\n",
      "2022-03-06 18:38:41,819 INFO sqlalchemy.engine.Engine SELECT name FROM sqlite_master WHERE type='view' ORDER BY name\n",
      "2022-03-06 18:38:41,820 INFO sqlalchemy.engine.Engine [raw sql] ()\n",
      "2022-03-06 18:38:41,822 INFO sqlalchemy.engine.Engine PRAGMA main.table_xinfo(\"delicious_stocks\")\n",
      "2022-03-06 18:38:41,824 INFO sqlalchemy.engine.Engine [raw sql] ()\n",
      "2022-03-06 18:38:41,826 INFO sqlalchemy.engine.Engine SELECT sql FROM  (SELECT * FROM sqlite_master UNION ALL   SELECT * FROM sqlite_temp_master) WHERE name = ? AND type = 'table'\n",
      "2022-03-06 18:38:41,828 INFO sqlalchemy.engine.Engine [raw sql] ('delicious_stocks',)\n",
      "2022-03-06 18:38:41,830 INFO sqlalchemy.engine.Engine PRAGMA main.foreign_key_list(\"delicious_stocks\")\n",
      "2022-03-06 18:38:41,831 INFO sqlalchemy.engine.Engine [raw sql] ()\n",
      "2022-03-06 18:38:41,832 INFO sqlalchemy.engine.Engine PRAGMA temp.foreign_key_list(\"delicious_stocks\")\n",
      "2022-03-06 18:38:41,833 INFO sqlalchemy.engine.Engine [raw sql] ()\n",
      "2022-03-06 18:38:41,833 INFO sqlalchemy.engine.Engine SELECT sql FROM  (SELECT * FROM sqlite_master UNION ALL   SELECT * FROM sqlite_temp_master) WHERE name = ? AND type = 'table'\n",
      "2022-03-06 18:38:41,834 INFO sqlalchemy.engine.Engine [raw sql] ('delicious_stocks',)\n",
      "2022-03-06 18:38:41,834 INFO sqlalchemy.engine.Engine PRAGMA main.index_list(\"delicious_stocks\")\n",
      "2022-03-06 18:38:41,835 INFO sqlalchemy.engine.Engine [raw sql] ()\n",
      "2022-03-06 18:38:41,835 INFO sqlalchemy.engine.Engine PRAGMA temp.index_list(\"delicious_stocks\")\n",
      "2022-03-06 18:38:41,836 INFO sqlalchemy.engine.Engine [raw sql] ()\n",
      "2022-03-06 18:38:41,837 INFO sqlalchemy.engine.Engine PRAGMA main.index_list(\"delicious_stocks\")\n",
      "2022-03-06 18:38:41,837 INFO sqlalchemy.engine.Engine [raw sql] ()\n",
      "2022-03-06 18:38:41,838 INFO sqlalchemy.engine.Engine PRAGMA temp.index_list(\"delicious_stocks\")\n",
      "2022-03-06 18:38:41,838 INFO sqlalchemy.engine.Engine [raw sql] ()\n",
      "2022-03-06 18:38:41,839 INFO sqlalchemy.engine.Engine SELECT sql FROM  (SELECT * FROM sqlite_master UNION ALL   SELECT * FROM sqlite_temp_master) WHERE name = ? AND type = 'table'\n",
      "2022-03-06 18:38:41,839 INFO sqlalchemy.engine.Engine [raw sql] ('delicious_stocks',)\n",
      "2022-03-06 18:38:41,841 INFO sqlalchemy.engine.Engine SELECT delicious_stocks.\"EAT\", delicious_stocks.\"CAKE\" \n",
      "FROM delicious_stocks\n",
      "2022-03-06 18:38:41,841 INFO sqlalchemy.engine.Engine [generated in 0.00052s] ()\n"
     ]
    },
    {
     "data": {
      "text/html": [
       "<div>\n",
       "<style scoped>\n",
       "    .dataframe tbody tr th:only-of-type {\n",
       "        vertical-align: middle;\n",
       "    }\n",
       "\n",
       "    .dataframe tbody tr th {\n",
       "        vertical-align: top;\n",
       "    }\n",
       "\n",
       "    .dataframe thead th {\n",
       "        text-align: right;\n",
       "    }\n",
       "</style>\n",
       "<table border=\"1\" class=\"dataframe\">\n",
       "  <thead>\n",
       "    <tr style=\"text-align: right;\">\n",
       "      <th></th>\n",
       "      <th>EAT</th>\n",
       "      <th>CAKE</th>\n",
       "    </tr>\n",
       "  </thead>\n",
       "  <tbody>\n",
       "  </tbody>\n",
       "</table>\n",
       "</div>"
      ],
      "text/plain": [
       "Empty DataFrame\n",
       "Columns: [EAT, CAKE]\n",
       "Index: []"
      ]
     },
     "execution_count": 17,
     "metadata": {},
     "output_type": "execute_result"
    }
   ],
   "source": [
    "pd.read_sql_table('delicious_stocks', con=engine)\n"
   ]
  },
  {
   "cell_type": "code",
   "execution_count": 18,
   "id": "87a0be89",
   "metadata": {},
   "outputs": [],
   "source": [
    "insert_data = \"\"\"\n",
    "INSERT INTO delicious_stocks (\"EAT\", \"CAKE\") VALUES (?, ?)\n",
    "\"\"\""
   ]
  },
  {
   "cell_type": "code",
   "execution_count": 19,
   "id": "dde73cdc",
   "metadata": {},
   "outputs": [
    {
     "name": "stdout",
     "output_type": "stream",
     "text": [
      "2022-03-06 18:40:01,279 INFO sqlalchemy.engine.Engine \n",
      "INSERT INTO delicious_stocks (\"EAT\", \"CAKE\") VALUES (?, ?)\n",
      "\n",
      "2022-03-06 18:40:01,282 INFO sqlalchemy.engine.Engine [raw sql] ((10, 30), (20, 40))\n",
      "2022-03-06 18:40:01,284 INFO sqlalchemy.engine.Engine COMMIT\n"
     ]
    },
    {
     "data": {
      "text/plain": [
       "<sqlalchemy.engine.cursor.LegacyCursorResult at 0x7fac413bfc10>"
      ]
     },
     "execution_count": 19,
     "metadata": {},
     "output_type": "execute_result"
    }
   ],
   "source": [
    "engine.execute(insert_data, ((10, 30), (20, 40)))\n"
   ]
  },
  {
   "cell_type": "code",
   "execution_count": 20,
   "id": "77be34dc",
   "metadata": {},
   "outputs": [
    {
     "name": "stdout",
     "output_type": "stream",
     "text": [
      "2022-03-06 18:40:37,583 INFO sqlalchemy.engine.Engine \n",
      "INSERT INTO delicious_stocks (\"EAT\", \"CAKE\") VALUES (10, 30), (20, 40)\n",
      "\n",
      "2022-03-06 18:40:37,585 INFO sqlalchemy.engine.Engine [raw sql] ()\n",
      "2022-03-06 18:40:37,588 INFO sqlalchemy.engine.Engine COMMIT\n"
     ]
    },
    {
     "data": {
      "text/plain": [
       "<sqlalchemy.engine.cursor.LegacyCursorResult at 0x7fac413dacd0>"
      ]
     },
     "execution_count": 20,
     "metadata": {},
     "output_type": "execute_result"
    }
   ],
   "source": [
    "insert_data = \"\"\"\n",
    "INSERT INTO delicious_stocks (\"EAT\", \"CAKE\") VALUES (10, 30), (20, 40)\n",
    "\"\"\"\n",
    "engine.execute(insert_data)"
   ]
  },
  {
   "cell_type": "code",
   "execution_count": 21,
   "id": "7fc54e3e",
   "metadata": {},
   "outputs": [
    {
     "name": "stdout",
     "output_type": "stream",
     "text": [
      "2022-03-06 18:41:28,832 INFO sqlalchemy.engine.Engine SELECT name FROM sqlite_master WHERE type='table' ORDER BY name\n",
      "2022-03-06 18:41:28,837 INFO sqlalchemy.engine.Engine [raw sql] ()\n",
      "2022-03-06 18:41:28,838 INFO sqlalchemy.engine.Engine SELECT name FROM sqlite_master WHERE type='view' ORDER BY name\n",
      "2022-03-06 18:41:28,839 INFO sqlalchemy.engine.Engine [raw sql] ()\n",
      "2022-03-06 18:41:28,840 INFO sqlalchemy.engine.Engine PRAGMA main.table_xinfo(\"delicious_stocks\")\n",
      "2022-03-06 18:41:28,841 INFO sqlalchemy.engine.Engine [raw sql] ()\n",
      "2022-03-06 18:41:28,843 INFO sqlalchemy.engine.Engine SELECT sql FROM  (SELECT * FROM sqlite_master UNION ALL   SELECT * FROM sqlite_temp_master) WHERE name = ? AND type = 'table'\n",
      "2022-03-06 18:41:28,844 INFO sqlalchemy.engine.Engine [raw sql] ('delicious_stocks',)\n",
      "2022-03-06 18:41:28,846 INFO sqlalchemy.engine.Engine PRAGMA main.foreign_key_list(\"delicious_stocks\")\n",
      "2022-03-06 18:41:28,847 INFO sqlalchemy.engine.Engine [raw sql] ()\n",
      "2022-03-06 18:41:28,848 INFO sqlalchemy.engine.Engine PRAGMA temp.foreign_key_list(\"delicious_stocks\")\n",
      "2022-03-06 18:41:28,848 INFO sqlalchemy.engine.Engine [raw sql] ()\n",
      "2022-03-06 18:41:28,850 INFO sqlalchemy.engine.Engine SELECT sql FROM  (SELECT * FROM sqlite_master UNION ALL   SELECT * FROM sqlite_temp_master) WHERE name = ? AND type = 'table'\n",
      "2022-03-06 18:41:28,850 INFO sqlalchemy.engine.Engine [raw sql] ('delicious_stocks',)\n",
      "2022-03-06 18:41:28,851 INFO sqlalchemy.engine.Engine PRAGMA main.index_list(\"delicious_stocks\")\n",
      "2022-03-06 18:41:28,851 INFO sqlalchemy.engine.Engine [raw sql] ()\n",
      "2022-03-06 18:41:28,852 INFO sqlalchemy.engine.Engine PRAGMA temp.index_list(\"delicious_stocks\")\n",
      "2022-03-06 18:41:28,852 INFO sqlalchemy.engine.Engine [raw sql] ()\n",
      "2022-03-06 18:41:28,853 INFO sqlalchemy.engine.Engine PRAGMA main.index_list(\"delicious_stocks\")\n",
      "2022-03-06 18:41:28,853 INFO sqlalchemy.engine.Engine [raw sql] ()\n",
      "2022-03-06 18:41:28,854 INFO sqlalchemy.engine.Engine PRAGMA temp.index_list(\"delicious_stocks\")\n",
      "2022-03-06 18:41:28,855 INFO sqlalchemy.engine.Engine [raw sql] ()\n",
      "2022-03-06 18:41:28,855 INFO sqlalchemy.engine.Engine SELECT sql FROM  (SELECT * FROM sqlite_master UNION ALL   SELECT * FROM sqlite_temp_master) WHERE name = ? AND type = 'table'\n",
      "2022-03-06 18:41:28,855 INFO sqlalchemy.engine.Engine [raw sql] ('delicious_stocks',)\n",
      "2022-03-06 18:41:28,857 INFO sqlalchemy.engine.Engine SELECT delicious_stocks.\"EAT\", delicious_stocks.\"CAKE\" \n",
      "FROM delicious_stocks\n",
      "2022-03-06 18:41:28,857 INFO sqlalchemy.engine.Engine [generated in 0.00056s] ()\n"
     ]
    },
    {
     "data": {
      "text/html": [
       "<div>\n",
       "<style scoped>\n",
       "    .dataframe tbody tr th:only-of-type {\n",
       "        vertical-align: middle;\n",
       "    }\n",
       "\n",
       "    .dataframe tbody tr th {\n",
       "        vertical-align: top;\n",
       "    }\n",
       "\n",
       "    .dataframe thead th {\n",
       "        text-align: right;\n",
       "    }\n",
       "</style>\n",
       "<table border=\"1\" class=\"dataframe\">\n",
       "  <thead>\n",
       "    <tr style=\"text-align: right;\">\n",
       "      <th></th>\n",
       "      <th>EAT</th>\n",
       "      <th>CAKE</th>\n",
       "    </tr>\n",
       "  </thead>\n",
       "  <tbody>\n",
       "    <tr>\n",
       "      <th>0</th>\n",
       "      <td>10</td>\n",
       "      <td>30</td>\n",
       "    </tr>\n",
       "    <tr>\n",
       "      <th>1</th>\n",
       "      <td>20</td>\n",
       "      <td>40</td>\n",
       "    </tr>\n",
       "    <tr>\n",
       "      <th>2</th>\n",
       "      <td>10</td>\n",
       "      <td>30</td>\n",
       "    </tr>\n",
       "    <tr>\n",
       "      <th>3</th>\n",
       "      <td>20</td>\n",
       "      <td>40</td>\n",
       "    </tr>\n",
       "  </tbody>\n",
       "</table>\n",
       "</div>"
      ],
      "text/plain": [
       "   EAT  CAKE\n",
       "0   10    30\n",
       "1   20    40\n",
       "2   10    30\n",
       "3   20    40"
      ]
     },
     "execution_count": 21,
     "metadata": {},
     "output_type": "execute_result"
    }
   ],
   "source": [
    "pd.read_sql_table('delicious_stocks', con=engine)\n"
   ]
  },
  {
   "cell_type": "code",
   "execution_count": 22,
   "id": "7cd407bf",
   "metadata": {},
   "outputs": [
    {
     "name": "stdout",
     "output_type": "stream",
     "text": [
      "2022-03-06 18:42:00,340 INFO sqlalchemy.engine.Engine \n",
      "SELECT \"EAT\", \"CAKE\" FROM delicious_stocks\n",
      "\n",
      "2022-03-06 18:42:00,343 INFO sqlalchemy.engine.Engine [raw sql] ()\n"
     ]
    },
    {
     "data": {
      "text/plain": [
       "<sqlalchemy.engine.cursor.LegacyCursorResult at 0x7fac4196d290>"
      ]
     },
     "execution_count": 22,
     "metadata": {},
     "output_type": "execute_result"
    }
   ],
   "source": [
    "read_all_data = \"\"\"\n",
    "SELECT \"EAT\", \"CAKE\" FROM delicious_stocks\n",
    "\"\"\"\n",
    "engine.execute(read_all_data)"
   ]
  },
  {
   "cell_type": "code",
   "execution_count": 24,
   "id": "1fe9e612",
   "metadata": {},
   "outputs": [
    {
     "name": "stdout",
     "output_type": "stream",
     "text": [
      "2022-03-06 18:42:53,962 INFO sqlalchemy.engine.Engine \n",
      "SELECT \"EAT\", \"CAKE\" FROM delicious_stocks\n",
      "\n",
      "2022-03-06 18:42:53,964 INFO sqlalchemy.engine.Engine [raw sql] ()\n",
      "(10, 30)\n",
      "(20, 40)\n",
      "(10, 30)\n",
      "(20, 40)\n"
     ]
    }
   ],
   "source": [
    "read_all_data = \"\"\"\n",
    "SELECT \"EAT\", \"CAKE\" FROM delicious_stocks\n",
    "\"\"\"\n",
    "results = engine.execute(read_all_data)\n",
    "for row in results:\n",
    "    print(row)"
   ]
  },
  {
   "cell_type": "code",
   "execution_count": 25,
   "id": "9fd96314",
   "metadata": {},
   "outputs": [
    {
     "name": "stdout",
     "output_type": "stream",
     "text": [
      "2022-03-06 18:43:35,949 INFO sqlalchemy.engine.Engine \n",
      "SELECT \"EAT\", \"CAKE\" FROM delicious_stocks\n",
      "\n",
      "2022-03-06 18:43:35,952 INFO sqlalchemy.engine.Engine [raw sql] ()\n"
     ]
    },
    {
     "data": {
      "text/plain": [
       "[(10, 30), (20, 40), (10, 30), (20, 40)]"
      ]
     },
     "execution_count": 25,
     "metadata": {},
     "output_type": "execute_result"
    }
   ],
   "source": [
    "results = engine.execute(read_all_data)\n",
    "list(results)"
   ]
  },
  {
   "cell_type": "code",
   "execution_count": 26,
   "id": "4362628d",
   "metadata": {},
   "outputs": [
    {
     "name": "stdout",
     "output_type": "stream",
     "text": [
      "2022-03-06 18:45:06,073 INFO sqlalchemy.engine.Engine \n",
      "SELECT * FROM delicious_stocks\n",
      "\n",
      "2022-03-06 18:45:06,081 INFO sqlalchemy.engine.Engine [raw sql] ()\n"
     ]
    },
    {
     "data": {
      "text/plain": [
       "[(10, 30), (20, 40), (10, 30), (20, 40)]"
      ]
     },
     "execution_count": 26,
     "metadata": {},
     "output_type": "execute_result"
    }
   ],
   "source": [
    "read_all_data = \"\"\"\n",
    "SELECT * FROM delicious_stocks\n",
    "\"\"\"\n",
    "results = engine.execute(read_all_data)\n",
    "list(results)"
   ]
  },
  {
   "cell_type": "code",
   "execution_count": 27,
   "id": "eb5dccf5",
   "metadata": {},
   "outputs": [
    {
     "name": "stdout",
     "output_type": "stream",
     "text": [
      "2022-03-06 18:45:50,955 INFO sqlalchemy.engine.Engine \n",
      "UPDATE delicious_stocks\n",
      "SET CAKE = 100\n",
      "WHERE CAKE = 40\n",
      "\n",
      "2022-03-06 18:45:50,957 INFO sqlalchemy.engine.Engine [raw sql] ()\n",
      "2022-03-06 18:45:50,959 INFO sqlalchemy.engine.Engine COMMIT\n"
     ]
    },
    {
     "data": {
      "text/plain": [
       "<sqlalchemy.engine.cursor.LegacyCursorResult at 0x7fac38a7e3d0>"
      ]
     },
     "execution_count": 27,
     "metadata": {},
     "output_type": "execute_result"
    }
   ],
   "source": [
    "update_cake = \"\"\"\n",
    "UPDATE delicious_stocks\n",
    "SET CAKE = 100\n",
    "WHERE CAKE = 40\n",
    "\"\"\"\n",
    "engine.execute(update_cake)"
   ]
  },
  {
   "cell_type": "code",
   "execution_count": 28,
   "id": "2ac917d7",
   "metadata": {},
   "outputs": [
    {
     "name": "stdout",
     "output_type": "stream",
     "text": [
      "2022-03-06 18:53:36,012 INFO sqlalchemy.engine.Engine \n",
      "SELECT * FROM delicious_stocks\n",
      "\n",
      "2022-03-06 18:53:36,014 INFO sqlalchemy.engine.Engine [raw sql] ()\n"
     ]
    },
    {
     "data": {
      "text/plain": [
       "[(10, 30), (20, 100), (10, 30), (20, 100)]"
      ]
     },
     "execution_count": 28,
     "metadata": {},
     "output_type": "execute_result"
    }
   ],
   "source": [
    "read_all_data = \"\"\"\n",
    "SELECT * FROM delicious_stocks\n",
    "\"\"\"\n",
    "results = engine.execute(read_all_data)\n",
    "list(results)"
   ]
  },
  {
   "cell_type": "code",
   "execution_count": 29,
   "id": "3988bc2a",
   "metadata": {},
   "outputs": [
    {
     "name": "stdout",
     "output_type": "stream",
     "text": [
      "2022-03-06 18:54:36,244 INFO sqlalchemy.engine.Engine \n",
      "DELETE FROM delicious_stocks\n",
      "WHERE EAT = 20\n",
      "\n",
      "2022-03-06 18:54:36,250 INFO sqlalchemy.engine.Engine [raw sql] ()\n",
      "2022-03-06 18:54:36,260 INFO sqlalchemy.engine.Engine COMMIT\n"
     ]
    },
    {
     "data": {
      "text/plain": [
       "<sqlalchemy.engine.cursor.LegacyCursorResult at 0x7fac38a70250>"
      ]
     },
     "execution_count": 29,
     "metadata": {},
     "output_type": "execute_result"
    }
   ],
   "source": [
    "delete_eat = \"\"\"\n",
    "DELETE FROM delicious_stocks\n",
    "WHERE EAT = 20\n",
    "\"\"\"\n",
    "engine.execute(delete_eat)"
   ]
  },
  {
   "cell_type": "code",
   "execution_count": 30,
   "id": "ee71a950",
   "metadata": {},
   "outputs": [
    {
     "name": "stdout",
     "output_type": "stream",
     "text": [
      "2022-03-06 18:55:04,480 INFO sqlalchemy.engine.Engine \n",
      "SELECT * FROM delicious_stocks\n",
      "\n",
      "2022-03-06 18:55:04,483 INFO sqlalchemy.engine.Engine [raw sql] ()\n"
     ]
    },
    {
     "data": {
      "text/plain": [
       "[(10, 30), (10, 30)]"
      ]
     },
     "execution_count": 30,
     "metadata": {},
     "output_type": "execute_result"
    }
   ],
   "source": [
    "read_all_data = \"\"\"\n",
    "SELECT * FROM delicious_stocks\n",
    "\"\"\"\n",
    "results = engine.execute(read_all_data)\n",
    "list(results)"
   ]
  },
  {
   "cell_type": "code",
   "execution_count": 2,
   "id": "e086632c",
   "metadata": {},
   "outputs": [
    {
     "name": "stdout",
     "output_type": "stream",
     "text": [
      "Running CRUD\n"
     ]
    },
    {
     "name": "stderr",
     "output_type": "stream",
     "text": [
      "\u001b[1m\u001b[31mERROR: \u001b[0mCould not consume arg: -f\n",
      "Usage: ipykernel_launcher.py -\n",
      "\n",
      "For detailed information on this command, run:\n",
      "  ipykernel_launcher.py - --help\n"
     ]
    },
    {
     "ename": "FireExit",
     "evalue": "2",
     "output_type": "error",
     "traceback": [
      "An exception has occurred, use %tb to see the full traceback.\n",
      "\u001b[0;31mFireExit\u001b[0m\u001b[0;31m:\u001b[0m 2\n"
     ]
    },
    {
     "name": "stderr",
     "output_type": "stream",
     "text": [
      "/Users/pete/opt/anaconda3/envs/dev/lib/python3.7/site-packages/IPython/core/interactiveshell.py:3465: UserWarning: To exit: use 'exit', 'quit', or Ctrl-D.\n",
      "  warn(\"To exit: use 'exit', 'quit', or Ctrl-D.\", stacklevel=1)\n"
     ]
    }
   ],
   "source": [
    "import fire\n",
    "\n",
    "def run_crud(message=\"Running CRUD\"):\n",
    "\tprint(message)\n",
    "\n",
    "if __name__ == '__main__':\n",
    "\tfire.Fire(run_crud)"
   ]
  },
  {
   "cell_type": "code",
   "execution_count": null,
   "id": "1a9e33f9",
   "metadata": {},
   "outputs": [],
   "source": []
  }
 ],
 "metadata": {
  "kernelspec": {
   "display_name": "dev",
   "language": "python",
   "name": "dev"
  },
  "language_info": {
   "codemirror_mode": {
    "name": "ipython",
    "version": 3
   },
   "file_extension": ".py",
   "mimetype": "text/x-python",
   "name": "python",
   "nbconvert_exporter": "python",
   "pygments_lexer": "ipython3",
   "version": "3.7.11"
  }
 },
 "nbformat": 4,
 "nbformat_minor": 5
}
