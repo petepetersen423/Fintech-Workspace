{
 "cells": [
  {
   "cell_type": "code",
   "execution_count": null,
   "id": "2abe6b5a",
   "metadata": {},
   "outputs": [],
   "source": [
    "import pandas as pd\n",
    "import sqlalchemy\n",
    "import hvplot.pandas\n",
    "\n",
    "# Generate some test data\n",
    "stocks_dataframe = pd.DataFrame({\n",
    "    'Date': pd.date_range(start='10/1/2020', periods=10),\n",
    "    'BLOK': [24.75, 24.45, 24.93, 24.65, 25.04, 25.43, 25.60, 25.93, 26.00, 25.82],\n",
    "    'BLCN': [34.46, 34.14, 34.72, 34.40, 34.94, 35.31, 35.53, 36.00, 35.74, 35.54]\n",
    "})\n",
    "\n",
    "# Create the database engine\n",
    "engine = sqlalchemy.create_engine('sqlite:///')\n",
    "\n",
    "# CRUD - Create\n",
    "def create_table(engine, table_name, table_data_df):\n",
    "    table_data_df.to_sql(table_name, engine, index=False, if_exists='replace')\n",
    "\n",
    "# CRUD - Read\n",
    "def read_table(engine, table_name):\n",
    "    return pd.read_sql_table(table_name, con=engine)\n",
    "\n",
    "# Create a table in the database\n",
    "create_table(engine, 'stocks', stocks_dataframe)\n",
    "\n",
    "# Read a table from the database\n",
    "stocks = read_table(engine, 'stocks')\n",
    "stocks = stocks.set_index(\"Date\")\n",
    "print(stocks)\n",
    "\n",
    "# Calculate daily returns data\n",
    "daily_returns = stocks.pct_change().dropna()\n",
    "\n",
    "# Calculate cumulative returns from the daily returns data\n",
    "cumulative_returns = (1 + daily_returns).cumprod()\n",
    "\n",
    "# Plot the cumulative returns data\n",
    "cumulative_returns.hvplot(title=\"Cumulative Returns\")"
   ]
  }
 ],
 "metadata": {
  "kernelspec": {
   "display_name": "dev",
   "language": "python",
   "name": "dev"
  },
  "language_info": {
   "codemirror_mode": {
    "name": "ipython",
    "version": 3
   },
   "file_extension": ".py",
   "mimetype": "text/x-python",
   "name": "python",
   "nbconvert_exporter": "python",
   "pygments_lexer": "ipython3",
   "version": "3.7.11"
  }
 },
 "nbformat": 4,
 "nbformat_minor": 5
}
