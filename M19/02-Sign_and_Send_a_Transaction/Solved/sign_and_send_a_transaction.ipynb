{
 "cells": [
  {
   "cell_type": "markdown",
   "metadata": {},
   "source": [
    "# Sign and Send a Transaction\n",
    "In this activity, you will create a new transaction object that will transfer some of your Ganache ether funds to another account. \n",
    "\n",
    "Using the mnemonic seed phrase provided by Ganache, you will re-generate your HD wallet and your Ethereum public-private key pair and account address.\n",
    "\n",
    "Once you have established the account and transaction information, you will send the signed transaction to the local Ganache blockchain.\n",
    "\n",
    "## Instructions\n",
    "\n",
    "Complete each of the following steps:\n",
    "\n",
    "1. In the `Unsolved` folder, create a `.env` file that contains your mnemonic seed phrase (provided by Ganache). Import the `MNEMONIC` variable into the notebook. \n",
    "\n",
    "2. Use the variable associated with your mnemonic seed phrase, and the `Wallet` class from the bip44 package, to generate a wallet instance. Then, derive your private and public keys by calling the `.derive_account` method on the `wallet` object and passing it the string “eth”. Save the two returned values as variables named `private` and `public`.\n",
    "\n",
    "3. Pass the private-key value to `Account.privateKeyToAccount`, and save the returned account object as a variable named `account`.\n",
    "\n",
    "4. Call `account.address`, and save it as a new variable named `account_address`. Then, print the `account_address` variable to get your public Ethereum address from your public key.\n",
    "\n",
    "5. Define a new variable named `amount`, and set it to a float amount (in ether) that you would like to send&mdash;for example, 0.3.\n",
    "\n",
    "6. Select any of your Ganache accounts other than the first one, index 0. Copy the account address, and store it in a new variable named `receiver`.\n",
    "\n",
    "7. Call the `w3.toWei` function, and convert your `amount` variable to the equivalent amount in ether. Save this value as a new variable named `value`.\n",
    "\n",
    "8. Call `w3.eth.setGasPriceStrategy(medium_gas_price_strategy)` to configure the medium gas price strategy for your wallet.\n",
    "\n",
    "9. Call `w3.eth.estimateGas`, and pass it an object with the following values: { \"to\": receiver, \"from\": account_address, \"value\": value}. Save it as a variable named `gasEstimate`.\n",
    "\n",
    "10. Construct a transaction object named `raw_tx`. It should contain the attributes `to`, `from`, `value`, `gas`, `gasPrice`, and `nonce`.\n",
    "\n",
    "* Set `to` to the value of the variable `receiver`.\n",
    "* Set `from` to the value of the variable `account_address`.\n",
    "* Set `value` to the value of the variable `value`.\n",
    "* Set `gas` to the value of the variable `gasEstimate`.\n",
    "* Set `gasPrice` to 0.\n",
    "* Set `nonce` to the value of the function `w3.eth.getTransactionCount(account_address)`.\n",
    "\n",
    "11. Call `account.signTransaction`, and pass it the `raw_tx` object to sign the transaction.\n",
    "\n",
    "12. Call `w3.eth.sendRawTransaction`, and pass it `signed_tx.rawTransaction` to execute the transaction on the Ganache blockchain. View the HexBytes transaction code that is returned.\n",
    "\n",
    "13. Navigate to the Ganache Transaction tab, and view the transaction.\n",
    "\n",
    "\n",
    "## References\n",
    "\n",
    "[Web3.py](https://web3py.readthedocs.io/en/stable/)\n",
    "\n",
    "[Ganache](https://www.trufflesuite.com/docs/ganache/overview)\n",
    "\n",
    "---\n"
   ]
  },
  {
   "cell_type": "markdown",
   "metadata": {},
   "source": [
    "### Step 1: In the `Unsolved` folder, create a `.env` file that contains your mnemonic seed phrase (provided by Ganache). Import the `MNEMONIC` variable into the notebook. "
   ]
  },
  {
   "cell_type": "code",
   "execution_count": 2,
   "metadata": {},
   "outputs": [],
   "source": [
    "# Imports\n",
    "import os\n",
    "from dotenv import load_dotenv\n",
    "load_dotenv()\n",
    "from bip44 import Wallet\n",
    "from web3.gas_strategies.time_based import medium_gas_price_strategy\n",
    "from web3 import middleware, Account\n",
    "from web3 import Web3\n",
    "w3 = Web3(Web3.HTTPProvider('HTTP://127.0.0.1:7545'))"
   ]
  },
  {
   "cell_type": "code",
   "execution_count": 3,
   "metadata": {},
   "outputs": [
    {
     "data": {
      "text/plain": [
       "str"
      ]
     },
     "execution_count": 3,
     "metadata": {},
     "output_type": "execute_result"
    }
   ],
   "source": [
    "# Call os.getenv(\"MNEMONIC\") and save it's value as a variable named mnemonic\n",
    "mnemonic = os.getenv(\"MNEMONIC\")\n",
    "\n",
    "# View the data type of mnemonic to confirm its availability\n",
    "type(mnemonic)"
   ]
  },
  {
   "cell_type": "markdown",
   "metadata": {},
   "source": [
    "### Step 2: Use the variable associated with your mnemonic seed phrase, and the `Wallet` class from the bip44 package, to generate a wallet instance. Then, derive your private and public keys by calling the `.derive_account` method on the `wallet` object and passing it the string “eth”. Save the two returned values as variables named `private` and `public`."
   ]
  },
  {
   "cell_type": "code",
   "execution_count": 4,
   "metadata": {},
   "outputs": [
    {
     "data": {
      "text/plain": [
       "<bip44.wallet.Wallet at 0x7fc3eb491cd0>"
      ]
     },
     "execution_count": 4,
     "metadata": {},
     "output_type": "execute_result"
    }
   ],
   "source": [
    "# Instantiate a new instance of Wallet and pass it the mnemonic variable\n",
    "wallet = Wallet(mnemonic)\n",
    "\n",
    "# Review your wallet instance\n",
    "wallet"
   ]
  },
  {
   "cell_type": "code",
   "execution_count": 5,
   "metadata": {},
   "outputs": [
    {
     "data": {
      "text/plain": [
       "b'W\\x88\\xea\\xf1\\x85{\\xf4f[\\xf5\\xc0\\xd6o\\xa5\\x91\\xb7B\\x89Y\\x86j9\\xc2u\"[6\\xc0\\x1f17\\x84'"
      ]
     },
     "execution_count": 5,
     "metadata": {},
     "output_type": "execute_result"
    }
   ],
   "source": [
    "# Calling the derive_account method on your wallet instance\n",
    "# Pass the string eth to the method\n",
    "private, public = wallet.derive_account(\"eth\")\n",
    "\n",
    "# Review the byte string of your private key\n",
    "private"
   ]
  },
  {
   "cell_type": "markdown",
   "metadata": {},
   "source": [
    "### Step 3: Pass the private-key value to `Account.privateKeyToAccount`, and save the returned account object as a variable named `account`."
   ]
  },
  {
   "cell_type": "code",
   "execution_count": 6,
   "metadata": {},
   "outputs": [],
   "source": [
    "# Construct the Ethereum account by calling Account.privateKeyToAccount\n",
    "# Pass it your private key variable\n",
    "account = Account.privateKeyToAccount(private)"
   ]
  },
  {
   "cell_type": "markdown",
   "metadata": {},
   "source": [
    "### Step 4: Call `account.address`, and save it as a new variable named `account_address`. Then, print the `account_address` variable to get your public Ethereum address from your public key."
   ]
  },
  {
   "cell_type": "code",
   "execution_count": 7,
   "metadata": {},
   "outputs": [
    {
     "data": {
      "text/plain": [
       "'0x6E737435e545dFDc73b2C5557b51e39a0dB57d92'"
      ]
     },
     "execution_count": 7,
     "metadata": {},
     "output_type": "execute_result"
    }
   ],
   "source": [
    "# Call account.address and save it as a new variable named account_address\n",
    "account_address = account.address\n",
    "\n",
    "# Print the account's address\n",
    "account_address"
   ]
  },
  {
   "cell_type": "markdown",
   "metadata": {},
   "source": [
    "### Step 5: Define a new variable named `amount`, and set it to a float amount (in ether) that you would like to send&mdash;for example, 0.3."
   ]
  },
  {
   "cell_type": "code",
   "execution_count": 18,
   "metadata": {},
   "outputs": [],
   "source": [
    "# Define a new variable named amount, and set it to a float amount (in ether)\n",
    "amount = .3"
   ]
  },
  {
   "cell_type": "markdown",
   "metadata": {},
   "source": [
    "### Step 6: Select any of your Ganache accounts other than the first one, index 0. Copy the account address, and store it in a new variable named `receiver`."
   ]
  },
  {
   "cell_type": "code",
   "execution_count": 19,
   "metadata": {},
   "outputs": [],
   "source": [
    "# Define a new variable named receiver \n",
    "# Set it equal to the string value of the address of one of your test accounts in Ganache (any account other than the first one)\n",
    "receiver = \"0x47651cea80457B427BBAd34a78A90Bb0Ee2D93E4\""
   ]
  },
  {
   "cell_type": "markdown",
   "metadata": {},
   "source": [
    "### Step 7: Call the `w3.toWei` function, and convert your `amount` variable to the equivalent amount in ether. Save this value as a new variable named `value`."
   ]
  },
  {
   "cell_type": "code",
   "execution_count": 20,
   "metadata": {},
   "outputs": [],
   "source": [
    "# Using w3.toWei, convert your amount variable to the equivalent amount in ether\n",
    "value = w3.toWei(amount, \"ether\")"
   ]
  },
  {
   "cell_type": "code",
   "execution_count": 21,
   "metadata": {},
   "outputs": [
    {
     "data": {
      "text/plain": [
       "300000000000000000"
      ]
     },
     "execution_count": 21,
     "metadata": {},
     "output_type": "execute_result"
    }
   ],
   "source": [
    "value"
   ]
  },
  {
   "cell_type": "markdown",
   "metadata": {},
   "source": [
    "### Step 8: Call `w3.eth.setGasPriceStrategy(medium_gas_price_strategy)` to configure the medium gas price strategy for your wallet."
   ]
  },
  {
   "cell_type": "code",
   "execution_count": 22,
   "metadata": {},
   "outputs": [],
   "source": [
    "# Set a medium gas price strategy for your wallet\n",
    "w3.eth.setGasPriceStrategy(medium_gas_price_strategy)"
   ]
  },
  {
   "cell_type": "markdown",
   "metadata": {},
   "source": [
    "### Step 9: Call `w3.eth.estimateGas`, and pass it an object with the following values: { \"to\": receiver, \"from\": account_address, \"value\": value}. Save it as a variable named `gasEstimate`.\n"
   ]
  },
  {
   "cell_type": "code",
   "execution_count": 23,
   "metadata": {},
   "outputs": [],
   "source": [
    "# Create the variable gas estimate using the we.eth.estimateGas function\n",
    "# The estimateGas object should contain values for the keys to, from, and value\n",
    "gasEstimate = w3.eth.estimateGas({ \n",
    "    \"to\": receiver, \n",
    "    \"from\": account_address, \n",
    "    \"value\": value \n",
    "})"
   ]
  },
  {
   "cell_type": "markdown",
   "metadata": {},
   "source": [
    "### Step 10: Construct a transaction object named `raw_tx`. It should contain the attributes `to`, `from`, `value`, `gas`, `gasPrice`, and `nonce`.\n",
    "* Set `to` to the value of the variable `receiver`.\n",
    "* Set `from` to the value of the variable `account_address`.\n",
    "* Set `value` to the value of the variable `value`.\n",
    "* Set `gas` to the value of the variable `gasEstimate`.\n",
    "* Set `gasPrice` to 0.\n",
    "* Set `nonce` to the value of the function `w3.eth.getTransactionCount(account_address)`.\n"
   ]
  },
  {
   "cell_type": "code",
   "execution_count": 24,
   "metadata": {},
   "outputs": [
    {
     "data": {
      "text/plain": [
       "True"
      ]
     },
     "execution_count": 24,
     "metadata": {},
     "output_type": "execute_result"
    }
   ],
   "source": [
    "w3.isConnected()"
   ]
  },
  {
   "cell_type": "code",
   "execution_count": 25,
   "metadata": {},
   "outputs": [],
   "source": [
    "# Construct a transaction object named raw_tx\n",
    "# It should contain the attributes `to`, `from`, `value`, `gas`, `gasPrice`, and `nonce`.\n",
    "raw_tx = {\n",
    "        # @TODO For `to` set it to the value of the variable `to`\n",
    "        \"to\": receiver,\n",
    "\n",
    "        # @TODO For `from` set it to the value of `account_address`\n",
    "        \"from\": account_address,\n",
    "\n",
    "        # @TODO For `value` set it to the value of the variable `value`\n",
    "        \"value\": value,\n",
    "\n",
    "        # @TODO For `gas` set it to the value of the variable `gasEstimate`\n",
    "        \"gas\": gasEstimate,\n",
    "\n",
    "        # @TODO For `gasPrice` set it to the value of the function `w3.eth.generateGasPrice`.\n",
    "#         \"gasPrice\": w3.eth.generateGasPrice(),\n",
    "        \"gasPrice\": 0,\n",
    "\n",
    "        # @TODO For ‘nonce` set it to the value of the function `w3.eth.getTransactionCount(account_address)`.\n",
    "        \"nonce\": w3.eth.getTransactionCount(account_address)\n",
    "}"
   ]
  },
  {
   "cell_type": "markdown",
   "metadata": {},
   "source": [
    "### Step 11: Call `account.signTransaction`, and pass it the `raw_tx` object to sign the transaction."
   ]
  },
  {
   "cell_type": "code",
   "execution_count": 26,
   "metadata": {},
   "outputs": [],
   "source": [
    "# Create a signed transaction by calling account.signTransaction and passing it the raw_tx object\n",
    "signed_tx = account.signTransaction(raw_tx)"
   ]
  },
  {
   "cell_type": "markdown",
   "metadata": {},
   "source": [
    "### Step 12: Call `w3.eth.sendRawTransaction`, and pass it `signed_tx.rawTransaction` to execute the transaction on the Ganache blockchain. View the HexBytes transaction code that is returned."
   ]
  },
  {
   "cell_type": "code",
   "execution_count": 27,
   "metadata": {},
   "outputs": [
    {
     "data": {
      "text/plain": [
       "HexBytes('0x0dafd49ccea56f5ce22563806f2f8abddf867cdc29f69515a79416ea01363b06')"
      ]
     },
     "execution_count": 27,
     "metadata": {},
     "output_type": "execute_result"
    }
   ],
   "source": [
    "# Call w3.eth.sendRawTransaction and pass it the signed_tx.rawTransaction \n",
    "w3.eth.sendRawTransaction(signed_tx.rawTransaction)"
   ]
  },
  {
   "cell_type": "markdown",
   "metadata": {},
   "source": [
    "### Step 13: Navigate to the Ganache Transaction tab, and view the transaction."
   ]
  },
  {
   "cell_type": "code",
   "execution_count": null,
   "metadata": {},
   "outputs": [],
   "source": []
  }
 ],
 "metadata": {
  "kernelspec": {
   "display_name": "Python 3",
   "language": "python",
   "name": "python3"
  },
  "language_info": {
   "codemirror_mode": {
    "name": "ipython",
    "version": 3
   },
   "file_extension": ".py",
   "mimetype": "text/x-python",
   "name": "python",
   "nbconvert_exporter": "python",
   "pygments_lexer": "ipython3",
   "version": "3.7.7"
  }
 },
 "nbformat": 4,
 "nbformat_minor": 4
}
