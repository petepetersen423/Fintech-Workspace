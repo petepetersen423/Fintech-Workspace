{
 "cells": [
  {
   "cell_type": "code",
   "execution_count": 1,
   "id": "b0a7bc69-d56b-4759-a6ee-a8e4caf73722",
   "metadata": {},
   "outputs": [],
   "source": [
    "# Import the Web3 library\n",
    "from web3 import Web3"
   ]
  },
  {
   "cell_type": "code",
   "execution_count": 2,
   "id": "40bf5894-c1ee-43b2-a306-7a42fb6ec377",
   "metadata": {},
   "outputs": [],
   "source": [
    "# Import the RPC Provider\n",
    "from web3 import EthereumTesterProvider"
   ]
  },
  {
   "cell_type": "code",
   "execution_count": 4,
   "id": "a92c3ba8-94e8-4e55-b047-835f13b0d975",
   "metadata": {},
   "outputs": [],
   "source": [
    "# Create an instance of Web3\n",
    "w3 = Web3()"
   ]
  },
  {
   "cell_type": "code",
   "execution_count": 7,
   "id": "88e333b0-f963-43a0-84df-ffc10e7f9c4a",
   "metadata": {},
   "outputs": [
    {
     "name": "stderr",
     "output_type": "stream",
     "text": [
      "/Users/pete/opt/anaconda3/lib/python3.9/site-packages/eth_tester/backends/__init__.py:30: UserWarning: Ethereum Tester: No backend was explicitly set, and no *full* backends were available.  Falling back to the `MockBackend` which does not support all EVM functionality.  Please refer to the `eth-tester` documentation for information on what backends are available and how to set them.  Your py-evm package may need to be updated.\n",
      "  warnings.warn(UserWarning(\n"
     ]
    }
   ],
   "source": [
    "# Create an instance of the EthereumTesterProvider\n",
    "provider = EthereumTesterProvider()\n",
    "\n",
    "# Update the Web3 instance to include the provider\n",
    "w3 = Web3(provider)\n"
   ]
  },
  {
   "cell_type": "code",
   "execution_count": 8,
   "id": "904fb922-7333-4813-abc7-43e037df71f6",
   "metadata": {},
   "outputs": [
    {
     "data": {
      "text/plain": [
       "AttributeDict({'number': 0,\n",
       " 'parentHash': HexBytes('0x0000000000000000000000000000000000000000000000000000000000000000'),\n",
       " 'nonce': HexBytes('0x000000000000002a'),\n",
       " 'sha3Uncles': HexBytes('0x1dcc4de8dec75d7aab85b567b6ccd41ad312451b948a7413f0a142fd40d49347'),\n",
       " 'logs_bloom': 0,\n",
       " 'transactionsRoot': HexBytes('0x56e81f171bcc55a6ff8345e692c0f86e5b48e01b996cadc001622fb5e363b421'),\n",
       " 'receipts_root': '0x56e81f171bcc55a6ff8345e692c0f86e5b48e01b996cadc001622fb5e363b421',\n",
       " 'stateRoot': HexBytes('0x56e81f171bcc55a6ff8345e692c0f86e5b48e01b996cadc001622fb5e363b421'),\n",
       " 'miner': '0x0000000000000000000000000000000000000000',\n",
       " 'difficulty': 131072,\n",
       " 'totalDifficulty': 131072,\n",
       " 'size': 0,\n",
       " 'extraData': HexBytes('0x0000000000000000000000000000000000000000000000000000000000000000'),\n",
       " 'gasLimit': 30029122,\n",
       " 'gasUsed': 0,\n",
       " 'timestamp': 1654044526,\n",
       " 'transactions': [],\n",
       " 'uncles': [],\n",
       " 'baseFeePerGas': 1000000000,\n",
       " 'hash': HexBytes('0x3094e5fba4a85ea7c6eba9f4d6454a7e0defd96d31891430bb49882821884962')})"
      ]
     },
     "execution_count": 8,
     "metadata": {},
     "output_type": "execute_result"
    }
   ],
   "source": [
    "# Access information for the most recent block\n",
    "w3.eth.get_block(\"latest\")"
   ]
  },
  {
   "cell_type": "code",
   "execution_count": 9,
   "id": "02f14090-8eb6-4678-b003-f6f93461f712",
   "metadata": {},
   "outputs": [
    {
     "name": "stdout",
     "output_type": "stream",
     "text": [
      "['0xaBbACadABa000000000000000000000000000000', '0xaBbACaDaBA000000000000000000000000000001', '0xAbbAcaDaBA000000000000000000000000000002', '0xabBACadaBA000000000000000000000000000003', '0xabbAcADABa000000000000000000000000000004', '0xaBBACADABA000000000000000000000000000005', '0xaBbaCadaBA000000000000000000000000000006', '0xAbbAcAdaBA000000000000000000000000000007', '0xaBBAcadabA000000000000000000000000000008', '0xABbacaDabA000000000000000000000000000009']\n"
     ]
    }
   ],
   "source": [
    "# Print a list of accounts on the blockchain\n",
    "print(w3.eth.accounts)"
   ]
  },
  {
   "cell_type": "code",
   "execution_count": 10,
   "id": "d54a0e60-2ae7-4462-8a89-4332d9b024e7",
   "metadata": {},
   "outputs": [
    {
     "data": {
      "text/plain": [
       "1000000000000000000000000"
      ]
     },
     "execution_count": 10,
     "metadata": {},
     "output_type": "execute_result"
    }
   ],
   "source": [
    "# Access the balance of an account using the address\n",
    "w3.eth.get_balance(\"0xaBbACadABa000000000000000000000000000000\")"
   ]
  },
  {
   "cell_type": "code",
   "execution_count": 11,
   "id": "c0f33be5-4f62-4748-9374-88740fca0068",
   "metadata": {},
   "outputs": [
    {
     "data": {
      "text/plain": [
       "Decimal('1000000')"
      ]
     },
     "execution_count": 11,
     "metadata": {},
     "output_type": "execute_result"
    }
   ],
   "source": [
    "# Access the balance of an account using the address\n",
    "balance = w3.eth.get_balance(\"0xaBbACadABa000000000000000000000000000000\")\n",
    "\n",
    "\n",
    "# Convert balance from wei to ether\n",
    "w3.fromWei(balance, \"ether\")"
   ]
  },
  {
   "cell_type": "code",
   "execution_count": null,
   "id": "ff4c0357-c58e-4b21-95db-bad0c71698f7",
   "metadata": {},
   "outputs": [],
   "source": []
  }
 ],
 "metadata": {
  "kernelspec": {
   "display_name": "pep-dev2",
   "language": "python",
   "name": "pep-dev2"
  },
  "language_info": {
   "codemirror_mode": {
    "name": "ipython",
    "version": 3
   },
   "file_extension": ".py",
   "mimetype": "text/x-python",
   "name": "python",
   "nbconvert_exporter": "python",
   "pygments_lexer": "ipython3",
   "version": "3.9.12"
  }
 },
 "nbformat": 4,
 "nbformat_minor": 5
}
