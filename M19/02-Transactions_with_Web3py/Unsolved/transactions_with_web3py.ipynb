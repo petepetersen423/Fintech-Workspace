{
 "cells": [
  {
   "cell_type": "markdown",
   "metadata": {},
   "source": [
    "# Transactions with Web3.py\n",
    "\n",
    "In this activity, you will use Web3.py to connect to a local mock development blockchain instance. Then, you will send and receive various financial transactions.\n",
    "\n",
    "## Instructions\n",
    "\n",
    "Complete each of the following steps:\n",
    "\n",
    "1. From the Web3.py library, import `Web3` and the `EthereumTesterProvider`.\n",
    "\n",
    "\n",
    "2. Define a variable named `w3`, and set it equal to a new `Web3` instance.\n",
    "\n",
    "\n",
    "3. Define a variable named `provider`, set it equal to `EthereumTesterProvider`, and then pass it to the `Web3` instance.\n",
    "\n",
    "\n",
    "4. Call `w3.eth.accounts` and print the result. Next,  define two new string variables named `sender` and `receiver`. Copy two of the account addresses from the list of accounts. Set one account address as the string for the `sender` variable, and set the other account address as the string for the `receiver` variable.\n",
    "\n",
    "5. Set the units of `gas` to 21,000 to ensure that your transaction will be mined and added to the blockchain.\n",
    "\n",
    "6. Use the `w3.toWei` function to convert 333 ether into the equivalent denomination of wei. Save the amount in wei as a variable named `value`.\n",
    "\n",
    "\n",
    "7. Call `w3.eth.send_transaction` and pass it `receiver` as the `to` parameter, `sender` as the `from` parameter, `gas` as the `gas` parameter, and the `value` variable as the `value` parameter.\n",
    "\n",
    "8. Call the [`eth.getTransactionReceipt`](https://web3js.readthedocs.io/en/v1.2.0/web3-eth.html#gettransaction) function and pass hash code that is returned from sending the transaction as the parameter to review the transaction receipt.\n",
    "\n",
    "9. Call the `eth.get_block` function and pass it the parameter `latest`. Confirm that you can see the HexBytes code from your transaction in the information provided.\n",
    "\n",
    "\n",
    "## References\n",
    "\n",
    "[Web3.py](https://web3py.readthedocs.io/en/stable/)\n",
    "\n",
    "[EthereumTestProvider](https://web3py.readthedocs.io/en/stable/providers.html#ethereumtesterprovider)\n",
    "\n",
    "[Ethereum](https://ethereum.org/en/developers/docs/)"
   ]
  },
  {
   "cell_type": "markdown",
   "metadata": {},
   "source": [
    "## Step 1: From the Web3.py library, import `Web3` and the `EthereumTesterProvider`."
   ]
  },
  {
   "cell_type": "code",
   "execution_count": 18,
   "metadata": {
    "scrolled": true
   },
   "outputs": [
    {
     "ename": "SyntaxError",
     "evalue": "invalid syntax (738128478.py, line 4)",
     "output_type": "error",
     "traceback": [
      "\u001b[0;36m  Input \u001b[0;32mIn [18]\u001b[0;36m\u001b[0m\n\u001b[0;31m    from RPC\u001b[0m\n\u001b[0m            ^\u001b[0m\n\u001b[0;31mSyntaxError\u001b[0m\u001b[0;31m:\u001b[0m invalid syntax\n"
     ]
    }
   ],
   "source": [
    "# Imports\n",
    "# YOUR CODE HERE\n",
    "from web3 import Web3, EthereumTesterProvider"
   ]
  },
  {
   "cell_type": "markdown",
   "metadata": {},
   "source": [
    "## Step 2: Define a new variable named `w3`, and set it equal to a new `Web3()` instance."
   ]
  },
  {
   "cell_type": "code",
   "execution_count": 2,
   "metadata": {},
   "outputs": [],
   "source": [
    "# Create an instance of Web3\n",
    "w3 = Web3()"
   ]
  },
  {
   "cell_type": "markdown",
   "metadata": {},
   "source": [
    "## Step 3: Define a variable named `provider`. Set this variable equal to `EthereumTesterProvider()`, and then pass it to the `Web3` instance."
   ]
  },
  {
   "cell_type": "code",
   "execution_count": 3,
   "metadata": {},
   "outputs": [
    {
     "name": "stderr",
     "output_type": "stream",
     "text": [
      "/Users/pete/opt/anaconda3/lib/python3.9/site-packages/eth_tester/backends/__init__.py:30: UserWarning: Ethereum Tester: No backend was explicitly set, and no *full* backends were available.  Falling back to the `MockBackend` which does not support all EVM functionality.  Please refer to the `eth-tester` documentation for information on what backends are available and how to set them.  Your py-evm package may need to be updated.\n",
      "  warnings.warn(UserWarning(\n"
     ]
    }
   ],
   "source": [
    "# Create an instance of the EthereumTesterProvider\n",
    "provider = EthereumTesterProvider()\n",
    "\n",
    "# Pass the provider as a parameter to the Web3 instance\n",
    "w3 = Web3(provider)\n",
    "\n"
   ]
  },
  {
   "cell_type": "markdown",
   "metadata": {},
   "source": [
    "## Step 4: Call `w3.eth.accounts` and print the result. Next, define two new string variables named `sender` and `receiver`. Copy two of the account addresses from the list of accounts. Set one account address as the string for the `sender` variable, and set the other account address as the string for the `receiver` variable."
   ]
  },
  {
   "cell_type": "code",
   "execution_count": 5,
   "metadata": {},
   "outputs": [
    {
     "name": "stdout",
     "output_type": "stream",
     "text": [
      "0xabBACadaBA000000000000000000000000000003 0xaBBACADABA000000000000000000000000000005\n"
     ]
    }
   ],
   "source": [
    "# Print a list of accounts on the blockchain\n",
    "# YOUR CODE HERE\n",
    "# Access the balance of an account using an address from Step 5.\n",
    "# Print a list of accounts on the mock blockchain\n",
    "# YOUR CODE HERE\n",
    "account_list = w3.eth.accounts\n",
    "wei_balance = {}\n",
    "for account in account_list:\n",
    "    wei_balance[account] = w3.eth.get_balance(account)\n",
    "   \n",
    "\n",
    "# Print the balance of the account in wei\n",
    "wei_balance\n",
    "# Convert the balance from wei to ether\n",
    "eth_balance = {}\n",
    "for k,v in wei_balance.items():\n",
    "# Print the balance in ether\n",
    "# YOUR CODE HERE\n",
    "    eth_balance[k] = w3.fromWei(v, \"ether\")\n",
    "eth_balance\n",
    "for k in eth_balance:\n",
    "    if k[-1] == '3':\n",
    "        sender = k\n",
    "    if k[-1] == '5':\n",
    "        receiver = k\n",
    "print(sender, receiver)"
   ]
  },
  {
   "cell_type": "code",
   "execution_count": 6,
   "metadata": {},
   "outputs": [],
   "source": [
    "# Set the sender address\n",
    "sender = sender\n",
    "\n",
    "# Set the receiver address\n",
    "receiver = receiver\n"
   ]
  },
  {
   "cell_type": "markdown",
   "metadata": {},
   "source": [
    "## Step 5: Set the units of `gas` to 21,000 to ensure that your transaction will be mined and added to the blockchain."
   ]
  },
  {
   "cell_type": "code",
   "execution_count": 7,
   "metadata": {},
   "outputs": [],
   "source": [
    "# Set the variable gas equal to 21000 units\n",
    "gas = 21000\n"
   ]
  },
  {
   "cell_type": "markdown",
   "metadata": {},
   "source": [
    "## Step 6: Use the `w3.toWei` function to convert 333 ether into the equivalent denomination of wei. Save the amount in wei as a variable named `value`."
   ]
  },
  {
   "cell_type": "code",
   "execution_count": 8,
   "metadata": {},
   "outputs": [
    {
     "data": {
      "text/plain": [
       "333000000000000000000"
      ]
     },
     "execution_count": 8,
     "metadata": {},
     "output_type": "execute_result"
    }
   ],
   "source": [
    "# Convert balance from ether to wei\n",
    "value = value = w3.toWei(333, 'ether')\n",
    "\n",
    "# Review the value in wei\n",
    "value"
   ]
  },
  {
   "cell_type": "markdown",
   "metadata": {},
   "source": [
    "## Step 7: Call `w3.eth.send_transaction` and pass it `receiver` as the `to` parameter, `sender` as the `from` parameter, `gas` as the `gas` parameter, and the `value` variable as the `value` parameter."
   ]
  },
  {
   "cell_type": "code",
   "execution_count": 9,
   "metadata": {},
   "outputs": [
    {
     "data": {
      "text/plain": [
       "HexBytes('0x53bae692c7fcf49da4deedadbd0539fb2ed3df3b8e35b8333f40076f2224d18a')"
      ]
     },
     "execution_count": 9,
     "metadata": {},
     "output_type": "execute_result"
    }
   ],
   "source": [
    "# Send the transaction to the blockchain\n",
    "transaction_hash_code = w3.eth.send_transaction({'to': receiver , 'from': sender , 'gas': gas, 'value': value})\n",
    "\n",
    "# Review the tranaction hash code\n",
    "transaction_hash_code"
   ]
  },
  {
   "cell_type": "markdown",
   "metadata": {},
   "source": [
    "## Step 8: Call the `eth.getTransactionReceipt` function and pass hash code that is returned from sending the transaction as the parameter to review the transaction receipt."
   ]
  },
  {
   "cell_type": "code",
   "execution_count": 21,
   "metadata": {},
   "outputs": [
    {
     "data": {
      "text/plain": [
       "AttributeDict({'gasUsed': 21000,\n",
       " 'logs': [],\n",
       " 'transactionHash': HexBytes('0x53bae692c7fcf49da4deedadbd0539fb2ed3df3b8e35b8333f40076f2224d18a'),\n",
       " 'cumulativeGasUsed': 21000,\n",
       " 'effectiveGasPrice': 1000000000,\n",
       " 'type': '0x2',\n",
       " 'contractAddress': '0x97C325cc598dAA0954c28F6421A345B45FBA079B',\n",
       " 'blockNumber': 1,\n",
       " 'blockHash': HexBytes('0xdd47fa13501ceb1e384ed27647925903382bd6ce178db6c491562dc406fa66a8'),\n",
       " 'from': '0xabBACadaBA000000000000000000000000000003',\n",
       " 'state_root': b'\\x00',\n",
       " 'status': 0,\n",
       " 'to': '0xaBBACADABA000000000000000000000000000005',\n",
       " 'transactionIndex': 0})"
      ]
     },
     "execution_count": 21,
     "metadata": {},
     "output_type": "execute_result"
    }
   ],
   "source": [
    "# Review the transaction receipt using the HexBytes hash code returned from sending the tranaction\n",
    "# YOUR CODE HERE\n",
    "trans_reciept = w3.eth.get_transaction_receipt(transaction_hash_code)\n",
    "trans_reciept"
   ]
  },
  {
   "cell_type": "markdown",
   "metadata": {},
   "source": [
    "## Step 9: Call the `eth.get_block` function and pass it the parameter `latest`. Confirm that you can see the HexBytes code from your transaction in the information provided."
   ]
  },
  {
   "cell_type": "code",
   "execution_count": 20,
   "metadata": {},
   "outputs": [
    {
     "data": {
      "text/plain": [
       "AttributeDict({'number': 1,\n",
       " 'parentHash': HexBytes('0xa85280c4d2d5b3364523e354b7aeb17cd88b840e8eae41e5d5ddeb09bac9cd5f'),\n",
       " 'nonce': HexBytes('0x000000000000002a'),\n",
       " 'sha3Uncles': HexBytes('0x1dcc4de8dec75d7aab85b567b6ccd41ad312451b948a7413f0a142fd40d49347'),\n",
       " 'logs_bloom': 0,\n",
       " 'transactionsRoot': HexBytes('0x56e81f171bcc55a6ff8345e692c0f86e5b48e01b996cadc001622fb5e363b421'),\n",
       " 'receipts_root': '0x56e81f171bcc55a6ff8345e692c0f86e5b48e01b996cadc001622fb5e363b421',\n",
       " 'stateRoot': HexBytes('0x56e81f171bcc55a6ff8345e692c0f86e5b48e01b996cadc001622fb5e363b421'),\n",
       " 'miner': '0x0000000000000000000000000000000000000000',\n",
       " 'difficulty': 131072,\n",
       " 'totalDifficulty': 262144,\n",
       " 'size': 0,\n",
       " 'extraData': HexBytes('0x0000000000000000000000000000000000000000000000000000000000000000'),\n",
       " 'gasLimit': 30029122,\n",
       " 'gasUsed': 21000,\n",
       " 'timestamp': 1654046994,\n",
       " 'transactions': [HexBytes('0x53bae692c7fcf49da4deedadbd0539fb2ed3df3b8e35b8333f40076f2224d18a')],\n",
       " 'uncles': [],\n",
       " 'baseFeePerGas': 875000000,\n",
       " 'hash': HexBytes('0xdd47fa13501ceb1e384ed27647925903382bd6ce178db6c491562dc406fa66a8')})"
      ]
     },
     "execution_count": 20,
     "metadata": {},
     "output_type": "execute_result"
    }
   ],
   "source": [
    "# Review the information from the latest block to confirm your transaction's inclusion\n",
    "latest = w3.eth.get_block('latest')\n",
    "# Review the latest block\n",
    "# YOUR CODE HERE\n",
    "latest\n"
   ]
  },
  {
   "cell_type": "code",
   "execution_count": 22,
   "metadata": {},
   "outputs": [
    {
     "ename": "ModuleNotFoundError",
     "evalue": "No module named 'dotenv'",
     "output_type": "error",
     "traceback": [
      "\u001b[0;31m---------------------------------------------------------------------------\u001b[0m",
      "\u001b[0;31mModuleNotFoundError\u001b[0m                       Traceback (most recent call last)",
      "Input \u001b[0;32mIn [22]\u001b[0m, in \u001b[0;36m<cell line: 1>\u001b[0;34m()\u001b[0m\n\u001b[0;32m----> 1\u001b[0m \u001b[38;5;28;01mfrom\u001b[39;00m \u001b[38;5;21;01mdotenv\u001b[39;00m \u001b[38;5;28;01mimport\u001b[39;00m load_dotenv\n",
      "\u001b[0;31mModuleNotFoundError\u001b[0m: No module named 'dotenv'"
     ]
    }
   ],
   "source": [
    "from dotenv import load_dotenv"
   ]
  },
  {
   "cell_type": "code",
   "execution_count": 23,
   "metadata": {},
   "outputs": [
    {
     "ename": "ModuleNotFoundError",
     "evalue": "No module named 'mnemonic'",
     "output_type": "error",
     "traceback": [
      "\u001b[0;31m---------------------------------------------------------------------------\u001b[0m",
      "\u001b[0;31mModuleNotFoundError\u001b[0m                       Traceback (most recent call last)",
      "Input \u001b[0;32mIn [23]\u001b[0m, in \u001b[0;36m<cell line: 1>\u001b[0;34m()\u001b[0m\n\u001b[0;32m----> 1\u001b[0m \u001b[38;5;28;01mfrom\u001b[39;00m \u001b[38;5;21;01mmnemonic\u001b[39;00m \u001b[38;5;28;01mimport\u001b[39;00m Mnemonic\n",
      "\u001b[0;31mModuleNotFoundError\u001b[0m: No module named 'mnemonic'"
     ]
    }
   ],
   "source": [
    "from mnemonic import Mnemonic\n"
   ]
  },
  {
   "cell_type": "code",
   "execution_count": null,
   "metadata": {},
   "outputs": [],
   "source": []
  }
 ],
 "metadata": {
  "kernelspec": {
   "display_name": "pep-dev2",
   "language": "python",
   "name": "pep-dev2"
  },
  "language_info": {
   "codemirror_mode": {
    "name": "ipython",
    "version": 3
   },
   "file_extension": ".py",
   "mimetype": "text/x-python",
   "name": "python",
   "nbconvert_exporter": "python",
   "pygments_lexer": "ipython3",
   "version": "3.9.12"
  }
 },
 "nbformat": 4,
 "nbformat_minor": 4
}
