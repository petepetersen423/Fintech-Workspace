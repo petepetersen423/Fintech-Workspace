{
 "cells": [
  {
   "cell_type": "code",
   "execution_count": 3,
   "id": "451f8df7-868d-4805-8c0d-335bff31e467",
   "metadata": {},
   "outputs": [
    {
     "ename": "ModuleNotFoundError",
     "evalue": "No module named 'dotenv'",
     "output_type": "error",
     "traceback": [
      "\u001b[0;31m---------------------------------------------------------------------------\u001b[0m",
      "\u001b[0;31mModuleNotFoundError\u001b[0m                       Traceback (most recent call last)",
      "Input \u001b[0;32mIn [3]\u001b[0m, in \u001b[0;36m<cell line: 9>\u001b[0;34m()\u001b[0m\n\u001b[1;32m      1\u001b[0m \u001b[38;5;66;03m# Imports\u001b[39;00m\n\u001b[1;32m      2\u001b[0m \u001b[38;5;66;03m#import os\u001b[39;00m\n\u001b[1;32m      3\u001b[0m \u001b[38;5;66;03m# from dotenv import load_dotenv\u001b[39;00m\n\u001b[0;32m   (...)\u001b[0m\n\u001b[1;32m      7\u001b[0m \u001b[38;5;66;03m#from web3 import Account\u001b[39;00m\n\u001b[1;32m      8\u001b[0m \u001b[38;5;66;03m#from dotenv import load_dotenv\u001b[39;00m\n\u001b[0;32m----> 9\u001b[0m \u001b[38;5;28;01mimport\u001b[39;00m \u001b[38;5;21;01mdotenv\u001b[39;00m\n",
      "\u001b[0;31mModuleNotFoundError\u001b[0m: No module named 'dotenv'"
     ]
    }
   ],
   "source": [
    "# Imports\n",
    "#import os\n",
    "# from dotenv import load_dotenv\n",
    "#load_dotenv()\n",
    "# from mnemonic import Mnemonic\n",
    "#from bip44 import Wallet\n",
    "#from web3 import Account\n",
    "#from dotenv import load_dotenv\n",
    "import dotenv"
   ]
  },
  {
   "cell_type": "code",
   "execution_count": 2,
   "id": "06ec0838-8eac-4fda-9b56-bfe8b2153e23",
   "metadata": {},
   "outputs": [
    {
     "ename": "ModuleNotFoundError",
     "evalue": "No module named 'coincurve'",
     "output_type": "error",
     "traceback": [
      "\u001b[0;31m---------------------------------------------------------------------------\u001b[0m",
      "\u001b[0;31mModuleNotFoundError\u001b[0m                       Traceback (most recent call last)",
      "Input \u001b[0;32mIn [2]\u001b[0m, in \u001b[0;36m<cell line: 1>\u001b[0;34m()\u001b[0m\n\u001b[0;32m----> 1\u001b[0m \u001b[38;5;28;01mfrom\u001b[39;00m \u001b[38;5;21;01mcoincurve\u001b[39;00m \u001b[38;5;28;01mimport\u001b[39;00m PrivateKey\n",
      "\u001b[0;31mModuleNotFoundError\u001b[0m: No module named 'coincurve'"
     ]
    }
   ],
   "source": [
    "from coincurve import PrivateKey"
   ]
  },
  {
   "cell_type": "code",
   "execution_count": null,
   "id": "4513a744-ae51-4e73-8e26-8e8a4898f7e9",
   "metadata": {},
   "outputs": [],
   "source": []
  },
  {
   "cell_type": "code",
   "execution_count": null,
   "id": "1ce6093c-6fed-4f72-8100-24329a26bd19",
   "metadata": {},
   "outputs": [],
   "source": []
  }
 ],
 "metadata": {
  "kernelspec": {
   "display_name": "pep-dev2",
   "language": "python",
   "name": "pep-dev2"
  },
  "language_info": {
   "codemirror_mode": {
    "name": "ipython",
    "version": 3
   },
   "file_extension": ".py",
   "mimetype": "text/x-python",
   "name": "python",
   "nbconvert_exporter": "python",
   "pygments_lexer": "ipython3",
   "version": "3.9.12"
  }
 },
 "nbformat": 4,
 "nbformat_minor": 5
}
