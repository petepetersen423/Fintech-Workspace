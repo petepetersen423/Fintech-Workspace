{
 "cells": [
  {
   "cell_type": "code",
   "execution_count": 7,
   "id": "d20755e2-ad97-492c-b2bf-c4a2742eb37b",
   "metadata": {},
   "outputs": [],
   "source": [
    "# Imports\n",
    "import os\n",
    "from dotenv import load_dotenv\n",
    "load_dotenv()\n",
    "from mnemonic import Mnemonic\n",
    "from bip44 import Wallet\n",
    "from web3 import Account"
   ]
  },
  {
   "cell_type": "code",
   "execution_count": 13,
   "id": "25037093-7b98-4289-a148-cedd2c8cd691",
   "metadata": {},
   "outputs": [
    {
     "name": "stdout",
     "output_type": "stream",
     "text": [
      "Mnemonic found:  lonely exotic evolve top birth grace bullet south holiday excuse web toast\n"
     ]
    }
   ],
   "source": [
    "# Load the value of the MNEMONIC variable from the .env file\n",
    "load_dotenv\n",
    "mnemonic = os.getenv(\"MNEMONIC\")\n",
    "\n",
    "# Evaluate the contents of the mnemonic variable\n",
    "# Create a new mnemonic seed phrase if the value of mnemonic equals None\n",
    "if mnemonic is None:\n",
    "    mnemo = Mnemonic(\"english\")\n",
    "    mnemonic = mnemo.generate(strength=128)\n",
    "    print(f\"New Mnemonic generated:  {mnemonic}\")\n",
    "else:\n",
    "    print(f\"Mnemonic found:  {mnemonic}\")\n"
   ]
  },
  {
   "cell_type": "code",
   "execution_count": 22,
   "id": "b46a8eea-d499-4ddd-b86f-f34d19815e38",
   "metadata": {},
   "outputs": [
    {
     "data": {
      "text/plain": [
       "<bip44.wallet.Wallet at 0x105622190>"
      ]
     },
     "execution_count": 22,
     "metadata": {},
     "output_type": "execute_result"
    }
   ],
   "source": [
    "wallet = Wallet(mnemonic)\n",
    "wallet"
   ]
  },
  {
   "cell_type": "code",
   "execution_count": 23,
   "id": "b4550ef0-40a9-417d-bcd6-1e18a86ee6b6",
   "metadata": {},
   "outputs": [
    {
     "data": {
      "text/plain": [
       "b'J\\xe45\\xcc\\xcb\\xb7\\x84\\xe9\\xa6A\\xd8\\xbd\\xdb/\\xd1\\x8f\\xce\\xbd<>\"2}\\xe7kG\\xb7\\xdaw\\xec\\xdfk'"
      ]
     },
     "execution_count": 23,
     "metadata": {},
     "output_type": "execute_result"
    }
   ],
   "source": [
    "# Create the public and private keys associated with a new Ethereum account\n",
    "private, public = wallet.derive_account(\"eth\")\n",
    "\n",
    "# Display the private key\n",
    "private\n"
   ]
  },
  {
   "cell_type": "code",
   "execution_count": 24,
   "id": "3e6995f3-b365-45f7-80de-8872fcd5773a",
   "metadata": {},
   "outputs": [
    {
     "name": "stdout",
     "output_type": "stream",
     "text": [
      "0x58439230181cE76BB49837f5b9F3e6135Ec551F6\n"
     ]
    }
   ],
   "source": [
    "# Create an Ethereum account by passing the private key via the Account object\n",
    "account = Account.privateKeyToAccount(private)\n",
    "\n",
    "# Print the account address associated with the Ethereum account\n",
    "print(account.address)"
   ]
  },
  {
   "cell_type": "code",
   "execution_count": 25,
   "id": "4945887a-aa8e-45b0-9e2c-406bfd9abd6c",
   "metadata": {},
   "outputs": [],
   "source": [
    "from web3.auto import w3\n",
    "from eth_account.messages import encode_defunct"
   ]
  },
  {
   "cell_type": "code",
   "execution_count": 26,
   "id": "d3786666-c2e7-4767-ae10-4e5139732473",
   "metadata": {},
   "outputs": [],
   "source": [
    "msg = \"Zach owes David $20\""
   ]
  },
  {
   "cell_type": "code",
   "execution_count": 27,
   "id": "9a53494c-4f3a-4409-a461-fe43bf381332",
   "metadata": {},
   "outputs": [],
   "source": [
    "message = encode_defunct(text=msg)"
   ]
  },
  {
   "cell_type": "code",
   "execution_count": 29,
   "id": "6b65f987-eb2d-4ab9-8701-6ed2db88f89b",
   "metadata": {},
   "outputs": [
    {
     "data": {
      "text/plain": [
       "SignedMessage(messageHash=HexBytes('0xb4aac7e826ed228d4aca4c19e090daf7744dcab152eb82450b3493e6d8b1e9e2'), r=95335849979817495814856612251072066234352671627659666114340480950955909639305, s=19422824181668207346586071621300970480320997045167532620735261825990392107321, v=28, signature=HexBytes('0xd2c62dcb42f331791f9da378fd942e4e7749f64802fbd28079bad8fee770ec892af0edcd2f031829e41c800894e900f02fafb8f1b832c626f5d5ec0bcde551391c'))"
      ]
     },
     "execution_count": 29,
     "metadata": {},
     "output_type": "execute_result"
    }
   ],
   "source": [
    "signed_message = w3.eth.account.sign_message(message, private_key=private)\n",
    "signed_message"
   ]
  },
  {
   "cell_type": "code",
   "execution_count": 30,
   "id": "272315b5-4e43-4496-a742-a77c6b2cb21b",
   "metadata": {},
   "outputs": [
    {
     "data": {
      "text/plain": [
       "'0x58439230181cE76BB49837f5b9F3e6135Ec551F6'"
      ]
     },
     "execution_count": 30,
     "metadata": {},
     "output_type": "execute_result"
    }
   ],
   "source": [
    "w3.eth.account.recover_message(message, signature=signed_message.signature)"
   ]
  },
  {
   "cell_type": "code",
   "execution_count": 1,
   "id": "d0d1a094-dfc4-40a4-932f-bcee6bfd1b90",
   "metadata": {},
   "outputs": [],
   "source": [
    "# Imports\n",
    "import os\n",
    "from dotenv import load_dotenv\n",
    "load_dotenv()\n",
    "from bip44 import Wallet\n",
    "from web3 import Account\n",
    "from web3 import Web3\n",
    "w3 = Web3(Web3.HTTPProvider('HTTP://127.0.0.1:7545'))\n"
   ]
  },
  {
   "cell_type": "code",
   "execution_count": 2,
   "id": "2ef66f34-d325-45d2-963a-d4d39f07c6d5",
   "metadata": {},
   "outputs": [
    {
     "name": "stdout",
     "output_type": "stream",
     "text": [
      "/Users/pete/Documents/Fintech-Workspace/M19\n"
     ]
    }
   ],
   "source": [
    "# !cd /Users/pete/Documents/Fintech-Workspace/M19\n",
    "!pwd"
   ]
  },
  {
   "cell_type": "code",
   "execution_count": 3,
   "id": "af1bc249-b970-4d4b-a963-0c6a42ad05dd",
   "metadata": {},
   "outputs": [
    {
     "data": {
      "text/plain": [
       "'inject work property net ivory garbage unusual kiss dose such crime debris salad series verify vault shallow betray ask black aspect lumber stuff sight'"
      ]
     },
     "execution_count": 3,
     "metadata": {},
     "output_type": "execute_result"
    }
   ],
   "source": [
    "load_dotenv()\n",
    "mnemonic = os.getenv(\"MNEMONIC\")\n",
    "mnemonic\n"
   ]
  },
  {
   "cell_type": "code",
   "execution_count": 4,
   "id": "b6831fa8-8fa6-4e4b-85cc-81ad0af23c65",
   "metadata": {},
   "outputs": [
    {
     "data": {
      "text/plain": [
       "<bip44.wallet.Wallet at 0x12129ae50>"
      ]
     },
     "execution_count": 4,
     "metadata": {},
     "output_type": "execute_result"
    }
   ],
   "source": [
    "wallet = Wallet(mnemonic)\n",
    "wallet"
   ]
  },
  {
   "cell_type": "code",
   "execution_count": 5,
   "id": "f9abc3a5-0025-49ff-b448-99c3d1959951",
   "metadata": {},
   "outputs": [
    {
     "data": {
      "text/plain": [
       "b'\\x03`\\x14Co&~T\\x1f\\xb2\\x00\\xf0\\x82\\xdb\\xc9\\xf2W\\t\\xcf\\xd6$\\x04b\\x9d\\xc9no\\xa1\\xe44e\\xe2\\xb8'"
      ]
     },
     "execution_count": 5,
     "metadata": {},
     "output_type": "execute_result"
    }
   ],
   "source": [
    "private, public = wallet.derive_account(\"eth\")\n",
    "public"
   ]
  },
  {
   "cell_type": "code",
   "execution_count": 6,
   "id": "0cf844d7-adb1-4871-afc0-8ce920e4c27e",
   "metadata": {},
   "outputs": [],
   "source": [
    "account = Account.privateKeyToAccount(private)"
   ]
  },
  {
   "cell_type": "code",
   "execution_count": 7,
   "id": "61188758-caae-449d-a1ed-c248abac0def",
   "metadata": {},
   "outputs": [
    {
     "name": "stdout",
     "output_type": "stream",
     "text": [
      "0xF634ceAf7A72C10480bE7c4e3772aC14e11A1713\n"
     ]
    }
   ],
   "source": [
    "account_address = account.address\n",
    "print(account_address)"
   ]
  },
  {
   "cell_type": "code",
   "execution_count": 8,
   "id": "32c6c98b-5cfd-43ff-b8ea-30ad54d122c1",
   "metadata": {},
   "outputs": [
    {
     "data": {
      "text/plain": [
       "0"
      ]
     },
     "execution_count": 8,
     "metadata": {},
     "output_type": "execute_result"
    }
   ],
   "source": [
    "# Access the balance of funds for the Ethereum account\n",
    "wei_balance = w3.eth.getBalance(account_address)\n",
    "\n",
    "# Convert the balance from a denomination in wei to ether\n",
    "ether = w3.fromWei(wei_balance, \"ether\")\n",
    "\n",
    "# Print the number of ether\n",
    "ether"
   ]
  },
  {
   "cell_type": "code",
   "execution_count": 9,
   "id": "7d8a2e18-57d5-4ef5-a331-e74e47ff58d3",
   "metadata": {},
   "outputs": [],
   "source": [
    "# Imports\n",
    "import os\n",
    "from dotenv import load_dotenv\n",
    "load_dotenv()\n",
    "from bip44 import Wallet\n",
    "from eth_account import Account\n",
    "from web3 import middleware\n",
    "from web3.gas_strategies.time_based import medium_gas_price_strategy\n",
    "from web3 import Web3\n",
    "w3 = Web3(Web3.HTTPProvider('HTTP://127.0.0.1:7545'))"
   ]
  },
  {
   "cell_type": "code",
   "execution_count": 11,
   "id": "05924386-6921-4bc1-bf07-efb05654b423",
   "metadata": {},
   "outputs": [],
   "source": [
    "amount = .0001\n",
    "value = w3.toWei(amount, \"ether\")"
   ]
  },
  {
   "cell_type": "code",
   "execution_count": 12,
   "id": "eec9fe71-4cdf-46f9-8f1f-e9a414d1f46f",
   "metadata": {},
   "outputs": [],
   "source": [
    "receiver = \"0x4b0d14BDD1E41dAdD15B66EEB7D7c454aD19A0af\""
   ]
  },
  {
   "cell_type": "code",
   "execution_count": 13,
   "id": "59c3a8e9-d15d-40d5-9387-5eed08f7d140",
   "metadata": {},
   "outputs": [],
   "source": [
    "# Set the gas price strategy\n",
    "w3.eth.setGasPriceStrategy(medium_gas_price_strategy)"
   ]
  },
  {
   "cell_type": "code",
   "execution_count": 14,
   "id": "4b98e0d0-ce5e-4359-83c2-4ceec48a7dc7",
   "metadata": {},
   "outputs": [],
   "source": [
    "mnemonic = os.getenv(\"MNEMONIC\")\n",
    "wallet = Wallet(mnemonic)\n",
    "private, public = wallet.derive_account(\"eth\")\n",
    "account = Account.privateKeyToAccount(private)\n",
    "account_address = account.address"
   ]
  },
  {
   "cell_type": "code",
   "execution_count": 16,
   "id": "e9148602-75e7-4f16-912e-9c39f092d3c3",
   "metadata": {},
   "outputs": [],
   "source": [
    "# Calculate the gas estimate\n",
    "gasEstimate = w3.eth.estimateGas(\n",
    "    {\"to\": receiver,\n",
    "     \"from\": account_address,\n",
    "     \"value\": value\n",
    "    }\n",
    ")\n"
   ]
  },
  {
   "cell_type": "code",
   "execution_count": 17,
   "id": "a32bd0c7-d23b-4bc6-8780-40ae213471e7",
   "metadata": {},
   "outputs": [],
   "source": [
    "# Create the transaction object\n",
    "raw_tx = {\n",
    "    \"to\": receiver,\n",
    "    \"from\": account_address,\n",
    "    \"value\": value,\n",
    "    \"gas\": gasEstimate,\n",
    "    \"gasPrice\": 0,\n",
    "    \"nonce\": w3.eth.getTransactionCount(account.address)\n",
    "}"
   ]
  },
  {
   "cell_type": "code",
   "execution_count": 18,
   "id": "baf3c997-cac6-4799-b6ae-b277072c5e5d",
   "metadata": {},
   "outputs": [
    {
     "data": {
      "text/plain": [
       "{'to': '0x4b0d14BDD1E41dAdD15B66EEB7D7c454aD19A0af',\n",
       " 'from': '0xF634ceAf7A72C10480bE7c4e3772aC14e11A1713',\n",
       " 'value': 100000000000000,\n",
       " 'gas': 21000,\n",
       " 'gasPrice': 0,\n",
       " 'nonce': 0}"
      ]
     },
     "execution_count": 18,
     "metadata": {},
     "output_type": "execute_result"
    }
   ],
   "source": []
  },
  {
   "cell_type": "code",
   "execution_count": 19,
   "id": "902fbbe5-1aff-439f-864f-233be9ce7d6d",
   "metadata": {},
   "outputs": [
    {
     "data": {
      "text/plain": [
       "HexBytes('0xf5ee3013d4759f5438ee490d6b3e1985fc520ab5cfbd5c4f197149f2fe3cd403')"
      ]
     },
     "execution_count": 19,
     "metadata": {},
     "output_type": "execute_result"
    }
   ],
   "source": [
    "# Create a signed transaction by passing the transaction object\n",
    "# into the signTransaction function\n",
    "signed_tx = account.signTransaction(raw_tx)\n",
    "\n",
    "# Route the signed transaction to the Ethereum blockchain\n",
    "w3.eth.sendRawTransaction(signed_tx.rawTransaction)\n"
   ]
  },
  {
   "cell_type": "code",
   "execution_count": null,
   "id": "bd7ccc53-944b-4b93-86a5-4849664858d3",
   "metadata": {},
   "outputs": [],
   "source": []
  }
 ],
 "metadata": {
  "kernelspec": {
   "display_name": "pep-dev2",
   "language": "python",
   "name": "pep-dev2"
  },
  "language_info": {
   "codemirror_mode": {
    "name": "ipython",
    "version": 3
   },
   "file_extension": ".py",
   "mimetype": "text/x-python",
   "name": "python",
   "nbconvert_exporter": "python",
   "pygments_lexer": "ipython3",
   "version": "3.9.12"
  }
 },
 "nbformat": 4,
 "nbformat_minor": 5
}
