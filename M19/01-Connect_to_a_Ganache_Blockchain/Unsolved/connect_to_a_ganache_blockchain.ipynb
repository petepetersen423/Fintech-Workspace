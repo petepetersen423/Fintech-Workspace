{
 "cells": [
  {
   "cell_type": "markdown",
   "metadata": {},
   "source": [
    "# Connect to a Ganache Blockchain\n",
    "\n",
    "In this activity, you will use the mnemonic seed phrase that was provied by Ganache to create your HD wallet and your Ethereum public-private key pair and account address.\n",
    "\n",
    "You will then use Web3.py to connect to the Ganache blockchain.\n",
    "\n",
    "\n",
    "## Instructions\n",
    "\n",
    "Complete each of the following steps:\n",
    "\n",
    "1. In the `Unsolved` folder, create your `.env` file, which should contain the mnemonic seed phrase provided by Ganache saved as the variable `MNEMONIC`.\n",
    "\n",
    "2. Import the necessary libraries and functions, and set Ganache as your provider by defining a variable w3 that uses the Web3 function to define the HTTPProvider as the RPC Server address provided by Ganache.\n",
    "\n",
    "3. Use the mnemonic seed phrase provided by Ganache, and the `Wallet()` class from the bip44 package, to generate a wallet instance. Then, derive your private and public keys by calling the `.derive_account` method on the `wallet` object and passing it the string “eth”. Save the two returned values as variables named `private` and `public`.\n",
    "\n",
    "4. Pass the private-key value to `Account.privateKeyToAccount`, and save the returned `account` object as a variable named `account`.\n",
    "\n",
    "5. Call `account.address` and save it as a new variable named `account_address`. Then print the `account_address` variable to get your public Ethereum address from your public key.\n",
    "\n",
    "6. In the Jupyter notebook, fetch the balance of your Ethereum address by using Web3.py. To do so, complete the following steps:\n",
    "\n",
    "   * Call the `w3.eth.getBalance` method, and pass it the `account_address` variable. Save the returned value as a variable named `wei_balance`.\n",
    "   * Call the function `w3.fromWei`, and pass it your `wei_balance` variable and the string “ether”. Save the returned value as a variable named `ether`. Print your account balance in ether.\n",
    "   \n",
    "## References\n",
    "\n",
    "[Web3.py](https://web3py.readthedocs.io/en/stable/)\n",
    "\n",
    "[Ganache](https://www.trufflesuite.com/docs/ganache/overview)\n",
    "\n",
    "---"
   ]
  },
  {
   "cell_type": "markdown",
   "metadata": {},
   "source": [
    "### Step 1: In the `Unsolved` folder, create your `.env` file, which should contain the mnemonic seed phrase provided by Ganache saved as the variable `MNEMONIC`."
   ]
  },
  {
   "cell_type": "markdown",
   "metadata": {},
   "source": [
    "### Step 2: Import the necessary libraries and functions, and set Ganache as your provider by defining a variable w3 that uses the Web3 function to define the HTTPProvider as the RPC Server address provided by Ganache."
   ]
  },
  {
   "cell_type": "code",
   "execution_count": 26,
   "metadata": {},
   "outputs": [],
   "source": [
    "# Imports\n",
    "import os\n",
    "from dotenv import load_dotenv\n",
    "load_dotenv()\n",
    "from bip44 import Wallet\n",
    "from web3 import Account\n",
    "from web3 import Web3\n",
    "w3 = Web3()"
   ]
  },
  {
   "cell_type": "markdown",
   "metadata": {},
   "source": [
    "### Step 3: Use the mnemonic seed phrase provided by Ganache, and the `Wallet()` class from the bip44 package, to generate a wallet instance. Then, derive your private and public keys by calling the `.derive_account` method on the `wallet` object and passing it the string “eth”. Save the two returned values as variables named `private` and `public`."
   ]
  },
  {
   "cell_type": "code",
   "execution_count": 27,
   "metadata": {},
   "outputs": [
    {
     "data": {
      "text/plain": [
       "'inject work property net ivory garbage unusual kiss dose such crime debris salad series verify vault shallow betray ask black aspect lumber stuff sight'"
      ]
     },
     "execution_count": 27,
     "metadata": {},
     "output_type": "execute_result"
    }
   ],
   "source": [
    "# Call os.getenv(\"MNEMONIC\") and save it's value as a variable named mnemonic\n",
    "load_dotenv\n",
    "mnemonic = os.getenv(\"MNEMONIC\")\n",
    "\n",
    "# View the data type of mnemonic to confirm its availability\n",
    "# YOUR CODE HERE\n",
    "mnemonic"
   ]
  },
  {
   "cell_type": "code",
   "execution_count": 18,
   "metadata": {},
   "outputs": [
    {
     "data": {
      "text/plain": [
       "<bip44.wallet.Wallet at 0x10ba60730>"
      ]
     },
     "execution_count": 18,
     "metadata": {},
     "output_type": "execute_result"
    }
   ],
   "source": [
    "# Instantiate a new instance of Wallet and pass it the mnemonic variable\n",
    "wallet = Wallet(mnemonic)\n",
    "\n",
    "# Review your wallet instance\n",
    "wallet"
   ]
  },
  {
   "cell_type": "code",
   "execution_count": 19,
   "metadata": {},
   "outputs": [
    {
     "data": {
      "text/plain": [
       "b'Oo2\\xe8\\xb8$\\xd0L\\x80N\\xbf\\x97H.\\x7f$\\x119\\xd8\\xf2N]c\\x8d\\xf1t[5\\x14\\x1f\\xd3\\xe9'"
      ]
     },
     "execution_count": 19,
     "metadata": {},
     "output_type": "execute_result"
    }
   ],
   "source": [
    "# Calling the derive_account method on your wallet instance\n",
    "# Pass the string eth to the method\n",
    "private, public = wallet.derive_account(\"eth\")\n",
    "\n",
    "# Review the byte string of your private key\n",
    "private"
   ]
  },
  {
   "cell_type": "markdown",
   "metadata": {},
   "source": [
    "### Step 4: Pass the private-key value to `Account.privateKeyToAccount`, and save the returned `account` object as a variable named `account`."
   ]
  },
  {
   "cell_type": "code",
   "execution_count": 20,
   "metadata": {},
   "outputs": [],
   "source": [
    "# Construct the Ethereum account by calling Account.privateKeyToAccount\n",
    "# Pass it your private key variable\n",
    "account = Account.privateKeyToAccount(private)"
   ]
  },
  {
   "cell_type": "markdown",
   "metadata": {},
   "source": [
    "### Step 5: Call `account.address` and save it as a new variable named `account_address`. Then print the `account_address` variable to get your public Ethereum address from your public key."
   ]
  },
  {
   "cell_type": "code",
   "execution_count": 21,
   "metadata": {},
   "outputs": [
    {
     "name": "stdout",
     "output_type": "stream",
     "text": [
      "0xF634ceAf7A72C10480bE7c4e3772aC14e11A1713\n"
     ]
    }
   ],
   "source": [
    "# Call account.address and save it as a new variable named account_address\n",
    "account_address = account.address\n",
    "# Print the account's address\n",
    "print(account_address)\n",
    "# F634ceAf7A72C10480bE7c4e3772aC14e11A1713"
   ]
  },
  {
   "cell_type": "markdown",
   "metadata": {},
   "source": [
    "### Step 6: In the Jupyter notebook, fetch the balance of your Ethereum address by using Web3.py. To do so, complete the following steps:\n",
    "\n",
    "   * Call the `w3.eth.getBalance` method, and pass it the `account_address` variable. Save the returned value as a variable named `wei_balance`.\n",
    "   * Call the function `w3.fromWei`, and pass it your `wei_balance` variable and the string “ether”. Save the returned value as a variable named `ether`. Print your account balance in ether."
   ]
  },
  {
   "cell_type": "code",
   "execution_count": 24,
   "metadata": {},
   "outputs": [
    {
     "data": {
      "text/plain": [
       "100000000000000000000"
      ]
     },
     "execution_count": 24,
     "metadata": {},
     "output_type": "execute_result"
    }
   ],
   "source": [
    "# Call the w3.eth.getBalance method, and pass it the account_address variable\n",
    "# Save the returned value as a variable named `wei_balance`\n",
    "w3 = Web3(Web3.HTTPProvider('HTTP://127.0.0.1:7545'))\n",
    "wei_balance = w3.eth.getBalance(account_address)\n",
    "\n",
    "# Print your account balance in wei\n",
    "wei_balance"
   ]
  },
  {
   "cell_type": "code",
   "execution_count": 25,
   "metadata": {},
   "outputs": [
    {
     "data": {
      "text/plain": [
       "Decimal('100')"
      ]
     },
     "execution_count": 25,
     "metadata": {},
     "output_type": "execute_result"
    }
   ],
   "source": [
    "# Call the function w3.fromWei, and pass it your wei_balance variable and the string “ether”\n",
    "# Save the returned value as a variable named `ether`\n",
    "ether = w3.fromWei(wei_balance, \"ether\")\n",
    "\n",
    "# Print your account balance in ether\n",
    "ether"
   ]
  },
  {
   "cell_type": "code",
   "execution_count": null,
   "metadata": {},
   "outputs": [],
   "source": []
  }
 ],
 "metadata": {
  "kernelspec": {
   "display_name": "Python 3 (ipykernel)",
   "language": "python",
   "name": "python3"
  },
  "language_info": {
   "codemirror_mode": {
    "name": "ipython",
    "version": 3
   },
   "file_extension": ".py",
   "mimetype": "text/x-python",
   "name": "python",
   "nbconvert_exporter": "python",
   "pygments_lexer": "ipython3",
   "version": "3.9.13"
  }
 },
 "nbformat": 4,
 "nbformat_minor": 4
}
