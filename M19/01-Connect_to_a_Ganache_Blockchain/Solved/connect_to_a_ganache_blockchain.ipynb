{
 "cells": [
  {
   "cell_type": "markdown",
   "metadata": {},
   "source": [
    "# Connect to a Ganache Blockchain\n",
    "\n",
    "In this activity, you will use the mnemonic seed phrase that was provied by Ganache to create your HD wallet and your Ethereum public-private key pair and account address.\n",
    "\n",
    "You will then use Web3.py to connect to the Ganache blockchain.\n",
    "\n",
    "\n",
    "## Instructions\n",
    "\n",
    "Complete each of the following steps:\n",
    "\n",
    "1. In the `Unsolved` folder, create your `.env` file, which should contain the mnemonic seed phrase provided by Ganache saved as the variable `MNEMONIC`.\n",
    "\n",
    "2. Import the necessary libraries and functions, and set Ganache as your provider by defining a variable w3 that uses the Web3 function to define the HTTPProvider as the RPC Server address provided by Ganache.\n",
    "\n",
    "3. Use the mnemonic seed phrase provided by Ganache, and the `Wallet()` class from the bip44 package, to generate a wallet instance. Then, derive your private and public keys by calling the `.derive_account` method on the `wallet` object and passing it the string “eth”. Save the two returned values as variables named `private` and `public`.\n",
    "\n",
    "4. Pass the private-key value to `Account.privateKeyToAccount`, and save the returned `account` object as a variable named `account`.\n",
    "\n",
    "5. Call `account.address` and save it as a new variable named `account_address`. Then print the `account_address` variable to get your public Ethereum address from your public key.\n",
    "\n",
    "6. In the Jupyter notebook, fetch the balance of your Ethereum address by using Web3.py. To do so, complete the following steps:\n",
    "\n",
    "   * Call the `w3.eth.getBalance` method, and pass it the `account_address` variable. Save the returned value as a variable named `wei_balance`.\n",
    "   * Call the function `w3.fromWei`, and pass it your `wei_balance` variable and the string “ether”. Save the returned value as a variable named `ether`. Print your account balance in ether.\n",
    "   \n",
    "## References\n",
    "\n",
    "[Web3.py](https://web3py.readthedocs.io/en/stable/)\n",
    "\n",
    "[Ganache](https://www.trufflesuite.com/docs/ganache/overview)\n",
    "\n",
    "---"
   ]
  },
  {
   "cell_type": "markdown",
   "metadata": {},
   "source": [
    "### Step 1: In the `Unsolved` folder, create your `.env` file, which should contain the mnemonic seed phrase provided by Ganache saved as the variable `MNEMONIC`."
   ]
  },
  {
   "cell_type": "markdown",
   "metadata": {},
   "source": [
    "### Step 2: Import the necessary libraries and functions, and set Ganache as your provider by defining a variable w3 that uses the Web3 function to define the HTTPProvider as the RPC Server address provided by Ganache."
   ]
  },
  {
   "cell_type": "code",
   "execution_count": 1,
   "metadata": {},
   "outputs": [],
   "source": [
    "# Imports\n",
    "import os\n",
    "from dotenv import load_dotenv\n",
    "load_dotenv()\n",
    "from bip44 import Wallet\n",
    "from web3 import Account\n",
    "from web3 import Web3\n",
    "w3 = Web3(Web3.HTTPProvider('HTTP://127.0.0.1:7545'))"
   ]
  },
  {
   "cell_type": "markdown",
   "metadata": {},
   "source": [
    "### Step 3: Use the mnemonic seed phrase provided by Ganache, and the `Wallet()` class from the bip44 package, to generate a wallet instance. Then, derive your private and public keys by calling the `.derive_account` method on the `wallet` object and passing it the string “eth”. Save the two returned values as variables named `private` and `public`."
   ]
  },
  {
   "cell_type": "code",
   "execution_count": 2,
   "metadata": {},
   "outputs": [
    {
     "data": {
      "text/plain": [
       "str"
      ]
     },
     "execution_count": 2,
     "metadata": {},
     "output_type": "execute_result"
    }
   ],
   "source": [
    "# Call os.getenv(\"MNEMONIC\") and save it's value as a variable named mnemonic\n",
    "mnemonic = os.getenv(\"MNEMONIC\")\n",
    "\n",
    "# View the data type of mnemonic to confirm its availability\n",
    "type(mnemonic)"
   ]
  },
  {
   "cell_type": "code",
   "execution_count": 3,
   "metadata": {},
   "outputs": [
    {
     "data": {
      "text/plain": [
       "<bip44.wallet.Wallet at 0x7feaca758450>"
      ]
     },
     "execution_count": 3,
     "metadata": {},
     "output_type": "execute_result"
    }
   ],
   "source": [
    "# Instantiate a new instance of Wallet and pass it the mnemonic variable\n",
    "wallet = Wallet(mnemonic)\n",
    "\n",
    "# Review your wallet instance\n",
    "wallet"
   ]
  },
  {
   "cell_type": "code",
   "execution_count": 4,
   "metadata": {},
   "outputs": [
    {
     "data": {
      "text/plain": [
       "b'W\\x88\\xea\\xf1\\x85{\\xf4f[\\xf5\\xc0\\xd6o\\xa5\\x91\\xb7B\\x89Y\\x86j9\\xc2u\"[6\\xc0\\x1f17\\x84'"
      ]
     },
     "execution_count": 4,
     "metadata": {},
     "output_type": "execute_result"
    }
   ],
   "source": [
    "# Calling the derive_account method on your wallet instance\n",
    "# Pass the string eth to the method\n",
    "private, public = wallet.derive_account(\"eth\")\n",
    "\n",
    "# Review the byte string of your private key\n",
    "private"
   ]
  },
  {
   "cell_type": "markdown",
   "metadata": {},
   "source": [
    "### Step 4: Pass the private-key value to `Account.privateKeyToAccount`, and save the returned `account` object as a variable named `account`."
   ]
  },
  {
   "cell_type": "code",
   "execution_count": 5,
   "metadata": {},
   "outputs": [],
   "source": [
    "# Construct the Ethereum account by calling Account.privateKeyToAccount\n",
    "# Pass it your private key variable\n",
    "account = Account.privateKeyToAccount(private)"
   ]
  },
  {
   "cell_type": "markdown",
   "metadata": {},
   "source": [
    "### Step 5: Call `account.address` and save it as a new variable named `account_address`. Then print the `account_address` variable to get your public Ethereum address from your public key."
   ]
  },
  {
   "cell_type": "code",
   "execution_count": 6,
   "metadata": {},
   "outputs": [
    {
     "data": {
      "text/plain": [
       "'0x6E737435e545dFDc73b2C5557b51e39a0dB57d92'"
      ]
     },
     "execution_count": 6,
     "metadata": {},
     "output_type": "execute_result"
    }
   ],
   "source": [
    "# Call account.address and save it as a new variable named account_address\n",
    "account_address = account.address\n",
    "\n",
    "# Print the account's address\n",
    "account_address"
   ]
  },
  {
   "cell_type": "markdown",
   "metadata": {},
   "source": [
    "### Step 6: In the Jupyter notebook, fetch the balance of your Ethereum address by using Web3.py. To do so, complete the following steps:\n",
    "\n",
    "   * Call the `w3.eth.getBalance` method, and pass it the `account_address` variable. Save the returned value as a variable named `wei_balance`.\n",
    "   * Call the function `w3.fromWei`, and pass it your `wei_balance` variable and the string “ether”. Save the returned value as a variable named `ether`. Print your account balance in ether."
   ]
  },
  {
   "cell_type": "code",
   "execution_count": 7,
   "metadata": {},
   "outputs": [
    {
     "data": {
      "text/plain": [
       "85581799999999958000"
      ]
     },
     "execution_count": 7,
     "metadata": {},
     "output_type": "execute_result"
    }
   ],
   "source": [
    "# Call the w3.eth.getBalance method, and pass it the account_address variable\n",
    "# Save the returned value as a variable named `wei_balance`\n",
    "wei_balance = w3.eth.getBalance(account_address)\n",
    "\n",
    "# Print your account balance in wei\n",
    "wei_balance"
   ]
  },
  {
   "cell_type": "code",
   "execution_count": 8,
   "metadata": {},
   "outputs": [
    {
     "data": {
      "text/plain": [
       "Decimal('85.581799999999958')"
      ]
     },
     "execution_count": 8,
     "metadata": {},
     "output_type": "execute_result"
    }
   ],
   "source": [
    "# Call the function w3.fromWei, and pass it your wei_balance variable and the string “ether”\n",
    "# Save the returned value as a variable named `ether`\n",
    "ether = w3.fromWei(wei_balance, \"ether\")\n",
    "\n",
    "# Print your account balance in ether\n",
    "ether"
   ]
  }
 ],
 "metadata": {
  "kernelspec": {
   "display_name": "Python 3",
   "language": "python",
   "name": "python3"
  },
  "language_info": {
   "codemirror_mode": {
    "name": "ipython",
    "version": 3
   },
   "file_extension": ".py",
   "mimetype": "text/x-python",
   "name": "python",
   "nbconvert_exporter": "python",
   "pygments_lexer": "ipython3",
   "version": "3.7.7"
  }
 },
 "nbformat": 4,
 "nbformat_minor": 4
}
