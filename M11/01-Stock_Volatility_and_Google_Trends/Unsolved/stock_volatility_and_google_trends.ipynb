{
 "cells": [
  {
   "cell_type": "markdown",
   "metadata": {},
   "source": [
    "# Stock Volatility and Google Trends\n",
    "\n",
    "In this activity, you’ll analyze time series data about Apple to identify any correlations among Google Trends, the stock price returns, and the stock volatility.\n",
    "\n",
    "Instructions\n",
    "\n",
    "Do a time series analysis of Apple from October 2015 to October 2020. Evaluate if any predictable relationship exists among the Google Trends data, Apple’s stock price, and Apple’s volatility and return metrics. To do all of that, complete the steps in the following two sections.\n",
    "\n",
    "#### Set Up and Visualize the Data\n",
    "\n",
    "1. Read the time series data into two Pandas DataFrames, `df_stock` and `df_trends`. Set the “date” column as the index for each of these DataFrames.\n",
    "\n",
    "2. Concatenate the `df_stock` DataFrame to the `df_trends` DataFrame, creating a single DataFrame named `df_apple`.\n",
    "\n",
    "3. Create a plot of the concatenated DataFrame by using hvPlot to visually analyze any trends and correlations. Do you observe any seasonal patterns?\n",
    "\n",
    "    > **Hint** You might find it useful to refer to the [Apple Events page](https://www.apple.com/apple-events/) and the [Timeline of Apple Inc. products](https://en.wikipedia.org/wiki/Timeline_of_Apple_Inc._products) to spotlight moments over time that could have triggered a particular pattern.\n",
    "\n",
    "#### Build Time Trends\n",
    "\n",
    "1. Note that on September 10, 2019, Apple organized an event where it presented the new iPhone 11 family, the Apple Watch Series 5, and a new iPad. This event gained worldwide attention.\n",
    "\n",
    "2. Closely examine the data from March 1, 2019 to January 31, 2020.\n",
    "\n",
    "3. Create a plot by using hvPlot, and then identify whether both time series indicate a common trend that might correspond to this narrative.\n",
    "\n",
    "4. Before seeking any correlations between these time series, add columns to the `df_apple` DataFrame to analyze the impact of the Google Trends data on the weekly returns and stock volatility, as follows:\n",
    "\n",
    "    1. Use the Pandas `shift` function to add a new column that lags the Google Trends data by one period.\n",
    "\n",
    "        > **Hint** Google Trends data is reported every week on Sunday, so you have a weekly period in this time series.\n",
    "\n",
    "    2. Use the Pandas `pct_change` function to add a new column that has the weekly price returns.\n",
    "\n",
    "    3. Compute the rolling stock volatility for Apple by using the following Pandas method:\n",
    "        `df_apple[\"weekly_volatility\"] = df_apple[\"close\"].pct_change().rolling(window=4).std()`\n",
    "\n",
    "5. Use the Pandas `corr` function to compute the correlations among the lagged Google Trends data, the price returns, and the stock volatility. Does any predictable relationship exist?\n",
    "\n",
    "\n",
    "References\n",
    "\n",
    "[Pandas concat function](https://pandas.pydata.org/pandas-docs/stable/reference/api/pandas.concat.html)\n",
    "\n",
    "[Pandas rolling function](https://pandas.pydata.org/pandas-docs/stable/reference/api/pandas.DataFrame.rolling.html)\n",
    "\n",
    "[Pandas std function](https://pandas.pydata.org/pandas-docs/stable/reference/api/pandas.DataFrame.std.html)\n",
    "\n",
    "[Pandas corr function](https://pandas.pydata.org/pandas-docs/stable/reference/api/pandas.DataFrame.corr.html)\n"
   ]
  },
  {
   "cell_type": "code",
   "execution_count": 2,
   "metadata": {},
   "outputs": [],
   "source": [
    "# Import the required libraries and dependencies\n",
    "import pandas as pd\n",
    "import hvplot.pandas\n",
    "import numpy as np\n",
    "from path import Path\n",
    "%matplotlib inline"
   ]
  },
  {
   "cell_type": "markdown",
   "metadata": {},
   "source": [
    "## Set up and Visualize the Data"
   ]
  },
  {
   "cell_type": "markdown",
   "metadata": {},
   "source": [
    "### Step 1: Read the time series data into two Pandas DataFrames, `df_stock` and `df_trends`. Set the “date” column as the index for each of these DataFrames."
   ]
  },
  {
   "cell_type": "code",
   "execution_count": 4,
   "metadata": {},
   "outputs": [
    {
     "name": "stdout",
     "output_type": "stream",
     "text": [
      "/Users/pete/Documents/Fintech-Workspace/M11/01-Stock_Volatility_and_Google_Trends/Unsolved\n"
     ]
    }
   ],
   "source": [
    "!pwd"
   ]
  },
  {
   "cell_type": "code",
   "execution_count": 13,
   "metadata": {},
   "outputs": [
    {
     "data": {
      "text/html": [
       "<div>\n",
       "<style scoped>\n",
       "    .dataframe tbody tr th:only-of-type {\n",
       "        vertical-align: middle;\n",
       "    }\n",
       "\n",
       "    .dataframe tbody tr th {\n",
       "        vertical-align: top;\n",
       "    }\n",
       "\n",
       "    .dataframe thead th {\n",
       "        text-align: right;\n",
       "    }\n",
       "</style>\n",
       "<table border=\"1\" class=\"dataframe\">\n",
       "  <thead>\n",
       "    <tr style=\"text-align: right;\">\n",
       "      <th></th>\n",
       "      <th>close</th>\n",
       "    </tr>\n",
       "    <tr>\n",
       "      <th>date</th>\n",
       "      <th></th>\n",
       "    </tr>\n",
       "  </thead>\n",
       "  <tbody>\n",
       "    <tr>\n",
       "      <th>2015-10-19</th>\n",
       "      <td>27.93</td>\n",
       "    </tr>\n",
       "    <tr>\n",
       "      <th>2015-10-20</th>\n",
       "      <td>28.44</td>\n",
       "    </tr>\n",
       "    <tr>\n",
       "      <th>2015-10-21</th>\n",
       "      <td>28.44</td>\n",
       "    </tr>\n",
       "    <tr>\n",
       "      <th>2015-10-22</th>\n",
       "      <td>28.88</td>\n",
       "    </tr>\n",
       "    <tr>\n",
       "      <th>2015-10-23</th>\n",
       "      <td>29.77</td>\n",
       "    </tr>\n",
       "  </tbody>\n",
       "</table>\n",
       "</div>"
      ],
      "text/plain": [
       "            close\n",
       "date             \n",
       "2015-10-19  27.93\n",
       "2015-10-20  28.44\n",
       "2015-10-21  28.44\n",
       "2015-10-22  28.88\n",
       "2015-10-23  29.77"
      ]
     },
     "execution_count": 13,
     "metadata": {},
     "output_type": "execute_result"
    }
   ],
   "source": [
    "# Read the data from the apple-price.csv file into a Pandas DataFrame\n",
    "df_stock = pd.read_csv(Path(\"../Resources/aapl-price.csv\"),\n",
    "                    index_col =\"date\", \n",
    "                    parse_dates=True, \n",
    "                    infer_datetime_format=True\n",
    "                      )\n",
    "# Review the DataFrame\n",
    "df_stock.head()"
   ]
  },
  {
   "cell_type": "code",
   "execution_count": 14,
   "metadata": {},
   "outputs": [
    {
     "data": {
      "text/html": [
       "<div>\n",
       "<style scoped>\n",
       "    .dataframe tbody tr th:only-of-type {\n",
       "        vertical-align: middle;\n",
       "    }\n",
       "\n",
       "    .dataframe tbody tr th {\n",
       "        vertical-align: top;\n",
       "    }\n",
       "\n",
       "    .dataframe thead th {\n",
       "        text-align: right;\n",
       "    }\n",
       "</style>\n",
       "<table border=\"1\" class=\"dataframe\">\n",
       "  <thead>\n",
       "    <tr style=\"text-align: right;\">\n",
       "      <th></th>\n",
       "      <th>trend-worldwide</th>\n",
       "    </tr>\n",
       "    <tr>\n",
       "      <th>date</th>\n",
       "      <th></th>\n",
       "    </tr>\n",
       "  </thead>\n",
       "  <tbody>\n",
       "    <tr>\n",
       "      <th>2015-10-23</th>\n",
       "      <td>32</td>\n",
       "    </tr>\n",
       "    <tr>\n",
       "      <th>2015-10-30</th>\n",
       "      <td>33</td>\n",
       "    </tr>\n",
       "    <tr>\n",
       "      <th>2015-11-06</th>\n",
       "      <td>32</td>\n",
       "    </tr>\n",
       "    <tr>\n",
       "      <th>2015-11-13</th>\n",
       "      <td>32</td>\n",
       "    </tr>\n",
       "    <tr>\n",
       "      <th>2015-11-20</th>\n",
       "      <td>31</td>\n",
       "    </tr>\n",
       "  </tbody>\n",
       "</table>\n",
       "</div>"
      ],
      "text/plain": [
       "            trend-worldwide\n",
       "date                       \n",
       "2015-10-23               32\n",
       "2015-10-30               33\n",
       "2015-11-06               32\n",
       "2015-11-13               32\n",
       "2015-11-20               31"
      ]
     },
     "execution_count": 14,
     "metadata": {},
     "output_type": "execute_result"
    }
   ],
   "source": [
    "# Read the data from the apple-trends.csv file into a Pandas DataFrame\n",
    "df_trends = pd.read_csv(Path(\"../Resources/apple-trends.csv\"),\n",
    "                    index_col =\"date\", \n",
    "                    parse_dates=True, \n",
    "                    infer_datetime_format=True\n",
    "                      )\n",
    "\n",
    "# Review the DataFrame\n",
    "df_trends.head()\n"
   ]
  },
  {
   "cell_type": "markdown",
   "metadata": {},
   "source": [
    "#### Step 2: Concatenate the `df_stock` DataFrame to the `df_trends` DataFrame, creating a single DataFrame named `df_apple`.\n",
    "\n",
    "> **Rewind** Concatenation: Two DataFrames that have the same `datetime` index can be merged using `pd.concat`. The `axis=1` parameter means that we're bringing the columns of the two DataFrames together."
   ]
  },
  {
   "cell_type": "code",
   "execution_count": 18,
   "metadata": {},
   "outputs": [
    {
     "data": {
      "text/html": [
       "<div>\n",
       "<style scoped>\n",
       "    .dataframe tbody tr th:only-of-type {\n",
       "        vertical-align: middle;\n",
       "    }\n",
       "\n",
       "    .dataframe tbody tr th {\n",
       "        vertical-align: top;\n",
       "    }\n",
       "\n",
       "    .dataframe thead th {\n",
       "        text-align: right;\n",
       "    }\n",
       "</style>\n",
       "<table border=\"1\" class=\"dataframe\">\n",
       "  <thead>\n",
       "    <tr style=\"text-align: right;\">\n",
       "      <th></th>\n",
       "      <th>close</th>\n",
       "      <th>trend-worldwide</th>\n",
       "    </tr>\n",
       "    <tr>\n",
       "      <th>date</th>\n",
       "      <th></th>\n",
       "      <th></th>\n",
       "    </tr>\n",
       "  </thead>\n",
       "  <tbody>\n",
       "    <tr>\n",
       "      <th>2015-10-23</th>\n",
       "      <td>29.77</td>\n",
       "      <td>32.0</td>\n",
       "    </tr>\n",
       "    <tr>\n",
       "      <th>2015-10-30</th>\n",
       "      <td>29.88</td>\n",
       "      <td>33.0</td>\n",
       "    </tr>\n",
       "    <tr>\n",
       "      <th>2015-11-06</th>\n",
       "      <td>30.27</td>\n",
       "      <td>32.0</td>\n",
       "    </tr>\n",
       "    <tr>\n",
       "      <th>2015-11-13</th>\n",
       "      <td>28.09</td>\n",
       "      <td>32.0</td>\n",
       "    </tr>\n",
       "    <tr>\n",
       "      <th>2015-11-20</th>\n",
       "      <td>29.83</td>\n",
       "      <td>31.0</td>\n",
       "    </tr>\n",
       "  </tbody>\n",
       "</table>\n",
       "</div>"
      ],
      "text/plain": [
       "            close  trend-worldwide\n",
       "date                              \n",
       "2015-10-23  29.77             32.0\n",
       "2015-10-30  29.88             33.0\n",
       "2015-11-06  30.27             32.0\n",
       "2015-11-13  28.09             32.0\n",
       "2015-11-20  29.83             31.0"
      ]
     },
     "execution_count": 18,
     "metadata": {},
     "output_type": "execute_result"
    }
   ],
   "source": [
    "# Concatenate Apple's stock price and Google trends data\n",
    "# Use a parameter of axis=1 to ensure the concatination by columns\n",
    "# Chain the dropna function to remove any rows of data that do not \n",
    "# contain information in both columns\n",
    "df_apple = pd.concat([df_stock, df_trends], axis= 1).dropna()\n",
    "\n",
    "# Review the df_apple DataFrame\n",
    "df_apple.head()\n"
   ]
  },
  {
   "cell_type": "markdown",
   "metadata": {},
   "source": [
    "### Step 3: Create a plot of the concatenated DataFrame by using hvPlot to visually analyze any trends and correlations. Do you observe any seasonal patterns?\n",
    "\n",
    "> **Hint** You might find it useful to refer to the [Apple Events page](https://www.apple.com/apple-events/) and the [Timeline of Apple Inc. products](https://en.wikipedia.org/wiki/Timeline_of_Apple_Inc._products) to spotlight moments over time that could have triggered a particular pattern."
   ]
  },
  {
   "cell_type": "code",
   "execution_count": 19,
   "metadata": {},
   "outputs": [
    {
     "data": {},
     "metadata": {},
     "output_type": "display_data"
    },
    {
     "data": {
      "application/vnd.holoviews_exec.v0+json": "",
      "text/html": [
       "<div id='1002'>\n",
       "\n",
       "\n",
       "\n",
       "\n",
       "\n",
       "  <div class=\"bk-root\" id=\"4a79c702-1390-49c7-95b1-d1aaae7cbdb8\" data-root-id=\"1002\"></div>\n",
       "</div>\n",
       "<script type=\"application/javascript\">(function(root) {\n",
       "  function embed_document(root) {\n",
       "    var docs_json = {\"adfbb172-4a3f-428a-bf04-7648f5136d34\":{\"defs\":[{\"extends\":null,\"module\":null,\"name\":\"ReactiveHTML1\",\"overrides\":[],\"properties\":[]},{\"extends\":null,\"module\":null,\"name\":\"FlexBox1\",\"overrides\":[],\"properties\":[{\"default\":\"flex-start\",\"kind\":null,\"name\":\"align_content\"},{\"default\":\"flex-start\",\"kind\":null,\"name\":\"align_items\"},{\"default\":\"row\",\"kind\":null,\"name\":\"flex_direction\"},{\"default\":\"wrap\",\"kind\":null,\"name\":\"flex_wrap\"},{\"default\":\"flex-start\",\"kind\":null,\"name\":\"justify_content\"}]},{\"extends\":null,\"module\":null,\"name\":\"TemplateActions1\",\"overrides\":[],\"properties\":[{\"default\":0,\"kind\":null,\"name\":\"open_modal\"},{\"default\":0,\"kind\":null,\"name\":\"close_modal\"}]},{\"extends\":null,\"module\":null,\"name\":\"MaterialTemplateActions1\",\"overrides\":[],\"properties\":[{\"default\":0,\"kind\":null,\"name\":\"open_modal\"},{\"default\":0,\"kind\":null,\"name\":\"close_modal\"}]}],\"roots\":{\"references\":[{\"attributes\":{\"end\":1602201600000.0,\"reset_end\":1602201600000.0,\"reset_start\":1445558400000.0,\"start\":1445558400000.0,\"tags\":[[[\"date\",\"date\",null]]]},\"id\":\"1004\",\"type\":\"Range1d\"},{\"attributes\":{},\"id\":\"1045\",\"type\":\"Selection\"},{\"attributes\":{},\"id\":\"1073\",\"type\":\"YearsTicker\"},{\"attributes\":{\"margin\":[5,5,5,5],\"name\":\"HSpacer01654\",\"sizing_mode\":\"stretch_width\"},\"id\":\"1327\",\"type\":\"Spacer\"},{\"attributes\":{\"axis_label\":\"date\",\"coordinates\":null,\"formatter\":{\"id\":\"1039\"},\"group\":null,\"major_label_policy\":{\"id\":\"1040\"},\"ticker\":{\"id\":\"1018\"}},\"id\":\"1017\",\"type\":\"DatetimeAxis\"},{\"attributes\":{},\"id\":\"1015\",\"type\":\"LinearScale\"},{\"attributes\":{\"line_alpha\":0.2,\"line_color\":\"#fc4f30\",\"line_width\":2,\"x\":{\"field\":\"date\"},\"y\":{\"field\":\"value\"}},\"id\":\"1082\",\"type\":\"Line\"},{\"attributes\":{\"children\":[{\"id\":\"1003\"},{\"id\":\"1008\"},{\"id\":\"1327\"}],\"margin\":[0,0,0,0],\"name\":\"Row01649\",\"tags\":[\"embedded\"]},\"id\":\"1002\",\"type\":\"Row\"},{\"attributes\":{},\"id\":\"1040\",\"type\":\"AllLabels\"},{\"attributes\":{},\"id\":\"1094\",\"type\":\"UnionRenderers\"},{\"attributes\":{\"axis\":{\"id\":\"1017\"},\"coordinates\":null,\"grid_line_color\":null,\"group\":null,\"ticker\":null},\"id\":\"1020\",\"type\":\"Grid\"},{\"attributes\":{\"line_color\":\"#30a2da\",\"line_width\":2,\"x\":{\"field\":\"date\"},\"y\":{\"field\":\"value\"}},\"id\":\"1047\",\"type\":\"Line\"},{\"attributes\":{\"data\":{\"Variable\":[\"trend-worldwide\",\"trend-worldwide\",\"trend-worldwide\",\"trend-worldwide\",\"trend-worldwide\",\"trend-worldwide\",\"trend-worldwide\",\"trend-worldwide\",\"trend-worldwide\",\"trend-worldwide\",\"trend-worldwide\",\"trend-worldwide\",\"trend-worldwide\",\"trend-worldwide\",\"trend-worldwide\",\"trend-worldwide\",\"trend-worldwide\",\"trend-worldwide\",\"trend-worldwide\",\"trend-worldwide\",\"trend-worldwide\",\"trend-worldwide\",\"trend-worldwide\",\"trend-worldwide\",\"trend-worldwide\",\"trend-worldwide\",\"trend-worldwide\",\"trend-worldwide\",\"trend-worldwide\",\"trend-worldwide\",\"trend-worldwide\",\"trend-worldwide\",\"trend-worldwide\",\"trend-worldwide\",\"trend-worldwide\",\"trend-worldwide\",\"trend-worldwide\",\"trend-worldwide\",\"trend-worldwide\",\"trend-worldwide\",\"trend-worldwide\",\"trend-worldwide\",\"trend-worldwide\",\"trend-worldwide\",\"trend-worldwide\",\"trend-worldwide\",\"trend-worldwide\",\"trend-worldwide\",\"trend-worldwide\",\"trend-worldwide\",\"trend-worldwide\",\"trend-worldwide\",\"trend-worldwide\",\"trend-worldwide\",\"trend-worldwide\",\"trend-worldwide\",\"trend-worldwide\",\"trend-worldwide\",\"trend-worldwide\",\"trend-worldwide\",\"trend-worldwide\",\"trend-worldwide\",\"trend-worldwide\",\"trend-worldwide\",\"trend-worldwide\",\"trend-worldwide\",\"trend-worldwide\",\"trend-worldwide\",\"trend-worldwide\",\"trend-worldwide\",\"trend-worldwide\",\"trend-worldwide\",\"trend-worldwide\",\"trend-worldwide\",\"trend-worldwide\",\"trend-worldwide\",\"trend-worldwide\",\"trend-worldwide\",\"trend-worldwide\",\"trend-worldwide\",\"trend-worldwide\",\"trend-worldwide\",\"trend-worldwide\",\"trend-worldwide\",\"trend-worldwide\",\"trend-worldwide\",\"trend-worldwide\",\"trend-worldwide\",\"trend-worldwide\",\"trend-worldwide\",\"trend-worldwide\",\"trend-worldwide\",\"trend-worldwide\",\"trend-worldwide\",\"trend-worldwide\",\"trend-worldwide\",\"trend-worldwide\",\"trend-worldwide\",\"trend-worldwide\",\"trend-worldwide\",\"trend-worldwide\",\"trend-worldwide\",\"trend-worldwide\",\"trend-worldwide\",\"trend-worldwide\",\"trend-worldwide\",\"trend-worldwide\",\"trend-worldwide\",\"trend-worldwide\",\"trend-worldwide\",\"trend-worldwide\",\"trend-worldwide\",\"trend-worldwide\",\"trend-worldwide\",\"trend-worldwide\",\"trend-worldwide\",\"trend-worldwide\",\"trend-worldwide\",\"trend-worldwide\",\"trend-worldwide\",\"trend-worldwide\",\"trend-worldwide\",\"trend-worldwide\",\"trend-worldwide\",\"trend-worldwide\",\"trend-worldwide\",\"trend-worldwide\",\"trend-worldwide\",\"trend-worldwide\",\"trend-worldwide\",\"trend-worldwide\",\"trend-worldwide\",\"trend-worldwide\",\"trend-worldwide\",\"trend-worldwide\",\"trend-worldwide\",\"trend-worldwide\",\"trend-worldwide\",\"trend-worldwide\",\"trend-worldwide\",\"trend-worldwide\",\"trend-worldwide\",\"trend-worldwide\",\"trend-worldwide\",\"trend-worldwide\",\"trend-worldwide\",\"trend-worldwide\",\"trend-worldwide\",\"trend-worldwide\",\"trend-worldwide\",\"trend-worldwide\",\"trend-worldwide\",\"trend-worldwide\",\"trend-worldwide\",\"trend-worldwide\",\"trend-worldwide\",\"trend-worldwide\",\"trend-worldwide\",\"trend-worldwide\",\"trend-worldwide\",\"trend-worldwide\",\"trend-worldwide\",\"trend-worldwide\",\"trend-worldwide\",\"trend-worldwide\",\"trend-worldwide\",\"trend-worldwide\",\"trend-worldwide\",\"trend-worldwide\",\"trend-worldwide\",\"trend-worldwide\",\"trend-worldwide\",\"trend-worldwide\",\"trend-worldwide\",\"trend-worldwide\",\"trend-worldwide\",\"trend-worldwide\",\"trend-worldwide\",\"trend-worldwide\",\"trend-worldwide\",\"trend-worldwide\",\"trend-worldwide\",\"trend-worldwide\",\"trend-worldwide\",\"trend-worldwide\",\"trend-worldwide\",\"trend-worldwide\",\"trend-worldwide\",\"trend-worldwide\",\"trend-worldwide\",\"trend-worldwide\",\"trend-worldwide\",\"trend-worldwide\",\"trend-worldwide\",\"trend-worldwide\",\"trend-worldwide\",\"trend-worldwide\",\"trend-worldwide\",\"trend-worldwide\",\"trend-worldwide\",\"trend-worldwide\",\"trend-worldwide\",\"trend-worldwide\",\"trend-worldwide\",\"trend-worldwide\",\"trend-worldwide\",\"trend-worldwide\",\"trend-worldwide\",\"trend-worldwide\",\"trend-worldwide\",\"trend-worldwide\",\"trend-worldwide\",\"trend-worldwide\",\"trend-worldwide\",\"trend-worldwide\",\"trend-worldwide\",\"trend-worldwide\",\"trend-worldwide\",\"trend-worldwide\",\"trend-worldwide\",\"trend-worldwide\",\"trend-worldwide\",\"trend-worldwide\",\"trend-worldwide\",\"trend-worldwide\",\"trend-worldwide\",\"trend-worldwide\",\"trend-worldwide\",\"trend-worldwide\",\"trend-worldwide\",\"trend-worldwide\",\"trend-worldwide\",\"trend-worldwide\",\"trend-worldwide\",\"trend-worldwide\",\"trend-worldwide\",\"trend-worldwide\",\"trend-worldwide\",\"trend-worldwide\",\"trend-worldwide\",\"trend-worldwide\",\"trend-worldwide\",\"trend-worldwide\",\"trend-worldwide\",\"trend-worldwide\",\"trend-worldwide\",\"trend-worldwide\",\"trend-worldwide\",\"trend-worldwide\",\"trend-worldwide\",\"trend-worldwide\",\"trend-worldwide\"],\"date\":{\"__ndarray__\":\"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\",\"dtype\":\"float64\",\"order\":\"little\",\"shape\":[252]},\"value\":{\"__ndarray__\":\"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\",\"dtype\":\"float64\",\"order\":\"little\",\"shape\":[252]}},\"selected\":{\"id\":\"1078\"},\"selection_policy\":{\"id\":\"1094\"}},\"id\":\"1077\",\"type\":\"ColumnDataSource\"},{\"attributes\":{},\"id\":\"1026\",\"type\":\"PanTool\"},{\"attributes\":{\"mantissas\":[1,2,5],\"max_interval\":500.0,\"num_minor_ticks\":0},\"id\":\"1062\",\"type\":\"AdaptiveTicker\"},{\"attributes\":{\"line_color\":\"#fc4f30\",\"line_width\":2,\"x\":{\"field\":\"date\"},\"y\":{\"field\":\"value\"}},\"id\":\"1110\",\"type\":\"Line\"},{\"attributes\":{\"source\":{\"id\":\"1044\"}},\"id\":\"1051\",\"type\":\"CDSView\"},{\"attributes\":{\"overlay\":{\"id\":\"1030\"}},\"id\":\"1028\",\"type\":\"BoxZoomTool\"},{\"attributes\":{},\"id\":\"1042\",\"type\":\"BasicTickFormatter\"},{\"attributes\":{\"months\":[0,4,8]},\"id\":\"1071\",\"type\":\"MonthsTicker\"},{\"attributes\":{\"click_policy\":\"mute\",\"coordinates\":null,\"group\":null,\"items\":[{\"id\":\"1075\"},{\"id\":\"1109\"}],\"location\":[0,0],\"title\":\"Variable\"},\"id\":\"1074\",\"type\":\"Legend\"},{\"attributes\":{},\"id\":\"1078\",\"type\":\"Selection\"},{\"attributes\":{\"days\":[1,2,3,4,5,6,7,8,9,10,11,12,13,14,15,16,17,18,19,20,21,22,23,24,25,26,27,28,29,30,31]},\"id\":\"1065\",\"type\":\"DaysTicker\"},{\"attributes\":{\"coordinates\":null,\"group\":null,\"text_color\":\"black\",\"text_font_size\":\"12pt\"},\"id\":\"1009\",\"type\":\"Title\"},{\"attributes\":{},\"id\":\"1029\",\"type\":\"ResetTool\"},{\"attributes\":{},\"id\":\"1039\",\"type\":\"DatetimeTickFormatter\"},{\"attributes\":{},\"id\":\"1027\",\"type\":\"WheelZoomTool\"},{\"attributes\":{\"line_color\":\"#30a2da\",\"line_width\":2,\"x\":{\"field\":\"date\"},\"y\":{\"field\":\"value\"}},\"id\":\"1076\",\"type\":\"Line\"},{\"attributes\":{\"line_alpha\":0.1,\"line_color\":\"#fc4f30\",\"line_width\":2,\"x\":{\"field\":\"date\"},\"y\":{\"field\":\"value\"}},\"id\":\"1081\",\"type\":\"Line\"},{\"attributes\":{\"callback\":null,\"formatters\":{\"@{date}\":\"datetime\"},\"renderers\":[{\"id\":\"1050\"},{\"id\":\"1083\"}],\"tags\":[\"hv_created\"],\"tooltips\":[[\"Variable\",\"@{Variable}\"],[\"date\",\"@{date}{%F %T}\"],[\"value\",\"@{value}\"]]},\"id\":\"1006\",\"type\":\"HoverTool\"},{\"attributes\":{\"base\":60,\"mantissas\":[1,2,5,10,15,20,30],\"max_interval\":1800000.0,\"min_interval\":1000.0,\"num_minor_ticks\":0},\"id\":\"1063\",\"type\":\"AdaptiveTicker\"},{\"attributes\":{},\"id\":\"1059\",\"type\":\"UnionRenderers\"},{\"attributes\":{\"bottom_units\":\"screen\",\"coordinates\":null,\"fill_alpha\":0.5,\"fill_color\":\"lightgrey\",\"group\":null,\"left_units\":\"screen\",\"level\":\"overlay\",\"line_alpha\":1.0,\"line_color\":\"black\",\"line_dash\":[4,4],\"line_width\":2,\"right_units\":\"screen\",\"syncable\":false,\"top_units\":\"screen\"},\"id\":\"1030\",\"type\":\"BoxAnnotation\"},{\"attributes\":{\"base\":24,\"mantissas\":[1,2,4,6,8,12],\"max_interval\":43200000.0,\"min_interval\":3600000.0,\"num_minor_ticks\":0},\"id\":\"1064\",\"type\":\"AdaptiveTicker\"},{\"attributes\":{\"months\":[0,2,4,6,8,10]},\"id\":\"1070\",\"type\":\"MonthsTicker\"},{\"attributes\":{\"axis_label\":\"\",\"coordinates\":null,\"formatter\":{\"id\":\"1042\"},\"group\":null,\"major_label_policy\":{\"id\":\"1043\"},\"ticker\":{\"id\":\"1022\"}},\"id\":\"1021\",\"type\":\"LinearAxis\"},{\"attributes\":{\"label\":{\"value\":\"close\"},\"renderers\":[{\"id\":\"1050\"}]},\"id\":\"1075\",\"type\":\"LegendItem\"},{\"attributes\":{\"axis\":{\"id\":\"1021\"},\"coordinates\":null,\"dimension\":1,\"grid_line_color\":null,\"group\":null,\"ticker\":null},\"id\":\"1024\",\"type\":\"Grid\"},{\"attributes\":{},\"id\":\"1022\",\"type\":\"BasicTicker\"},{\"attributes\":{},\"id\":\"1043\",\"type\":\"AllLabels\"},{\"attributes\":{\"margin\":[5,5,5,5],\"name\":\"HSpacer01653\",\"sizing_mode\":\"stretch_width\"},\"id\":\"1003\",\"type\":\"Spacer\"},{\"attributes\":{\"end\":135.028,\"reset_end\":135.028,\"reset_start\":12.411999999999997,\"start\":12.411999999999997,\"tags\":[[[\"value\",\"value\",null]]]},\"id\":\"1005\",\"type\":\"Range1d\"},{\"attributes\":{\"line_alpha\":0.2,\"line_color\":\"#30a2da\",\"line_width\":2,\"x\":{\"field\":\"date\"},\"y\":{\"field\":\"value\"}},\"id\":\"1049\",\"type\":\"Line\"},{\"attributes\":{\"line_color\":\"#fc4f30\",\"line_width\":2,\"x\":{\"field\":\"date\"},\"y\":{\"field\":\"value\"}},\"id\":\"1080\",\"type\":\"Line\"},{\"attributes\":{\"below\":[{\"id\":\"1017\"}],\"center\":[{\"id\":\"1020\"},{\"id\":\"1024\"}],\"height\":300,\"left\":[{\"id\":\"1021\"}],\"margin\":[5,5,5,5],\"min_border_bottom\":10,\"min_border_left\":10,\"min_border_right\":10,\"min_border_top\":10,\"renderers\":[{\"id\":\"1050\"},{\"id\":\"1083\"}],\"right\":[{\"id\":\"1074\"}],\"sizing_mode\":\"fixed\",\"title\":{\"id\":\"1009\"},\"toolbar\":{\"id\":\"1031\"},\"width\":700,\"x_range\":{\"id\":\"1004\"},\"x_scale\":{\"id\":\"1013\"},\"y_range\":{\"id\":\"1005\"},\"y_scale\":{\"id\":\"1015\"}},\"id\":\"1008\",\"subtype\":\"Figure\",\"type\":\"Plot\"},{\"attributes\":{\"months\":[0,1,2,3,4,5,6,7,8,9,10,11]},\"id\":\"1069\",\"type\":\"MonthsTicker\"},{\"attributes\":{\"months\":[0,6]},\"id\":\"1072\",\"type\":\"MonthsTicker\"},{\"attributes\":{},\"id\":\"1025\",\"type\":\"SaveTool\"},{\"attributes\":{\"coordinates\":null,\"data_source\":{\"id\":\"1044\"},\"glyph\":{\"id\":\"1047\"},\"group\":null,\"hover_glyph\":null,\"muted_glyph\":{\"id\":\"1049\"},\"nonselection_glyph\":{\"id\":\"1048\"},\"selection_glyph\":{\"id\":\"1076\"},\"view\":{\"id\":\"1051\"}},\"id\":\"1050\",\"type\":\"GlyphRenderer\"},{\"attributes\":{\"days\":[1,15]},\"id\":\"1068\",\"type\":\"DaysTicker\"},{\"attributes\":{\"data\":{\"Variable\":[\"close\",\"close\",\"close\",\"close\",\"close\",\"close\",\"close\",\"close\",\"close\",\"close\",\"close\",\"close\",\"close\",\"close\",\"close\",\"close\",\"close\",\"close\",\"close\",\"close\",\"close\",\"close\",\"close\",\"close\",\"close\",\"close\",\"close\",\"close\",\"close\",\"close\",\"close\",\"close\",\"close\",\"close\",\"close\",\"close\",\"close\",\"close\",\"close\",\"close\",\"close\",\"close\",\"close\",\"close\",\"close\",\"close\",\"close\",\"close\",\"close\",\"close\",\"close\",\"close\",\"close\",\"close\",\"close\",\"close\",\"close\",\"close\",\"close\",\"close\",\"close\",\"close\",\"close\",\"close\",\"close\",\"close\",\"close\",\"close\",\"close\",\"close\",\"close\",\"close\",\"close\",\"close\",\"close\",\"close\",\"close\",\"close\",\"close\",\"close\",\"close\",\"close\",\"close\",\"close\",\"close\",\"close\",\"close\",\"close\",\"close\",\"close\",\"close\",\"close\",\"close\",\"close\",\"close\",\"close\",\"close\",\"close\",\"close\",\"close\",\"close\",\"close\",\"close\",\"close\",\"close\",\"close\",\"close\",\"close\",\"close\",\"close\",\"close\",\"close\",\"close\",\"close\",\"close\",\"close\",\"close\",\"close\",\"close\",\"close\",\"close\",\"close\",\"close\",\"close\",\"close\",\"close\",\"close\",\"close\",\"close\",\"close\",\"close\",\"close\",\"close\",\"close\",\"close\",\"close\",\"close\",\"close\",\"close\",\"close\",\"close\",\"close\",\"close\",\"close\",\"close\",\"close\",\"close\",\"close\",\"close\",\"close\",\"close\",\"close\",\"close\",\"close\",\"close\",\"close\",\"close\",\"close\",\"close\",\"close\",\"close\",\"close\",\"close\",\"close\",\"close\",\"close\",\"close\",\"close\",\"close\",\"close\",\"close\",\"close\",\"close\",\"close\",\"close\",\"close\",\"close\",\"close\",\"close\",\"close\",\"close\",\"close\",\"close\",\"close\",\"close\",\"close\",\"close\",\"close\",\"close\",\"close\",\"close\",\"close\",\"close\",\"close\",\"close\",\"close\",\"close\",\"close\",\"close\",\"close\",\"close\",\"close\",\"close\",\"close\",\"close\",\"close\",\"close\",\"close\",\"close\",\"close\",\"close\",\"close\",\"close\",\"close\",\"close\",\"close\",\"close\",\"close\",\"close\",\"close\",\"close\",\"close\",\"close\",\"close\",\"close\",\"close\",\"close\",\"close\",\"close\",\"close\",\"close\",\"close\",\"close\",\"close\",\"close\",\"close\",\"close\",\"close\",\"close\",\"close\",\"close\",\"close\",\"close\",\"close\",\"close\",\"close\",\"close\",\"close\",\"close\",\"close\",\"close\",\"close\"],\"date\":{\"__ndarray__\":\"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\",\"dtype\":\"float64\",\"order\":\"little\",\"shape\":[252]},\"value\":{\"__ndarray__\":\"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\",\"dtype\":\"float64\",\"order\":\"little\",\"shape\":[252]}},\"selected\":{\"id\":\"1045\"},\"selection_policy\":{\"id\":\"1059\"}},\"id\":\"1044\",\"type\":\"ColumnDataSource\"},{\"attributes\":{},\"id\":\"1013\",\"type\":\"LinearScale\"},{\"attributes\":{\"source\":{\"id\":\"1077\"}},\"id\":\"1084\",\"type\":\"CDSView\"},{\"attributes\":{\"days\":[1,8,15,22]},\"id\":\"1067\",\"type\":\"DaysTicker\"},{\"attributes\":{\"line_alpha\":0.1,\"line_color\":\"#30a2da\",\"line_width\":2,\"x\":{\"field\":\"date\"},\"y\":{\"field\":\"value\"}},\"id\":\"1048\",\"type\":\"Line\"},{\"attributes\":{\"label\":{\"value\":\"trend-worldwide\"},\"renderers\":[{\"id\":\"1083\"}]},\"id\":\"1109\",\"type\":\"LegendItem\"},{\"attributes\":{\"coordinates\":null,\"data_source\":{\"id\":\"1077\"},\"glyph\":{\"id\":\"1080\"},\"group\":null,\"hover_glyph\":null,\"muted_glyph\":{\"id\":\"1082\"},\"nonselection_glyph\":{\"id\":\"1081\"},\"selection_glyph\":{\"id\":\"1110\"},\"view\":{\"id\":\"1084\"}},\"id\":\"1083\",\"type\":\"GlyphRenderer\"},{\"attributes\":{\"days\":[1,4,7,10,13,16,19,22,25,28]},\"id\":\"1066\",\"type\":\"DaysTicker\"},{\"attributes\":{\"num_minor_ticks\":5,\"tickers\":[{\"id\":\"1062\"},{\"id\":\"1063\"},{\"id\":\"1064\"},{\"id\":\"1065\"},{\"id\":\"1066\"},{\"id\":\"1067\"},{\"id\":\"1068\"},{\"id\":\"1069\"},{\"id\":\"1070\"},{\"id\":\"1071\"},{\"id\":\"1072\"},{\"id\":\"1073\"}]},\"id\":\"1018\",\"type\":\"DatetimeTicker\"},{\"attributes\":{\"tools\":[{\"id\":\"1006\"},{\"id\":\"1025\"},{\"id\":\"1026\"},{\"id\":\"1027\"},{\"id\":\"1028\"},{\"id\":\"1029\"}]},\"id\":\"1031\",\"type\":\"Toolbar\"}],\"root_ids\":[\"1002\"]},\"title\":\"Bokeh Application\",\"version\":\"2.4.2\"}};\n",
       "    var render_items = [{\"docid\":\"adfbb172-4a3f-428a-bf04-7648f5136d34\",\"root_ids\":[\"1002\"],\"roots\":{\"1002\":\"4a79c702-1390-49c7-95b1-d1aaae7cbdb8\"}}];\n",
       "    root.Bokeh.embed.embed_items_notebook(docs_json, render_items);\n",
       "  }\n",
       "  if (root.Bokeh !== undefined && root.Bokeh.Panel !== undefined) {\n",
       "    embed_document(root);\n",
       "  } else {\n",
       "    var attempts = 0;\n",
       "    var timer = setInterval(function(root) {\n",
       "      if (root.Bokeh !== undefined && root.Bokeh.Panel !== undefined) {\n",
       "        clearInterval(timer);\n",
       "        embed_document(root);\n",
       "      } else if (document.readyState == \"complete\") {\n",
       "        attempts++;\n",
       "        if (attempts > 200) {\n",
       "          clearInterval(timer);\n",
       "          console.log(\"Bokeh: ERROR: Unable to run BokehJS code because BokehJS library is missing\");\n",
       "        }\n",
       "      }\n",
       "    }, 25, root)\n",
       "  }\n",
       "})(window);</script>"
      ],
      "text/plain": [
       ":NdOverlay   [Variable]\n",
       "   :Curve   [date]   (value)"
      ]
     },
     "execution_count": 19,
     "metadata": {
      "application/vnd.holoviews_exec.v0+json": {
       "id": "1002"
      }
     },
     "output_type": "execute_result"
    }
   ],
   "source": [
    "# Use hvplot to visualize the time series data\n",
    "# in the df_apple DataFrame\n",
    "df_apple.hvplot()\n"
   ]
  },
  {
   "cell_type": "markdown",
   "metadata": {},
   "source": [
    "## Building Time Trends"
   ]
  },
  {
   "cell_type": "markdown",
   "metadata": {},
   "source": [
    "### Step 1: Note that on September 10, 2019, Apple organized an event where it presented the new iPhone 11 family, the Apple Watch Series 5, and a new iPad. This event gained worldwide attention."
   ]
  },
  {
   "cell_type": "markdown",
   "metadata": {},
   "source": [
    "### Step 2: Closely examine the data from March 1, 2019 to January 31, 2020."
   ]
  },
  {
   "cell_type": "code",
   "execution_count": 20,
   "metadata": {
    "scrolled": true
   },
   "outputs": [
    {
     "data": {
      "text/html": [
       "<div>\n",
       "<style scoped>\n",
       "    .dataframe tbody tr th:only-of-type {\n",
       "        vertical-align: middle;\n",
       "    }\n",
       "\n",
       "    .dataframe tbody tr th {\n",
       "        vertical-align: top;\n",
       "    }\n",
       "\n",
       "    .dataframe thead th {\n",
       "        text-align: right;\n",
       "    }\n",
       "</style>\n",
       "<table border=\"1\" class=\"dataframe\">\n",
       "  <thead>\n",
       "    <tr style=\"text-align: right;\">\n",
       "      <th></th>\n",
       "      <th>close</th>\n",
       "      <th>trend-worldwide</th>\n",
       "    </tr>\n",
       "    <tr>\n",
       "      <th>date</th>\n",
       "      <th></th>\n",
       "      <th></th>\n",
       "    </tr>\n",
       "  </thead>\n",
       "  <tbody>\n",
       "    <tr>\n",
       "      <th>2019-03-01</th>\n",
       "      <td>43.74</td>\n",
       "      <td>27.0</td>\n",
       "    </tr>\n",
       "    <tr>\n",
       "      <th>2019-03-08</th>\n",
       "      <td>43.23</td>\n",
       "      <td>27.0</td>\n",
       "    </tr>\n",
       "    <tr>\n",
       "      <th>2019-03-15</th>\n",
       "      <td>46.53</td>\n",
       "      <td>27.0</td>\n",
       "    </tr>\n",
       "    <tr>\n",
       "      <th>2019-03-22</th>\n",
       "      <td>47.76</td>\n",
       "      <td>30.0</td>\n",
       "    </tr>\n",
       "    <tr>\n",
       "      <th>2019-03-29</th>\n",
       "      <td>47.49</td>\n",
       "      <td>34.0</td>\n",
       "    </tr>\n",
       "  </tbody>\n",
       "</table>\n",
       "</div>"
      ],
      "text/plain": [
       "            close  trend-worldwide\n",
       "date                              \n",
       "2019-03-01  43.74             27.0\n",
       "2019-03-08  43.23             27.0\n",
       "2019-03-15  46.53             27.0\n",
       "2019-03-22  47.76             30.0\n",
       "2019-03-29  47.49             34.0"
      ]
     },
     "execution_count": 20,
     "metadata": {},
     "output_type": "execute_result"
    }
   ],
   "source": [
    "# Using the df_apple DataFrame, use the loc function to select a\n",
    "# range of data from March 1st, 2019 to January 31st, 2020\n",
    "df_spotlight = df_apple.loc[\"2019-03-01\":\"2020-01-31\"]\n",
    "\n",
    "# Review the df_spotlight DataFrame\n",
    "df_spotlight.head()\n"
   ]
  },
  {
   "cell_type": "markdown",
   "metadata": {},
   "source": [
    "### Step 3: Create a plot by using hvPlot, and then identify whether both time series indicate a common trend that might correspond to this narrative."
   ]
  },
  {
   "cell_type": "code",
   "execution_count": 21,
   "metadata": {},
   "outputs": [
    {
     "data": {},
     "metadata": {},
     "output_type": "display_data"
    },
    {
     "data": {
      "application/vnd.holoviews_exec.v0+json": "",
      "text/html": [
       "<div id='1449'>\n",
       "\n",
       "\n",
       "\n",
       "\n",
       "\n",
       "  <div class=\"bk-root\" id=\"f36ac3f0-18ee-45ff-a003-73d35007941c\" data-root-id=\"1449\"></div>\n",
       "</div>\n",
       "<script type=\"application/javascript\">(function(root) {\n",
       "  function embed_document(root) {\n",
       "    var docs_json = {\"4ae02719-84b8-4fd5-858c-1ba9cdce00f1\":{\"defs\":[{\"extends\":null,\"module\":null,\"name\":\"ReactiveHTML1\",\"overrides\":[],\"properties\":[]},{\"extends\":null,\"module\":null,\"name\":\"FlexBox1\",\"overrides\":[],\"properties\":[{\"default\":\"flex-start\",\"kind\":null,\"name\":\"align_content\"},{\"default\":\"flex-start\",\"kind\":null,\"name\":\"align_items\"},{\"default\":\"row\",\"kind\":null,\"name\":\"flex_direction\"},{\"default\":\"wrap\",\"kind\":null,\"name\":\"flex_wrap\"},{\"default\":\"flex-start\",\"kind\":null,\"name\":\"justify_content\"}]},{\"extends\":null,\"module\":null,\"name\":\"TemplateActions1\",\"overrides\":[],\"properties\":[{\"default\":0,\"kind\":null,\"name\":\"open_modal\"},{\"default\":0,\"kind\":null,\"name\":\"close_modal\"}]},{\"extends\":null,\"module\":null,\"name\":\"MaterialTemplateActions1\",\"overrides\":[],\"properties\":[{\"default\":0,\"kind\":null,\"name\":\"open_modal\"},{\"default\":0,\"kind\":null,\"name\":\"close_modal\"}]}],\"roots\":{\"references\":[{\"attributes\":{\"coordinates\":null,\"group\":null,\"text_color\":\"black\",\"text_font_size\":\"12pt\"},\"id\":\"1456\",\"type\":\"Title\"},{\"attributes\":{},\"id\":\"1541\",\"type\":\"UnionRenderers\"},{\"attributes\":{\"months\":[0,2,4,6,8,10]},\"id\":\"1517\",\"type\":\"MonthsTicker\"},{\"attributes\":{\"axis\":{\"id\":\"1464\"},\"coordinates\":null,\"grid_line_color\":null,\"group\":null,\"ticker\":null},\"id\":\"1467\",\"type\":\"Grid\"},{\"attributes\":{\"months\":[0,4,8]},\"id\":\"1518\",\"type\":\"MonthsTicker\"},{\"attributes\":{\"below\":[{\"id\":\"1464\"}],\"center\":[{\"id\":\"1467\"},{\"id\":\"1471\"}],\"height\":300,\"left\":[{\"id\":\"1468\"}],\"margin\":[5,5,5,5],\"min_border_bottom\":10,\"min_border_left\":10,\"min_border_right\":10,\"min_border_top\":10,\"renderers\":[{\"id\":\"1497\"},{\"id\":\"1530\"}],\"right\":[{\"id\":\"1521\"}],\"sizing_mode\":\"fixed\",\"title\":{\"id\":\"1456\"},\"toolbar\":{\"id\":\"1478\"},\"width\":700,\"x_range\":{\"id\":\"1451\"},\"x_scale\":{\"id\":\"1460\"},\"y_range\":{\"id\":\"1452\"},\"y_scale\":{\"id\":\"1462\"}},\"id\":\"1455\",\"subtype\":\"Figure\",\"type\":\"Plot\"},{\"attributes\":{\"axis\":{\"id\":\"1468\"},\"coordinates\":null,\"dimension\":1,\"grid_line_color\":null,\"group\":null,\"ticker\":null},\"id\":\"1471\",\"type\":\"Grid\"},{\"attributes\":{\"children\":[{\"id\":\"1450\"},{\"id\":\"1455\"},{\"id\":\"1774\"}],\"margin\":[0,0,0,0],\"name\":\"Row02094\",\"tags\":[\"embedded\"]},\"id\":\"1449\",\"type\":\"Row\"},{\"attributes\":{\"axis_label\":\"\",\"coordinates\":null,\"formatter\":{\"id\":\"1489\"},\"group\":null,\"major_label_policy\":{\"id\":\"1490\"},\"ticker\":{\"id\":\"1469\"}},\"id\":\"1468\",\"type\":\"LinearAxis\"},{\"attributes\":{},\"id\":\"1489\",\"type\":\"BasicTickFormatter\"},{\"attributes\":{\"months\":[0,6]},\"id\":\"1519\",\"type\":\"MonthsTicker\"},{\"attributes\":{\"base\":60,\"mantissas\":[1,2,5,10,15,20,30],\"max_interval\":1800000.0,\"min_interval\":1000.0,\"num_minor_ticks\":0},\"id\":\"1510\",\"type\":\"AdaptiveTicker\"},{\"attributes\":{\"line_alpha\":0.1,\"line_color\":\"#30a2da\",\"line_width\":2,\"x\":{\"field\":\"date\"},\"y\":{\"field\":\"value\"}},\"id\":\"1495\",\"type\":\"Line\"},{\"attributes\":{},\"id\":\"1520\",\"type\":\"YearsTicker\"},{\"attributes\":{\"base\":24,\"mantissas\":[1,2,4,6,8,12],\"max_interval\":43200000.0,\"min_interval\":3600000.0,\"num_minor_ticks\":0},\"id\":\"1511\",\"type\":\"AdaptiveTicker\"},{\"attributes\":{\"label\":{\"value\":\"close\"},\"renderers\":[{\"id\":\"1497\"}]},\"id\":\"1522\",\"type\":\"LegendItem\"},{\"attributes\":{\"mantissas\":[1,2,5],\"max_interval\":500.0,\"num_minor_ticks\":0},\"id\":\"1509\",\"type\":\"AdaptiveTicker\"},{\"attributes\":{\"coordinates\":null,\"data_source\":{\"id\":\"1524\"},\"glyph\":{\"id\":\"1527\"},\"group\":null,\"hover_glyph\":null,\"muted_glyph\":{\"id\":\"1529\"},\"nonselection_glyph\":{\"id\":\"1528\"},\"selection_glyph\":{\"id\":\"1557\"},\"view\":{\"id\":\"1531\"}},\"id\":\"1530\",\"type\":\"GlyphRenderer\"},{\"attributes\":{\"data\":{\"Variable\":[\"close\",\"close\",\"close\",\"close\",\"close\",\"close\",\"close\",\"close\",\"close\",\"close\",\"close\",\"close\",\"close\",\"close\",\"close\",\"close\",\"close\",\"close\",\"close\",\"close\",\"close\",\"close\",\"close\",\"close\",\"close\",\"close\",\"close\",\"close\",\"close\",\"close\",\"close\",\"close\",\"close\",\"close\",\"close\",\"close\",\"close\",\"close\",\"close\",\"close\",\"close\",\"close\",\"close\",\"close\",\"close\",\"close\",\"close\",\"close\"],\"date\":{\"__ndarray__\":\"AAAAz2iTdkIAAECXqZV2QgAAgF/ql3ZCAADAJyuadkIAAADwa5x2QgAAQLisnnZCAACAgO2gdkIAAAARb6V2QgAAQNmvp3ZCAACAofCpdkIAAMBpMax2QgAAADJyrnZCAABA+rKwdkIAAIDC87J2QgAAwIo0tXZCAAAAU3W3dkIAAEAbtrl2QgAAgOP2u3ZCAADAqze+dkIAAAB0eMB2QgAAQDy5wnZCAACABPrEdkIAAMDMOsd2QgAAAJV7yXZCAABAXbzLdkIAAIAl/c12QgAAwO090HZCAAAAtn7SdkIAAEB+v9R2QgAAgEYA13ZCAADADkHZdkIAAADXgdt2QgAAQJ/C3XZCAACAZwPgdkIAAMAvROJ2QgAAAPiE5HZCAABAwMXmdkIAAICIBul2QgAAwFBH63ZCAAAAGYjtdkIAAEDhyO92QgAAgKkJ8nZCAADAcUr0dkIAAAA6i/Z2QgAAQALM+HZCAACAygz7dkIAAMCSTf12QgAAAFuO/3ZC\",\"dtype\":\"float64\",\"order\":\"little\",\"shape\":[48]},\"value\":{\"__ndarray__\":\"H4XrUbjeRUA9CtejcJ1FQKRwPQrXQ0dA4XoUrkfhR0AfhetRuL5HQAAAAAAAoEhAXI/C9SjcSEAK16NwPYpJQLgehetReEpAZmZmZmamSEAAAAAAAKBHQB+F61G4XkZAw/UoXI/iRUCF61G4HsVHQLgehetRGEhAmpmZmZnZSEA9CtejcL1IQEjhehSuh0lACtejcD1qSUAzMzMzM1NJQLgehetR+ElA4XoUrkeBSUAAAAAAACBJQHE9Ctej0ElAFK5H4XpUSUC4HoXrURhKQClcj8L1qEpAuB6F61FYS0DXo3A9CjdLQHsUrkfhWktAAAAAAABgTEBmZmZmZoZNQM3MzMzMjE1AMzMzMzPTTkB7FK5H4fpPQMP1KFyPQlBAXI/C9SicUEBcj8L1KFxQQKRwPQrXs1BA7FG4HoXrUEDD9ShcjzJRQNejcD0Kd1FAzczMzMwcUkDXo3A9CpdSQIXrUbgeZVNA7FG4HoXrU0CF61G4HuVTQLgehetRWFNA\",\"dtype\":\"float64\",\"order\":\"little\",\"shape\":[48]}},\"selected\":{\"id\":\"1492\"},\"selection_policy\":{\"id\":\"1506\"}},\"id\":\"1491\",\"type\":\"ColumnDataSource\"},{\"attributes\":{\"line_alpha\":0.2,\"line_color\":\"#30a2da\",\"line_width\":2,\"x\":{\"field\":\"date\"},\"y\":{\"field\":\"value\"}},\"id\":\"1496\",\"type\":\"Line\"},{\"attributes\":{},\"id\":\"1506\",\"type\":\"UnionRenderers\"},{\"attributes\":{\"num_minor_ticks\":5,\"tickers\":[{\"id\":\"1509\"},{\"id\":\"1510\"},{\"id\":\"1511\"},{\"id\":\"1512\"},{\"id\":\"1513\"},{\"id\":\"1514\"},{\"id\":\"1515\"},{\"id\":\"1516\"},{\"id\":\"1517\"},{\"id\":\"1518\"},{\"id\":\"1519\"},{\"id\":\"1520\"}]},\"id\":\"1465\",\"type\":\"DatetimeTicker\"},{\"attributes\":{\"coordinates\":null,\"data_source\":{\"id\":\"1491\"},\"glyph\":{\"id\":\"1494\"},\"group\":null,\"hover_glyph\":null,\"muted_glyph\":{\"id\":\"1496\"},\"nonselection_glyph\":{\"id\":\"1495\"},\"selection_glyph\":{\"id\":\"1523\"},\"view\":{\"id\":\"1498\"}},\"id\":\"1497\",\"type\":\"GlyphRenderer\"},{\"attributes\":{},\"id\":\"1492\",\"type\":\"Selection\"},{\"attributes\":{\"line_color\":\"#30a2da\",\"line_width\":2,\"x\":{\"field\":\"date\"},\"y\":{\"field\":\"value\"}},\"id\":\"1523\",\"type\":\"Line\"},{\"attributes\":{},\"id\":\"1490\",\"type\":\"AllLabels\"},{\"attributes\":{},\"id\":\"1486\",\"type\":\"DatetimeTickFormatter\"},{\"attributes\":{\"margin\":[5,5,5,5],\"name\":\"HSpacer02099\",\"sizing_mode\":\"stretch_width\"},\"id\":\"1774\",\"type\":\"Spacer\"},{\"attributes\":{\"end\":1580428800000.0,\"reset_end\":1580428800000.0,\"reset_start\":1551398400000.0,\"start\":1551398400000.0,\"tags\":[[[\"date\",\"date\",null]]]},\"id\":\"1451\",\"type\":\"Range1d\"},{\"attributes\":{\"line_alpha\":0.1,\"line_color\":\"#fc4f30\",\"line_width\":2,\"x\":{\"field\":\"date\"},\"y\":{\"field\":\"value\"}},\"id\":\"1528\",\"type\":\"Line\"},{\"attributes\":{},\"id\":\"1472\",\"type\":\"SaveTool\"},{\"attributes\":{\"line_color\":\"#fc4f30\",\"line_width\":2,\"x\":{\"field\":\"date\"},\"y\":{\"field\":\"value\"}},\"id\":\"1527\",\"type\":\"Line\"},{\"attributes\":{},\"id\":\"1473\",\"type\":\"PanTool\"},{\"attributes\":{},\"id\":\"1525\",\"type\":\"Selection\"},{\"attributes\":{\"margin\":[5,5,5,5],\"name\":\"HSpacer02098\",\"sizing_mode\":\"stretch_width\"},\"id\":\"1450\",\"type\":\"Spacer\"},{\"attributes\":{},\"id\":\"1462\",\"type\":\"LinearScale\"},{\"attributes\":{},\"id\":\"1474\",\"type\":\"WheelZoomTool\"},{\"attributes\":{\"tools\":[{\"id\":\"1453\"},{\"id\":\"1472\"},{\"id\":\"1473\"},{\"id\":\"1474\"},{\"id\":\"1475\"},{\"id\":\"1476\"}]},\"id\":\"1478\",\"type\":\"Toolbar\"},{\"attributes\":{\"click_policy\":\"mute\",\"coordinates\":null,\"group\":null,\"items\":[{\"id\":\"1522\"},{\"id\":\"1556\"}],\"location\":[0,0],\"title\":\"Variable\"},\"id\":\"1521\",\"type\":\"Legend\"},{\"attributes\":{},\"id\":\"1469\",\"type\":\"BasicTicker\"},{\"attributes\":{\"source\":{\"id\":\"1491\"}},\"id\":\"1498\",\"type\":\"CDSView\"},{\"attributes\":{\"overlay\":{\"id\":\"1477\"}},\"id\":\"1475\",\"type\":\"BoxZoomTool\"},{\"attributes\":{},\"id\":\"1487\",\"type\":\"AllLabels\"},{\"attributes\":{\"callback\":null,\"formatters\":{\"@{date}\":\"datetime\"},\"renderers\":[{\"id\":\"1497\"},{\"id\":\"1530\"}],\"tags\":[\"hv_created\"],\"tooltips\":[[\"Variable\",\"@{Variable}\"],[\"date\",\"@{date}{%F %T}\"],[\"value\",\"@{value}\"]]},\"id\":\"1453\",\"type\":\"HoverTool\"},{\"attributes\":{},\"id\":\"1460\",\"type\":\"LinearScale\"},{\"attributes\":{\"data\":{\"Variable\":[\"trend-worldwide\",\"trend-worldwide\",\"trend-worldwide\",\"trend-worldwide\",\"trend-worldwide\",\"trend-worldwide\",\"trend-worldwide\",\"trend-worldwide\",\"trend-worldwide\",\"trend-worldwide\",\"trend-worldwide\",\"trend-worldwide\",\"trend-worldwide\",\"trend-worldwide\",\"trend-worldwide\",\"trend-worldwide\",\"trend-worldwide\",\"trend-worldwide\",\"trend-worldwide\",\"trend-worldwide\",\"trend-worldwide\",\"trend-worldwide\",\"trend-worldwide\",\"trend-worldwide\",\"trend-worldwide\",\"trend-worldwide\",\"trend-worldwide\",\"trend-worldwide\",\"trend-worldwide\",\"trend-worldwide\",\"trend-worldwide\",\"trend-worldwide\",\"trend-worldwide\",\"trend-worldwide\",\"trend-worldwide\",\"trend-worldwide\",\"trend-worldwide\",\"trend-worldwide\",\"trend-worldwide\",\"trend-worldwide\",\"trend-worldwide\",\"trend-worldwide\",\"trend-worldwide\",\"trend-worldwide\",\"trend-worldwide\",\"trend-worldwide\",\"trend-worldwide\",\"trend-worldwide\"],\"date\":{\"__ndarray__\":\"AAAAz2iTdkIAAECXqZV2QgAAgF/ql3ZCAADAJyuadkIAAADwa5x2QgAAQLisnnZCAACAgO2gdkIAAAARb6V2QgAAQNmvp3ZCAACAofCpdkIAAMBpMax2QgAAADJyrnZCAABA+rKwdkIAAIDC87J2QgAAwIo0tXZCAAAAU3W3dkIAAEAbtrl2QgAAgOP2u3ZCAADAqze+dkIAAAB0eMB2QgAAQDy5wnZCAACABPrEdkIAAMDMOsd2QgAAAJV7yXZCAABAXbzLdkIAAIAl/c12QgAAwO090HZCAAAAtn7SdkIAAEB+v9R2QgAAgEYA13ZCAADADkHZdkIAAADXgdt2QgAAQJ/C3XZCAACAZwPgdkIAAMAvROJ2QgAAAPiE5HZCAABAwMXmdkIAAICIBul2QgAAwFBH63ZCAAAAGYjtdkIAAEDhyO92QgAAgKkJ8nZCAADAcUr0dkIAAAA6i/Z2QgAAQALM+HZCAACAygz7dkIAAMCSTf12QgAAAFuO/3ZC\",\"dtype\":\"float64\",\"order\":\"little\",\"shape\":[48]},\"value\":{\"__ndarray__\":\"AAAAAAAAO0AAAAAAAAA7QAAAAAAAADtAAAAAAAAAPkAAAAAAAABBQAAAAAAAAD1AAAAAAAAAO0AAAAAAAAA7QAAAAAAAADxAAAAAAAAAO0AAAAAAAAA7QAAAAAAAADxAAAAAAAAAO0AAAAAAAIBBQAAAAAAAAD5AAAAAAAAAPUAAAAAAAAA8QAAAAAAAADxAAAAAAAAAPEAAAAAAAAA+QAAAAAAAADxAAAAAAAAAPUAAAAAAAAA9QAAAAAAAAD5AAAAAAAAAPkAAAAAAAABIQAAAAAAAAFlAAAAAAADAV0AAAAAAAEBTQAAAAAAAgE5AAAAAAAAAQkAAAAAAAABCQAAAAAAAAEFAAAAAAACAQEAAAAAAAABDQAAAAAAAgEJAAAAAAACAQkAAAAAAAABCQAAAAAAAAEdAAAAAAAAAREAAAAAAAIBCQAAAAAAAAENAAAAAAAAAR0AAAAAAAABDQAAAAAAAAEFAAAAAAAAAQEAAAAAAAABAQAAAAAAAAD9A\",\"dtype\":\"float64\",\"order\":\"little\",\"shape\":[48]}},\"selected\":{\"id\":\"1525\"},\"selection_policy\":{\"id\":\"1541\"}},\"id\":\"1524\",\"type\":\"ColumnDataSource\"},{\"attributes\":{\"days\":[1,2,3,4,5,6,7,8,9,10,11,12,13,14,15,16,17,18,19,20,21,22,23,24,25,26,27,28,29,30,31]},\"id\":\"1512\",\"type\":\"DaysTicker\"},{\"attributes\":{\"source\":{\"id\":\"1524\"}},\"id\":\"1531\",\"type\":\"CDSView\"},{\"attributes\":{\"axis_label\":\"date\",\"coordinates\":null,\"formatter\":{\"id\":\"1486\"},\"group\":null,\"major_label_policy\":{\"id\":\"1487\"},\"ticker\":{\"id\":\"1465\"}},\"id\":\"1464\",\"type\":\"DatetimeAxis\"},{\"attributes\":{},\"id\":\"1476\",\"type\":\"ResetTool\"},{\"attributes\":{\"days\":[1,4,7,10,13,16,19,22,25,28]},\"id\":\"1513\",\"type\":\"DaysTicker\"},{\"attributes\":{\"label\":{\"value\":\"trend-worldwide\"},\"renderers\":[{\"id\":\"1530\"}]},\"id\":\"1556\",\"type\":\"LegendItem\"},{\"attributes\":{\"bottom_units\":\"screen\",\"coordinates\":null,\"fill_alpha\":0.5,\"fill_color\":\"lightgrey\",\"group\":null,\"left_units\":\"screen\",\"level\":\"overlay\",\"line_alpha\":1.0,\"line_color\":\"black\",\"line_dash\":[4,4],\"line_width\":2,\"right_units\":\"screen\",\"syncable\":false,\"top_units\":\"screen\"},\"id\":\"1477\",\"type\":\"BoxAnnotation\"},{\"attributes\":{\"days\":[1,8,15,22]},\"id\":\"1514\",\"type\":\"DaysTicker\"},{\"attributes\":{\"end\":107.3,\"reset_end\":107.3,\"reset_start\":19.7,\"start\":19.7,\"tags\":[[[\"value\",\"value\",null]]]},\"id\":\"1452\",\"type\":\"Range1d\"},{\"attributes\":{\"line_color\":\"#30a2da\",\"line_width\":2,\"x\":{\"field\":\"date\"},\"y\":{\"field\":\"value\"}},\"id\":\"1494\",\"type\":\"Line\"},{\"attributes\":{\"line_alpha\":0.2,\"line_color\":\"#fc4f30\",\"line_width\":2,\"x\":{\"field\":\"date\"},\"y\":{\"field\":\"value\"}},\"id\":\"1529\",\"type\":\"Line\"},{\"attributes\":{\"days\":[1,15]},\"id\":\"1515\",\"type\":\"DaysTicker\"},{\"attributes\":{\"line_color\":\"#fc4f30\",\"line_width\":2,\"x\":{\"field\":\"date\"},\"y\":{\"field\":\"value\"}},\"id\":\"1557\",\"type\":\"Line\"},{\"attributes\":{\"months\":[0,1,2,3,4,5,6,7,8,9,10,11]},\"id\":\"1516\",\"type\":\"MonthsTicker\"}],\"root_ids\":[\"1449\"]},\"title\":\"Bokeh Application\",\"version\":\"2.4.2\"}};\n",
       "    var render_items = [{\"docid\":\"4ae02719-84b8-4fd5-858c-1ba9cdce00f1\",\"root_ids\":[\"1449\"],\"roots\":{\"1449\":\"f36ac3f0-18ee-45ff-a003-73d35007941c\"}}];\n",
       "    root.Bokeh.embed.embed_items_notebook(docs_json, render_items);\n",
       "  }\n",
       "  if (root.Bokeh !== undefined && root.Bokeh.Panel !== undefined) {\n",
       "    embed_document(root);\n",
       "  } else {\n",
       "    var attempts = 0;\n",
       "    var timer = setInterval(function(root) {\n",
       "      if (root.Bokeh !== undefined && root.Bokeh.Panel !== undefined) {\n",
       "        clearInterval(timer);\n",
       "        embed_document(root);\n",
       "      } else if (document.readyState == \"complete\") {\n",
       "        attempts++;\n",
       "        if (attempts > 200) {\n",
       "          clearInterval(timer);\n",
       "          console.log(\"Bokeh: ERROR: Unable to run BokehJS code because BokehJS library is missing\");\n",
       "        }\n",
       "      }\n",
       "    }, 25, root)\n",
       "  }\n",
       "})(window);</script>"
      ],
      "text/plain": [
       ":NdOverlay   [Variable]\n",
       "   :Curve   [date]   (value)"
      ]
     },
     "execution_count": 21,
     "metadata": {
      "application/vnd.holoviews_exec.v0+json": {
       "id": "1449"
      }
     },
     "output_type": "execute_result"
    }
   ],
   "source": [
    "# Use hvPlot to visualize the df_spotlight DataFrame\n",
    "df_spotlight.hvplot()\n"
   ]
  },
  {
   "cell_type": "markdown",
   "metadata": {},
   "source": [
    "### Step 4: Before seeking any correlations between these time series, add columns to the `df_apple` DataFrame to analyze the impact of the Google Trends data on the weekly returns and stock volatility, as follows:\n",
    "\n",
    "1. Use the Pandas `shift` function to add a new column that lags the Google Trends data by one period.\n",
    "\n",
    "    > **Hint** Google Trends data is reported every week on Sunday, so you have a weekly period in this time series.\n",
    "\n",
    "2. Use the Pandas `pct_change` function to add a new column that has the weekly price returns.\n",
    "\n",
    "3. Compute the rolling stock volatility for Apple by using the following Pandas method:\n",
    "\n",
    "    `df_apple[\"weekly_volatility\"] = df_apple[\"close\"].pct_change().rolling(window=4).std()`\n"
   ]
  },
  {
   "cell_type": "code",
   "execution_count": 24,
   "metadata": {},
   "outputs": [
    {
     "data": {
      "text/html": [
       "<div>\n",
       "<style scoped>\n",
       "    .dataframe tbody tr th:only-of-type {\n",
       "        vertical-align: middle;\n",
       "    }\n",
       "\n",
       "    .dataframe tbody tr th {\n",
       "        vertical-align: top;\n",
       "    }\n",
       "\n",
       "    .dataframe thead th {\n",
       "        text-align: right;\n",
       "    }\n",
       "</style>\n",
       "<table border=\"1\" class=\"dataframe\">\n",
       "  <thead>\n",
       "    <tr style=\"text-align: right;\">\n",
       "      <th></th>\n",
       "      <th>close</th>\n",
       "      <th>trend-worldwide</th>\n",
       "      <th>lagged_trends</th>\n",
       "    </tr>\n",
       "    <tr>\n",
       "      <th>date</th>\n",
       "      <th></th>\n",
       "      <th></th>\n",
       "      <th></th>\n",
       "    </tr>\n",
       "  </thead>\n",
       "  <tbody>\n",
       "    <tr>\n",
       "      <th>2015-10-23</th>\n",
       "      <td>29.77</td>\n",
       "      <td>32.0</td>\n",
       "      <td>NaN</td>\n",
       "    </tr>\n",
       "    <tr>\n",
       "      <th>2015-10-30</th>\n",
       "      <td>29.88</td>\n",
       "      <td>33.0</td>\n",
       "      <td>32.0</td>\n",
       "    </tr>\n",
       "    <tr>\n",
       "      <th>2015-11-06</th>\n",
       "      <td>30.27</td>\n",
       "      <td>32.0</td>\n",
       "      <td>33.0</td>\n",
       "    </tr>\n",
       "    <tr>\n",
       "      <th>2015-11-13</th>\n",
       "      <td>28.09</td>\n",
       "      <td>32.0</td>\n",
       "      <td>32.0</td>\n",
       "    </tr>\n",
       "    <tr>\n",
       "      <th>2015-11-20</th>\n",
       "      <td>29.83</td>\n",
       "      <td>31.0</td>\n",
       "      <td>32.0</td>\n",
       "    </tr>\n",
       "  </tbody>\n",
       "</table>\n",
       "</div>"
      ],
      "text/plain": [
       "            close  trend-worldwide  lagged_trends\n",
       "date                                             \n",
       "2015-10-23  29.77             32.0            NaN\n",
       "2015-10-30  29.88             33.0           32.0\n",
       "2015-11-06  30.27             32.0           33.0\n",
       "2015-11-13  28.09             32.0           32.0\n",
       "2015-11-20  29.83             31.0           32.0"
      ]
     },
     "execution_count": 24,
     "metadata": {},
     "output_type": "execute_result"
    }
   ],
   "source": [
    "# Create a column which lags Google trends by one week\n",
    "# Use the shift function, and move the data down by one row\n",
    "df_apple[\"lagged_trends\"] = df_apple[\"trend-worldwide\"].shift(1)\n",
    "df_apple.head()"
   ]
  },
  {
   "cell_type": "code",
   "execution_count": 25,
   "metadata": {},
   "outputs": [],
   "source": [
    "# Create a column the contains the Apple weekly return data\n",
    "# Use the pct_change function to calculate the weekly return values\n",
    "df_apple[\"weekly_returns\"] = df_apple[\"close\"].pct_change()\n"
   ]
  },
  {
   "cell_type": "code",
   "execution_count": 27,
   "metadata": {},
   "outputs": [],
   "source": [
    "# Create a column of Apple weekly rolling stock volatility \n",
    "# Chain the pct_function, the rolling function and a 4 period window, and the std function \n",
    "df_apple[\"weekly_volatility\"] = df_apple[\"close\"].pct_change().rolling(window=4).std()\n",
    "\n",
    "\n"
   ]
  },
  {
   "cell_type": "code",
   "execution_count": 28,
   "metadata": {},
   "outputs": [
    {
     "data": {
      "text/html": [
       "<div>\n",
       "<style scoped>\n",
       "    .dataframe tbody tr th:only-of-type {\n",
       "        vertical-align: middle;\n",
       "    }\n",
       "\n",
       "    .dataframe tbody tr th {\n",
       "        vertical-align: top;\n",
       "    }\n",
       "\n",
       "    .dataframe thead th {\n",
       "        text-align: right;\n",
       "    }\n",
       "</style>\n",
       "<table border=\"1\" class=\"dataframe\">\n",
       "  <thead>\n",
       "    <tr style=\"text-align: right;\">\n",
       "      <th></th>\n",
       "      <th>close</th>\n",
       "      <th>trend-worldwide</th>\n",
       "      <th>lagged_trends</th>\n",
       "      <th>weekly_returns</th>\n",
       "      <th>weekly_volatility</th>\n",
       "    </tr>\n",
       "    <tr>\n",
       "      <th>date</th>\n",
       "      <th></th>\n",
       "      <th></th>\n",
       "      <th></th>\n",
       "      <th></th>\n",
       "      <th></th>\n",
       "    </tr>\n",
       "  </thead>\n",
       "  <tbody>\n",
       "    <tr>\n",
       "      <th>2015-10-23</th>\n",
       "      <td>29.77</td>\n",
       "      <td>32.0</td>\n",
       "      <td>NaN</td>\n",
       "      <td>NaN</td>\n",
       "      <td>NaN</td>\n",
       "    </tr>\n",
       "    <tr>\n",
       "      <th>2015-10-30</th>\n",
       "      <td>29.88</td>\n",
       "      <td>33.0</td>\n",
       "      <td>32.0</td>\n",
       "      <td>0.003695</td>\n",
       "      <td>NaN</td>\n",
       "    </tr>\n",
       "    <tr>\n",
       "      <th>2015-11-06</th>\n",
       "      <td>30.27</td>\n",
       "      <td>32.0</td>\n",
       "      <td>33.0</td>\n",
       "      <td>0.013052</td>\n",
       "      <td>NaN</td>\n",
       "    </tr>\n",
       "    <tr>\n",
       "      <th>2015-11-13</th>\n",
       "      <td>28.09</td>\n",
       "      <td>32.0</td>\n",
       "      <td>32.0</td>\n",
       "      <td>-0.072019</td>\n",
       "      <td>NaN</td>\n",
       "    </tr>\n",
       "    <tr>\n",
       "      <th>2015-11-20</th>\n",
       "      <td>29.83</td>\n",
       "      <td>31.0</td>\n",
       "      <td>32.0</td>\n",
       "      <td>0.061944</td>\n",
       "      <td>0.055367</td>\n",
       "    </tr>\n",
       "    <tr>\n",
       "      <th>...</th>\n",
       "      <td>...</td>\n",
       "      <td>...</td>\n",
       "      <td>...</td>\n",
       "      <td>...</td>\n",
       "      <td>...</td>\n",
       "    </tr>\n",
       "    <tr>\n",
       "      <th>2020-09-11</th>\n",
       "      <td>112.00</td>\n",
       "      <td>37.0</td>\n",
       "      <td>39.0</td>\n",
       "      <td>-0.074074</td>\n",
       "      <td>0.066176</td>\n",
       "    </tr>\n",
       "    <tr>\n",
       "      <th>2020-09-18</th>\n",
       "      <td>106.84</td>\n",
       "      <td>52.0</td>\n",
       "      <td>37.0</td>\n",
       "      <td>-0.046071</td>\n",
       "      <td>0.032341</td>\n",
       "    </tr>\n",
       "    <tr>\n",
       "      <th>2020-09-25</th>\n",
       "      <td>112.28</td>\n",
       "      <td>42.0</td>\n",
       "      <td>52.0</td>\n",
       "      <td>0.050917</td>\n",
       "      <td>0.053696</td>\n",
       "    </tr>\n",
       "    <tr>\n",
       "      <th>2020-10-02</th>\n",
       "      <td>113.02</td>\n",
       "      <td>38.0</td>\n",
       "      <td>42.0</td>\n",
       "      <td>0.006591</td>\n",
       "      <td>0.055572</td>\n",
       "    </tr>\n",
       "    <tr>\n",
       "      <th>2020-10-09</th>\n",
       "      <td>116.97</td>\n",
       "      <td>36.0</td>\n",
       "      <td>38.0</td>\n",
       "      <td>0.034950</td>\n",
       "      <td>0.042592</td>\n",
       "    </tr>\n",
       "  </tbody>\n",
       "</table>\n",
       "<p>252 rows × 5 columns</p>\n",
       "</div>"
      ],
      "text/plain": [
       "             close  trend-worldwide  lagged_trends  weekly_returns  \\\n",
       "date                                                                 \n",
       "2015-10-23   29.77             32.0            NaN             NaN   \n",
       "2015-10-30   29.88             33.0           32.0        0.003695   \n",
       "2015-11-06   30.27             32.0           33.0        0.013052   \n",
       "2015-11-13   28.09             32.0           32.0       -0.072019   \n",
       "2015-11-20   29.83             31.0           32.0        0.061944   \n",
       "...            ...              ...            ...             ...   \n",
       "2020-09-11  112.00             37.0           39.0       -0.074074   \n",
       "2020-09-18  106.84             52.0           37.0       -0.046071   \n",
       "2020-09-25  112.28             42.0           52.0        0.050917   \n",
       "2020-10-02  113.02             38.0           42.0        0.006591   \n",
       "2020-10-09  116.97             36.0           38.0        0.034950   \n",
       "\n",
       "            weekly_volatility  \n",
       "date                           \n",
       "2015-10-23                NaN  \n",
       "2015-10-30                NaN  \n",
       "2015-11-06                NaN  \n",
       "2015-11-13                NaN  \n",
       "2015-11-20           0.055367  \n",
       "...                       ...  \n",
       "2020-09-11           0.066176  \n",
       "2020-09-18           0.032341  \n",
       "2020-09-25           0.053696  \n",
       "2020-10-02           0.055572  \n",
       "2020-10-09           0.042592  \n",
       "\n",
       "[252 rows x 5 columns]"
      ]
     },
     "execution_count": 28,
     "metadata": {},
     "output_type": "execute_result"
    }
   ],
   "source": [
    "# Display the df_apple DataFrame to confirm all columns are present\n",
    "df_apple\n"
   ]
  },
  {
   "cell_type": "markdown",
   "metadata": {},
   "source": [
    "### Step 5: Use the Pandas `corr` function to compute the correlations among the lagged Google Trends data, the price returns, and the stock volatility. Does any predictable relationship exist?"
   ]
  },
  {
   "cell_type": "code",
   "execution_count": 29,
   "metadata": {},
   "outputs": [
    {
     "data": {
      "text/html": [
       "<div>\n",
       "<style scoped>\n",
       "    .dataframe tbody tr th:only-of-type {\n",
       "        vertical-align: middle;\n",
       "    }\n",
       "\n",
       "    .dataframe tbody tr th {\n",
       "        vertical-align: top;\n",
       "    }\n",
       "\n",
       "    .dataframe thead th {\n",
       "        text-align: right;\n",
       "    }\n",
       "</style>\n",
       "<table border=\"1\" class=\"dataframe\">\n",
       "  <thead>\n",
       "    <tr style=\"text-align: right;\">\n",
       "      <th></th>\n",
       "      <th>lagged_trends</th>\n",
       "      <th>weekly_returns</th>\n",
       "      <th>weekly_volatility</th>\n",
       "    </tr>\n",
       "  </thead>\n",
       "  <tbody>\n",
       "    <tr>\n",
       "      <th>lagged_trends</th>\n",
       "      <td>1.000000</td>\n",
       "      <td>0.026701</td>\n",
       "      <td>0.004911</td>\n",
       "    </tr>\n",
       "    <tr>\n",
       "      <th>weekly_returns</th>\n",
       "      <td>0.026701</td>\n",
       "      <td>1.000000</td>\n",
       "      <td>0.086676</td>\n",
       "    </tr>\n",
       "    <tr>\n",
       "      <th>weekly_volatility</th>\n",
       "      <td>0.004911</td>\n",
       "      <td>0.086676</td>\n",
       "      <td>1.000000</td>\n",
       "    </tr>\n",
       "  </tbody>\n",
       "</table>\n",
       "</div>"
      ],
      "text/plain": [
       "                   lagged_trends  weekly_returns  weekly_volatility\n",
       "lagged_trends           1.000000        0.026701           0.004911\n",
       "weekly_returns          0.026701        1.000000           0.086676\n",
       "weekly_volatility       0.004911        0.086676           1.000000"
      ]
     },
     "execution_count": 29,
     "metadata": {},
     "output_type": "execute_result"
    }
   ],
   "source": [
    "# Use the corr function to compute the correlation between the lagged Google Trends data, price returns, and stock volatility\n",
    "df_apple[[\"lagged_trends\", \"weekly_returns\", \"weekly_volatility\"]].corr()\n"
   ]
  },
  {
   "cell_type": "code",
   "execution_count": null,
   "metadata": {},
   "outputs": [],
   "source": []
  }
 ],
 "metadata": {
  "kernelspec": {
   "display_name": "Python 3 (ipykernel)",
   "language": "python",
   "name": "python3"
  },
  "language_info": {
   "codemirror_mode": {
    "name": "ipython",
    "version": 3
   },
   "file_extension": ".py",
   "mimetype": "text/x-python",
   "name": "python",
   "nbconvert_exporter": "python",
   "pygments_lexer": "ipython3",
   "version": "3.7.11"
  }
 },
 "nbformat": 4,
 "nbformat_minor": 4
}
