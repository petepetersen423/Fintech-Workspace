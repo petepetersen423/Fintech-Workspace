{
 "cells": [
  {
   "cell_type": "code",
   "execution_count": 6,
   "id": "cac65f4a-003f-4310-9377-6e01b1c691bb",
   "metadata": {},
   "outputs": [],
   "source": [
    "# Imports\n",
    "from dataclasses import dataclass\n",
    "from datetime import datetime\n",
    "from typing import Any"
   ]
  },
  {
   "cell_type": "code",
   "execution_count": 7,
   "id": "279409e1-bb19-4f5d-9066-9904c33935ea",
   "metadata": {},
   "outputs": [],
   "source": [
    "# Creating the Block data class\n",
    "@dataclass\n",
    "class Block:\n",
    "    data: Any\n",
    "    creator_id: int\n",
    "    timestamp: str = datetime.utcnow().strftime(\"%H:%M:%S\")"
   ]
  },
  {
   "cell_type": "code",
   "execution_count": 8,
   "id": "070cacad-7e88-4341-bc66-b36f653f2d70",
   "metadata": {},
   "outputs": [
    {
     "name": "stdout",
     "output_type": "stream",
     "text": [
      "Block(data='My First Block!', creator_id=42, timestamp='01:13:32')\n"
     ]
    }
   ],
   "source": [
    "# Creating a new block\n",
    "new_block = Block(data=\"My First Block!\", creator_id=42)\n",
    "\n",
    "# Print the new block\n",
    "print(new_block)"
   ]
  },
  {
   "cell_type": "code",
   "execution_count": null,
   "id": "e2b296e7-7ce5-41e3-a4c9-3f872d98e147",
   "metadata": {},
   "outputs": [],
   "source": []
  }
 ],
 "metadata": {
  "kernelspec": {
   "display_name": "CCM Dev 3.9",
   "language": "python",
   "name": "ccm-dev-conda"
  },
  "language_info": {
   "codemirror_mode": {
    "name": "ipython",
    "version": 3
   },
   "file_extension": ".py",
   "mimetype": "text/x-python",
   "name": "python",
   "nbconvert_exporter": "python",
   "pygments_lexer": "ipython3",
   "version": "3.9.12"
  }
 },
 "nbformat": 4,
 "nbformat_minor": 5
}
