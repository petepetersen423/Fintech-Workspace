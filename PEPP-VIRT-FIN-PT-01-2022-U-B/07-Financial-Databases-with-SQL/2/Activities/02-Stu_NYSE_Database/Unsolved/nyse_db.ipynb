{
 "cells": [
  {
   "cell_type": "markdown",
   "metadata": {},
   "source": [
    "# NYSE DataFrames and Databases\n",
    "\n",
    "In this activity, you will read, clean and load data to a database table. \n",
    "\n",
    "## Instructions\n",
    "\n",
    "### Create the Pandas DataFrame\n",
    "\n",
    "1. Import the modules for Pandas, the Path, and SQLAlchemy.\n",
    "2. Read the `nyse_companylist.csv` file from the Resources folder into a Pandas DataFrame called `nyse_df`. Review the DataFrame.\n",
    "3. Check the data types (`dtypes`) of each column in the DataFrame.\n",
    "\n",
    "### Clean the Pandas DataFrame\n",
    "\n",
    "1. Apply the provided `clean_currency` function to the 'MarketCap' column of the `nyse_df` DataFrame.\n",
    "\n",
    "  * The `clean_currency` function performs the following actions:\n",
    "    -Removes non-numeric characters (ie '\\$', 'M', and 'B') from the data entry\n",
    "    -Converts the value to a float\n",
    "    -Scales the data according to the suffixes 'M' and 'B'\n",
    "    -Returns the cleaned and scaled data entry\n",
    "\n",
    "2. Review the contents of the 'MarketCap' column to confirm that data has been cleaned as expected.\n",
    "\n",
    "### Load the DataFrame into a SQLite Database\n",
    "\n",
    "1. Create a database connection string that loads the SQLite database called `nyse.db` into the Resources folder.\n",
    "2. Create a [database engine](https://docs.sqlalchemy.org/en/14/core/engines.html) called `nyse_engine`. Be sure to include the `echo=True` parameter.\n",
    "3. Using the Pandas [`to_sql`](https://pandas.pydata.org/pandas-docs/stable/reference/api/pandas.DataFrame.to_sql.html) function, write the `nyse_df` DataFrame to a table called `NYSE` in the `nyse.db`. Be sure to include the parameters for `index` and `if_exists`.\n",
    "4. Get the table name from the database to confirm it was created.\n",
    "\n",
    "### Query the SQL Database\n",
    "\n",
    "1. Write a SQL query to select all companies in the Technology sector AND in the Software industry AND that have a market cap greater than 30 billion USD.\n",
    "2. Using the Pandas [`read_sql_query`](https://pandas.pydata.org/pandas-docs/stable/reference/api/pandas.read_sql_query.html) execute the SQL query and assign the results to a new Pandas DataFrame called `nyse_tech_companies_df`.\n",
    "3. Review the DataFrame.\n",
    "\n"
   ]
  },
  {
   "cell_type": "markdown",
   "metadata": {},
   "source": [
    "## Create the Pandas DataFrame"
   ]
  },
  {
   "cell_type": "markdown",
   "metadata": {},
   "source": [
    "### 1. Import the modules for Pandas, the Path, and SQLAlchemy."
   ]
  },
  {
   "cell_type": "code",
   "execution_count": 3,
   "metadata": {},
   "outputs": [],
   "source": [
    "# Import modules\n",
    "import pandas as pd\n",
    "from pathlib import Path\n",
    "import sqlalchemy as sql"
   ]
  },
  {
   "cell_type": "markdown",
   "metadata": {},
   "source": [
    "### 2. Read the `nyse_companylist.csv` file from the Resources folder into a Pandas DataFrame called `nyse_df`. Review the DataFrame."
   ]
  },
  {
   "cell_type": "code",
   "execution_count": 5,
   "metadata": {},
   "outputs": [
    {
     "data": {
      "text/html": [
       "<div>\n",
       "<style scoped>\n",
       "    .dataframe tbody tr th:only-of-type {\n",
       "        vertical-align: middle;\n",
       "    }\n",
       "\n",
       "    .dataframe tbody tr th {\n",
       "        vertical-align: top;\n",
       "    }\n",
       "\n",
       "    .dataframe thead th {\n",
       "        text-align: right;\n",
       "    }\n",
       "</style>\n",
       "<table border=\"1\" class=\"dataframe\">\n",
       "  <thead>\n",
       "    <tr style=\"text-align: right;\">\n",
       "      <th></th>\n",
       "      <th>Symbol</th>\n",
       "      <th>Name</th>\n",
       "      <th>LastSale</th>\n",
       "      <th>MarketCap</th>\n",
       "      <th>IPOyear</th>\n",
       "      <th>Sector</th>\n",
       "      <th>industry</th>\n",
       "      <th>Summary Quote</th>\n",
       "      <th>Unnamed: 8</th>\n",
       "    </tr>\n",
       "  </thead>\n",
       "  <tbody>\n",
       "    <tr>\n",
       "      <th>0</th>\n",
       "      <td>DDD</td>\n",
       "      <td>3D Systems Corporation</td>\n",
       "      <td>4.79</td>\n",
       "      <td>$580.24M</td>\n",
       "      <td>NaN</td>\n",
       "      <td>Technology</td>\n",
       "      <td>Computer Software: Prepackaged Software</td>\n",
       "      <td>https://old.nasdaq.com/symbol/ddd</td>\n",
       "      <td>NaN</td>\n",
       "    </tr>\n",
       "    <tr>\n",
       "      <th>1</th>\n",
       "      <td>MMM</td>\n",
       "      <td>3M Company</td>\n",
       "      <td>161.66</td>\n",
       "      <td>$93.12B</td>\n",
       "      <td>NaN</td>\n",
       "      <td>Health Care</td>\n",
       "      <td>Medical/Dental Instruments</td>\n",
       "      <td>https://old.nasdaq.com/symbol/mmm</td>\n",
       "      <td>NaN</td>\n",
       "    </tr>\n",
       "    <tr>\n",
       "      <th>2</th>\n",
       "      <td>WBAI</td>\n",
       "      <td>500.com Limited</td>\n",
       "      <td>2.94</td>\n",
       "      <td>$126.42M</td>\n",
       "      <td>2013.0</td>\n",
       "      <td>Consumer Services</td>\n",
       "      <td>Services-Misc. Amusement &amp; Recreation</td>\n",
       "      <td>https://old.nasdaq.com/symbol/wbai</td>\n",
       "      <td>NaN</td>\n",
       "    </tr>\n",
       "    <tr>\n",
       "      <th>3</th>\n",
       "      <td>EGHT</td>\n",
       "      <td>8x8 Inc</td>\n",
       "      <td>15.71</td>\n",
       "      <td>$1.64B</td>\n",
       "      <td>NaN</td>\n",
       "      <td>Technology</td>\n",
       "      <td>EDP Services</td>\n",
       "      <td>https://old.nasdaq.com/symbol/eght</td>\n",
       "      <td>NaN</td>\n",
       "    </tr>\n",
       "    <tr>\n",
       "      <th>4</th>\n",
       "      <td>AHC</td>\n",
       "      <td>A.H. Belo Corporation</td>\n",
       "      <td>1.39</td>\n",
       "      <td>$33.19M</td>\n",
       "      <td>NaN</td>\n",
       "      <td>Consumer Services</td>\n",
       "      <td>Newspapers/Magazines</td>\n",
       "      <td>https://old.nasdaq.com/symbol/ahc</td>\n",
       "      <td>NaN</td>\n",
       "    </tr>\n",
       "  </tbody>\n",
       "</table>\n",
       "</div>"
      ],
      "text/plain": [
       "  Symbol                    Name  LastSale MarketCap  IPOyear  \\\n",
       "0    DDD  3D Systems Corporation      4.79  $580.24M      NaN   \n",
       "1    MMM              3M Company    161.66   $93.12B      NaN   \n",
       "2   WBAI         500.com Limited      2.94  $126.42M   2013.0   \n",
       "3   EGHT                 8x8 Inc     15.71    $1.64B      NaN   \n",
       "4    AHC   A.H. Belo Corporation      1.39   $33.19M      NaN   \n",
       "\n",
       "              Sector                                 industry  \\\n",
       "0         Technology  Computer Software: Prepackaged Software   \n",
       "1        Health Care               Medical/Dental Instruments   \n",
       "2  Consumer Services    Services-Misc. Amusement & Recreation   \n",
       "3         Technology                             EDP Services   \n",
       "4  Consumer Services                     Newspapers/Magazines   \n",
       "\n",
       "                        Summary Quote  Unnamed: 8  \n",
       "0   https://old.nasdaq.com/symbol/ddd         NaN  \n",
       "1   https://old.nasdaq.com/symbol/mmm         NaN  \n",
       "2  https://old.nasdaq.com/symbol/wbai         NaN  \n",
       "3  https://old.nasdaq.com/symbol/eght         NaN  \n",
       "4   https://old.nasdaq.com/symbol/ahc         NaN  "
      ]
     },
     "execution_count": 5,
     "metadata": {},
     "output_type": "execute_result"
    }
   ],
   "source": [
    "# Read the `nyse_companylist.csv` file from the Resources folder into a Pandas DataFrame \n",
    "nyse_df = pd.read_csv(\n",
    "Path(\"../Resources/nyse_companylist.csv\"))\n",
    "\n",
    "# Review the DataFrame\n",
    "nyse_df.head()\n"
   ]
  },
  {
   "cell_type": "markdown",
   "metadata": {},
   "source": [
    "### 3. Review the data types (`dtypes`) of each column in the DataFrame."
   ]
  },
  {
   "cell_type": "code",
   "execution_count": 6,
   "metadata": {},
   "outputs": [
    {
     "data": {
      "text/plain": [
       "Symbol            object\n",
       "Name              object\n",
       "LastSale         float64\n",
       "MarketCap         object\n",
       "IPOyear          float64\n",
       "Sector            object\n",
       "industry          object\n",
       "Summary Quote     object\n",
       "Unnamed: 8       float64\n",
       "dtype: object"
      ]
     },
     "execution_count": 6,
     "metadata": {},
     "output_type": "execute_result"
    }
   ],
   "source": [
    "# Check dtypes of dataframe\n",
    "nyse_df.dtypes\n"
   ]
  },
  {
   "cell_type": "markdown",
   "metadata": {},
   "source": [
    "## Clean the Pandas DataFrame"
   ]
  },
  {
   "cell_type": "markdown",
   "metadata": {},
   "source": [
    "### 1. Apply the provided `clean_currency` function to the 'MarketCap' column of the `nyse_df` DataFrame. \n",
    "\n",
    "The `clean_currency` function performs the following actions:\n",
    "   - Removes non-numeric characters (ie '$', 'M', and 'B') from the data entry\n",
    "   - Converts the value to a float\n",
    "   - Scales the data according to the suffixes 'M' and 'B'\n",
    "   - Returns the cleaned and scaled data entry"
   ]
  },
  {
   "cell_type": "code",
   "execution_count": 7,
   "metadata": {},
   "outputs": [],
   "source": [
    "# This function converts the string values into a floating point number\n",
    "def clean_currency(price_string):\n",
    "    price = price_string\n",
    "    if type(price_string) == str:\n",
    "        if price_string[-1] == 'M':\n",
    "            million = 1000000\n",
    "            price_string = price_string.replace('$', '')\n",
    "            price_string = price_string.replace('M', '')\n",
    "            price = float(price_string)\n",
    "            price = price * million\n",
    "        else:\n",
    "            billion = 1000000000\n",
    "            price_string = price_string.replace('$', '')\n",
    "            price_string = price_string.replace('B', '')\n",
    "            price = float(price_string)\n",
    "            price = price * billion\n",
    "    return price\n",
    "\n"
   ]
  },
  {
   "cell_type": "code",
   "execution_count": 11,
   "metadata": {},
   "outputs": [],
   "source": [
    "# Apply the clean_currency function to MarketCap column\n",
    "nyse_df['MarketCap'] = nyse_df['MarketCap'].apply(clean_currency)\n"
   ]
  },
  {
   "cell_type": "markdown",
   "metadata": {},
   "source": [
    "### 2. Review the contents of the 'MarketCap' column."
   ]
  },
  {
   "cell_type": "code",
   "execution_count": 12,
   "metadata": {},
   "outputs": [
    {
     "data": {
      "text/plain": [
       "0       5.802400e+08\n",
       "1       9.312000e+10\n",
       "2       1.264200e+08\n",
       "3       1.640000e+09\n",
       "4       3.319000e+07\n",
       "            ...     \n",
       "3173    2.822000e+10\n",
       "3174    7.665000e+10\n",
       "3175    2.506000e+10\n",
       "3176    1.260000e+09\n",
       "3177    2.050000e+09\n",
       "Name: MarketCap, Length: 3178, dtype: float64"
      ]
     },
     "execution_count": 12,
     "metadata": {},
     "output_type": "execute_result"
    }
   ],
   "source": [
    "# Review the contents for the MarketCap column\n",
    "nyse_df['MarketCap']"
   ]
  },
  {
   "cell_type": "markdown",
   "metadata": {},
   "source": [
    "## Load the DataFrame into a SQLite Database"
   ]
  },
  {
   "cell_type": "markdown",
   "metadata": {},
   "source": [
    "### 1. Create a database connection string that loads the SQLite database called `nyse.db` into the Resources folder."
   ]
  },
  {
   "cell_type": "code",
   "execution_count": 13,
   "metadata": {},
   "outputs": [],
   "source": [
    "# Create a database connection string\n",
    "nyse_connection_string = 'sqlite:///../Resources/nyse.db'\n"
   ]
  },
  {
   "cell_type": "markdown",
   "metadata": {},
   "source": [
    "### 2. Create a [database engine](https://docs.sqlalchemy.org/en/14/core/engines.html) called `nyse_engine`. Be sure to include the `echo=True` parameter."
   ]
  },
  {
   "cell_type": "code",
   "execution_count": 14,
   "metadata": {},
   "outputs": [],
   "source": [
    "# Create a database engine\n",
    "nyse_engine = sql.create_engine(nyse_connection_string, echo=True)\n"
   ]
  },
  {
   "cell_type": "markdown",
   "metadata": {},
   "source": [
    "### 3. Using the Pandas [`to_sql`](https://pandas.pydata.org/pandas-docs/stable/reference/api/pandas.DataFrame.to_sql.html) function, write the `nyse_df` DataFrame to a table called `NYSE` in the `nyse.db`."
   ]
  },
  {
   "cell_type": "code",
   "execution_count": 16,
   "metadata": {},
   "outputs": [
    {
     "name": "stdout",
     "output_type": "stream",
     "text": [
      "2022-03-09 19:27:52,181 INFO sqlalchemy.engine.Engine PRAGMA main.table_info(\"NYSE\")\n",
      "2022-03-09 19:27:52,182 INFO sqlalchemy.engine.Engine [raw sql] ()\n",
      "2022-03-09 19:27:52,184 INFO sqlalchemy.engine.Engine PRAGMA main.table_info(\"NYSE\")\n",
      "2022-03-09 19:27:52,185 INFO sqlalchemy.engine.Engine [raw sql] ()\n",
      "2022-03-09 19:27:52,187 INFO sqlalchemy.engine.Engine SELECT name FROM sqlite_master WHERE type='table' ORDER BY name\n",
      "2022-03-09 19:27:52,188 INFO sqlalchemy.engine.Engine [raw sql] ()\n",
      "2022-03-09 19:27:52,189 INFO sqlalchemy.engine.Engine PRAGMA main.table_xinfo(\"NYSE\")\n",
      "2022-03-09 19:27:52,190 INFO sqlalchemy.engine.Engine [raw sql] ()\n",
      "2022-03-09 19:27:52,191 INFO sqlalchemy.engine.Engine SELECT sql FROM  (SELECT * FROM sqlite_master UNION ALL   SELECT * FROM sqlite_temp_master) WHERE name = ? AND type = 'table'\n",
      "2022-03-09 19:27:52,192 INFO sqlalchemy.engine.Engine [raw sql] ('NYSE',)\n",
      "2022-03-09 19:27:52,194 INFO sqlalchemy.engine.Engine PRAGMA main.foreign_key_list(\"NYSE\")\n",
      "2022-03-09 19:27:52,194 INFO sqlalchemy.engine.Engine [raw sql] ()\n",
      "2022-03-09 19:27:52,195 INFO sqlalchemy.engine.Engine PRAGMA temp.foreign_key_list(\"NYSE\")\n",
      "2022-03-09 19:27:52,195 INFO sqlalchemy.engine.Engine [raw sql] ()\n",
      "2022-03-09 19:27:52,196 INFO sqlalchemy.engine.Engine SELECT sql FROM  (SELECT * FROM sqlite_master UNION ALL   SELECT * FROM sqlite_temp_master) WHERE name = ? AND type = 'table'\n",
      "2022-03-09 19:27:52,196 INFO sqlalchemy.engine.Engine [raw sql] ('NYSE',)\n",
      "2022-03-09 19:27:52,198 INFO sqlalchemy.engine.Engine PRAGMA main.index_list(\"NYSE\")\n",
      "2022-03-09 19:27:52,198 INFO sqlalchemy.engine.Engine [raw sql] ()\n",
      "2022-03-09 19:27:52,199 INFO sqlalchemy.engine.Engine PRAGMA temp.index_list(\"NYSE\")\n",
      "2022-03-09 19:27:52,199 INFO sqlalchemy.engine.Engine [raw sql] ()\n",
      "2022-03-09 19:27:52,200 INFO sqlalchemy.engine.Engine PRAGMA main.index_list(\"NYSE\")\n",
      "2022-03-09 19:27:52,201 INFO sqlalchemy.engine.Engine [raw sql] ()\n",
      "2022-03-09 19:27:52,201 INFO sqlalchemy.engine.Engine PRAGMA temp.index_list(\"NYSE\")\n",
      "2022-03-09 19:27:52,202 INFO sqlalchemy.engine.Engine [raw sql] ()\n",
      "2022-03-09 19:27:52,202 INFO sqlalchemy.engine.Engine SELECT sql FROM  (SELECT * FROM sqlite_master UNION ALL   SELECT * FROM sqlite_temp_master) WHERE name = ? AND type = 'table'\n",
      "2022-03-09 19:27:52,203 INFO sqlalchemy.engine.Engine [raw sql] ('NYSE',)\n",
      "2022-03-09 19:27:52,206 INFO sqlalchemy.engine.Engine BEGIN (implicit)\n",
      "2022-03-09 19:27:52,207 INFO sqlalchemy.engine.Engine \n",
      "DROP TABLE \"NYSE\"\n",
      "2022-03-09 19:27:52,207 INFO sqlalchemy.engine.Engine [no key 0.00043s] ()\n",
      "2022-03-09 19:27:52,211 INFO sqlalchemy.engine.Engine COMMIT\n",
      "2022-03-09 19:27:52,213 INFO sqlalchemy.engine.Engine BEGIN (implicit)\n",
      "2022-03-09 19:27:52,214 INFO sqlalchemy.engine.Engine \n",
      "CREATE TABLE \"NYSE\" (\n",
      "\t\"Symbol\" TEXT, \n",
      "\t\"Name\" TEXT, \n",
      "\t\"LastSale\" FLOAT, \n",
      "\t\"MarketCap\" FLOAT, \n",
      "\t\"IPOyear\" FLOAT, \n",
      "\t\"Sector\" TEXT, \n",
      "\tindustry TEXT, \n",
      "\t\"Summary Quote\" TEXT, \n",
      "\t\"Unnamed: 8\" FLOAT\n",
      ")\n",
      "\n",
      "\n",
      "2022-03-09 19:27:52,214 INFO sqlalchemy.engine.Engine [no key 0.00038s] ()\n",
      "2022-03-09 19:27:52,215 INFO sqlalchemy.engine.Engine COMMIT\n",
      "2022-03-09 19:27:52,219 INFO sqlalchemy.engine.Engine BEGIN (implicit)\n",
      "2022-03-09 19:27:52,253 INFO sqlalchemy.engine.Engine INSERT INTO \"NYSE\" (\"Symbol\", \"Name\", \"LastSale\", \"MarketCap\", \"IPOyear\", \"Sector\", industry, \"Summary Quote\", \"Unnamed: 8\") VALUES (?, ?, ?, ?, ?, ?, ?, ?, ?)\n",
      "2022-03-09 19:27:52,253 INFO sqlalchemy.engine.Engine [generated in 0.03003s] (('DDD', '3D Systems Corporation', 4.79, 580240000.0, None, 'Technology', 'Computer Software: Prepackaged Software', 'https://old.nasdaq.com/symbol/ddd', None), ('MMM', '3M Company', 161.66, 93120000000.0, None, 'Health Care', 'Medical/Dental Instruments', 'https://old.nasdaq.com/symbol/mmm', None), ('WBAI', '500.com Limited', 2.94, 126420000.0, 2013.0, 'Consumer Services', 'Services-Misc. Amusement & Recreation', 'https://old.nasdaq.com/symbol/wbai', None), ('EGHT', '8x8 Inc', 15.71, 1640000000.0, None, 'Technology', 'EDP Services', 'https://old.nasdaq.com/symbol/eght', None), ('AHC', 'A.H. Belo Corporation', 1.39, 33189999.999999996, None, 'Consumer Services', 'Newspapers/Magazines', 'https://old.nasdaq.com/symbol/ahc', None), ('AOS', 'A.O Smith Corporation', 53.29, 8600000000.0, None, 'Consumer Durables', 'Consumer Electronics/Appliances', 'https://old.nasdaq.com/symbol/aos', None), ('ATEN', 'A10 Networks, Inc.', 6.69, 521340000.00000006, 2014.0, 'Technology', 'Computer Communications Equipment', 'https://old.nasdaq.com/symbol/aten', None), ('AIR', 'AAR Corp.', 19.86, 701070000.0, None, 'Capital Goods', 'Aerospace', 'https://old.nasdaq.com/symbol/air', None)  ... displaying 10 of 3178 total bound parameter sets ...  ('ZUO', 'Zuora, Inc.', 10.66, 1260000000.0, 2018.0, 'Technology', 'Computer Software: Prepackaged Software', 'https://old.nasdaq.com/symbol/zuo', None), ('ZYME', 'Zymeworks Inc.', 44.98, 2049999999.9999998, 2017.0, 'Health Care', 'Major Pharmaceuticals', 'https://old.nasdaq.com/symbol/zyme', None))\n",
      "2022-03-09 19:27:52,268 INFO sqlalchemy.engine.Engine COMMIT\n",
      "2022-03-09 19:27:52,270 INFO sqlalchemy.engine.Engine SELECT name FROM sqlite_master WHERE type='table' ORDER BY name\n",
      "2022-03-09 19:27:52,271 INFO sqlalchemy.engine.Engine [raw sql] ()\n"
     ]
    }
   ],
   "source": [
    "# Add the cleaned data to a table named NYSE in the database.\n",
    "nyse_df.to_sql('NYSE', nyse_engine, index=False, if_exists='replace')\n"
   ]
  },
  {
   "cell_type": "markdown",
   "metadata": {},
   "source": [
    "### 4. Get the table name from the database to confirm it was created."
   ]
  },
  {
   "cell_type": "code",
   "execution_count": 17,
   "metadata": {},
   "outputs": [
    {
     "name": "stdout",
     "output_type": "stream",
     "text": [
      "2022-03-09 19:28:16,133 INFO sqlalchemy.engine.Engine SELECT name FROM sqlite_master WHERE type='table' ORDER BY name\n",
      "2022-03-09 19:28:16,135 INFO sqlalchemy.engine.Engine [raw sql] ()\n"
     ]
    },
    {
     "name": "stderr",
     "output_type": "stream",
     "text": [
      "/Users/pete/opt/anaconda3/envs/dev/lib/python3.7/site-packages/ipykernel_launcher.py:3: SADeprecationWarning: The Engine.table_names() method is deprecated and will be removed in a future release.  Please refer to Inspector.get_table_names(). (deprecated since: 1.4)\n",
      "  This is separate from the ipykernel package so we can avoid doing imports until\n"
     ]
    },
    {
     "data": {
      "text/plain": [
       "['NYSE']"
      ]
     },
     "execution_count": 17,
     "metadata": {},
     "output_type": "execute_result"
    }
   ],
   "source": [
    "# Get the table name from the database\n",
    "# YOUR CODE HERE!\n",
    "nyse_engine.table_names()"
   ]
  },
  {
   "cell_type": "markdown",
   "metadata": {},
   "source": [
    "## Query the SQL Database"
   ]
  },
  {
   "cell_type": "markdown",
   "metadata": {},
   "source": [
    "### 1. Write a SQL query to select all companies in the Technology sector AND in the Software industry AND that have a market cap greater than 30 billion USD."
   ]
  },
  {
   "cell_type": "code",
   "execution_count": 45,
   "metadata": {},
   "outputs": [],
   "source": [
    "# Select all stocks where the industry is related to Software in the Technology sector having a market cap greater than 30,000,000,000.\n",
    "sql_query = \"\"\"\n",
    "SELECT \n",
    "    * \n",
    "FROM NYSE\n",
    "WHERE \n",
    "    Sector = 'Technology' \n",
    "  and industry LIKE '%Software%'\n",
    "  and MarketCap > 30000000000\n",
    "\"\"\""
   ]
  },
  {
   "cell_type": "markdown",
   "metadata": {},
   "source": [
    "### 2. Using the Pandas [`read_sql_query`](https://pandas.pydata.org/pandas-docs/stable/reference/api/pandas.read_sql_query.html) execute the SQL query and assign the results to a new Pandas DataFrame called `nyse_tech_companies_df`."
   ]
  },
  {
   "cell_type": "code",
   "execution_count": 43,
   "metadata": {},
   "outputs": [
    {
     "name": "stdout",
     "output_type": "stream",
     "text": [
      "2022-03-09 19:39:24,348 INFO sqlalchemy.engine.Engine \n",
      "SELECT \n",
      "    * \n",
      "FROM NYSE\n",
      "WHERE \n",
      "    Sector = 'Technology' \n",
      "  and industry like '%Software%'\n",
      "  and MarketCap > 30000000000\n",
      "\n",
      "2022-03-09 19:39:24,354 INFO sqlalchemy.engine.Engine [raw sql] ()\n"
     ]
    }
   ],
   "source": [
    "# Execute the SQL query and read the data into a Pandas DataFrame\n",
    "nyse_tech_companies_df = nyse_tech_companies_df = pd.read_sql_query(sql_query, nyse_engine, index_col='Symbol')\n"
   ]
  },
  {
   "cell_type": "markdown",
   "metadata": {},
   "source": [
    "### 3. Review the DataFrame."
   ]
  },
  {
   "cell_type": "code",
   "execution_count": 44,
   "metadata": {},
   "outputs": [
    {
     "data": {
      "text/html": [
       "<div>\n",
       "<style scoped>\n",
       "    .dataframe tbody tr th:only-of-type {\n",
       "        vertical-align: middle;\n",
       "    }\n",
       "\n",
       "    .dataframe tbody tr th {\n",
       "        vertical-align: top;\n",
       "    }\n",
       "\n",
       "    .dataframe thead th {\n",
       "        text-align: right;\n",
       "    }\n",
       "</style>\n",
       "<table border=\"1\" class=\"dataframe\">\n",
       "  <thead>\n",
       "    <tr style=\"text-align: right;\">\n",
       "      <th></th>\n",
       "      <th>Name</th>\n",
       "      <th>LastSale</th>\n",
       "      <th>MarketCap</th>\n",
       "      <th>IPOyear</th>\n",
       "      <th>Sector</th>\n",
       "      <th>industry</th>\n",
       "      <th>Summary Quote</th>\n",
       "      <th>Unnamed: 8</th>\n",
       "    </tr>\n",
       "    <tr>\n",
       "      <th>Symbol</th>\n",
       "      <th></th>\n",
       "      <th></th>\n",
       "      <th></th>\n",
       "      <th></th>\n",
       "      <th></th>\n",
       "      <th></th>\n",
       "      <th></th>\n",
       "      <th></th>\n",
       "    </tr>\n",
       "  </thead>\n",
       "  <tbody>\n",
       "    <tr>\n",
       "      <th>INFO</th>\n",
       "      <td>IHS Markit Ltd.</td>\n",
       "      <td>80.06</td>\n",
       "      <td>3.177000e+10</td>\n",
       "      <td>1996.0</td>\n",
       "      <td>Technology</td>\n",
       "      <td>Computer Software: Programming, Data Processing</td>\n",
       "      <td>https://old.nasdaq.com/symbol/info</td>\n",
       "      <td>None</td>\n",
       "    </tr>\n",
       "    <tr>\n",
       "      <th>ORCL</th>\n",
       "      <td>Oracle Corporation</td>\n",
       "      <td>59.58</td>\n",
       "      <td>1.793900e+11</td>\n",
       "      <td>1986.0</td>\n",
       "      <td>Technology</td>\n",
       "      <td>Computer Software: Prepackaged Software</td>\n",
       "      <td>https://old.nasdaq.com/symbol/orcl</td>\n",
       "      <td>None</td>\n",
       "    </tr>\n",
       "    <tr>\n",
       "      <th>CRM</th>\n",
       "      <td>Salesforce.com Inc</td>\n",
       "      <td>246.67</td>\n",
       "      <td>2.244700e+11</td>\n",
       "      <td>2004.0</td>\n",
       "      <td>Technology</td>\n",
       "      <td>Computer Software: Prepackaged Software</td>\n",
       "      <td>https://old.nasdaq.com/symbol/crm</td>\n",
       "      <td>None</td>\n",
       "    </tr>\n",
       "    <tr>\n",
       "      <th>SAP</th>\n",
       "      <td>SAP SE</td>\n",
       "      <td>157.08</td>\n",
       "      <td>1.875000e+11</td>\n",
       "      <td>NaN</td>\n",
       "      <td>Technology</td>\n",
       "      <td>Computer Software: Prepackaged Software</td>\n",
       "      <td>https://old.nasdaq.com/symbol/sap</td>\n",
       "      <td>None</td>\n",
       "    </tr>\n",
       "    <tr>\n",
       "      <th>NOW</th>\n",
       "      <td>ServiceNow, Inc.</td>\n",
       "      <td>484.21</td>\n",
       "      <td>9.287000e+10</td>\n",
       "      <td>2012.0</td>\n",
       "      <td>Technology</td>\n",
       "      <td>Computer Software: Prepackaged Software</td>\n",
       "      <td>https://old.nasdaq.com/symbol/now</td>\n",
       "      <td>None</td>\n",
       "    </tr>\n",
       "    <tr>\n",
       "      <th>SHOP</th>\n",
       "      <td>Shopify Inc.</td>\n",
       "      <td>966.50</td>\n",
       "      <td>1.177900e+11</td>\n",
       "      <td>2015.0</td>\n",
       "      <td>Technology</td>\n",
       "      <td>Computer Software: Prepackaged Software</td>\n",
       "      <td>https://old.nasdaq.com/symbol/shop</td>\n",
       "      <td>None</td>\n",
       "    </tr>\n",
       "    <tr>\n",
       "      <th>SNAP</th>\n",
       "      <td>Snap Inc.</td>\n",
       "      <td>25.74</td>\n",
       "      <td>3.782000e+10</td>\n",
       "      <td>2017.0</td>\n",
       "      <td>Technology</td>\n",
       "      <td>Computer Software: Programming, Data Processing</td>\n",
       "      <td>https://old.nasdaq.com/symbol/snap</td>\n",
       "      <td>None</td>\n",
       "    </tr>\n",
       "    <tr>\n",
       "      <th>SNOW</th>\n",
       "      <td>Snowflake Inc.</td>\n",
       "      <td>250.41</td>\n",
       "      <td>6.929000e+10</td>\n",
       "      <td>2020.0</td>\n",
       "      <td>Technology</td>\n",
       "      <td>Computer Software: Prepackaged Software</td>\n",
       "      <td>https://old.nasdaq.com/symbol/snow</td>\n",
       "      <td>None</td>\n",
       "    </tr>\n",
       "    <tr>\n",
       "      <th>SQ</th>\n",
       "      <td>Square, Inc.</td>\n",
       "      <td>160.76</td>\n",
       "      <td>7.130000e+10</td>\n",
       "      <td>2015.0</td>\n",
       "      <td>Technology</td>\n",
       "      <td>Computer Software: Prepackaged Software</td>\n",
       "      <td>https://old.nasdaq.com/symbol/sq</td>\n",
       "      <td>None</td>\n",
       "    </tr>\n",
       "    <tr>\n",
       "      <th>TWLO</th>\n",
       "      <td>Twilio Inc.</td>\n",
       "      <td>244.52</td>\n",
       "      <td>3.500000e+10</td>\n",
       "      <td>2016.0</td>\n",
       "      <td>Technology</td>\n",
       "      <td>Computer Software: Prepackaged Software</td>\n",
       "      <td>https://old.nasdaq.com/symbol/twlo</td>\n",
       "      <td>None</td>\n",
       "    </tr>\n",
       "    <tr>\n",
       "      <th>TWTR</th>\n",
       "      <td>Twitter, Inc.</td>\n",
       "      <td>44.15</td>\n",
       "      <td>3.492000e+10</td>\n",
       "      <td>2013.0</td>\n",
       "      <td>Technology</td>\n",
       "      <td>Computer Software: Programming, Data Processing</td>\n",
       "      <td>https://old.nasdaq.com/symbol/twtr</td>\n",
       "      <td>None</td>\n",
       "    </tr>\n",
       "    <tr>\n",
       "      <th>VEEV</th>\n",
       "      <td>Veeva Systems Inc.</td>\n",
       "      <td>281.92</td>\n",
       "      <td>4.252000e+10</td>\n",
       "      <td>2013.0</td>\n",
       "      <td>Technology</td>\n",
       "      <td>Computer Software: Prepackaged Software</td>\n",
       "      <td>https://old.nasdaq.com/symbol/veev</td>\n",
       "      <td>None</td>\n",
       "    </tr>\n",
       "    <tr>\n",
       "      <th>VMW</th>\n",
       "      <td>Vmware, Inc.</td>\n",
       "      <td>142.99</td>\n",
       "      <td>6.007000e+10</td>\n",
       "      <td>2007.0</td>\n",
       "      <td>Technology</td>\n",
       "      <td>Computer Software: Prepackaged Software</td>\n",
       "      <td>https://old.nasdaq.com/symbol/vmw</td>\n",
       "      <td>None</td>\n",
       "    </tr>\n",
       "  </tbody>\n",
       "</table>\n",
       "</div>"
      ],
      "text/plain": [
       "                      Name  LastSale     MarketCap  IPOyear      Sector  \\\n",
       "Symbol                                                                    \n",
       "INFO       IHS Markit Ltd.     80.06  3.177000e+10   1996.0  Technology   \n",
       "ORCL    Oracle Corporation     59.58  1.793900e+11   1986.0  Technology   \n",
       "CRM     Salesforce.com Inc    246.67  2.244700e+11   2004.0  Technology   \n",
       "SAP                 SAP SE    157.08  1.875000e+11      NaN  Technology   \n",
       "NOW       ServiceNow, Inc.    484.21  9.287000e+10   2012.0  Technology   \n",
       "SHOP          Shopify Inc.    966.50  1.177900e+11   2015.0  Technology   \n",
       "SNAP             Snap Inc.     25.74  3.782000e+10   2017.0  Technology   \n",
       "SNOW        Snowflake Inc.    250.41  6.929000e+10   2020.0  Technology   \n",
       "SQ            Square, Inc.    160.76  7.130000e+10   2015.0  Technology   \n",
       "TWLO           Twilio Inc.    244.52  3.500000e+10   2016.0  Technology   \n",
       "TWTR         Twitter, Inc.     44.15  3.492000e+10   2013.0  Technology   \n",
       "VEEV    Veeva Systems Inc.    281.92  4.252000e+10   2013.0  Technology   \n",
       "VMW           Vmware, Inc.    142.99  6.007000e+10   2007.0  Technology   \n",
       "\n",
       "                                               industry  \\\n",
       "Symbol                                                    \n",
       "INFO    Computer Software: Programming, Data Processing   \n",
       "ORCL            Computer Software: Prepackaged Software   \n",
       "CRM             Computer Software: Prepackaged Software   \n",
       "SAP             Computer Software: Prepackaged Software   \n",
       "NOW             Computer Software: Prepackaged Software   \n",
       "SHOP            Computer Software: Prepackaged Software   \n",
       "SNAP    Computer Software: Programming, Data Processing   \n",
       "SNOW            Computer Software: Prepackaged Software   \n",
       "SQ              Computer Software: Prepackaged Software   \n",
       "TWLO            Computer Software: Prepackaged Software   \n",
       "TWTR    Computer Software: Programming, Data Processing   \n",
       "VEEV            Computer Software: Prepackaged Software   \n",
       "VMW             Computer Software: Prepackaged Software   \n",
       "\n",
       "                             Summary Quote Unnamed: 8  \n",
       "Symbol                                                 \n",
       "INFO    https://old.nasdaq.com/symbol/info       None  \n",
       "ORCL    https://old.nasdaq.com/symbol/orcl       None  \n",
       "CRM      https://old.nasdaq.com/symbol/crm       None  \n",
       "SAP      https://old.nasdaq.com/symbol/sap       None  \n",
       "NOW      https://old.nasdaq.com/symbol/now       None  \n",
       "SHOP    https://old.nasdaq.com/symbol/shop       None  \n",
       "SNAP    https://old.nasdaq.com/symbol/snap       None  \n",
       "SNOW    https://old.nasdaq.com/symbol/snow       None  \n",
       "SQ        https://old.nasdaq.com/symbol/sq       None  \n",
       "TWLO    https://old.nasdaq.com/symbol/twlo       None  \n",
       "TWTR    https://old.nasdaq.com/symbol/twtr       None  \n",
       "VEEV    https://old.nasdaq.com/symbol/veev       None  \n",
       "VMW      https://old.nasdaq.com/symbol/vmw       None  "
      ]
     },
     "execution_count": 44,
     "metadata": {},
     "output_type": "execute_result"
    }
   ],
   "source": [
    "# Review the DataFrame\n",
    "# YOUR CODE HERE!\n",
    "nyse_tech_companies_df"
   ]
  },
  {
   "cell_type": "code",
   "execution_count": null,
   "metadata": {},
   "outputs": [],
   "source": []
  }
 ],
 "metadata": {
  "kernelspec": {
   "display_name": "dev",
   "language": "python",
   "name": "dev"
  },
  "language_info": {
   "codemirror_mode": {
    "name": "ipython",
    "version": 3
   },
   "file_extension": ".py",
   "mimetype": "text/x-python",
   "name": "python",
   "nbconvert_exporter": "python",
   "pygments_lexer": "ipython3",
   "version": "3.7.11"
  },
  "nteract": {
   "version": "0.28.0"
  }
 },
 "nbformat": 4,
 "nbformat_minor": 4
}
