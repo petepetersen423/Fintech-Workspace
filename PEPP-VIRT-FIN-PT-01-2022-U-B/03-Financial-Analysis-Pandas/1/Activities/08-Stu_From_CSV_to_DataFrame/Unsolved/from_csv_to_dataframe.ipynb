{
 "cells": [
  {
   "cell_type": "markdown",
   "metadata": {},
   "source": [
    "# From CSV to DataFrame\n",
    "\n",
    "In this activity, you will import a CSV file and create a DataFrame with a Datetime Index.\n",
    "\n",
    "Instructions:\n",
    "\n",
    "1. Import the required libraries and dependecies.\n",
    "\n",
    "2. Using the Pandas `read_csv` function, create a Pandas Dataframe by importing the \"prices.csv\" file from the Resources folder.  The Pandas `read_csv` funtion will take in 4 parameters:\n",
    "    * Using the Path module, specify the relative path to the \"prices.csv\" file.\n",
    "    * Set the `index_col` parameter to specify the \"Date\" column as the index for the Pandas DataFrame.\n",
    "    * Set the `parse_dates` parameter to True.\n",
    "    * Set the `infer_datetime_format` parameter to True. \n",
    "\n",
    "3. Review the first five rows of the DataFrame using the Pandas `head` function.\n",
    "\n",
    "4. Review the last five rows of the DataFrame using the Pandas `tail` function.\n",
    "\n",
    "5. Review both the first and last seven rows of the DataFrame from one cell by calling the Pandas `display` function in conjunction with the `head` and `tail` functions. \n",
    "\n",
    "6. Review basic information of the DataFrame by calling the Pandas `info` function.\n",
    "\n",
    "7. Generate the summary statistics for the DataFrame by calling the Pandas `describe` function. \n"
   ]
  },
  {
   "cell_type": "markdown",
   "metadata": {},
   "source": [
    "## Import the required libraries and dependencies.\n"
   ]
  },
  {
   "cell_type": "code",
   "execution_count": 1,
   "metadata": {},
   "outputs": [],
   "source": [
    "# Import the Pandas library\n",
    "# YOUR CODE HERE\n",
    "import pandas as pd\n",
    "\n",
    "# Import the Path module from the pathlib library\n",
    "# YOUR CODE HERE\n",
    "from pathlib import Path"
   ]
  },
  {
   "cell_type": "markdown",
   "metadata": {},
   "source": [
    "## Using the Pandas `read_csv` function, create a Pandas Dataframe by importing the \"prices.csv\" file from the Resources folder.\n",
    "\n",
    "The `read_csv` function should take in 4 parameters:\n",
    "\n",
    "1. Using the Path module, specify the relative path to the \"prices.csv\" file.\n",
    "2. Set the `index_col` parameter to specify the \"Date\" column as the index for the Pandas DataFrame.\n",
    "3. Set the `parse_dates` parameter to True.\n",
    "4. Set the `infer_datetime_format` parameter to True. "
   ]
  },
  {
   "cell_type": "code",
   "execution_count": 7,
   "metadata": {},
   "outputs": [],
   "source": [
    "# Use the `read_csv` function to create the Pandas DataFrame\n",
    "# YOUR CODE HERE\n",
    "prices_df = pd.read_csv(\n",
    "   \n",
    "    Path(\"../Resources/prices.csv\"),\n",
    "    index_col = \"Date\", \n",
    "    parse_dates = True,\n",
    "    infer_datetime_format = True\n",
    ")"
   ]
  },
  {
   "cell_type": "markdown",
   "metadata": {},
   "source": [
    "## Review the first five rows of the DataFrame using the Pandas `head` function."
   ]
  },
  {
   "cell_type": "code",
   "execution_count": 8,
   "metadata": {},
   "outputs": [
    {
     "data": {
      "text/plain": [
       "<bound method NDFrame.head of               MSFT   AAPL   TWTR\n",
       "Date                            \n",
       "2020-01-02  160.62  75.09  32.30\n",
       "2020-01-03  158.62  74.36  31.52\n",
       "2020-01-06  159.03  74.95  31.64\n",
       "2020-01-07  157.58  74.60  32.54\n",
       "2020-01-08  160.09  75.80  33.05\n",
       "...            ...    ...    ...\n",
       "2020-03-25  146.92  61.38  25.97\n",
       "2020-03-26  156.11  64.61  26.41\n",
       "2020-03-27  149.70  61.94  25.29\n",
       "2020-03-30  160.23  63.70  25.59\n",
       "2020-03-31  157.71  63.57  24.56\n",
       "\n",
       "[62 rows x 3 columns]>"
      ]
     },
     "execution_count": 8,
     "metadata": {},
     "output_type": "execute_result"
    }
   ],
   "source": [
    "# Review the first five rows of the DataFrame\n",
    "# YOUR CODE HERE\n",
    "prices_df.head"
   ]
  },
  {
   "cell_type": "markdown",
   "metadata": {},
   "source": [
    "## Review the last five rows of the DataFrame using the Pandas `tail` function."
   ]
  },
  {
   "cell_type": "code",
   "execution_count": 9,
   "metadata": {},
   "outputs": [
    {
     "data": {
      "text/plain": [
       "<bound method NDFrame.tail of               MSFT   AAPL   TWTR\n",
       "Date                            \n",
       "2020-01-02  160.62  75.09  32.30\n",
       "2020-01-03  158.62  74.36  31.52\n",
       "2020-01-06  159.03  74.95  31.64\n",
       "2020-01-07  157.58  74.60  32.54\n",
       "2020-01-08  160.09  75.80  33.05\n",
       "...            ...    ...    ...\n",
       "2020-03-25  146.92  61.38  25.97\n",
       "2020-03-26  156.11  64.61  26.41\n",
       "2020-03-27  149.70  61.94  25.29\n",
       "2020-03-30  160.23  63.70  25.59\n",
       "2020-03-31  157.71  63.57  24.56\n",
       "\n",
       "[62 rows x 3 columns]>"
      ]
     },
     "execution_count": 9,
     "metadata": {},
     "output_type": "execute_result"
    }
   ],
   "source": [
    "# Review the last five rows of the DataFrame\n",
    "# YOUR CODE HERE\n",
    "prices_df.tail"
   ]
  },
  {
   "cell_type": "markdown",
   "metadata": {},
   "source": [
    "## Review both the first and last seven rows of the DataFrame from one cell by calling the Pandas `display` function in conjunction with the `head` and `tail` functions. "
   ]
  },
  {
   "cell_type": "code",
   "execution_count": null,
   "metadata": {},
   "outputs": [],
   "source": [
    "# Review the first and last seven rows of the DataFrame from the same cell\n",
    "# YOUR CODE HERE\n",
    "prices_df.display()\n",
    "# YOUR CODE HERE\n"
   ]
  },
  {
   "cell_type": "markdown",
   "metadata": {},
   "source": [
    "## Review basic information of the DataFrame by calling the Pandas `info` function."
   ]
  },
  {
   "cell_type": "code",
   "execution_count": null,
   "metadata": {},
   "outputs": [],
   "source": [
    "# Review basic information about the DataFrame\n",
    "# YOUR CODE HERE\n"
   ]
  },
  {
   "cell_type": "markdown",
   "metadata": {},
   "source": [
    "## Generate the summary statistics for the DataFrame by calling the Pandas `describe` function. "
   ]
  },
  {
   "cell_type": "code",
   "execution_count": null,
   "metadata": {},
   "outputs": [],
   "source": [
    "# Generate the summary statistics for the DataFrame\n",
    "# YOUR CODE HERE\n"
   ]
  }
 ],
 "metadata": {
  "kernelspec": {
   "display_name": "dev",
   "language": "python",
   "name": "dev"
  },
  "language_info": {
   "codemirror_mode": {
    "name": "ipython",
    "version": 3
   },
   "file_extension": ".py",
   "mimetype": "text/x-python",
   "name": "python",
   "nbconvert_exporter": "python",
   "pygments_lexer": "ipython3",
   "version": "3.7.11"
  }
 },
 "nbformat": 4,
 "nbformat_minor": 4
}
