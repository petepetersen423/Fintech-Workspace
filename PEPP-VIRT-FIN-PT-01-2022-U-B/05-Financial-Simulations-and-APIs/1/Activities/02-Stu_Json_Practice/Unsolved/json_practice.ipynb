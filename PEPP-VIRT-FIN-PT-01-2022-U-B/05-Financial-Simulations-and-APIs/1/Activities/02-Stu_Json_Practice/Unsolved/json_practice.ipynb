{
 "cells": [
  {
   "cell_type": "markdown",
   "metadata": {},
   "source": [
    "# JSON Practice\n",
    "\n",
    "This short activity will give you the opportunity to practice converting a `json` to a `Pandas` `DataFrame`. You will read a `json` file containing housing data from Alberta Canada and then convert that json object to a `DataFrame`.\n",
    "\n",
    ">**Hint**: You can create `DataFrame` objects from a list of `Series`.\n"
   ]
  },
  {
   "cell_type": "markdown",
   "metadata": {},
   "source": [
    "## 1. Import Modules"
   ]
  },
  {
   "cell_type": "code",
   "execution_count": 3,
   "metadata": {},
   "outputs": [],
   "source": [
    "# Import modules\n",
    "from pathlib import Path\n",
    "import pandas as pd\n",
    "import json\n"
   ]
  },
  {
   "cell_type": "markdown",
   "metadata": {},
   "source": [
    "## 2. Set paths to `json` Files\n",
    "  - The file contains a json object that was returned from a request to the financial API, Quandl."
   ]
  },
  {
   "cell_type": "code",
   "execution_count": 4,
   "metadata": {},
   "outputs": [],
   "source": [
    "saved_response_path = Path(\"../Resources/alberta_housing_data.json\")"
   ]
  },
  {
   "cell_type": "markdown",
   "metadata": {},
   "source": [
    "## 3. Create an empty dictionary to read the `json` object into"
   ]
  },
  {
   "cell_type": "code",
   "execution_count": 5,
   "metadata": {},
   "outputs": [],
   "source": [
    "# YOUR CODE HERE!\n",
    "\n",
    "response = {}"
   ]
  },
  {
   "cell_type": "markdown",
   "metadata": {},
   "source": [
    "## 4. Using `json.load` read the `json` object into the `response` dictionary\n",
    "  - You can use [open](https://docs.python.org/3/tutorial/inputoutput.html#reading-and-writing-files) to create a file handle to pass to `json.load`."
   ]
  },
  {
   "cell_type": "code",
   "execution_count": 6,
   "metadata": {},
   "outputs": [],
   "source": [
    "# Read in file\n",
    "# YOUR CODE HERE!\n",
    "with open(saved_response_path, \"r\") as file_handle:\n",
    "    response = json.load(file_handle)"
   ]
  },
  {
   "cell_type": "markdown",
   "metadata": {},
   "source": [
    "## 5. Retrieve the column_names\n",
    "  - Look closely at the structure of `response`. There is a list named `column_names` that contain the names for the data columns held in the json object.\n",
    "  - Retrieve this list and store it in a variable named `column_names`."
   ]
  },
  {
   "cell_type": "code",
   "execution_count": 14,
   "metadata": {},
   "outputs": [],
   "source": [
    "# Get list of column names\n",
    "column_names = response['dataset']['column_names']"
   ]
  },
  {
   "cell_type": "markdown",
   "metadata": {},
   "source": [
    "## 6. Create a `DataFrame` from `response`\n",
    "  - `pandas.DataFrame.from_dict` will not return a `DataFrame` with only the data values and column names.\n",
    "  - Create an empty list named `list_series`.\n",
    "  - Create a for loop that iterates over each row in `data`.\n",
    "  - Append a new `Series` for each row into `list_series`.\n",
    "  - Create a new `DataFrame` for the list of `Series` after the list is fully populated."
   ]
  },
  {
   "cell_type": "code",
   "execution_count": 29,
   "metadata": {},
   "outputs": [
    {
     "data": {
      "text/html": [
       "<div>\n",
       "<style scoped>\n",
       "    .dataframe tbody tr th:only-of-type {\n",
       "        vertical-align: middle;\n",
       "    }\n",
       "\n",
       "    .dataframe tbody tr th {\n",
       "        vertical-align: top;\n",
       "    }\n",
       "\n",
       "    .dataframe thead th {\n",
       "        text-align: right;\n",
       "    }\n",
       "</style>\n",
       "<table border=\"1\" class=\"dataframe\">\n",
       "  <thead>\n",
       "    <tr style=\"text-align: right;\">\n",
       "      <th></th>\n",
       "      <th>0</th>\n",
       "      <th>1</th>\n",
       "      <th>2</th>\n",
       "      <th>3</th>\n",
       "      <th>4</th>\n",
       "      <th>5</th>\n",
       "      <th>6</th>\n",
       "      <th>7</th>\n",
       "    </tr>\n",
       "  </thead>\n",
       "  <tbody>\n",
       "    <tr>\n",
       "      <th>0</th>\n",
       "      <td>2020-11-30</td>\n",
       "      <td>395000.0</td>\n",
       "      <td>480000.0</td>\n",
       "      <td>570000.0</td>\n",
       "      <td>730000.0</td>\n",
       "      <td>525000.0</td>\n",
       "      <td>604967.0</td>\n",
       "      <td>2003.0</td>\n",
       "    </tr>\n",
       "    <tr>\n",
       "      <th>1</th>\n",
       "      <td>2020-10-31</td>\n",
       "      <td>390000.0</td>\n",
       "      <td>475000.0</td>\n",
       "      <td>565000.0</td>\n",
       "      <td>718000.0</td>\n",
       "      <td>520000.0</td>\n",
       "      <td>599735.0</td>\n",
       "      <td>2111.0</td>\n",
       "    </tr>\n",
       "    <tr>\n",
       "      <th>2</th>\n",
       "      <td>2020-09-30</td>\n",
       "      <td>390000.0</td>\n",
       "      <td>470000.0</td>\n",
       "      <td>560000.0</td>\n",
       "      <td>720000.0</td>\n",
       "      <td>510000.0</td>\n",
       "      <td>601300.0</td>\n",
       "      <td>2206.0</td>\n",
       "    </tr>\n",
       "    <tr>\n",
       "      <th>3</th>\n",
       "      <td>2020-08-31</td>\n",
       "      <td>385000.0</td>\n",
       "      <td>465000.0</td>\n",
       "      <td>555000.0</td>\n",
       "      <td>735000.0</td>\n",
       "      <td>505000.0</td>\n",
       "      <td>600865.0</td>\n",
       "      <td>2314.0</td>\n",
       "    </tr>\n",
       "    <tr>\n",
       "      <th>4</th>\n",
       "      <td>2020-07-31</td>\n",
       "      <td>380000.0</td>\n",
       "      <td>460000.0</td>\n",
       "      <td>555000.0</td>\n",
       "      <td>725000.0</td>\n",
       "      <td>505000.0</td>\n",
       "      <td>596708.0</td>\n",
       "      <td>2506.0</td>\n",
       "    </tr>\n",
       "    <tr>\n",
       "      <th>5</th>\n",
       "      <td>2020-06-30</td>\n",
       "      <td>375000.0</td>\n",
       "      <td>455000.0</td>\n",
       "      <td>550000.0</td>\n",
       "      <td>715000.0</td>\n",
       "      <td>500000.0</td>\n",
       "      <td>592217.0</td>\n",
       "      <td>2669.0</td>\n",
       "    </tr>\n",
       "    <tr>\n",
       "      <th>6</th>\n",
       "      <td>2020-05-31</td>\n",
       "      <td>375000.0</td>\n",
       "      <td>450000.0</td>\n",
       "      <td>548000.0</td>\n",
       "      <td>710000.0</td>\n",
       "      <td>490000.0</td>\n",
       "      <td>588908.0</td>\n",
       "      <td>2685.0</td>\n",
       "    </tr>\n",
       "    <tr>\n",
       "      <th>7</th>\n",
       "      <td>2020-04-30</td>\n",
       "      <td>375000.0</td>\n",
       "      <td>450000.0</td>\n",
       "      <td>545000.0</td>\n",
       "      <td>700000.0</td>\n",
       "      <td>490000.0</td>\n",
       "      <td>584296.0</td>\n",
       "      <td>2727.0</td>\n",
       "    </tr>\n",
       "    <tr>\n",
       "      <th>8</th>\n",
       "      <td>2020-03-31</td>\n",
       "      <td>375000.0</td>\n",
       "      <td>450000.0</td>\n",
       "      <td>540000.0</td>\n",
       "      <td>700000.0</td>\n",
       "      <td>490000.0</td>\n",
       "      <td>578154.0</td>\n",
       "      <td>2773.0</td>\n",
       "    </tr>\n",
       "    <tr>\n",
       "      <th>9</th>\n",
       "      <td>2020-02-29</td>\n",
       "      <td>370000.0</td>\n",
       "      <td>440000.0</td>\n",
       "      <td>535000.0</td>\n",
       "      <td>700000.0</td>\n",
       "      <td>480000.0</td>\n",
       "      <td>573679.0</td>\n",
       "      <td>2852.0</td>\n",
       "    </tr>\n",
       "  </tbody>\n",
       "</table>\n",
       "</div>"
      ],
      "text/plain": [
       "            0         1         2         3         4         5         6  \\\n",
       "0  2020-11-30  395000.0  480000.0  570000.0  730000.0  525000.0  604967.0   \n",
       "1  2020-10-31  390000.0  475000.0  565000.0  718000.0  520000.0  599735.0   \n",
       "2  2020-09-30  390000.0  470000.0  560000.0  720000.0  510000.0  601300.0   \n",
       "3  2020-08-31  385000.0  465000.0  555000.0  735000.0  505000.0  600865.0   \n",
       "4  2020-07-31  380000.0  460000.0  555000.0  725000.0  505000.0  596708.0   \n",
       "5  2020-06-30  375000.0  455000.0  550000.0  715000.0  500000.0  592217.0   \n",
       "6  2020-05-31  375000.0  450000.0  548000.0  710000.0  490000.0  588908.0   \n",
       "7  2020-04-30  375000.0  450000.0  545000.0  700000.0  490000.0  584296.0   \n",
       "8  2020-03-31  375000.0  450000.0  540000.0  700000.0  490000.0  578154.0   \n",
       "9  2020-02-29  370000.0  440000.0  535000.0  700000.0  480000.0  573679.0   \n",
       "\n",
       "        7  \n",
       "0  2003.0  \n",
       "1  2111.0  \n",
       "2  2206.0  \n",
       "3  2314.0  \n",
       "4  2506.0  \n",
       "5  2669.0  \n",
       "6  2685.0  \n",
       "7  2727.0  \n",
       "8  2773.0  \n",
       "9  2852.0  "
      ]
     },
     "execution_count": 29,
     "metadata": {},
     "output_type": "execute_result"
    }
   ],
   "source": [
    "# Empty list for storing the Series\n",
    "# YOUR CODE HERE!\n",
    "list_series = []\n",
    "data = response['dataset']['data']\n",
    "# Loop over each row in `data`\n",
    "# YOUR CODE HERE!\n",
    "for item in data:\n",
    "    list_series.append(item)\n",
    "\n",
    "   \n",
    "# Create a DataFrame from the list of series\n",
    "# YOUR CODE HERE!\n",
    "housing_df = pd.DataFrame(list_series)\n",
    "\n",
    "housing_df.head(10)"
   ]
  },
  {
   "cell_type": "markdown",
   "metadata": {},
   "source": [
    "## 7. Set `DataFrame` column names\n",
    "  - Using the column names found previously, set the dataframe column names using the `column` attribute."
   ]
  },
  {
   "cell_type": "code",
   "execution_count": 31,
   "metadata": {},
   "outputs": [],
   "source": [
    "# Assign column names\n",
    "housing_df.columns = column_names"
   ]
  },
  {
   "cell_type": "code",
   "execution_count": 32,
   "metadata": {},
   "outputs": [
    {
     "data": {
      "text/html": [
       "<div>\n",
       "<style scoped>\n",
       "    .dataframe tbody tr th:only-of-type {\n",
       "        vertical-align: middle;\n",
       "    }\n",
       "\n",
       "    .dataframe tbody tr th {\n",
       "        vertical-align: top;\n",
       "    }\n",
       "\n",
       "    .dataframe thead th {\n",
       "        text-align: right;\n",
       "    }\n",
       "</style>\n",
       "<table border=\"1\" class=\"dataframe\">\n",
       "  <thead>\n",
       "    <tr style=\"text-align: right;\">\n",
       "      <th></th>\n",
       "      <th>Date</th>\n",
       "      <th>1st 20%</th>\n",
       "      <th>2nd 40%</th>\n",
       "      <th>3rd 60%</th>\n",
       "      <th>4th 80%</th>\n",
       "      <th>Median</th>\n",
       "      <th>Average</th>\n",
       "      <th>Units</th>\n",
       "    </tr>\n",
       "  </thead>\n",
       "  <tbody>\n",
       "    <tr>\n",
       "      <th>0</th>\n",
       "      <td>2020-11-30</td>\n",
       "      <td>395000.0</td>\n",
       "      <td>480000.0</td>\n",
       "      <td>570000.0</td>\n",
       "      <td>730000.0</td>\n",
       "      <td>525000.0</td>\n",
       "      <td>604967.0</td>\n",
       "      <td>2003.0</td>\n",
       "    </tr>\n",
       "    <tr>\n",
       "      <th>1</th>\n",
       "      <td>2020-10-31</td>\n",
       "      <td>390000.0</td>\n",
       "      <td>475000.0</td>\n",
       "      <td>565000.0</td>\n",
       "      <td>718000.0</td>\n",
       "      <td>520000.0</td>\n",
       "      <td>599735.0</td>\n",
       "      <td>2111.0</td>\n",
       "    </tr>\n",
       "    <tr>\n",
       "      <th>2</th>\n",
       "      <td>2020-09-30</td>\n",
       "      <td>390000.0</td>\n",
       "      <td>470000.0</td>\n",
       "      <td>560000.0</td>\n",
       "      <td>720000.0</td>\n",
       "      <td>510000.0</td>\n",
       "      <td>601300.0</td>\n",
       "      <td>2206.0</td>\n",
       "    </tr>\n",
       "    <tr>\n",
       "      <th>3</th>\n",
       "      <td>2020-08-31</td>\n",
       "      <td>385000.0</td>\n",
       "      <td>465000.0</td>\n",
       "      <td>555000.0</td>\n",
       "      <td>735000.0</td>\n",
       "      <td>505000.0</td>\n",
       "      <td>600865.0</td>\n",
       "      <td>2314.0</td>\n",
       "    </tr>\n",
       "    <tr>\n",
       "      <th>4</th>\n",
       "      <td>2020-07-31</td>\n",
       "      <td>380000.0</td>\n",
       "      <td>460000.0</td>\n",
       "      <td>555000.0</td>\n",
       "      <td>725000.0</td>\n",
       "      <td>505000.0</td>\n",
       "      <td>596708.0</td>\n",
       "      <td>2506.0</td>\n",
       "    </tr>\n",
       "  </tbody>\n",
       "</table>\n",
       "</div>"
      ],
      "text/plain": [
       "         Date   1st 20%   2nd 40%   3rd 60%   4th 80%    Median   Average  \\\n",
       "0  2020-11-30  395000.0  480000.0  570000.0  730000.0  525000.0  604967.0   \n",
       "1  2020-10-31  390000.0  475000.0  565000.0  718000.0  520000.0  599735.0   \n",
       "2  2020-09-30  390000.0  470000.0  560000.0  720000.0  510000.0  601300.0   \n",
       "3  2020-08-31  385000.0  465000.0  555000.0  735000.0  505000.0  600865.0   \n",
       "4  2020-07-31  380000.0  460000.0  555000.0  725000.0  505000.0  596708.0   \n",
       "\n",
       "    Units  \n",
       "0  2003.0  \n",
       "1  2111.0  \n",
       "2  2206.0  \n",
       "3  2314.0  \n",
       "4  2506.0  "
      ]
     },
     "execution_count": 32,
     "metadata": {},
     "output_type": "execute_result"
    }
   ],
   "source": [
    "\n",
    "housing_df.head()"
   ]
  },
  {
   "cell_type": "code",
   "execution_count": null,
   "metadata": {},
   "outputs": [],
   "source": []
  },
  {
   "cell_type": "code",
   "execution_count": 33,
   "metadata": {},
   "outputs": [
    {
     "name": "stdout",
     "output_type": "stream",
     "text": [
      "{\n",
      "    \"data\": {\n",
      "        \"2\": {\n",
      "            \"circulating_supply\": 69713521,\n",
      "            \"id\": 2,\n",
      "            \"last_updated\": 1645762936,\n",
      "            \"max_supply\": 84000000,\n",
      "            \"name\": \"Litecoin\",\n",
      "            \"quotes\": {\n",
      "                \"USD\": {\n",
      "                    \"market_cap\": 7311204164,\n",
      "                    \"percent_change_1h\": 0.257415624333981,\n",
      "                    \"percent_change_24h\": 6.90380262509177,\n",
      "                    \"percent_change_7d\": -9.97306664182733,\n",
      "                    \"percentage_change_1h\": 0.257415624333981,\n",
      "                    \"percentage_change_24h\": 6.90380262509177,\n",
      "                    \"percentage_change_7d\": -9.97306664182733,\n",
      "                    \"price\": 104.62,\n",
      "                    \"volume_24h\": 1291310862\n",
      "                }\n",
      "            },\n",
      "            \"rank\": 15,\n",
      "            \"symbol\": \"LTC\",\n",
      "            \"total_supply\": 69713521,\n",
      "            \"website_slug\": \"litecoin\"\n",
      "        }\n",
      "    },\n",
      "    \"metadata\": {\n",
      "        \"error\": null,\n",
      "        \"num_cryptocurrencies\": 3105,\n",
      "        \"timestamp\": 1645762936\n",
      "    }\n",
      "}\n"
     ]
    }
   ],
   "source": [
    "# Import the required libraries and dependencies\n",
    "import pandas as pd\n",
    "import requests\n",
    "import json\n",
    "\n",
    "# Set the Ripple endpoint\n",
    "ltc_url = \"https://api.alternative.me/v2/ticker/Litecoin/\"\n",
    "\n",
    "# Fetch the current Ripple price\n",
    "ltc_response = requests.get(ltc_url).json()\n",
    "\n",
    "# Display response data\n",
    "print(json.dumps(ltc_response, indent=4, sort_keys=True))\n"
   ]
  },
  {
   "cell_type": "code",
   "execution_count": null,
   "metadata": {},
   "outputs": [],
   "source": []
  }
 ],
 "metadata": {
  "kernelspec": {
   "display_name": "Python 3 (ipykernel)",
   "language": "python",
   "name": "python3"
  },
  "language_info": {
   "codemirror_mode": {
    "name": "ipython",
    "version": 3
   },
   "file_extension": ".py",
   "mimetype": "text/x-python",
   "name": "python",
   "nbconvert_exporter": "python",
   "pygments_lexer": "ipython3",
   "version": "3.7.11"
  }
 },
 "nbformat": 4,
 "nbformat_minor": 4
}
