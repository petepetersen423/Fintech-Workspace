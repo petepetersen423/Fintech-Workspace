{
 "cells": [
  {
   "cell_type": "markdown",
   "metadata": {},
   "source": [
    "# Correlation\n",
    "\n",
    "Use the Pandas library to analyze five semiconductor stocks—`INTC`, `AMD`, `MU`, `NVDA`, and `TSM`—and choose the stock with the least correlation to `JNJ` and `HD`.\n",
    "\n",
    "The reason to choose stocks that are less correlated to other stocks is to diversify a portfolio.\n",
    "\n",
    "Go [here](https://www.investopedia.com/terms/d/diversification.asp) to learn more about diversification and how correlation among stocks in portfolios are a factor in minimizing risk."
   ]
  },
  {
   "cell_type": "markdown",
   "metadata": {},
   "source": [
    "## 1. Import libraries and dependencies.\n",
    "  - Import the `pandas`,`seaborn` and `pathlib` libraries, and set the `%matplotlib inline` property.\n"
   ]
  },
  {
   "cell_type": "code",
   "execution_count": 2,
   "metadata": {},
   "outputs": [],
   "source": [
    "# Import libraries and dependencies\n",
    "import pandas as pd\n",
    "import seaborn as sbs\n",
    "from pathlib import Path\n",
    "%matplotlib inline\n",
    "# YOUR CODE HERE!"
   ]
  },
  {
   "cell_type": "markdown",
   "metadata": {},
   "source": [
    "## 2. Create `Path` Objects\n",
    "   - Create a path objects for each `csv` file using the `Pathlib` library."
   ]
  },
  {
   "cell_type": "code",
   "execution_count": 3,
   "metadata": {},
   "outputs": [],
   "source": [
    "# Set file paths\n",
    "# YOUR CODE HERE!\n",
    "tsm_file = Path(\"/Users/pete/Documents/Fintech-Workspace/M4/Class_2_Activities/06-Stu_Correlation/Resources/TSM.csv\")\n",
    "nvda_file = Path(\"/Users/pete/Documents/Fintech-Workspace/M4/Class_2_Activities/06-Stu_Correlation/Resources/NVDA.csv\")\n",
    "mu_file= Path(\"/Users/pete/Documents/Fintech-Workspace/M4/Class_2_Activities/06-Stu_Correlation/Resources/MU.csv\") \n",
    "jnj_file = Path(\"/Users/pete/Documents/Fintech-Workspace/M4/Class_2_Activities/06-Stu_Correlation/Resources/JNJ.csv\")\n",
    "intc_file = Path(\"/Users/pete/Documents/Fintech-Workspace/M4/Class_2_Activities/06-Stu_Correlation/Resources/INTC.csv\")\n",
    "hd_file = Path(\"/Users/pete/Documents/Fintech-Workspace/M4/Class_2_Activities/06-Stu_Correlation/Resources/HD.csv\")\n",
    "amd_file = Path(\"/Users/pete/Documents/Fintech-Workspace/M4/Class_2_Activities/06-Stu_Correlation/Resources/AMD.csv\")\n"
   ]
  },
  {
   "cell_type": "markdown",
   "metadata": {},
   "source": [
    "## 3. Read the `CSV` files into a `Pandas` DataFrames.\n",
    "  - Read the `CSV` files into a `DataFrame` and set the `date` column as the index."
   ]
  },
  {
   "cell_type": "code",
   "execution_count": 9,
   "metadata": {},
   "outputs": [],
   "source": [
    "# Read the individual CSV datasets\n",
    "# YOUR CODE HERE!\n",
    "tsm_df = pd.read_csv(tsm_file,index_col=\"date\", parse_dates = True, infer_datetime_format = True)\n",
    "nvda_df = pd.read_csv(nvda_file,index_col=\"date\", parse_dates = True, infer_datetime_format = True)                \n",
    "mu_df = pd.read_csv(mu_file,index_col=\"date\", parse_dates = True, infer_datetime_format = True)\n",
    "jnj_df = pd.read_csv(jnj_file,index_col=\"date\", parse_dates = True, infer_datetime_format = True)\n",
    "intc_df = pd.read_csv(intc_file,index_col=\"date\", parse_dates = True, infer_datetime_format = True)\n",
    "hd_df = pd.read_csv(hd_file,index_col=\"date\", parse_dates = True, infer_datetime_format = True)\n",
    "amd_df = pd.read_csv(amd_file,index_col=\"date\", parse_dates = True, infer_datetime_format = True)"
   ]
  },
  {
   "cell_type": "markdown",
   "metadata": {},
   "source": [
    "## 4. Combine the DataFrames\n",
    "  - Use the `concat` function to combine the seven DataFrames into a single combined DataFrame"
   ]
  },
  {
   "cell_type": "code",
   "execution_count": 18,
   "metadata": {},
   "outputs": [
    {
     "data": {
      "text/html": [
       "<div>\n",
       "<style scoped>\n",
       "    .dataframe tbody tr th:only-of-type {\n",
       "        vertical-align: middle;\n",
       "    }\n",
       "\n",
       "    .dataframe tbody tr th {\n",
       "        vertical-align: top;\n",
       "    }\n",
       "\n",
       "    .dataframe thead th {\n",
       "        text-align: right;\n",
       "    }\n",
       "</style>\n",
       "<table border=\"1\" class=\"dataframe\">\n",
       "  <thead>\n",
       "    <tr style=\"text-align: right;\">\n",
       "      <th></th>\n",
       "      <th>TSM</th>\n",
       "      <th>NVDA</th>\n",
       "      <th>MU</th>\n",
       "      <th>JNJ</th>\n",
       "      <th>INTC</th>\n",
       "      <th>HD</th>\n",
       "      <th>AMD</th>\n",
       "    </tr>\n",
       "    <tr>\n",
       "      <th>date</th>\n",
       "      <th></th>\n",
       "      <th></th>\n",
       "      <th></th>\n",
       "      <th></th>\n",
       "      <th></th>\n",
       "      <th></th>\n",
       "      <th></th>\n",
       "    </tr>\n",
       "  </thead>\n",
       "  <tbody>\n",
       "    <tr>\n",
       "      <th>2019-05-14</th>\n",
       "      <td>41.97</td>\n",
       "      <td>162.04</td>\n",
       "      <td>38.51</td>\n",
       "      <td>66.97</td>\n",
       "      <td>45.17</td>\n",
       "      <td>191.62</td>\n",
       "      <td>27.32</td>\n",
       "    </tr>\n",
       "    <tr>\n",
       "      <th>2019-05-13</th>\n",
       "      <td>40.99</td>\n",
       "      <td>158.45</td>\n",
       "      <td>37.38</td>\n",
       "      <td>66.49</td>\n",
       "      <td>44.76</td>\n",
       "      <td>190.34</td>\n",
       "      <td>26.24</td>\n",
       "    </tr>\n",
       "    <tr>\n",
       "      <th>2019-05-10</th>\n",
       "      <td>42.83</td>\n",
       "      <td>168.82</td>\n",
       "      <td>38.94</td>\n",
       "      <td>67.22</td>\n",
       "      <td>46.20</td>\n",
       "      <td>194.58</td>\n",
       "      <td>27.96</td>\n",
       "    </tr>\n",
       "    <tr>\n",
       "      <th>2019-05-09</th>\n",
       "      <td>43.25</td>\n",
       "      <td>170.19</td>\n",
       "      <td>39.27</td>\n",
       "      <td>66.04</td>\n",
       "      <td>46.62</td>\n",
       "      <td>194.58</td>\n",
       "      <td>27.21</td>\n",
       "    </tr>\n",
       "    <tr>\n",
       "      <th>2019-05-08</th>\n",
       "      <td>43.70</td>\n",
       "      <td>173.92</td>\n",
       "      <td>39.75</td>\n",
       "      <td>66.02</td>\n",
       "      <td>49.24</td>\n",
       "      <td>195.17</td>\n",
       "      <td>27.09</td>\n",
       "    </tr>\n",
       "  </tbody>\n",
       "</table>\n",
       "</div>"
      ],
      "text/plain": [
       "              TSM    NVDA     MU    JNJ   INTC      HD    AMD\n",
       "date                                                         \n",
       "2019-05-14  41.97  162.04  38.51  66.97  45.17  191.62  27.32\n",
       "2019-05-13  40.99  158.45  37.38  66.49  44.76  190.34  26.24\n",
       "2019-05-10  42.83  168.82  38.94  67.22  46.20  194.58  27.96\n",
       "2019-05-09  43.25  170.19  39.27  66.04  46.62  194.58  27.21\n",
       "2019-05-08  43.70  173.92  39.75  66.02  49.24  195.17  27.09"
      ]
     },
     "execution_count": 18,
     "metadata": {},
     "output_type": "execute_result"
    }
   ],
   "source": [
    "# Use the `concat` function to combine the DataFrames by `date`\n",
    "# YOUR CODE HERE!\n",
    "combined = pd.concat([tsm_df, nvda_df,mu_df,jnj_df,intc_df,hd_df,amd_df], axis = 1).dropna()\n",
    "combined.head()"
   ]
  },
  {
   "cell_type": "markdown",
   "metadata": {},
   "source": [
    "## 5. Calculate Daily Returns\n",
    "  - Use the `pct_change` method to calculate the daily returns and drop `n/a` values"
   ]
  },
  {
   "cell_type": "code",
   "execution_count": 20,
   "metadata": {},
   "outputs": [
    {
     "data": {
      "text/html": [
       "<div>\n",
       "<style scoped>\n",
       "    .dataframe tbody tr th:only-of-type {\n",
       "        vertical-align: middle;\n",
       "    }\n",
       "\n",
       "    .dataframe tbody tr th {\n",
       "        vertical-align: top;\n",
       "    }\n",
       "\n",
       "    .dataframe thead th {\n",
       "        text-align: right;\n",
       "    }\n",
       "</style>\n",
       "<table border=\"1\" class=\"dataframe\">\n",
       "  <thead>\n",
       "    <tr style=\"text-align: right;\">\n",
       "      <th></th>\n",
       "      <th>TSM</th>\n",
       "      <th>NVDA</th>\n",
       "      <th>MU</th>\n",
       "      <th>JNJ</th>\n",
       "      <th>INTC</th>\n",
       "      <th>HD</th>\n",
       "      <th>AMD</th>\n",
       "    </tr>\n",
       "    <tr>\n",
       "      <th>date</th>\n",
       "      <th></th>\n",
       "      <th></th>\n",
       "      <th></th>\n",
       "      <th></th>\n",
       "      <th></th>\n",
       "      <th></th>\n",
       "      <th></th>\n",
       "    </tr>\n",
       "  </thead>\n",
       "  <tbody>\n",
       "    <tr>\n",
       "      <th>2019-05-14</th>\n",
       "      <td>NaN</td>\n",
       "      <td>NaN</td>\n",
       "      <td>NaN</td>\n",
       "      <td>NaN</td>\n",
       "      <td>NaN</td>\n",
       "      <td>NaN</td>\n",
       "      <td>NaN</td>\n",
       "    </tr>\n",
       "    <tr>\n",
       "      <th>2019-05-13</th>\n",
       "      <td>-0.023350</td>\n",
       "      <td>-0.022155</td>\n",
       "      <td>-0.029343</td>\n",
       "      <td>-0.007167</td>\n",
       "      <td>-0.009077</td>\n",
       "      <td>-0.006680</td>\n",
       "      <td>-0.039531</td>\n",
       "    </tr>\n",
       "    <tr>\n",
       "      <th>2019-05-10</th>\n",
       "      <td>0.044889</td>\n",
       "      <td>0.065447</td>\n",
       "      <td>0.041734</td>\n",
       "      <td>0.010979</td>\n",
       "      <td>0.032172</td>\n",
       "      <td>0.022276</td>\n",
       "      <td>0.065549</td>\n",
       "    </tr>\n",
       "    <tr>\n",
       "      <th>2019-05-09</th>\n",
       "      <td>0.009806</td>\n",
       "      <td>0.008115</td>\n",
       "      <td>0.008475</td>\n",
       "      <td>-0.017554</td>\n",
       "      <td>0.009091</td>\n",
       "      <td>0.000000</td>\n",
       "      <td>-0.026824</td>\n",
       "    </tr>\n",
       "    <tr>\n",
       "      <th>2019-05-08</th>\n",
       "      <td>0.010405</td>\n",
       "      <td>0.021917</td>\n",
       "      <td>0.012223</td>\n",
       "      <td>-0.000303</td>\n",
       "      <td>0.056199</td>\n",
       "      <td>0.003032</td>\n",
       "      <td>-0.004410</td>\n",
       "    </tr>\n",
       "  </tbody>\n",
       "</table>\n",
       "</div>"
      ],
      "text/plain": [
       "                 TSM      NVDA        MU       JNJ      INTC        HD  \\\n",
       "date                                                                     \n",
       "2019-05-14       NaN       NaN       NaN       NaN       NaN       NaN   \n",
       "2019-05-13 -0.023350 -0.022155 -0.029343 -0.007167 -0.009077 -0.006680   \n",
       "2019-05-10  0.044889  0.065447  0.041734  0.010979  0.032172  0.022276   \n",
       "2019-05-09  0.009806  0.008115  0.008475 -0.017554  0.009091  0.000000   \n",
       "2019-05-08  0.010405  0.021917  0.012223 -0.000303  0.056199  0.003032   \n",
       "\n",
       "                 AMD  \n",
       "date                  \n",
       "2019-05-14       NaN  \n",
       "2019-05-13 -0.039531  \n",
       "2019-05-10  0.065549  \n",
       "2019-05-09 -0.026824  \n",
       "2019-05-08 -0.004410  "
      ]
     },
     "execution_count": 20,
     "metadata": {},
     "output_type": "execute_result"
    }
   ],
   "source": [
    "# Use the `pct_change` function to calculate daily returns for each stock\n",
    "# YOUR CODE HERE!\n",
    "combined_returns = combined.pct_change()\n",
    "combined_returns.head()"
   ]
  },
  {
   "cell_type": "markdown",
   "metadata": {},
   "source": [
    "## 6. Calculate Correlation\n",
    "  -  Use the `corr` function on the combined DataFrame to calculate and output a correlation table of each stock-to-stock pair."
   ]
  },
  {
   "cell_type": "code",
   "execution_count": 26,
   "metadata": {},
   "outputs": [
    {
     "data": {
      "text/html": [
       "<div>\n",
       "<style scoped>\n",
       "    .dataframe tbody tr th:only-of-type {\n",
       "        vertical-align: middle;\n",
       "    }\n",
       "\n",
       "    .dataframe tbody tr th {\n",
       "        vertical-align: top;\n",
       "    }\n",
       "\n",
       "    .dataframe thead th {\n",
       "        text-align: right;\n",
       "    }\n",
       "</style>\n",
       "<table border=\"1\" class=\"dataframe\">\n",
       "  <thead>\n",
       "    <tr style=\"text-align: right;\">\n",
       "      <th></th>\n",
       "      <th>TSM</th>\n",
       "      <th>NVDA</th>\n",
       "      <th>MU</th>\n",
       "      <th>JNJ</th>\n",
       "      <th>INTC</th>\n",
       "      <th>HD</th>\n",
       "      <th>AMD</th>\n",
       "    </tr>\n",
       "  </thead>\n",
       "  <tbody>\n",
       "    <tr>\n",
       "      <th>TSM</th>\n",
       "      <td>1.000000</td>\n",
       "      <td>0.472496</td>\n",
       "      <td>0.477247</td>\n",
       "      <td>0.317493</td>\n",
       "      <td>0.500741</td>\n",
       "      <td>0.393293</td>\n",
       "      <td>0.352482</td>\n",
       "    </tr>\n",
       "    <tr>\n",
       "      <th>NVDA</th>\n",
       "      <td>0.472496</td>\n",
       "      <td>1.000000</td>\n",
       "      <td>0.517198</td>\n",
       "      <td>0.257717</td>\n",
       "      <td>0.483262</td>\n",
       "      <td>0.360918</td>\n",
       "      <td>0.471212</td>\n",
       "    </tr>\n",
       "    <tr>\n",
       "      <th>MU</th>\n",
       "      <td>0.477247</td>\n",
       "      <td>0.517198</td>\n",
       "      <td>1.000000</td>\n",
       "      <td>0.337060</td>\n",
       "      <td>0.511066</td>\n",
       "      <td>0.375932</td>\n",
       "      <td>0.438329</td>\n",
       "    </tr>\n",
       "    <tr>\n",
       "      <th>JNJ</th>\n",
       "      <td>0.317493</td>\n",
       "      <td>0.257717</td>\n",
       "      <td>0.337060</td>\n",
       "      <td>1.000000</td>\n",
       "      <td>0.318188</td>\n",
       "      <td>0.329386</td>\n",
       "      <td>0.254498</td>\n",
       "    </tr>\n",
       "    <tr>\n",
       "      <th>INTC</th>\n",
       "      <td>0.500741</td>\n",
       "      <td>0.483262</td>\n",
       "      <td>0.511066</td>\n",
       "      <td>0.318188</td>\n",
       "      <td>1.000000</td>\n",
       "      <td>0.429047</td>\n",
       "      <td>0.385877</td>\n",
       "    </tr>\n",
       "    <tr>\n",
       "      <th>HD</th>\n",
       "      <td>0.393293</td>\n",
       "      <td>0.360918</td>\n",
       "      <td>0.375932</td>\n",
       "      <td>0.329386</td>\n",
       "      <td>0.429047</td>\n",
       "      <td>1.000000</td>\n",
       "      <td>0.294653</td>\n",
       "    </tr>\n",
       "    <tr>\n",
       "      <th>AMD</th>\n",
       "      <td>0.352482</td>\n",
       "      <td>0.471212</td>\n",
       "      <td>0.438329</td>\n",
       "      <td>0.254498</td>\n",
       "      <td>0.385877</td>\n",
       "      <td>0.294653</td>\n",
       "      <td>1.000000</td>\n",
       "    </tr>\n",
       "  </tbody>\n",
       "</table>\n",
       "</div>"
      ],
      "text/plain": [
       "           TSM      NVDA        MU       JNJ      INTC        HD       AMD\n",
       "TSM   1.000000  0.472496  0.477247  0.317493  0.500741  0.393293  0.352482\n",
       "NVDA  0.472496  1.000000  0.517198  0.257717  0.483262  0.360918  0.471212\n",
       "MU    0.477247  0.517198  1.000000  0.337060  0.511066  0.375932  0.438329\n",
       "JNJ   0.317493  0.257717  0.337060  1.000000  0.318188  0.329386  0.254498\n",
       "INTC  0.500741  0.483262  0.511066  0.318188  1.000000  0.429047  0.385877\n",
       "HD    0.393293  0.360918  0.375932  0.329386  0.429047  1.000000  0.294653\n",
       "AMD   0.352482  0.471212  0.438329  0.254498  0.385877  0.294653  1.000000"
      ]
     },
     "execution_count": 26,
     "metadata": {},
     "output_type": "execute_result"
    }
   ],
   "source": [
    "# Use the `corr` function to calculate correlations for each stock pair\n",
    "# YOUR CODE HERE!\n",
    "combined_corr = combined_returns.corr()\n",
    "combined_corr.head(10)"
   ]
  },
  {
   "cell_type": "markdown",
   "metadata": {},
   "source": [
    "## 7. Plot Correlation\n",
    "  - Use the `heatmap` function from the Seaborn library to create a heatmap of correlation values.\n",
    "  - You can read more about the heatmap method from seaborn on the [documentation page](https://seaborn.pydata.org/generated/seaborn.heatmap.html#seaborn.heatmap)."
   ]
  },
  {
   "cell_type": "code",
   "execution_count": 24,
   "metadata": {},
   "outputs": [
    {
     "data": {
      "text/plain": [
       "<AxesSubplot:>"
      ]
     },
     "execution_count": 24,
     "metadata": {},
     "output_type": "execute_result"
    },
    {
     "data": {
      "image/png": "[encoded data removed]",
      "text/plain": [
       "<Figure size 432x288 with 2 Axes>"
      ]
     },
     "metadata": {
      "needs_background": "light"
     },
     "output_type": "display_data"
    }
   ],
   "source": [
    "# Create a heatmap from the correlation values\n",
    "sbs.heatmap(combined_corr)"
   ]
  },
  {
   "cell_type": "markdown",
   "metadata": {},
   "source": [
    "### Which semiconductor stock would be the best candidate to add to the existing portfolio?"
   ]
  }
 ],
 "metadata": {
  "kernelspec": {
   "display_name": "Python 3",
   "language": "python",
   "name": "python3"
  },
  "language_info": {
   "codemirror_mode": {
    "name": "ipython",
    "version": 3
   },
   "file_extension": ".py",
   "mimetype": "text/x-python",
   "name": "python",
   "nbconvert_exporter": "python",
   "pygments_lexer": "ipython3",
   "version": "3.7.10"
  }
 },
 "nbformat": 4,
 "nbformat_minor": 4
}
