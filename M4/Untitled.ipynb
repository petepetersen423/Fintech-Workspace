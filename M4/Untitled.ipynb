{
 "cells": [
  {
   "cell_type": "code",
   "execution_count": 3,
   "id": "fbee0f2b",
   "metadata": {},
   "outputs": [
    {
     "data": {
      "text/plain": [
       "close    12.288\n",
       "dtype: float64"
      ]
     },
     "execution_count": 3,
     "metadata": {},
     "output_type": "execute_result"
    }
   ],
   "source": [
    "import pandas as pd\n",
    "stock_abc = pd.DataFrame({'close' : [11.25, 11.98, 10.74, 11.16, 12.35, 12.87, 13.03, 13.14, 13.37, 12.99]})\n",
    "stock_abc\n",
    "\n",
    "mu  = stock_abc.sum() / stock_abc.count()\n",
    "\n",
    "mu"
   ]
  },
  {
   "cell_type": "code",
   "execution_count": 4,
   "id": "237a6c76",
   "metadata": {},
   "outputs": [
    {
     "data": {
      "text/plain": [
       "close    13.988\n",
       "dtype: float64"
      ]
     },
     "execution_count": 4,
     "metadata": {},
     "output_type": "execute_result"
    }
   ],
   "source": [
    "import pandas as pd\n",
    "stock_def = pd.DataFrame({'close' : [14.25, 15.98, 11.74, 13.16, 12.35, 14.87, 15.03, 16.14, 13.37, 12.99]})\n",
    "stock_def.mean()"
   ]
  },
  {
   "cell_type": "code",
   "execution_count": 11,
   "id": "293a6155",
   "metadata": {},
   "outputs": [],
   "source": [
    "# Import the required libraries and dependencies\n",
    "import pandas as pd\n",
    "import numpy as np\n",
    "from pathlib import Path\n",
    "\n",
    "%matplotlib inline"
   ]
  },
  {
   "cell_type": "code",
   "execution_count": 14,
   "id": "d7ea3f33",
   "metadata": {},
   "outputs": [],
   "source": [
    "tech_stocks = pd.read_csv(Path('/Users/pete/Documents/Fintech-Workspace/M4/01-Measuring_Risk_With_Standard_Deviation/tech_stocks_closing_value_2018.csv'),\n",
    "                     index_col=\"Date\",\n",
    "                     parse_dates = True,\n",
    "                     infer_datetime_format = True)"
   ]
  },
  {
   "cell_type": "code",
   "execution_count": 15,
   "id": "3c29e80a",
   "metadata": {},
   "outputs": [
    {
     "data": {
      "text/html": [
       "<div>\n",
       "<style scoped>\n",
       "    .dataframe tbody tr th:only-of-type {\n",
       "        vertical-align: middle;\n",
       "    }\n",
       "\n",
       "    .dataframe tbody tr th {\n",
       "        vertical-align: top;\n",
       "    }\n",
       "\n",
       "    .dataframe thead th {\n",
       "        text-align: right;\n",
       "    }\n",
       "</style>\n",
       "<table border=\"1\" class=\"dataframe\">\n",
       "  <thead>\n",
       "    <tr style=\"text-align: right;\">\n",
       "      <th></th>\n",
       "      <th>AAPL</th>\n",
       "      <th>MSFT</th>\n",
       "      <th>GOOG</th>\n",
       "      <th>FB</th>\n",
       "      <th>AMZN</th>\n",
       "    </tr>\n",
       "    <tr>\n",
       "      <th>Date</th>\n",
       "      <th></th>\n",
       "      <th></th>\n",
       "      <th></th>\n",
       "      <th></th>\n",
       "      <th></th>\n",
       "    </tr>\n",
       "  </thead>\n",
       "  <tbody>\n",
       "    <tr>\n",
       "      <th>2018-01-03</th>\n",
       "      <td>-0.000174</td>\n",
       "      <td>0.004654</td>\n",
       "      <td>0.016413</td>\n",
       "      <td>0.017914</td>\n",
       "      <td>0.012775</td>\n",
       "    </tr>\n",
       "    <tr>\n",
       "      <th>2018-01-04</th>\n",
       "      <td>0.004645</td>\n",
       "      <td>0.008801</td>\n",
       "      <td>0.003621</td>\n",
       "      <td>-0.001841</td>\n",
       "      <td>0.004476</td>\n",
       "    </tr>\n",
       "    <tr>\n",
       "      <th>2018-01-05</th>\n",
       "      <td>0.011385</td>\n",
       "      <td>0.012398</td>\n",
       "      <td>0.014571</td>\n",
       "      <td>0.013671</td>\n",
       "      <td>0.016163</td>\n",
       "    </tr>\n",
       "    <tr>\n",
       "      <th>2018-01-08</th>\n",
       "      <td>-0.003714</td>\n",
       "      <td>0.001020</td>\n",
       "      <td>0.004273</td>\n",
       "      <td>0.007653</td>\n",
       "      <td>0.014425</td>\n",
       "    </tr>\n",
       "    <tr>\n",
       "      <th>2018-01-09</th>\n",
       "      <td>-0.000115</td>\n",
       "      <td>-0.000680</td>\n",
       "      <td>-0.000614</td>\n",
       "      <td>-0.002178</td>\n",
       "      <td>0.004676</td>\n",
       "    </tr>\n",
       "  </tbody>\n",
       "</table>\n",
       "</div>"
      ],
      "text/plain": [
       "                AAPL      MSFT      GOOG        FB      AMZN\n",
       "Date                                                        \n",
       "2018-01-03 -0.000174  0.004654  0.016413  0.017914  0.012775\n",
       "2018-01-04  0.004645  0.008801  0.003621 -0.001841  0.004476\n",
       "2018-01-05  0.011385  0.012398  0.014571  0.013671  0.016163\n",
       "2018-01-08 -0.003714  0.001020  0.004273  0.007653  0.014425\n",
       "2018-01-09 -0.000115 -0.000680 -0.000614 -0.002178  0.004676"
      ]
     },
     "execution_count": 15,
     "metadata": {},
     "output_type": "execute_result"
    }
   ],
   "source": [
    "# Calculate daily returns using Pandas ‘pct_change’  and ‘dropna’\n",
    "daily_returns = tech_stocks.pct_change().dropna()\n",
    "\n",
    "# Display sample data\n",
    "daily_returns.head()\n"
   ]
  },
  {
   "cell_type": "code",
   "execution_count": 16,
   "id": "49fadd66",
   "metadata": {},
   "outputs": [
    {
     "data": {
      "text/plain": [
       "AAPL    0.018106\n",
       "MSFT    0.017839\n",
       "GOOG    0.017724\n",
       "FB      0.023949\n",
       "AMZN    0.022768\n",
       "dtype: float64"
      ]
     },
     "execution_count": 16,
     "metadata": {},
     "output_type": "execute_result"
    }
   ],
   "source": [
    "# Calculate the standard deviation for each of the tech stocks\n",
    "# call the Pandas `std` function on the `daily_returns` DataFrame\n",
    "standard_deviation = daily_returns.std()\n",
    "\n",
    "# Display results\n",
    "standard_deviation.head()\n"
   ]
  },
  {
   "cell_type": "code",
   "execution_count": 17,
   "id": "20f85702",
   "metadata": {},
   "outputs": [
    {
     "data": {
      "text/plain": [
       "GOOG    0.017724\n",
       "MSFT    0.017839\n",
       "AAPL    0.018106\n",
       "AMZN    0.022768\n",
       "FB      0.023949\n",
       "dtype: float64"
      ]
     },
     "execution_count": 17,
     "metadata": {},
     "output_type": "execute_result"
    }
   ],
   "source": [
    "# Sort the standard deviation values using Pandas 'sort_values' function\n",
    "standard_deviation_sorted = standard_deviation.sort_values()\n",
    "\n",
    "# Display results\n",
    "standard_deviation_sorted\n"
   ]
  },
  {
   "cell_type": "code",
   "execution_count": null,
   "id": "da441427",
   "metadata": {},
   "outputs": [],
   "source": [
    "# Import the required libraries and dependencies\n",
    "import pandas as pd\n",
    "import numpy as np\n",
    "from pathlib import Path\n",
    "\n",
    "%matplotlib inline"
   ]
  },
  {
   "cell_type": "code",
   "execution_count": 23,
   "id": "4d4c02f8",
   "metadata": {},
   "outputs": [],
   "source": [
    "portfolio_a = pd.read_csv(Path('/Users/pete/Documents/Fintech-Workspace/M4/02-Sharpe_Ratios/tech_stocks_2018_a.csv'),\n",
    "                     index_col=\"Date\",\n",
    "                     parse_dates = True,\n",
    "                     infer_datetime_format = True)\n",
    "\n",
    "portfolio_b = pd.read_csv(Path('/Users/pete/Documents/Fintech-Workspace/M4/02-Sharpe_Ratios/tech_stocks_2018_b.csv'),\n",
    "                     index_col=\"Date\",\n",
    "                     parse_dates = True,\n",
    "                     infer_datetime_format = True)"
   ]
  },
  {
   "cell_type": "code",
   "execution_count": 26,
   "id": "46f00c11",
   "metadata": {},
   "outputs": [
    {
     "name": "stdout",
     "output_type": "stream",
     "text": [
      "Portfolio A data\n"
     ]
    },
    {
     "data": {
      "text/html": [
       "<div>\n",
       "<style scoped>\n",
       "    .dataframe tbody tr th:only-of-type {\n",
       "        vertical-align: middle;\n",
       "    }\n",
       "\n",
       "    .dataframe tbody tr th {\n",
       "        vertical-align: top;\n",
       "    }\n",
       "\n",
       "    .dataframe thead th {\n",
       "        text-align: right;\n",
       "    }\n",
       "</style>\n",
       "<table border=\"1\" class=\"dataframe\">\n",
       "  <thead>\n",
       "    <tr style=\"text-align: right;\">\n",
       "      <th></th>\n",
       "      <th>AAPL</th>\n",
       "      <th>MSFT</th>\n",
       "      <th>GOOG</th>\n",
       "      <th>FB</th>\n",
       "      <th>AMZN</th>\n",
       "    </tr>\n",
       "    <tr>\n",
       "      <th>Date</th>\n",
       "      <th></th>\n",
       "      <th></th>\n",
       "      <th></th>\n",
       "      <th></th>\n",
       "      <th></th>\n",
       "    </tr>\n",
       "  </thead>\n",
       "  <tbody>\n",
       "    <tr>\n",
       "      <th>2018-08-22</th>\n",
       "      <td>215.05</td>\n",
       "      <td>107.06</td>\n",
       "      <td>1207.33</td>\n",
       "      <td>173.640</td>\n",
       "      <td>1904.90</td>\n",
       "    </tr>\n",
       "    <tr>\n",
       "      <th>2018-08-23</th>\n",
       "      <td>215.49</td>\n",
       "      <td>107.56</td>\n",
       "      <td>1205.38</td>\n",
       "      <td>172.900</td>\n",
       "      <td>1902.90</td>\n",
       "    </tr>\n",
       "    <tr>\n",
       "      <th>2018-08-24</th>\n",
       "      <td>216.16</td>\n",
       "      <td>108.40</td>\n",
       "      <td>1220.65</td>\n",
       "      <td>174.645</td>\n",
       "      <td>1905.39</td>\n",
       "    </tr>\n",
       "    <tr>\n",
       "      <th>2018-08-27</th>\n",
       "      <td>217.94</td>\n",
       "      <td>109.60</td>\n",
       "      <td>1241.82</td>\n",
       "      <td>177.460</td>\n",
       "      <td>1927.68</td>\n",
       "    </tr>\n",
       "    <tr>\n",
       "      <th>2018-08-28</th>\n",
       "      <td>219.70</td>\n",
       "      <td>110.26</td>\n",
       "      <td>1231.15</td>\n",
       "      <td>176.260</td>\n",
       "      <td>1932.82</td>\n",
       "    </tr>\n",
       "  </tbody>\n",
       "</table>\n",
       "</div>"
      ],
      "text/plain": [
       "              AAPL    MSFT     GOOG       FB     AMZN\n",
       "Date                                                 \n",
       "2018-08-22  215.05  107.06  1207.33  173.640  1904.90\n",
       "2018-08-23  215.49  107.56  1205.38  172.900  1902.90\n",
       "2018-08-24  216.16  108.40  1220.65  174.645  1905.39\n",
       "2018-08-27  217.94  109.60  1241.82  177.460  1927.68\n",
       "2018-08-28  219.70  110.26  1231.15  176.260  1932.82"
      ]
     },
     "metadata": {},
     "output_type": "display_data"
    },
    {
     "name": "stdout",
     "output_type": "stream",
     "text": [
      "----------\n",
      "Portfolio B data\n"
     ]
    },
    {
     "data": {
      "text/html": [
       "<div>\n",
       "<style scoped>\n",
       "    .dataframe tbody tr th:only-of-type {\n",
       "        vertical-align: middle;\n",
       "    }\n",
       "\n",
       "    .dataframe tbody tr th {\n",
       "        vertical-align: top;\n",
       "    }\n",
       "\n",
       "    .dataframe thead th {\n",
       "        text-align: right;\n",
       "    }\n",
       "</style>\n",
       "<table border=\"1\" class=\"dataframe\">\n",
       "  <thead>\n",
       "    <tr style=\"text-align: right;\">\n",
       "      <th></th>\n",
       "      <th>SNE</th>\n",
       "      <th>AMD</th>\n",
       "      <th>TWTR</th>\n",
       "      <th>IBM</th>\n",
       "      <th>MU</th>\n",
       "    </tr>\n",
       "    <tr>\n",
       "      <th>Date</th>\n",
       "      <th></th>\n",
       "      <th></th>\n",
       "      <th></th>\n",
       "      <th></th>\n",
       "      <th></th>\n",
       "    </tr>\n",
       "  </thead>\n",
       "  <tbody>\n",
       "    <tr>\n",
       "      <th>2018-08-22</th>\n",
       "      <td>54.62</td>\n",
       "      <td>20.9</td>\n",
       "      <td>33.81</td>\n",
       "      <td>145.24</td>\n",
       "      <td>50.24</td>\n",
       "    </tr>\n",
       "    <tr>\n",
       "      <th>2018-08-23</th>\n",
       "      <td>54.41</td>\n",
       "      <td>22.29</td>\n",
       "      <td>33.88</td>\n",
       "      <td>145.37</td>\n",
       "      <td>49.70</td>\n",
       "    </tr>\n",
       "    <tr>\n",
       "      <th>2018-08-24</th>\n",
       "      <td>54.54</td>\n",
       "      <td>23.98</td>\n",
       "      <td>34.28</td>\n",
       "      <td>146.04</td>\n",
       "      <td>50.70</td>\n",
       "    </tr>\n",
       "    <tr>\n",
       "      <th>2018-08-27</th>\n",
       "      <td>56.02</td>\n",
       "      <td>25.26</td>\n",
       "      <td>35.89</td>\n",
       "      <td>146.69</td>\n",
       "      <td>52.07</td>\n",
       "    </tr>\n",
       "    <tr>\n",
       "      <th>2018-08-28</th>\n",
       "      <td>55.77</td>\n",
       "      <td>25.05</td>\n",
       "      <td>35.49</td>\n",
       "      <td>146.59</td>\n",
       "      <td>52.34</td>\n",
       "    </tr>\n",
       "  </tbody>\n",
       "</table>\n",
       "</div>"
      ],
      "text/plain": [
       "              SNE    AMD   TWTR     IBM     MU\n",
       "Date                                          \n",
       "2018-08-22  54.62   20.9  33.81  145.24  50.24\n",
       "2018-08-23  54.41  22.29  33.88  145.37  49.70\n",
       "2018-08-24  54.54  23.98  34.28  146.04  50.70\n",
       "2018-08-27  56.02  25.26  35.89  146.69  52.07\n",
       "2018-08-28  55.77  25.05  35.49  146.59  52.34"
      ]
     },
     "metadata": {},
     "output_type": "display_data"
    }
   ],
   "source": [
    "# Display the first 5 rows of data for Portfolios A and B\n",
    "print(\"Portfolio A data\")\n",
    "display(portfolio_a.head())\n",
    "\n",
    "print(\"----------\")\n",
    "\n",
    "print(\"Portfolio B data\")\n",
    "display(portfolio_b.head())\n"
   ]
  },
  {
   "cell_type": "code",
   "execution_count": 27,
   "id": "8c61d15e",
   "metadata": {},
   "outputs": [
    {
     "name": "stdout",
     "output_type": "stream",
     "text": [
      "Combined Portfolios A and B data\n"
     ]
    },
    {
     "data": {
      "text/html": [
       "<div>\n",
       "<style scoped>\n",
       "    .dataframe tbody tr th:only-of-type {\n",
       "        vertical-align: middle;\n",
       "    }\n",
       "\n",
       "    .dataframe tbody tr th {\n",
       "        vertical-align: top;\n",
       "    }\n",
       "\n",
       "    .dataframe thead th {\n",
       "        text-align: right;\n",
       "    }\n",
       "</style>\n",
       "<table border=\"1\" class=\"dataframe\">\n",
       "  <thead>\n",
       "    <tr style=\"text-align: right;\">\n",
       "      <th></th>\n",
       "      <th>AAPL</th>\n",
       "      <th>MSFT</th>\n",
       "      <th>GOOG</th>\n",
       "      <th>FB</th>\n",
       "      <th>AMZN</th>\n",
       "      <th>SNE</th>\n",
       "      <th>AMD</th>\n",
       "      <th>TWTR</th>\n",
       "      <th>IBM</th>\n",
       "      <th>MU</th>\n",
       "    </tr>\n",
       "    <tr>\n",
       "      <th>Date</th>\n",
       "      <th></th>\n",
       "      <th></th>\n",
       "      <th></th>\n",
       "      <th></th>\n",
       "      <th></th>\n",
       "      <th></th>\n",
       "      <th></th>\n",
       "      <th></th>\n",
       "      <th></th>\n",
       "      <th></th>\n",
       "    </tr>\n",
       "  </thead>\n",
       "  <tbody>\n",
       "    <tr>\n",
       "      <th>2018-08-22</th>\n",
       "      <td>215.05</td>\n",
       "      <td>107.06</td>\n",
       "      <td>1207.33</td>\n",
       "      <td>173.640</td>\n",
       "      <td>1904.90</td>\n",
       "      <td>54.62</td>\n",
       "      <td>20.90</td>\n",
       "      <td>33.81</td>\n",
       "      <td>145.24</td>\n",
       "      <td>50.24</td>\n",
       "    </tr>\n",
       "    <tr>\n",
       "      <th>2018-08-23</th>\n",
       "      <td>215.49</td>\n",
       "      <td>107.56</td>\n",
       "      <td>1205.38</td>\n",
       "      <td>172.900</td>\n",
       "      <td>1902.90</td>\n",
       "      <td>54.41</td>\n",
       "      <td>22.29</td>\n",
       "      <td>33.88</td>\n",
       "      <td>145.37</td>\n",
       "      <td>49.70</td>\n",
       "    </tr>\n",
       "    <tr>\n",
       "      <th>2018-08-24</th>\n",
       "      <td>216.16</td>\n",
       "      <td>108.40</td>\n",
       "      <td>1220.65</td>\n",
       "      <td>174.645</td>\n",
       "      <td>1905.39</td>\n",
       "      <td>54.54</td>\n",
       "      <td>23.98</td>\n",
       "      <td>34.28</td>\n",
       "      <td>146.04</td>\n",
       "      <td>50.70</td>\n",
       "    </tr>\n",
       "    <tr>\n",
       "      <th>2018-08-27</th>\n",
       "      <td>217.94</td>\n",
       "      <td>109.60</td>\n",
       "      <td>1241.82</td>\n",
       "      <td>177.460</td>\n",
       "      <td>1927.68</td>\n",
       "      <td>56.02</td>\n",
       "      <td>25.26</td>\n",
       "      <td>35.89</td>\n",
       "      <td>146.69</td>\n",
       "      <td>52.07</td>\n",
       "    </tr>\n",
       "    <tr>\n",
       "      <th>2018-08-28</th>\n",
       "      <td>219.70</td>\n",
       "      <td>110.26</td>\n",
       "      <td>1231.15</td>\n",
       "      <td>176.260</td>\n",
       "      <td>1932.82</td>\n",
       "      <td>55.77</td>\n",
       "      <td>25.05</td>\n",
       "      <td>35.49</td>\n",
       "      <td>146.59</td>\n",
       "      <td>52.34</td>\n",
       "    </tr>\n",
       "  </tbody>\n",
       "</table>\n",
       "</div>"
      ],
      "text/plain": [
       "              AAPL    MSFT     GOOG       FB     AMZN    SNE    AMD   TWTR  \\\n",
       "Date                                                                         \n",
       "2018-08-22  215.05  107.06  1207.33  173.640  1904.90  54.62  20.90  33.81   \n",
       "2018-08-23  215.49  107.56  1205.38  172.900  1902.90  54.41  22.29  33.88   \n",
       "2018-08-24  216.16  108.40  1220.65  174.645  1905.39  54.54  23.98  34.28   \n",
       "2018-08-27  217.94  109.60  1241.82  177.460  1927.68  56.02  25.26  35.89   \n",
       "2018-08-28  219.70  110.26  1231.15  176.260  1932.82  55.77  25.05  35.49   \n",
       "\n",
       "               IBM     MU  \n",
       "Date                       \n",
       "2018-08-22  145.24  50.24  \n",
       "2018-08-23  145.37  49.70  \n",
       "2018-08-24  146.04  50.70  \n",
       "2018-08-27  146.69  52.07  \n",
       "2018-08-28  146.59  52.34  "
      ]
     },
     "metadata": {},
     "output_type": "display_data"
    }
   ],
   "source": [
    "# Use the read_csv function and Path module to import the combination of Portfolio A and B\n",
    "portfolios_a_b = pd.read_csv(\n",
    "    Path(\"/Users/pete/Documents/Fintech-Workspace/M4/02-Sharpe_Ratios/tech_stocks_a_b.csv\"),\n",
    "    index_col=\"Date\",\n",
    "    parse_dates=True,\n",
    "    infer_datetime_format=True\n",
    ")\n",
    "\n",
    "# Display the first five rows of data\n",
    "print(\"Combined Portfolios A and B data\")\n",
    "display(portfolios_a_b.head())\n"
   ]
  },
  {
   "cell_type": "code",
   "execution_count": 28,
   "id": "21596952",
   "metadata": {},
   "outputs": [
    {
     "data": {
      "text/html": [
       "<div>\n",
       "<style scoped>\n",
       "    .dataframe tbody tr th:only-of-type {\n",
       "        vertical-align: middle;\n",
       "    }\n",
       "\n",
       "    .dataframe tbody tr th {\n",
       "        vertical-align: top;\n",
       "    }\n",
       "\n",
       "    .dataframe thead th {\n",
       "        text-align: right;\n",
       "    }\n",
       "</style>\n",
       "<table border=\"1\" class=\"dataframe\">\n",
       "  <thead>\n",
       "    <tr style=\"text-align: right;\">\n",
       "      <th></th>\n",
       "      <th>AAPL</th>\n",
       "      <th>MSFT</th>\n",
       "      <th>GOOG</th>\n",
       "      <th>FB</th>\n",
       "      <th>AMZN</th>\n",
       "      <th>SNE</th>\n",
       "      <th>AMD</th>\n",
       "      <th>TWTR</th>\n",
       "      <th>IBM</th>\n",
       "      <th>MU</th>\n",
       "    </tr>\n",
       "    <tr>\n",
       "      <th>Date</th>\n",
       "      <th></th>\n",
       "      <th></th>\n",
       "      <th></th>\n",
       "      <th></th>\n",
       "      <th></th>\n",
       "      <th></th>\n",
       "      <th></th>\n",
       "      <th></th>\n",
       "      <th></th>\n",
       "      <th></th>\n",
       "    </tr>\n",
       "  </thead>\n",
       "  <tbody>\n",
       "    <tr>\n",
       "      <th>2018-08-23</th>\n",
       "      <td>0.002046</td>\n",
       "      <td>0.004670</td>\n",
       "      <td>-0.001615</td>\n",
       "      <td>-0.004262</td>\n",
       "      <td>-0.001050</td>\n",
       "      <td>-0.003845</td>\n",
       "      <td>0.066507</td>\n",
       "      <td>0.002070</td>\n",
       "      <td>0.000895</td>\n",
       "      <td>-0.010748</td>\n",
       "    </tr>\n",
       "    <tr>\n",
       "      <th>2018-08-24</th>\n",
       "      <td>0.003109</td>\n",
       "      <td>0.007810</td>\n",
       "      <td>0.012668</td>\n",
       "      <td>0.010093</td>\n",
       "      <td>0.001309</td>\n",
       "      <td>0.002389</td>\n",
       "      <td>0.075819</td>\n",
       "      <td>0.011806</td>\n",
       "      <td>0.004609</td>\n",
       "      <td>0.020121</td>\n",
       "    </tr>\n",
       "    <tr>\n",
       "      <th>2018-08-27</th>\n",
       "      <td>0.008235</td>\n",
       "      <td>0.011070</td>\n",
       "      <td>0.017343</td>\n",
       "      <td>0.016118</td>\n",
       "      <td>0.011698</td>\n",
       "      <td>0.027136</td>\n",
       "      <td>0.053378</td>\n",
       "      <td>0.046966</td>\n",
       "      <td>0.004451</td>\n",
       "      <td>0.027022</td>\n",
       "    </tr>\n",
       "    <tr>\n",
       "      <th>2018-08-28</th>\n",
       "      <td>0.008076</td>\n",
       "      <td>0.006022</td>\n",
       "      <td>-0.008592</td>\n",
       "      <td>-0.006762</td>\n",
       "      <td>0.002666</td>\n",
       "      <td>-0.004463</td>\n",
       "      <td>-0.008314</td>\n",
       "      <td>-0.011145</td>\n",
       "      <td>-0.000682</td>\n",
       "      <td>0.005185</td>\n",
       "    </tr>\n",
       "    <tr>\n",
       "      <th>2018-08-29</th>\n",
       "      <td>0.014929</td>\n",
       "      <td>0.015962</td>\n",
       "      <td>0.014742</td>\n",
       "      <td>-0.002042</td>\n",
       "      <td>0.033774</td>\n",
       "      <td>0.023310</td>\n",
       "      <td>0.005988</td>\n",
       "      <td>-0.003945</td>\n",
       "      <td>0.006481</td>\n",
       "      <td>-0.009744</td>\n",
       "    </tr>\n",
       "  </tbody>\n",
       "</table>\n",
       "</div>"
      ],
      "text/plain": [
       "                AAPL      MSFT      GOOG        FB      AMZN       SNE  \\\n",
       "Date                                                                     \n",
       "2018-08-23  0.002046  0.004670 -0.001615 -0.004262 -0.001050 -0.003845   \n",
       "2018-08-24  0.003109  0.007810  0.012668  0.010093  0.001309  0.002389   \n",
       "2018-08-27  0.008235  0.011070  0.017343  0.016118  0.011698  0.027136   \n",
       "2018-08-28  0.008076  0.006022 -0.008592 -0.006762  0.002666 -0.004463   \n",
       "2018-08-29  0.014929  0.015962  0.014742 -0.002042  0.033774  0.023310   \n",
       "\n",
       "                 AMD      TWTR       IBM        MU  \n",
       "Date                                                \n",
       "2018-08-23  0.066507  0.002070  0.000895 -0.010748  \n",
       "2018-08-24  0.075819  0.011806  0.004609  0.020121  \n",
       "2018-08-27  0.053378  0.046966  0.004451  0.027022  \n",
       "2018-08-28 -0.008314 -0.011145 -0.000682  0.005185  \n",
       "2018-08-29  0.005988 -0.003945  0.006481 -0.009744  "
      ]
     },
     "execution_count": 28,
     "metadata": {},
     "output_type": "execute_result"
    }
   ],
   "source": [
    "# Calculate daily returns using the combined portfolio\n",
    "daily_returns_a_b = portfolios_a_b.pct_change().dropna()\n",
    "\n",
    "# Display sample data\n",
    "daily_returns_a_b.head()\n"
   ]
  },
  {
   "cell_type": "code",
   "execution_count": 29,
   "id": "c4bc2577",
   "metadata": {},
   "outputs": [
    {
     "data": {
      "text/plain": [
       "AAPL   -0.007914\n",
       "MSFT    0.255939\n",
       "GOOG   -0.004754\n",
       "FB      0.078757\n",
       "AMZN   -0.021745\n",
       "SNE     0.034798\n",
       "AMD     0.592410\n",
       "TWTR    0.304347\n",
       "IBM    -0.083394\n",
       "MU     -0.041568\n",
       "dtype: float64"
      ]
     },
     "execution_count": 29,
     "metadata": {},
     "output_type": "execute_result"
    }
   ],
   "source": [
    "# Set the number of trading days for the year\n",
    "year_trading_days = 252\n",
    "\n",
    "# To calculate the annualized average return of portfolio,\n",
    "# calculate the mean of the daily return values for each stock in 'portfolio_a_b'\n",
    "# and then multiply that by the number of trading days in the year\n",
    "average_annual_return_portfolio_a_b = daily_returns_a_b.mean() * year_trading_days\n",
    "\n",
    "# Display the average annual return values for each stock in 'portfolio_a_b'\n",
    "average_annual_return_portfolio_a_b\n"
   ]
  },
  {
   "cell_type": "code",
   "execution_count": 31,
   "id": "1fc5e929",
   "metadata": {},
   "outputs": [
    {
     "data": {
      "text/plain": [
       "AAPL    0.320247\n",
       "MSFT    0.268657\n",
       "GOOG    0.293467\n",
       "FB      0.333875\n",
       "AMZN    0.356391\n",
       "SNE     0.314162\n",
       "AMD     0.706632\n",
       "TWTR    0.475679\n",
       "IBM     0.248172\n",
       "MU      0.480990\n",
       "dtype: float64"
      ]
     },
     "execution_count": 31,
     "metadata": {},
     "output_type": "execute_result"
    }
   ],
   "source": [
    "# To calculate the annualized standard deviation,\n",
    "# multiply the standard deviation (std) for the daily_returns_a_b DataFrame\n",
    "# by the square root (np.sqrt) of the number of trading days in the year\n",
    "annual_std_dev_portfolios_a_b = daily_returns_a_b.std() * np.sqrt(year_trading_days)\n",
    "\n",
    "# Display the results\n",
    "annual_std_dev_portfolios_a_b"
   ]
  },
  {
   "cell_type": "code",
   "execution_count": 34,
   "id": "f1ab6a90",
   "metadata": {},
   "outputs": [
    {
     "data": {
      "text/plain": [
       "IBM    -0.336033\n",
       "MU     -0.086421\n",
       "AMZN   -0.061014\n",
       "AAPL   -0.024712\n",
       "GOOG   -0.016201\n",
       "SNE     0.110764\n",
       "FB      0.235889\n",
       "TWTR    0.639816\n",
       "AMD     0.838357\n",
       "MSFT    0.952660\n",
       "dtype: float64"
      ]
     },
     "execution_count": 34,
     "metadata": {},
     "output_type": "execute_result"
    }
   ],
   "source": [
    "# Calculate Sharpe Ratio by dividing the average annual return by the standard deviation\n",
    "sharpe_ratios = average_annual_return_portfolio_a_b / annual_std_dev_portfolios_a_b\n",
    "\n",
    "# Display sorted results\n",
    "sharpe_ratios.sort_values()\n"
   ]
  },
  {
   "cell_type": "code",
   "execution_count": 36,
   "id": "bbdc699e",
   "metadata": {},
   "outputs": [
    {
     "data": {
      "text/plain": [
       "<AxesSubplot:title={'center':'Sharpe Ratios'}>"
      ]
     },
     "execution_count": 36,
     "metadata": {},
     "output_type": "execute_result"
    },
    {
     "data": {
      "image/png": "[encoded data removed]",
      "text/plain": [
       "<Figure size 432x288 with 1 Axes>"
      ]
     },
     "metadata": {
      "needs_background": "light"
     },
     "output_type": "display_data"
    }
   ],
   "source": [
    "sharpe_ratios.plot.bar(title=\"Sharpe Ratios\")"
   ]
  },
  {
   "cell_type": "code",
   "execution_count": 39,
   "id": "0b7e118a",
   "metadata": {},
   "outputs": [
    {
     "data": {
      "text/html": [
       "<div>\n",
       "<style scoped>\n",
       "    .dataframe tbody tr th:only-of-type {\n",
       "        vertical-align: middle;\n",
       "    }\n",
       "\n",
       "    .dataframe tbody tr th {\n",
       "        vertical-align: top;\n",
       "    }\n",
       "\n",
       "    .dataframe thead th {\n",
       "        text-align: right;\n",
       "    }\n",
       "</style>\n",
       "<table border=\"1\" class=\"dataframe\">\n",
       "  <thead>\n",
       "    <tr style=\"text-align: right;\">\n",
       "      <th></th>\n",
       "      <th>AMZN</th>\n",
       "      <th>S&amp;P 500</th>\n",
       "    </tr>\n",
       "    <tr>\n",
       "      <th>date</th>\n",
       "      <th></th>\n",
       "      <th></th>\n",
       "    </tr>\n",
       "  </thead>\n",
       "  <tbody>\n",
       "    <tr>\n",
       "      <th>2014-05-20</th>\n",
       "      <td>301.19</td>\n",
       "      <td>1872.829956</td>\n",
       "    </tr>\n",
       "    <tr>\n",
       "      <th>2014-05-21</th>\n",
       "      <td>305.01</td>\n",
       "      <td>1888.030029</td>\n",
       "    </tr>\n",
       "    <tr>\n",
       "      <th>2014-05-22</th>\n",
       "      <td>304.91</td>\n",
       "      <td>1892.489990</td>\n",
       "    </tr>\n",
       "    <tr>\n",
       "      <th>2014-05-23</th>\n",
       "      <td>312.24</td>\n",
       "      <td>1900.530029</td>\n",
       "    </tr>\n",
       "    <tr>\n",
       "      <th>2014-05-27</th>\n",
       "      <td>310.82</td>\n",
       "      <td>1911.910034</td>\n",
       "    </tr>\n",
       "    <tr>\n",
       "      <th>...</th>\n",
       "      <td>...</td>\n",
       "      <td>...</td>\n",
       "    </tr>\n",
       "    <tr>\n",
       "      <th>2019-05-13</th>\n",
       "      <td>1822.68</td>\n",
       "      <td>2811.870117</td>\n",
       "    </tr>\n",
       "    <tr>\n",
       "      <th>2019-05-14</th>\n",
       "      <td>1840.12</td>\n",
       "      <td>2834.409912</td>\n",
       "    </tr>\n",
       "    <tr>\n",
       "      <th>2019-05-15</th>\n",
       "      <td>1871.15</td>\n",
       "      <td>2850.959961</td>\n",
       "    </tr>\n",
       "    <tr>\n",
       "      <th>2019-05-16</th>\n",
       "      <td>1907.57</td>\n",
       "      <td>2876.320068</td>\n",
       "    </tr>\n",
       "    <tr>\n",
       "      <th>2019-05-17</th>\n",
       "      <td>1869.00</td>\n",
       "      <td>2859.530029</td>\n",
       "    </tr>\n",
       "  </tbody>\n",
       "</table>\n",
       "<p>1258 rows × 2 columns</p>\n",
       "</div>"
      ],
      "text/plain": [
       "               AMZN      S&P 500\n",
       "date                            \n",
       "2014-05-20   301.19  1872.829956\n",
       "2014-05-21   305.01  1888.030029\n",
       "2014-05-22   304.91  1892.489990\n",
       "2014-05-23   312.24  1900.530029\n",
       "2014-05-27   310.82  1911.910034\n",
       "...             ...          ...\n",
       "2019-05-13  1822.68  2811.870117\n",
       "2019-05-14  1840.12  2834.409912\n",
       "2019-05-15  1871.15  2850.959961\n",
       "2019-05-16  1907.57  2876.320068\n",
       "2019-05-17  1869.00  2859.530029\n",
       "\n",
       "[1258 rows x 2 columns]"
      ]
     },
     "execution_count": 39,
     "metadata": {},
     "output_type": "execute_result"
    }
   ],
   "source": [
    "amzn_sp500_df = pd.read_csv(Path('/Users/pete/Documents/Fintech-Workspace/M4/01-Variance_Covariance_Beta/amzn_sp500_data.csv'),\n",
    "                                    index_col=\"date\",\n",
    "                                    parse_dates = True,\n",
    "                                    infer_datetime_format = True)\n",
    "amzn_sp500_df"
   ]
  },
  {
   "cell_type": "code",
   "execution_count": 44,
   "id": "c7601a0d",
   "metadata": {},
   "outputs": [],
   "source": [
    "daily_returns_amzn_spx = amzn_sp500_df.pct_change()"
   ]
  },
  {
   "cell_type": "code",
   "execution_count": 45,
   "id": "ad917ce3",
   "metadata": {},
   "outputs": [
    {
     "data": {
      "text/html": [
       "<div>\n",
       "<style scoped>\n",
       "    .dataframe tbody tr th:only-of-type {\n",
       "        vertical-align: middle;\n",
       "    }\n",
       "\n",
       "    .dataframe tbody tr th {\n",
       "        vertical-align: top;\n",
       "    }\n",
       "\n",
       "    .dataframe thead th {\n",
       "        text-align: right;\n",
       "    }\n",
       "</style>\n",
       "<table border=\"1\" class=\"dataframe\">\n",
       "  <thead>\n",
       "    <tr style=\"text-align: right;\">\n",
       "      <th></th>\n",
       "      <th>AMZN</th>\n",
       "      <th>S&amp;P 500</th>\n",
       "    </tr>\n",
       "    <tr>\n",
       "      <th>date</th>\n",
       "      <th></th>\n",
       "      <th></th>\n",
       "    </tr>\n",
       "  </thead>\n",
       "  <tbody>\n",
       "    <tr>\n",
       "      <th>2014-05-20</th>\n",
       "      <td>NaN</td>\n",
       "      <td>NaN</td>\n",
       "    </tr>\n",
       "    <tr>\n",
       "      <th>2014-05-21</th>\n",
       "      <td>0.012683</td>\n",
       "      <td>0.008116</td>\n",
       "    </tr>\n",
       "    <tr>\n",
       "      <th>2014-05-22</th>\n",
       "      <td>-0.000328</td>\n",
       "      <td>0.002362</td>\n",
       "    </tr>\n",
       "    <tr>\n",
       "      <th>2014-05-23</th>\n",
       "      <td>0.024040</td>\n",
       "      <td>0.004248</td>\n",
       "    </tr>\n",
       "    <tr>\n",
       "      <th>2014-05-27</th>\n",
       "      <td>-0.004548</td>\n",
       "      <td>0.005988</td>\n",
       "    </tr>\n",
       "  </tbody>\n",
       "</table>\n",
       "</div>"
      ],
      "text/plain": [
       "                AMZN   S&P 500\n",
       "date                          \n",
       "2014-05-20       NaN       NaN\n",
       "2014-05-21  0.012683  0.008116\n",
       "2014-05-22 -0.000328  0.002362\n",
       "2014-05-23  0.024040  0.004248\n",
       "2014-05-27 -0.004548  0.005988"
      ]
     },
     "execution_count": 45,
     "metadata": {},
     "output_type": "execute_result"
    }
   ],
   "source": [
    "daily_returns_amzn_spx.head()"
   ]
  },
  {
   "cell_type": "code",
   "execution_count": 46,
   "id": "1a7a8ac8",
   "metadata": {},
   "outputs": [
    {
     "data": {
      "text/plain": [
       "<AxesSubplot:title={'center':'Daily Returns - Amazon & S&P 500'}, xlabel='date'>"
      ]
     },
     "execution_count": 46,
     "metadata": {},
     "output_type": "execute_result"
    },
    {
     "data": {
      "image/png": "[encoded data removed]",
      "text/plain": [
       "<Figure size 720x504 with 1 Axes>"
      ]
     },
     "metadata": {
      "needs_background": "light"
     },
     "output_type": "display_data"
    }
   ],
   "source": [
    "# Plotting the daily returns for Amazon and the S&P 500\n",
    "daily_returns_amzn_spx.plot(figsize=(10, 7), title=\"Daily Returns - Amazon & S&P 500\")\n"
   ]
  },
  {
   "cell_type": "code",
   "execution_count": 47,
   "id": "0818758b",
   "metadata": {},
   "outputs": [
    {
     "data": {
      "text/plain": [
       "AMZN       0.000363\n",
       "S&P 500    0.000070\n",
       "dtype: float64"
      ]
     },
     "execution_count": 47,
     "metadata": {},
     "output_type": "execute_result"
    }
   ],
   "source": [
    "# Using the Pandas 'var' function, calculate the variance of AMZN and the S&P 500\n",
    "daily_returns_amzn_spx.var()\n"
   ]
  },
  {
   "cell_type": "code",
   "execution_count": 48,
   "id": "03d1cee9",
   "metadata": {},
   "outputs": [
    {
     "data": {
      "text/plain": [
       "AMZN       0.000457\n",
       "S&P 500    0.000102\n",
       "dtype: float64"
      ]
     },
     "execution_count": 48,
     "metadata": {},
     "output_type": "execute_result"
    }
   ],
   "source": [
    "# # Calculate the variance for 2018-01-01 through 2019-05-17\n",
    "daily_returns_2018_2019 = daily_returns_amzn_spx.loc['2018-01-01':]\n",
    "\n",
    "# View the variance metrics\n",
    "daily_returns_2018_2019.var()\n",
    "\n"
   ]
  },
  {
   "cell_type": "code",
   "execution_count": 50,
   "id": "a15d9644",
   "metadata": {},
   "outputs": [
    {
     "name": "stdout",
     "output_type": "stream",
     "text": [
      " 0.00009344 \n"
     ]
    }
   ],
   "source": [
    "# Calculate covariance of all daily returns of AMZN vs. S&P 500\n",
    "covariance = daily_returns_amzn_spx['AMZN'].cov(daily_returns_amzn_spx['S&P 500'])\n",
    "\n",
    "# Display the covariance\n",
    "print(f\"{covariance: .8f} \")\n"
   ]
  },
  {
   "cell_type": "code",
   "execution_count": 51,
   "id": "f5897d9c",
   "metadata": {},
   "outputs": [
    {
     "data": {
      "text/plain": [
       "1.3290230173974695"
      ]
     },
     "execution_count": 51,
     "metadata": {},
     "output_type": "execute_result"
    }
   ],
   "source": [
    "# Calculate beta of all daily returns of AMZN\n",
    "# Divide the covariance of AMZN versus the S&P 500 by the variance of the S&P 500\n",
    "amzn_beta = daily_returns_amzn_spx['AMZN'].cov(daily_returns_amzn_spx['S&P 500']) / daily_returns_amzn_spx[\"S&P 500\"].var()\n",
    "\n",
    "# Display the AMZN beta\n",
    "amzn_beta"
   ]
  },
  {
   "cell_type": "code",
   "execution_count": 66,
   "id": "54c15068",
   "metadata": {},
   "outputs": [
    {
     "data": {
      "text/html": [
       "<div>\n",
       "<style scoped>\n",
       "    .dataframe tbody tr th:only-of-type {\n",
       "        vertical-align: middle;\n",
       "    }\n",
       "\n",
       "    .dataframe tbody tr th {\n",
       "        vertical-align: top;\n",
       "    }\n",
       "\n",
       "    .dataframe thead th {\n",
       "        text-align: right;\n",
       "    }\n",
       "</style>\n",
       "<table border=\"1\" class=\"dataframe\">\n",
       "  <thead>\n",
       "    <tr style=\"text-align: right;\">\n",
       "      <th></th>\n",
       "      <th>AMZN</th>\n",
       "      <th>S&amp;P 500</th>\n",
       "    </tr>\n",
       "    <tr>\n",
       "      <th>date</th>\n",
       "      <th></th>\n",
       "      <th></th>\n",
       "    </tr>\n",
       "  </thead>\n",
       "  <tbody>\n",
       "    <tr>\n",
       "      <th>2014-05-20</th>\n",
       "      <td>301.19</td>\n",
       "      <td>1872.829956</td>\n",
       "    </tr>\n",
       "    <tr>\n",
       "      <th>2014-05-21</th>\n",
       "      <td>305.01</td>\n",
       "      <td>1888.030029</td>\n",
       "    </tr>\n",
       "    <tr>\n",
       "      <th>2014-05-22</th>\n",
       "      <td>304.91</td>\n",
       "      <td>1892.489990</td>\n",
       "    </tr>\n",
       "    <tr>\n",
       "      <th>2014-05-23</th>\n",
       "      <td>312.24</td>\n",
       "      <td>1900.530029</td>\n",
       "    </tr>\n",
       "    <tr>\n",
       "      <th>2014-05-27</th>\n",
       "      <td>310.82</td>\n",
       "      <td>1911.910034</td>\n",
       "    </tr>\n",
       "    <tr>\n",
       "      <th>...</th>\n",
       "      <td>...</td>\n",
       "      <td>...</td>\n",
       "    </tr>\n",
       "    <tr>\n",
       "      <th>2019-05-13</th>\n",
       "      <td>1822.68</td>\n",
       "      <td>2811.870117</td>\n",
       "    </tr>\n",
       "    <tr>\n",
       "      <th>2019-05-14</th>\n",
       "      <td>1840.12</td>\n",
       "      <td>2834.409912</td>\n",
       "    </tr>\n",
       "    <tr>\n",
       "      <th>2019-05-15</th>\n",
       "      <td>1871.15</td>\n",
       "      <td>2850.959961</td>\n",
       "    </tr>\n",
       "    <tr>\n",
       "      <th>2019-05-16</th>\n",
       "      <td>1907.57</td>\n",
       "      <td>2876.320068</td>\n",
       "    </tr>\n",
       "    <tr>\n",
       "      <th>2019-05-17</th>\n",
       "      <td>1869.00</td>\n",
       "      <td>2859.530029</td>\n",
       "    </tr>\n",
       "  </tbody>\n",
       "</table>\n",
       "<p>1258 rows × 2 columns</p>\n",
       "</div>"
      ],
      "text/plain": [
       "               AMZN      S&P 500\n",
       "date                            \n",
       "2014-05-20   301.19  1872.829956\n",
       "2014-05-21   305.01  1888.030029\n",
       "2014-05-22   304.91  1892.489990\n",
       "2014-05-23   312.24  1900.530029\n",
       "2014-05-27   310.82  1911.910034\n",
       "...             ...          ...\n",
       "2019-05-13  1822.68  2811.870117\n",
       "2019-05-14  1840.12  2834.409912\n",
       "2019-05-15  1871.15  2850.959961\n",
       "2019-05-16  1907.57  2876.320068\n",
       "2019-05-17  1869.00  2859.530029\n",
       "\n",
       "[1258 rows x 2 columns]"
      ]
     },
     "execution_count": 66,
     "metadata": {},
     "output_type": "execute_result"
    }
   ],
   "source": [
    "daily_returns = pd.read_csv(Path('/Users/pete/Documents/Fintech-Workspace/M4/03-Rolling_Beta_Demo/amzn_sp500_data.csv'),\n",
    "                                    index_col=\"date\",\n",
    "                                    parse_dates = True,\n",
    "                                    infer_datetime_format = True)\n",
    "daily_returns"
   ]
  },
  {
   "cell_type": "code",
   "execution_count": 67,
   "id": "e2b2b381",
   "metadata": {},
   "outputs": [
    {
     "data": {
      "text/plain": [
       "<AxesSubplot:title={'center':'Rolling 30-Day Variance of S&P 500 Returns'}, xlabel='date'>"
      ]
     },
     "execution_count": 67,
     "metadata": {},
     "output_type": "execute_result"
    },
    {
     "data": {
      "image/png": "[encoded data removed]",
      "text/plain": [
       "<Figure size 720x504 with 1 Axes>"
      ]
     },
     "metadata": {
      "needs_background": "light"
     },
     "output_type": "display_data"
    }
   ],
   "source": [
    "# Calculate the rolling 30 day variance of the S&P 500 (the market)\n",
    "market_rolling_30_variance = daily_returns['S&P 500'].rolling(window=30).var()\n",
    "\n",
    "# Create the plot for the S&P 30 day rolling variance\n",
    "market_rolling_30_variance.plot(\n",
    "    figsize=(10, 7),\n",
    "    title='Rolling 30-Day Variance of S&P 500 Returns'\n",
    ")\n"
   ]
  },
  {
   "cell_type": "code",
   "execution_count": 68,
   "id": "049133be",
   "metadata": {},
   "outputs": [
    {
     "ename": "ValueError",
     "evalue": "other must be a DataFrame or Series",
     "output_type": "error",
     "traceback": [
      "\u001b[0;31m---------------------------------------------------------------------------\u001b[0m",
      "\u001b[0;31mValueError\u001b[0m                                Traceback (most recent call last)",
      "\u001b[0;32m/var/folders/1x/9qh6_xcs4m3fdny1ywkryf9w0000gq/T/ipykernel_36922/2212325677.py\u001b[0m in \u001b[0;36m<module>\u001b[0;34m\u001b[0m\n\u001b[1;32m      2\u001b[0m \u001b[0;31m#\u001b[0m\u001b[0;34m\u001b[0m\u001b[0;34m\u001b[0m\u001b[0;34m\u001b[0m\u001b[0m\n\u001b[1;32m      3\u001b[0m \u001b[0;34m\u001b[0m\u001b[0m\n\u001b[0;32m----> 4\u001b[0;31m \u001b[0mamzn_rolling_30_covariance\u001b[0m \u001b[0;34m=\u001b[0m \u001b[0mdaily_returns\u001b[0m\u001b[0;34m[\u001b[0m\u001b[0;34m'AMZN'\u001b[0m\u001b[0;34m]\u001b[0m\u001b[0;34m.\u001b[0m\u001b[0mrolling\u001b[0m\u001b[0;34m(\u001b[0m\u001b[0mwindow\u001b[0m\u001b[0;34m=\u001b[0m\u001b[0;36m30\u001b[0m\u001b[0;34m)\u001b[0m\u001b[0;34m.\u001b[0m\u001b[0mcov\u001b[0m\u001b[0;34m(\u001b[0m\u001b[0mdaily_returns\u001b[0m\u001b[0;34m[\u001b[0m\u001b[0;34m'S&P 500'\u001b[0m\u001b[0;34m]\u001b[0m\u001b[0;34m.\u001b[0m\u001b[0mrolling\u001b[0m\u001b[0;34m(\u001b[0m\u001b[0mwindow\u001b[0m\u001b[0;34m=\u001b[0m\u001b[0;36m30\u001b[0m\u001b[0;34m)\u001b[0m\u001b[0;34m)\u001b[0m\u001b[0;34m\u001b[0m\u001b[0;34m\u001b[0m\u001b[0m\n\u001b[0m\u001b[1;32m      5\u001b[0m \u001b[0;34m\u001b[0m\u001b[0m\n\u001b[1;32m      6\u001b[0m \u001b[0;31m# Create the plot for AMZN’s 30-day rolling covariance\u001b[0m\u001b[0;34m\u001b[0m\u001b[0;34m\u001b[0m\u001b[0;34m\u001b[0m\u001b[0m\n",
      "\u001b[0;32m~/opt/anaconda3/envs/dev/lib/python3.7/site-packages/pandas/core/window/rolling.py\u001b[0m in \u001b[0;36mcov\u001b[0;34m(self, other, pairwise, ddof, **kwargs)\u001b[0m\n\u001b[1;32m   2184\u001b[0m         \u001b[0;34m**\u001b[0m\u001b[0mkwargs\u001b[0m\u001b[0;34m,\u001b[0m\u001b[0;34m\u001b[0m\u001b[0;34m\u001b[0m\u001b[0m\n\u001b[1;32m   2185\u001b[0m     ):\n\u001b[0;32m-> 2186\u001b[0;31m         \u001b[0;32mreturn\u001b[0m \u001b[0msuper\u001b[0m\u001b[0;34m(\u001b[0m\u001b[0;34m)\u001b[0m\u001b[0;34m.\u001b[0m\u001b[0mcov\u001b[0m\u001b[0;34m(\u001b[0m\u001b[0mother\u001b[0m\u001b[0;34m=\u001b[0m\u001b[0mother\u001b[0m\u001b[0;34m,\u001b[0m \u001b[0mpairwise\u001b[0m\u001b[0;34m=\u001b[0m\u001b[0mpairwise\u001b[0m\u001b[0;34m,\u001b[0m \u001b[0mddof\u001b[0m\u001b[0;34m=\u001b[0m\u001b[0mddof\u001b[0m\u001b[0;34m,\u001b[0m \u001b[0;34m**\u001b[0m\u001b[0mkwargs\u001b[0m\u001b[0;34m)\u001b[0m\u001b[0;34m\u001b[0m\u001b[0;34m\u001b[0m\u001b[0m\n\u001b[0m\u001b[1;32m   2187\u001b[0m \u001b[0;34m\u001b[0m\u001b[0m\n\u001b[1;32m   2188\u001b[0m     @doc(\n",
      "\u001b[0;32m~/opt/anaconda3/envs/dev/lib/python3.7/site-packages/pandas/core/window/rolling.py\u001b[0m in \u001b[0;36mcov\u001b[0;34m(self, other, pairwise, ddof, **kwargs)\u001b[0m\n\u001b[1;32m   1428\u001b[0m             \u001b[0;32mreturn\u001b[0m \u001b[0mSeries\u001b[0m\u001b[0;34m(\u001b[0m\u001b[0mresult\u001b[0m\u001b[0;34m,\u001b[0m \u001b[0mindex\u001b[0m\u001b[0;34m=\u001b[0m\u001b[0mx\u001b[0m\u001b[0;34m.\u001b[0m\u001b[0mindex\u001b[0m\u001b[0;34m,\u001b[0m \u001b[0mname\u001b[0m\u001b[0;34m=\u001b[0m\u001b[0mx\u001b[0m\u001b[0;34m.\u001b[0m\u001b[0mname\u001b[0m\u001b[0;34m)\u001b[0m\u001b[0;34m\u001b[0m\u001b[0;34m\u001b[0m\u001b[0m\n\u001b[1;32m   1429\u001b[0m \u001b[0;34m\u001b[0m\u001b[0m\n\u001b[0;32m-> 1430\u001b[0;31m         \u001b[0;32mreturn\u001b[0m \u001b[0mself\u001b[0m\u001b[0;34m.\u001b[0m\u001b[0m_apply_pairwise\u001b[0m\u001b[0;34m(\u001b[0m\u001b[0mself\u001b[0m\u001b[0;34m.\u001b[0m\u001b[0m_selected_obj\u001b[0m\u001b[0;34m,\u001b[0m \u001b[0mother\u001b[0m\u001b[0;34m,\u001b[0m \u001b[0mpairwise\u001b[0m\u001b[0;34m,\u001b[0m \u001b[0mcov_func\u001b[0m\u001b[0;34m)\u001b[0m\u001b[0;34m\u001b[0m\u001b[0;34m\u001b[0m\u001b[0m\n\u001b[0m\u001b[1;32m   1431\u001b[0m \u001b[0;34m\u001b[0m\u001b[0m\n\u001b[1;32m   1432\u001b[0m     def corr(\n",
      "\u001b[0;32m~/opt/anaconda3/envs/dev/lib/python3.7/site-packages/pandas/core/window/rolling.py\u001b[0m in \u001b[0;36m_apply_pairwise\u001b[0;34m(self, target, other, pairwise, func)\u001b[0m\n\u001b[1;32m    476\u001b[0m             \u001b[0mpairwise\u001b[0m \u001b[0;34m=\u001b[0m \u001b[0;32mTrue\u001b[0m \u001b[0;32mif\u001b[0m \u001b[0mpairwise\u001b[0m \u001b[0;32mis\u001b[0m \u001b[0;32mNone\u001b[0m \u001b[0;32melse\u001b[0m \u001b[0mpairwise\u001b[0m\u001b[0;34m\u001b[0m\u001b[0;34m\u001b[0m\u001b[0m\n\u001b[1;32m    477\u001b[0m         \u001b[0;32melif\u001b[0m \u001b[0;32mnot\u001b[0m \u001b[0misinstance\u001b[0m\u001b[0;34m(\u001b[0m\u001b[0mother\u001b[0m\u001b[0;34m,\u001b[0m \u001b[0;34m(\u001b[0m\u001b[0mABCDataFrame\u001b[0m\u001b[0;34m,\u001b[0m \u001b[0mABCSeries\u001b[0m\u001b[0;34m)\u001b[0m\u001b[0;34m)\u001b[0m\u001b[0;34m:\u001b[0m\u001b[0;34m\u001b[0m\u001b[0;34m\u001b[0m\u001b[0m\n\u001b[0;32m--> 478\u001b[0;31m             \u001b[0;32mraise\u001b[0m \u001b[0mValueError\u001b[0m\u001b[0;34m(\u001b[0m\u001b[0;34m\"other must be a DataFrame or Series\"\u001b[0m\u001b[0;34m)\u001b[0m\u001b[0;34m\u001b[0m\u001b[0;34m\u001b[0m\u001b[0m\n\u001b[0m\u001b[1;32m    479\u001b[0m \u001b[0;34m\u001b[0m\u001b[0m\n\u001b[1;32m    480\u001b[0m         \u001b[0;32mreturn\u001b[0m \u001b[0mflex_binary_moment\u001b[0m\u001b[0;34m(\u001b[0m\u001b[0mtarget\u001b[0m\u001b[0;34m,\u001b[0m \u001b[0mother\u001b[0m\u001b[0;34m,\u001b[0m \u001b[0mfunc\u001b[0m\u001b[0;34m,\u001b[0m \u001b[0mpairwise\u001b[0m\u001b[0;34m=\u001b[0m\u001b[0mbool\u001b[0m\u001b[0;34m(\u001b[0m\u001b[0mpairwise\u001b[0m\u001b[0;34m)\u001b[0m\u001b[0;34m)\u001b[0m\u001b[0;34m\u001b[0m\u001b[0;34m\u001b[0m\u001b[0m\n",
      "\u001b[0;31mValueError\u001b[0m: other must be a DataFrame or Series"
     ]
    }
   ],
   "source": [
    "# Calculate the rolling 30-day covariance between AMZN and the S&P 500 (the market)\n",
    "#\n",
    "\n",
    "amzn_rolling_30_covariance = daily_returns['AMZN'].rolling(window=30).cov(daily_returns['S&P 500'].rolling(window=30))\n",
    "\n",
    "# Create the plot for AMZN’s 30-day rolling covariance\n",
    "#amzn_rolling_30_covariance.plot(\n",
    " #   figsize=(10, 7),\n",
    "  #  title='Rolling 30-Day Covariance of AMZN Returns vs. S&P 500 Returns'\n",
    "#)\n",
    "\n"
   ]
  },
  {
   "cell_type": "code",
   "execution_count": 69,
   "id": "2076b5f7",
   "metadata": {},
   "outputs": [
    {
     "data": {
      "image/png": "[encoded data removed]",
      "text/plain": [
       "<Figure size 720x504 with 1 Axes>"
      ]
     },
     "metadata": {
      "needs_background": "light"
     },
     "output_type": "display_data"
    }
   ],
   "source": [
    "# Calculate the rolling beta by dividing AMZN’s 30-day rolling covariance\n",
    "# by the 30-day rolling variance of the market\n",
    "amzn_rolling_30_beta = amzn_rolling_30_covariance / market_rolling_30_variance\n",
    "\n",
    "# Create the plot for AMZN’s 30-day rolling beta\n",
    "amzn_rolling_30_beta.plot(\n",
    "    figsize=(10, 7),\n",
    "    title='AMZN - Rolling 30-Day Beta'\n",
    ");\n"
   ]
  },
  {
   "cell_type": "code",
   "execution_count": 70,
   "id": "22a41a3e",
   "metadata": {},
   "outputs": [],
   "source": [
    "import pandas as pd\n",
    "import requests\n",
    "import json"
   ]
  },
  {
   "cell_type": "code",
   "execution_count": 71,
   "id": "ea860f6a",
   "metadata": {},
   "outputs": [
    {
     "name": "stdout",
     "output_type": "stream",
     "text": [
      "{\n",
      "    \"data\": {\n",
      "        \"52\": {\n",
      "            \"circulating_supply\": 47949281138,\n",
      "            \"id\": 52,\n",
      "            \"last_updated\": 1645583631,\n",
      "            \"max_supply\": 100000000000,\n",
      "            \"name\": \"XRP\",\n",
      "            \"quotes\": {\n",
      "                \"USD\": {\n",
      "                    \"market_cap\": 34260206883,\n",
      "                    \"percent_change_1h\": -0.491059640154968,\n",
      "                    \"percent_change_24h\": 0.972280304389077,\n",
      "                    \"percent_change_7d\": -16.5815495284374,\n",
      "                    \"percentage_change_1h\": -0.491059640154968,\n",
      "                    \"percentage_change_24h\": 0.972280304389077,\n",
      "                    \"percentage_change_7d\": -16.5815495284374,\n",
      "                    \"price\": 0.711125,\n",
      "                    \"volume_24h\": 4365065919\n",
      "                }\n",
      "            },\n",
      "            \"rank\": 6,\n",
      "            \"symbol\": \"XRP\",\n",
      "            \"total_supply\": 47949281138,\n",
      "            \"website_slug\": \"ripple\"\n",
      "        }\n",
      "    },\n",
      "    \"metadata\": {\n",
      "        \"error\": null,\n",
      "        \"num_cryptocurrencies\": 3105,\n",
      "        \"timestamp\": 1645583631\n",
      "    }\n",
      "}\n"
     ]
    }
   ],
   "source": [
    "# Set the Ripple endpoint\n",
    "xrp_url = \"https://api.alternative.me/v2/ticker/Ripple/\"\n",
    "\n",
    "# Fetch the current Ripple price\n",
    "response = requests.get(xrp_url).json()\n",
    "\n",
    "# Display response data\n",
    "print(json.dumps(response, indent=4, sort_keys=True))\n"
   ]
  },
  {
   "cell_type": "code",
   "execution_count": 74,
   "id": "d16a9686",
   "metadata": {},
   "outputs": [
    {
     "name": "stdout",
     "output_type": "stream",
     "text": [
      "{\n",
      "    \"data\": {\n",
      "        \"52\": {\n",
      "            \"circulating_supply\": 47949281138,\n",
      "            \"id\": 52,\n",
      "            \"last_updated\": 1645583878,\n",
      "            \"max_supply\": 100000000000,\n",
      "            \"name\": \"XRP\",\n",
      "            \"quotes\": {\n",
      "                \"USD\": {\n",
      "                    \"market_cap\": 34260206883,\n",
      "                    \"percent_change_1h\": -0.65130887236749,\n",
      "                    \"percent_change_24h\": 0.809674509020208,\n",
      "                    \"percent_change_7d\": -16.7158866301298,\n",
      "                    \"percentage_change_1h\": -0.65130887236749,\n",
      "                    \"percentage_change_24h\": 0.809674509020208,\n",
      "                    \"percentage_change_7d\": -16.7158866301298,\n",
      "                    \"price\": 0.70998,\n",
      "                    \"volume_24h\": 4168159569\n",
      "                }\n",
      "            },\n",
      "            \"rank\": 6,\n",
      "            \"symbol\": \"XRP\",\n",
      "            \"total_supply\": 47949281138,\n",
      "            \"website_slug\": \"ripple\"\n",
      "        }\n",
      "    },\n",
      "    \"metadata\": {\n",
      "        \"error\": null,\n",
      "        \"num_cryptocurrencies\": 3105,\n",
      "        \"timestamp\": 1645583878\n",
      "    }\n",
      "}\n"
     ]
    }
   ],
   "source": [
    "# Set the Ripple endpoint\n",
    "xrp_url = \"https://api.alternative.me/v2/ticker/Ripple/\"\n",
    "\n",
    "# Fetch the current Ripple price\n",
    "response_xrp = requests.get(xrp_url).json()\n",
    "\n",
    "# Display response data\n",
    "print(json.dumps(response_xrp, indent=4, sort_keys=True))\n",
    "\n"
   ]
  },
  {
   "cell_type": "code",
   "execution_count": 75,
   "id": "f9fdc828",
   "metadata": {},
   "outputs": [
    {
     "name": "stdout",
     "output_type": "stream",
     "text": [
      "The symbol for Ripple is XRP\n",
      "The price for Ripple is $0.70998\n"
     ]
    }
   ],
   "source": [
    "xrp_symbol = response_xrp['data']['52']['symbol']\n",
    "print(f\"The symbol for Ripple is {xrp_symbol}\")\n",
    "\n",
    "xrp_price = response_xrp['data']['52']['quotes']['USD']['price']\n",
    "print(f\"The price for Ripple is ${xrp_price}\")"
   ]
  },
  {
   "cell_type": "code",
   "execution_count": null,
   "id": "1e485370",
   "metadata": {},
   "outputs": [],
   "source": []
  },
  {
   "cell_type": "code",
   "execution_count": 80,
   "id": "9e9e5024",
   "metadata": {},
   "outputs": [
    {
     "name": "stdout",
     "output_type": "stream",
     "text": [
      "{\n",
      "        \"data\": {\n",
      "                \"2\": {\n",
      "                        \"circulating_supply\": 69699121,\n",
      "                        \"id\": 2,\n",
      "                        \"last_updated\": 1645584237,\n",
      "                        \"max_supply\": 84000000,\n",
      "                        \"name\": \"Litecoin\",\n",
      "                        \"quotes\": {\n",
      "                                \"USD\": {\n",
      "                                        \"market_cap\": 7391996949,\n",
      "                                        \"percent_change_1h\": -0.230337694930864,\n",
      "                                        \"percent_change_24h\": 2.90691675119815,\n",
      "                                        \"percent_change_7d\": -19.4268321041653,\n",
      "                                        \"percentage_change_1h\": -0.230337694930864,\n",
      "                                        \"percentage_change_24h\": 2.90691675119815,\n",
      "                                        \"percentage_change_7d\": -19.4268321041653,\n",
      "                                        \"price\": 106.11,\n",
      "                                        \"volume_24h\": 721670117\n",
      "                                }\n",
      "                        },\n",
      "                        \"rank\": 15,\n",
      "                        \"symbol\": \"LTC\",\n",
      "                        \"total_supply\": 69699121,\n",
      "                        \"website_slug\": \"litecoin\"\n",
      "                }\n",
      "        },\n",
      "        \"metadata\": {\n",
      "                \"error\": null,\n",
      "                \"num_cryptocurrencies\": 3105,\n",
      "                \"timestamp\": 1645584237\n",
      "        }\n",
      "}\n"
     ]
    }
   ],
   "source": [
    "# Import the required libraries and dependencies\n",
    "import pandas as pd\n",
    "import requests\n",
    "import json\n",
    "\n",
    "# Set the Ripple endpoint\n",
    "ltc_url = \"https://api.alternative.me/v2/ticker/Litecoin/\"\n",
    "\n",
    "# Fetch the current Ripple price\n",
    "ltc_response = requests.get(ltc_url).json()\n",
    "\n",
    "# Display response data\n",
    "print(json.dumps(ltc_response, indent=8, sort_keys=True))\n"
   ]
  },
  {
   "cell_type": "code",
   "execution_count": 84,
   "id": "66e54a77",
   "metadata": {},
   "outputs": [
    {
     "name": "stdout",
     "output_type": "stream",
     "text": [
      "The price for Ripple is $15\n"
     ]
    }
   ],
   "source": [
    "ltc_rank = ltc_response['data']['2']['rank']\n",
    "print(f\"The price for Ripple is ${ltc_rank}\")"
   ]
  },
  {
   "cell_type": "code",
   "execution_count": null,
   "id": "7eb5b966",
   "metadata": {},
   "outputs": [],
   "source": []
  }
 ],
 "metadata": {
  "kernelspec": {
   "display_name": "dev",
   "language": "python",
   "name": "dev"
  },
  "language_info": {
   "codemirror_mode": {
    "name": "ipython",
    "version": 3
   },
   "file_extension": ".py",
   "mimetype": "text/x-python",
   "name": "python",
   "nbconvert_exporter": "python",
   "pygments_lexer": "ipython3",
   "version": "3.7.11"
  }
 },
 "nbformat": 4,
 "nbformat_minor": 5
}
