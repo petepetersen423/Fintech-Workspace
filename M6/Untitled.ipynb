{
 "cells": [
  {
   "cell_type": "code",
   "execution_count": 17,
   "id": "1a3f5a6b",
   "metadata": {},
   "outputs": [],
   "source": [
    "# Import the required libraries\n",
    "import pandas as pd\n",
    "from pathlib import Path\n",
    "import hvplot.pandas"
   ]
  },
  {
   "cell_type": "code",
   "execution_count": 14,
   "id": "cc4c514c",
   "metadata": {},
   "outputs": [
    {
     "data": {
      "text/html": [
       "<div>\n",
       "<style scoped>\n",
       "    .dataframe tbody tr th:only-of-type {\n",
       "        vertical-align: middle;\n",
       "    }\n",
       "\n",
       "    .dataframe tbody tr th {\n",
       "        vertical-align: top;\n",
       "    }\n",
       "\n",
       "    .dataframe thead th {\n",
       "        text-align: right;\n",
       "    }\n",
       "</style>\n",
       "<table border=\"1\" class=\"dataframe\">\n",
       "  <thead>\n",
       "    <tr style=\"text-align: right;\">\n",
       "      <th></th>\n",
       "      <th>prices (in thousands)</th>\n",
       "      <th>zip</th>\n",
       "      <th>state</th>\n",
       "    </tr>\n",
       "  </thead>\n",
       "  <tbody>\n",
       "    <tr>\n",
       "      <th>0</th>\n",
       "      <td>947</td>\n",
       "      <td>90210</td>\n",
       "      <td>CA</td>\n",
       "    </tr>\n",
       "    <tr>\n",
       "      <th>1</th>\n",
       "      <td>444</td>\n",
       "      <td>90210</td>\n",
       "      <td>CA</td>\n",
       "    </tr>\n",
       "    <tr>\n",
       "      <th>2</th>\n",
       "      <td>281</td>\n",
       "      <td>90210</td>\n",
       "      <td>CA</td>\n",
       "    </tr>\n",
       "    <tr>\n",
       "      <th>3</th>\n",
       "      <td>823</td>\n",
       "      <td>60606</td>\n",
       "      <td>IL</td>\n",
       "    </tr>\n",
       "    <tr>\n",
       "      <th>4</th>\n",
       "      <td>395</td>\n",
       "      <td>60606</td>\n",
       "      <td>IL</td>\n",
       "    </tr>\n",
       "  </tbody>\n",
       "</table>\n",
       "</div>"
      ],
      "text/plain": [
       "   prices (in thousands)    zip state\n",
       "0                    947  90210    CA\n",
       "1                    444  90210    CA\n",
       "2                    281  90210    CA\n",
       "3                    823  60606    IL\n",
       "4                    395  60606    IL"
      ]
     },
     "metadata": {},
     "output_type": "display_data"
    },
    {
     "data": {
      "text/html": [
       "<div>\n",
       "<style scoped>\n",
       "    .dataframe tbody tr th:only-of-type {\n",
       "        vertical-align: middle;\n",
       "    }\n",
       "\n",
       "    .dataframe tbody tr th {\n",
       "        vertical-align: top;\n",
       "    }\n",
       "\n",
       "    .dataframe thead th {\n",
       "        text-align: right;\n",
       "    }\n",
       "</style>\n",
       "<table border=\"1\" class=\"dataframe\">\n",
       "  <thead>\n",
       "    <tr style=\"text-align: right;\">\n",
       "      <th></th>\n",
       "      <th>prices (in thousands)</th>\n",
       "      <th>zip</th>\n",
       "      <th>state</th>\n",
       "    </tr>\n",
       "  </thead>\n",
       "  <tbody>\n",
       "    <tr>\n",
       "      <th>95</th>\n",
       "      <td>512</td>\n",
       "      <td>90210</td>\n",
       "      <td>CA</td>\n",
       "    </tr>\n",
       "    <tr>\n",
       "      <th>96</th>\n",
       "      <td>731</td>\n",
       "      <td>90210</td>\n",
       "      <td>CA</td>\n",
       "    </tr>\n",
       "    <tr>\n",
       "      <th>97</th>\n",
       "      <td>725</td>\n",
       "      <td>60606</td>\n",
       "      <td>IL</td>\n",
       "    </tr>\n",
       "    <tr>\n",
       "      <th>98</th>\n",
       "      <td>875</td>\n",
       "      <td>90210</td>\n",
       "      <td>CA</td>\n",
       "    </tr>\n",
       "    <tr>\n",
       "      <th>99</th>\n",
       "      <td>463</td>\n",
       "      <td>60606</td>\n",
       "      <td>IL</td>\n",
       "    </tr>\n",
       "  </tbody>\n",
       "</table>\n",
       "</div>"
      ],
      "text/plain": [
       "    prices (in thousands)    zip state\n",
       "95                    512  90210    CA\n",
       "96                    731  90210    CA\n",
       "97                    725  60606    IL\n",
       "98                    875  90210    CA\n",
       "99                    463  60606    IL"
      ]
     },
     "metadata": {},
     "output_type": "display_data"
    }
   ],
   "source": [
    "houses_df = pd.DataFrame({\n",
    "    'prices (in thousands)': np.random.randint(100, 1000, 100),\n",
    "    'zip': np.random.choice([90210, 60606], 100)\n",
    "})\n",
    "houses_df.loc[houses_df.zip == 90210, \"state\"] = \"CA\"\n",
    "houses_df.loc[houses_df.zip == 60606, \"state\"] = \"IL\"\n",
    "display(houses_df.head())\n",
    "display(houses_df.tail())"
   ]
  },
  {
   "cell_type": "code",
   "execution_count": 15,
   "id": "756d5051",
   "metadata": {},
   "outputs": [
    {
     "data": {
      "application/vnd.holoviews_exec.v0+json": "",
      "text/html": [
       "<div id='1002'>\n",
       "\n",
       "\n",
       "\n",
       "\n",
       "\n",
       "  <div class=\"bk-root\" id=\"75eb5f9c-d1d1-4d2a-bfbb-ad15be7e3de7\" data-root-id=\"1002\"></div>\n",
       "</div>\n",
       "<script type=\"application/javascript\">(function(root) {\n",
       "  function embed_document(root) {\n",
       "    var docs_json = {\"b74d9458-b63b-4ced-8062-4e1984a55c81\":{\"defs\":[{\"extends\":null,\"module\":null,\"name\":\"ReactiveHTML1\",\"overrides\":[],\"properties\":[]},{\"extends\":null,\"module\":null,\"name\":\"FlexBox1\",\"overrides\":[],\"properties\":[{\"default\":\"flex-start\",\"kind\":null,\"name\":\"align_content\"},{\"default\":\"flex-start\",\"kind\":null,\"name\":\"align_items\"},{\"default\":\"row\",\"kind\":null,\"name\":\"flex_direction\"},{\"default\":\"wrap\",\"kind\":null,\"name\":\"flex_wrap\"},{\"default\":\"flex-start\",\"kind\":null,\"name\":\"justify_content\"}]},{\"extends\":null,\"module\":null,\"name\":\"TemplateActions1\",\"overrides\":[],\"properties\":[{\"default\":0,\"kind\":null,\"name\":\"open_modal\"},{\"default\":0,\"kind\":null,\"name\":\"close_modal\"}]},{\"extends\":null,\"module\":null,\"name\":\"MaterialTemplateActions1\",\"overrides\":[],\"properties\":[{\"default\":0,\"kind\":null,\"name\":\"open_modal\"},{\"default\":0,\"kind\":null,\"name\":\"close_modal\"}]}],\"roots\":{\"references\":[{\"attributes\":{\"end\":1080.6,\"reset_end\":1080.6,\"reset_start\":53.39999999999999,\"start\":53.39999999999999,\"tags\":[[[\"prices (in thousands)\",\"prices (in thousands)\",null]]]},\"id\":\"1005\",\"type\":\"Range1d\"},{\"attributes\":{\"axis\":{\"id\":\"1020\"},\"coordinates\":null,\"dimension\":1,\"grid_line_color\":null,\"group\":null,\"ticker\":null},\"id\":\"1023\",\"type\":\"Grid\"},{\"attributes\":{},\"id\":\"1048\",\"type\":\"AllLabels\"},{\"attributes\":{},\"id\":\"1014\",\"type\":\"LinearScale\"},{\"attributes\":{\"bottom_units\":\"screen\",\"coordinates\":null,\"fill_alpha\":0.5,\"fill_color\":\"lightgrey\",\"group\":null,\"left_units\":\"screen\",\"level\":\"overlay\",\"line_alpha\":1.0,\"line_color\":\"black\",\"line_dash\":[4,4],\"line_width\":2,\"right_units\":\"screen\",\"syncable\":false,\"top_units\":\"screen\"},\"id\":\"1029\",\"type\":\"BoxAnnotation\"},{\"attributes\":{\"children\":[{\"id\":\"1082\"}],\"css_classes\":[\"panel-widget-box\"],\"margin\":[5,5,5,5],\"name\":\"WidgetBox01576\"},\"id\":\"1081\",\"type\":\"Column\"},{\"attributes\":{\"axis_label\":\"\",\"coordinates\":null,\"formatter\":{\"id\":\"1047\"},\"group\":null,\"major_label_policy\":{\"id\":\"1048\"},\"ticker\":{\"id\":\"1017\"}},\"id\":\"1016\",\"type\":\"LinearAxis\"},{\"attributes\":{\"children\":[{\"id\":\"1080\"},{\"id\":\"1081\"},{\"id\":\"1083\"}],\"margin\":[0,0,0,0],\"name\":\"Column01583\"},\"id\":\"1079\",\"type\":\"Column\"},{\"attributes\":{\"margin\":[5,5,5,5],\"name\":\"HSpacer01585\",\"sizing_mode\":\"stretch_width\"},\"id\":\"1078\",\"type\":\"Spacer\"},{\"attributes\":{\"axis_label\":\"prices (in thousands)\",\"coordinates\":null,\"formatter\":{\"id\":\"1050\"},\"group\":null,\"major_label_policy\":{\"id\":\"1051\"},\"ticker\":{\"id\":\"1021\"}},\"id\":\"1020\",\"type\":\"LinearAxis\"},{\"attributes\":{\"line_color\":\"#30a2da\",\"line_width\":2,\"x\":{\"field\":\"index\"},\"y\":{\"field\":\"prices (in thousands)\"}},\"id\":\"1040\",\"type\":\"Line\"},{\"attributes\":{},\"id\":\"1050\",\"type\":\"BasicTickFormatter\"},{\"attributes\":{},\"id\":\"1065\",\"type\":\"UnionRenderers\"},{\"attributes\":{},\"id\":\"1038\",\"type\":\"Selection\"},{\"attributes\":{},\"id\":\"1047\",\"type\":\"BasicTickFormatter\"},{\"attributes\":{\"axis\":{\"id\":\"1016\"},\"coordinates\":null,\"grid_line_color\":null,\"group\":null,\"ticker\":null},\"id\":\"1019\",\"type\":\"Grid\"},{\"attributes\":{},\"id\":\"1021\",\"type\":\"BasicTicker\"},{\"attributes\":{},\"id\":\"1051\",\"type\":\"AllLabels\"},{\"attributes\":{\"line_alpha\":0.2,\"line_color\":\"#30a2da\",\"line_width\":2,\"x\":{\"field\":\"index\"},\"y\":{\"field\":\"prices (in thousands)\"}},\"id\":\"1042\",\"type\":\"Line\"},{\"attributes\":{\"coordinates\":null,\"data_source\":{\"id\":\"1037\"},\"glyph\":{\"id\":\"1040\"},\"group\":null,\"hover_glyph\":null,\"muted_glyph\":{\"id\":\"1042\"},\"nonselection_glyph\":{\"id\":\"1041\"},\"selection_glyph\":{\"id\":\"1045\"},\"view\":{\"id\":\"1044\"}},\"id\":\"1043\",\"type\":\"GlyphRenderer\"},{\"attributes\":{\"source\":{\"id\":\"1037\"}},\"id\":\"1044\",\"type\":\"CDSView\"},{\"attributes\":{\"callback\":null,\"renderers\":[{\"id\":\"1043\"}],\"tags\":[\"hv_created\"],\"tooltips\":[[\"index\",\"@{index}\"],[\"prices (in thousands)\",\"@{prices_left_parenthesis_in_thousands_right_parenthesis}\"]]},\"id\":\"1006\",\"type\":\"HoverTool\"},{\"attributes\":{\"line_color\":\"#30a2da\",\"line_width\":2,\"x\":{\"field\":\"index\"},\"y\":{\"field\":\"prices (in thousands)\"}},\"id\":\"1045\",\"type\":\"Line\"},{\"attributes\":{\"margin\":[5,5,5,5],\"name\":\"HSpacer01584\",\"sizing_mode\":\"stretch_width\"},\"id\":\"1003\",\"type\":\"Spacer\"},{\"attributes\":{\"tools\":[{\"id\":\"1006\"},{\"id\":\"1024\"},{\"id\":\"1025\"},{\"id\":\"1026\"},{\"id\":\"1027\"},{\"id\":\"1028\"}]},\"id\":\"1030\",\"type\":\"Toolbar\"},{\"attributes\":{},\"id\":\"1024\",\"type\":\"SaveTool\"},{\"attributes\":{},\"id\":\"1017\",\"type\":\"BasicTicker\"},{\"attributes\":{},\"id\":\"1012\",\"type\":\"LinearScale\"},{\"attributes\":{\"line_alpha\":0.1,\"line_color\":\"#30a2da\",\"line_width\":2,\"x\":{\"field\":\"index\"},\"y\":{\"field\":\"prices (in thousands)\"}},\"id\":\"1041\",\"type\":\"Line\"},{\"attributes\":{\"end\":98.0,\"reset_end\":98.0,\"reset_start\":0.0,\"tags\":[[[\"index\",\"index\",null]]]},\"id\":\"1004\",\"type\":\"Range1d\"},{\"attributes\":{},\"id\":\"1025\",\"type\":\"PanTool\"},{\"attributes\":{\"margin\":[20,20,20,20],\"min_width\":250,\"options\":[\"CA\",\"IL\"],\"title\":\"state\",\"value\":\"CA\",\"width\":250},\"id\":\"1082\",\"type\":\"Select\"},{\"attributes\":{\"children\":[{\"id\":\"1003\"},{\"id\":\"1007\"},{\"id\":\"1078\"},{\"id\":\"1079\"}],\"margin\":[0,0,0,0],\"name\":\"Row01575\"},\"id\":\"1002\",\"type\":\"Row\"},{\"attributes\":{\"below\":[{\"id\":\"1016\"}],\"center\":[{\"id\":\"1019\"},{\"id\":\"1023\"}],\"height\":300,\"left\":[{\"id\":\"1020\"}],\"margin\":[5,5,5,5],\"min_border_bottom\":10,\"min_border_left\":10,\"min_border_right\":10,\"min_border_top\":10,\"renderers\":[{\"id\":\"1043\"}],\"sizing_mode\":\"fixed\",\"title\":{\"id\":\"1008\"},\"toolbar\":{\"id\":\"1030\"},\"width\":700,\"x_range\":{\"id\":\"1004\"},\"x_scale\":{\"id\":\"1012\"},\"y_range\":{\"id\":\"1005\"},\"y_scale\":{\"id\":\"1014\"}},\"id\":\"1007\",\"subtype\":\"Figure\",\"type\":\"Plot\"},{\"attributes\":{\"coordinates\":null,\"group\":null,\"text\":\"state: CA\",\"text_color\":\"black\",\"text_font_size\":\"12pt\"},\"id\":\"1008\",\"type\":\"Title\"},{\"attributes\":{\"margin\":[5,5,5,5],\"name\":\"VSpacer01581\",\"sizing_mode\":\"stretch_height\"},\"id\":\"1080\",\"type\":\"Spacer\"},{\"attributes\":{},\"id\":\"1026\",\"type\":\"WheelZoomTool\"},{\"attributes\":{},\"id\":\"1028\",\"type\":\"ResetTool\"},{\"attributes\":{\"client_comm_id\":\"5bebebe5d4354b7abd4d45f7d862d033\",\"comm_id\":\"3d9a3c54fefe4837aa3ff8a52dd197a8\",\"plot_id\":\"1002\"},\"id\":\"1114\",\"type\":\"panel.models.comm_manager.CommManager\"},{\"attributes\":{\"margin\":[5,5,5,5],\"name\":\"VSpacer01582\",\"sizing_mode\":\"stretch_height\"},\"id\":\"1083\",\"type\":\"Spacer\"},{\"attributes\":{\"overlay\":{\"id\":\"1029\"}},\"id\":\"1027\",\"type\":\"BoxZoomTool\"},{\"attributes\":{\"data\":{\"index\":[0,1,2,6,9,12,18,20,23,24,27,28,29,31,32,33,35,36,37,38,40,41,44,45,46,48,49,53,54,55,56,60,61,64,65,66,68,70,71,72,76,77,78,79,82,84,85,87,89,90,93,94,95,96,98],\"prices (in thousands)\":[947,444,281,415,139,799,191,301,738,523,957,360,188,747,266,987,345,696,672,295,143,806,995,191,612,552,930,180,259,358,864,184,969,703,279,853,705,877,749,721,314,472,673,746,322,725,662,978,880,729,676,992,512,731,875],\"prices_left_parenthesis_in_thousands_right_parenthesis\":[947,444,281,415,139,799,191,301,738,523,957,360,188,747,266,987,345,696,672,295,143,806,995,191,612,552,930,180,259,358,864,184,969,703,279,853,705,877,749,721,314,472,673,746,322,725,662,978,880,729,676,992,512,731,875]},\"selected\":{\"id\":\"1038\"},\"selection_policy\":{\"id\":\"1065\"}},\"id\":\"1037\",\"type\":\"ColumnDataSource\"}],\"root_ids\":[\"1002\",\"1114\"]},\"title\":\"Bokeh Application\",\"version\":\"2.4.2\"}};\n",
       "    var render_items = [{\"docid\":\"b74d9458-b63b-4ced-8062-4e1984a55c81\",\"root_ids\":[\"1002\"],\"roots\":{\"1002\":\"75eb5f9c-d1d1-4d2a-bfbb-ad15be7e3de7\"}}];\n",
       "    root.Bokeh.embed.embed_items_notebook(docs_json, render_items);\n",
       "  }\n",
       "  if (root.Bokeh !== undefined && root.Bokeh.Panel !== undefined) {\n",
       "    embed_document(root);\n",
       "  } else {\n",
       "    var attempts = 0;\n",
       "    var timer = setInterval(function(root) {\n",
       "      if (root.Bokeh !== undefined && root.Bokeh.Panel !== undefined) {\n",
       "        clearInterval(timer);\n",
       "        embed_document(root);\n",
       "      } else if (document.readyState == \"complete\") {\n",
       "        attempts++;\n",
       "        if (attempts > 200) {\n",
       "          clearInterval(timer);\n",
       "          console.log(\"Bokeh: ERROR: Unable to run BokehJS code because BokehJS library is missing\");\n",
       "        }\n",
       "      }\n",
       "    }, 25, root)\n",
       "  }\n",
       "})(window);</script>"
      ],
      "text/plain": [
       ":DynamicMap   [state]\n",
       "   :Curve   [index]   (prices (in thousands))"
      ]
     },
     "execution_count": 15,
     "metadata": {
      "application/vnd.holoviews_exec.v0+json": {
       "id": "1002"
      }
     },
     "output_type": "execute_result"
    }
   ],
   "source": [
    "houses_df.hvplot(y=\"prices (in thousands)\", groupby=\"state\")"
   ]
  },
  {
   "cell_type": "code",
   "execution_count": 16,
   "id": "e3ed8459",
   "metadata": {},
   "outputs": [
    {
     "name": "stderr",
     "output_type": "stream",
     "text": [
      "/Users/pete/opt/anaconda3/envs/dev/lib/python3.7/site-packages/matplotlib/font_manager.py:232: UserWarning: Matplotlib is building the font cache using fc-list. This may take a moment.\n",
      "  'Matplotlib is building the font cache using fc-list. '\n"
     ]
    },
    {
     "data": {
      "application/vnd.holoviews_exec.v0+json": "",
      "text/html": [
       "<div id='1165'>\n",
       "\n",
       "\n",
       "\n",
       "\n",
       "\n",
       "  <div class=\"bk-root\" id=\"acf7b8a4-88f4-401f-afcb-00616841480b\" data-root-id=\"1165\"></div>\n",
       "</div>\n",
       "<script type=\"application/javascript\">(function(root) {\n",
       "  function embed_document(root) {\n",
       "    var docs_json = {\"bd8a510f-2778-46c5-802a-a7f1c5309a8d\":{\"defs\":[{\"extends\":null,\"module\":null,\"name\":\"ReactiveHTML1\",\"overrides\":[],\"properties\":[]},{\"extends\":null,\"module\":null,\"name\":\"FlexBox1\",\"overrides\":[],\"properties\":[{\"default\":\"flex-start\",\"kind\":null,\"name\":\"align_content\"},{\"default\":\"flex-start\",\"kind\":null,\"name\":\"align_items\"},{\"default\":\"row\",\"kind\":null,\"name\":\"flex_direction\"},{\"default\":\"wrap\",\"kind\":null,\"name\":\"flex_wrap\"},{\"default\":\"flex-start\",\"kind\":null,\"name\":\"justify_content\"}]},{\"extends\":null,\"module\":null,\"name\":\"TemplateActions1\",\"overrides\":[],\"properties\":[{\"default\":0,\"kind\":null,\"name\":\"open_modal\"},{\"default\":0,\"kind\":null,\"name\":\"close_modal\"}]},{\"extends\":null,\"module\":null,\"name\":\"MaterialTemplateActions1\",\"overrides\":[],\"properties\":[{\"default\":0,\"kind\":null,\"name\":\"open_modal\"},{\"default\":0,\"kind\":null,\"name\":\"close_modal\"}]}],\"roots\":{\"references\":[{\"attributes\":{\"margin\":[5,5,5,5],\"name\":\"VSpacer01845\",\"sizing_mode\":\"stretch_height\"},\"id\":\"1248\",\"type\":\"Spacer\"},{\"attributes\":{},\"id\":\"1201\",\"type\":\"Selection\"},{\"attributes\":{\"end\":1,\"js_property_callbacks\":{\"change:value\":[{\"id\":\"1259\"}]},\"margin\":[0,20,20,20],\"min_width\":250,\"show_value\":false,\"start\":0,\"tooltips\":false,\"value\":0,\"width\":250},\"id\":\"1247\",\"type\":\"Slider\"},{\"attributes\":{},\"id\":\"1187\",\"type\":\"SaveTool\"},{\"attributes\":{\"coordinates\":null,\"group\":null,\"text\":\"zip: 60606\",\"text_color\":\"black\",\"text_font_size\":\"12pt\"},\"id\":\"1171\",\"type\":\"Title\"},{\"attributes\":{\"coordinates\":null,\"data_source\":{\"id\":\"1200\"},\"glyph\":{\"id\":\"1203\"},\"group\":null,\"hover_glyph\":null,\"muted_glyph\":{\"id\":\"1205\"},\"nonselection_glyph\":{\"id\":\"1204\"},\"selection_glyph\":{\"id\":\"1208\"},\"view\":{\"id\":\"1207\"}},\"id\":\"1206\",\"type\":\"GlyphRenderer\"},{\"attributes\":{\"margin\":[5,5,5,5],\"name\":\"VSpacer01844\",\"sizing_mode\":\"stretch_height\"},\"id\":\"1243\",\"type\":\"Spacer\"},{\"attributes\":{},\"id\":\"1188\",\"type\":\"PanTool\"},{\"attributes\":{\"end\":99.0,\"reset_end\":99.0,\"reset_start\":3.0,\"start\":3.0,\"tags\":[[[\"index\",\"index\",null]]]},\"id\":\"1167\",\"type\":\"Range1d\"},{\"attributes\":{},\"id\":\"1189\",\"type\":\"WheelZoomTool\"},{\"attributes\":{\"overlay\":{\"id\":\"1192\"}},\"id\":\"1190\",\"type\":\"BoxZoomTool\"},{\"attributes\":{},\"id\":\"1211\",\"type\":\"AllLabels\"},{\"attributes\":{},\"id\":\"1228\",\"type\":\"UnionRenderers\"},{\"attributes\":{\"margin\":[5,5,5,5],\"name\":\"HSpacer01848\",\"sizing_mode\":\"stretch_width\"},\"id\":\"1241\",\"type\":\"Spacer\"},{\"attributes\":{},\"id\":\"1213\",\"type\":\"BasicTickFormatter\"},{\"attributes\":{},\"id\":\"1210\",\"type\":\"BasicTickFormatter\"},{\"attributes\":{\"line_color\":\"#30a2da\",\"line_width\":2,\"x\":{\"field\":\"index\"},\"y\":{\"field\":\"prices (in thousands)\"}},\"id\":\"1208\",\"type\":\"Line\"},{\"attributes\":{\"callback\":null,\"renderers\":[{\"id\":\"1206\"}],\"tags\":[\"hv_created\"],\"tooltips\":[[\"index\",\"@{index}\"],[\"prices (in thousands)\",\"@{prices_left_parenthesis_in_thousands_right_parenthesis}\"]]},\"id\":\"1169\",\"type\":\"HoverTool\"},{\"attributes\":{},\"id\":\"1191\",\"type\":\"ResetTool\"},{\"attributes\":{},\"id\":\"1175\",\"type\":\"LinearScale\"},{\"attributes\":{\"end\":1081.5,\"reset_end\":1081.5,\"reset_start\":19.5,\"start\":19.5,\"tags\":[[[\"prices (in thousands)\",\"prices (in thousands)\",null]]]},\"id\":\"1168\",\"type\":\"Range1d\"},{\"attributes\":{\"source\":{\"id\":\"1200\"}},\"id\":\"1207\",\"type\":\"CDSView\"},{\"attributes\":{\"bottom_units\":\"screen\",\"coordinates\":null,\"fill_alpha\":0.5,\"fill_color\":\"lightgrey\",\"group\":null,\"left_units\":\"screen\",\"level\":\"overlay\",\"line_alpha\":1.0,\"line_color\":\"black\",\"line_dash\":[4,4],\"line_width\":2,\"right_units\":\"screen\",\"syncable\":false,\"top_units\":\"screen\"},\"id\":\"1192\",\"type\":\"BoxAnnotation\"},{\"attributes\":{\"axis_label\":\"\",\"coordinates\":null,\"formatter\":{\"id\":\"1210\"},\"group\":null,\"major_label_policy\":{\"id\":\"1211\"},\"ticker\":{\"id\":\"1180\"}},\"id\":\"1179\",\"type\":\"LinearAxis\"},{\"attributes\":{\"children\":[{\"id\":\"1245\"}],\"css_classes\":[\"panel-widget-box\"],\"margin\":[5,5,5,5],\"name\":\"WidgetBox01832\"},\"id\":\"1244\",\"type\":\"Column\"},{\"attributes\":{},\"id\":\"1180\",\"type\":\"BasicTicker\"},{\"attributes\":{},\"id\":\"1177\",\"type\":\"LinearScale\"},{\"attributes\":{\"axis\":{\"id\":\"1179\"},\"coordinates\":null,\"grid_line_color\":null,\"group\":null,\"ticker\":null},\"id\":\"1182\",\"type\":\"Grid\"},{\"attributes\":{\"margin\":[20,0,0,20],\"name\":\"\",\"style\":{\"white-space\":\"nowrap\"},\"text\":\"zip: <b>60606</b>\",\"width\":250},\"id\":\"1246\",\"type\":\"Div\"},{\"attributes\":{},\"id\":\"1214\",\"type\":\"AllLabels\"},{\"attributes\":{\"children\":[{\"id\":\"1246\"},{\"id\":\"1247\"}],\"margin\":[0,0,0,0],\"min_width\":290,\"name\":\"Column01841\",\"width\":290},\"id\":\"1245\",\"type\":\"Column\"},{\"attributes\":{\"below\":[{\"id\":\"1179\"}],\"center\":[{\"id\":\"1182\"},{\"id\":\"1186\"}],\"height\":300,\"left\":[{\"id\":\"1183\"}],\"margin\":[5,5,5,5],\"min_border_bottom\":10,\"min_border_left\":10,\"min_border_right\":10,\"min_border_top\":10,\"renderers\":[{\"id\":\"1206\"}],\"sizing_mode\":\"fixed\",\"title\":{\"id\":\"1171\"},\"toolbar\":{\"id\":\"1193\"},\"width\":700,\"x_range\":{\"id\":\"1167\"},\"x_scale\":{\"id\":\"1175\"},\"y_range\":{\"id\":\"1168\"},\"y_scale\":{\"id\":\"1177\"}},\"id\":\"1170\",\"subtype\":\"Figure\",\"type\":\"Plot\"},{\"attributes\":{\"data\":{\"index\":[3,4,5,7,8,10,11,13,14,15,16,17,19,21,22,25,26,30,34,39,42,43,47,50,51,52,57,58,59,62,63,67,69,73,74,75,80,81,83,86,88,91,92,97,99],\"prices (in thousands)\":[823,395,440,108,969,538,514,385,560,226,740,990,595,951,763,874,299,404,352,882,901,144,396,895,631,772,783,891,585,897,374,207,915,714,166,959,818,851,312,954,993,599,223,725,463],\"prices_left_parenthesis_in_thousands_right_parenthesis\":[823,395,440,108,969,538,514,385,560,226,740,990,595,951,763,874,299,404,352,882,901,144,396,895,631,772,783,891,585,897,374,207,915,714,166,959,818,851,312,954,993,599,223,725,463]},\"selected\":{\"id\":\"1201\"},\"selection_policy\":{\"id\":\"1228\"}},\"id\":\"1200\",\"type\":\"ColumnDataSource\"},{\"attributes\":{\"children\":[{\"id\":\"1166\"},{\"id\":\"1170\"},{\"id\":\"1241\"},{\"id\":\"1242\"}],\"margin\":[0,0,0,0],\"name\":\"Row01831\"},\"id\":\"1165\",\"type\":\"Row\"},{\"attributes\":{\"tools\":[{\"id\":\"1169\"},{\"id\":\"1187\"},{\"id\":\"1188\"},{\"id\":\"1189\"},{\"id\":\"1190\"},{\"id\":\"1191\"}]},\"id\":\"1193\",\"type\":\"Toolbar\"},{\"attributes\":{\"axis\":{\"id\":\"1183\"},\"coordinates\":null,\"dimension\":1,\"grid_line_color\":null,\"group\":null,\"ticker\":null},\"id\":\"1186\",\"type\":\"Grid\"},{\"attributes\":{\"line_color\":\"#30a2da\",\"line_width\":2,\"x\":{\"field\":\"index\"},\"y\":{\"field\":\"prices (in thousands)\"}},\"id\":\"1203\",\"type\":\"Line\"},{\"attributes\":{},\"id\":\"1184\",\"type\":\"BasicTicker\"},{\"attributes\":{\"args\":{\"bidirectional\":false,\"properties\":{},\"source\":{\"id\":\"1247\"},\"target\":{\"id\":\"1246\"}},\"code\":\"try { \\n    var labels = ['zip: <b>60606</b>', 'zip: <b>90210</b>']\\n    target.text = labels[source.value]\\n     } catch(err) { console.log(err) }\",\"tags\":[140339693413200]},\"id\":\"1259\",\"type\":\"CustomJS\"},{\"attributes\":{\"axis_label\":\"prices (in thousands)\",\"coordinates\":null,\"formatter\":{\"id\":\"1213\"},\"group\":null,\"major_label_policy\":{\"id\":\"1214\"},\"ticker\":{\"id\":\"1184\"}},\"id\":\"1183\",\"type\":\"LinearAxis\"},{\"attributes\":{\"line_alpha\":0.1,\"line_color\":\"#30a2da\",\"line_width\":2,\"x\":{\"field\":\"index\"},\"y\":{\"field\":\"prices (in thousands)\"}},\"id\":\"1204\",\"type\":\"Line\"},{\"attributes\":{\"children\":[{\"id\":\"1243\"},{\"id\":\"1244\"},{\"id\":\"1248\"}],\"margin\":[0,0,0,0],\"name\":\"Column01846\"},\"id\":\"1242\",\"type\":\"Column\"},{\"attributes\":{\"client_comm_id\":\"be19ea1cb2684d24ab0b8d49296e5bb8\",\"comm_id\":\"717d09795b5c4e98b8c685c0d90062c0\",\"plot_id\":\"1165\"},\"id\":\"1280\",\"type\":\"panel.models.comm_manager.CommManager\"},{\"attributes\":{\"margin\":[5,5,5,5],\"name\":\"HSpacer01847\",\"sizing_mode\":\"stretch_width\"},\"id\":\"1166\",\"type\":\"Spacer\"},{\"attributes\":{\"line_alpha\":0.2,\"line_color\":\"#30a2da\",\"line_width\":2,\"x\":{\"field\":\"index\"},\"y\":{\"field\":\"prices (in thousands)\"}},\"id\":\"1205\",\"type\":\"Line\"}],\"root_ids\":[\"1165\",\"1280\"]},\"title\":\"Bokeh Application\",\"version\":\"2.4.2\"}};\n",
       "    var render_items = [{\"docid\":\"bd8a510f-2778-46c5-802a-a7f1c5309a8d\",\"root_ids\":[\"1165\"],\"roots\":{\"1165\":\"acf7b8a4-88f4-401f-afcb-00616841480b\"}}];\n",
       "    root.Bokeh.embed.embed_items_notebook(docs_json, render_items);\n",
       "  }\n",
       "  if (root.Bokeh !== undefined && root.Bokeh.Panel !== undefined) {\n",
       "    embed_document(root);\n",
       "  } else {\n",
       "    var attempts = 0;\n",
       "    var timer = setInterval(function(root) {\n",
       "      if (root.Bokeh !== undefined && root.Bokeh.Panel !== undefined) {\n",
       "        clearInterval(timer);\n",
       "        embed_document(root);\n",
       "      } else if (document.readyState == \"complete\") {\n",
       "        attempts++;\n",
       "        if (attempts > 200) {\n",
       "          clearInterval(timer);\n",
       "          console.log(\"Bokeh: ERROR: Unable to run BokehJS code because BokehJS library is missing\");\n",
       "        }\n",
       "      }\n",
       "    }, 25, root)\n",
       "  }\n",
       "})(window);</script>"
      ],
      "text/plain": [
       ":DynamicMap   [zip]\n",
       "   :Curve   [index]   (prices (in thousands))"
      ]
     },
     "execution_count": 16,
     "metadata": {
      "application/vnd.holoviews_exec.v0+json": {
       "id": "1165"
      }
     },
     "output_type": "execute_result"
    }
   ],
   "source": [
    "houses_df.hvplot(y=\"prices (in thousands)\", groupby=\"zip\")"
   ]
  },
  {
   "cell_type": "code",
   "execution_count": null,
   "id": "7fa1bdca",
   "metadata": {},
   "outputs": [],
   "source": []
  }
 ],
 "metadata": {
  "kernelspec": {
   "display_name": "dev",
   "language": "python",
   "name": "dev"
  },
  "language_info": {
   "codemirror_mode": {
    "name": "ipython",
    "version": 3
   },
   "file_extension": ".py",
   "mimetype": "text/x-python",
   "name": "python",
   "nbconvert_exporter": "python",
   "pygments_lexer": "ipython3",
   "version": "3.7.11"
  }
 },
 "nbformat": 4,
 "nbformat_minor": 5
}
