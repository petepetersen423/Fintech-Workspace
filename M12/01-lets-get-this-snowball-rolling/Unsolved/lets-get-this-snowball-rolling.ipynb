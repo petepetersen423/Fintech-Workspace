{
 "cells": [
  {
   "cell_type": "markdown",
   "metadata": {},
   "source": [
    "# Let's Get This Snowball Rolling\n",
    "\n",
    "Now, it's your turn to evaluate how a logistic regression model performs. This time, you’ll do so in the context of trying to help a fintech startup more quickly grow its user base. By applying the code you learned to customer data, you’ll discover how machine learning has the potential to turbocharge the growth trajectory of a fintech firm.\n",
    "\n",
    "## Instructions\n",
    "\n",
    "1. Read in the dataset about the current customers of the startup.\n",
    "\n",
    "2. Split the data into X and y and then into testing and training sets.\n",
    "\n",
    "3. Fit a logistic regression classifier.\n",
    "\n",
    "4. Create the predicted values for the testing and the training data.\n",
    "\n",
    "5. Print a confusion matrix for the training data.\n",
    "\n",
    "6. Print a confusion matrix for the testing data.\n",
    "\n",
    "7. Print the training classification report.\n",
    "\n",
    "8. Print the testing classification report.\n",
    "\n",
    "9. Answer the following question: How does the model performance compare between the training data and the testing data?\n",
    "\n",
    "\n",
    "## Resources:\n",
    "\n",
    "Following are links to modules from the scikit learn library that will be utilized:\n",
    "\n",
    "[Logistic Regression](https://scikit-learn.org/stable/modules/generated/sklearn.linear_model.LogisticRegression.html)\n",
    "\n",
    "[train_test_split](https://scikit-learn.org/stable/modules/generated/sklearn.model_selection.train_test_split.html)\n",
    "\n",
    "[classifiction_report](https://scikit-learn.org/stable/modules/generated/sklearn.metrics.classification_report.html)\n",
    "\n",
    "[confusion_matrix](https://scikit-learn.org/stable/modules/generated/sklearn.metrics.confusion_matrix.html)\n"
   ]
  },
  {
   "cell_type": "code",
   "execution_count": null,
   "metadata": {},
   "outputs": [],
   "source": []
  },
  {
   "cell_type": "code",
   "execution_count": 2,
   "metadata": {},
   "outputs": [],
   "source": [
    "# Import the required modules\n",
    "import pandas as pd\n",
    "from pathlib import Path\n",
    "from sklearn.model_selection import train_test_split\n",
    "from sklearn.linear_model import LogisticRegression\n",
    "from sklearn.metrics import classification_report\n"
   ]
  },
  {
   "cell_type": "markdown",
   "metadata": {},
   "source": [
    "## Step 1: Read in the dataset about the current customers of the startup."
   ]
  },
  {
   "cell_type": "code",
   "execution_count": 6,
   "metadata": {},
   "outputs": [
    {
     "data": {
      "text/html": [
       "<div>\n",
       "<style scoped>\n",
       "    .dataframe tbody tr th:only-of-type {\n",
       "        vertical-align: middle;\n",
       "    }\n",
       "\n",
       "    .dataframe tbody tr th {\n",
       "        vertical-align: top;\n",
       "    }\n",
       "\n",
       "    .dataframe thead th {\n",
       "        text-align: right;\n",
       "    }\n",
       "</style>\n",
       "<table border=\"1\" class=\"dataframe\">\n",
       "  <thead>\n",
       "    <tr style=\"text-align: right;\">\n",
       "      <th></th>\n",
       "      <th>Usage Stats</th>\n",
       "      <th>Referral History</th>\n",
       "      <th>Customer Rank</th>\n",
       "      <th>target</th>\n",
       "    </tr>\n",
       "  </thead>\n",
       "  <tbody>\n",
       "    <tr>\n",
       "      <th>1205</th>\n",
       "      <td>1.975540</td>\n",
       "      <td>-2.200099</td>\n",
       "      <td>0.345623</td>\n",
       "      <td>1</td>\n",
       "    </tr>\n",
       "    <tr>\n",
       "      <th>1206</th>\n",
       "      <td>2.093416</td>\n",
       "      <td>-1.592133</td>\n",
       "      <td>-1.300825</td>\n",
       "      <td>0</td>\n",
       "    </tr>\n",
       "    <tr>\n",
       "      <th>1207</th>\n",
       "      <td>2.010334</td>\n",
       "      <td>-1.758225</td>\n",
       "      <td>-1.173162</td>\n",
       "      <td>0</td>\n",
       "    </tr>\n",
       "    <tr>\n",
       "      <th>1208</th>\n",
       "      <td>4.451947</td>\n",
       "      <td>-0.502815</td>\n",
       "      <td>-2.355020</td>\n",
       "      <td>0</td>\n",
       "    </tr>\n",
       "    <tr>\n",
       "      <th>1209</th>\n",
       "      <td>2.141445</td>\n",
       "      <td>-1.993869</td>\n",
       "      <td>-0.946396</td>\n",
       "      <td>0</td>\n",
       "    </tr>\n",
       "  </tbody>\n",
       "</table>\n",
       "</div>"
      ],
      "text/plain": [
       "      Usage Stats  Referral History  Customer Rank  target\n",
       "1205     1.975540         -2.200099       0.345623       1\n",
       "1206     2.093416         -1.592133      -1.300825       0\n",
       "1207     2.010334         -1.758225      -1.173162       0\n",
       "1208     4.451947         -0.502815      -2.355020       0\n",
       "1209     2.141445         -1.993869      -0.946396       0"
      ]
     },
     "metadata": {},
     "output_type": "display_data"
    },
    {
     "data": {
      "text/html": [
       "<div>\n",
       "<style scoped>\n",
       "    .dataframe tbody tr th:only-of-type {\n",
       "        vertical-align: middle;\n",
       "    }\n",
       "\n",
       "    .dataframe tbody tr th {\n",
       "        vertical-align: top;\n",
       "    }\n",
       "\n",
       "    .dataframe thead th {\n",
       "        text-align: right;\n",
       "    }\n",
       "</style>\n",
       "<table border=\"1\" class=\"dataframe\">\n",
       "  <thead>\n",
       "    <tr style=\"text-align: right;\">\n",
       "      <th></th>\n",
       "      <th>Usage Stats</th>\n",
       "      <th>Referral History</th>\n",
       "      <th>Customer Rank</th>\n",
       "      <th>target</th>\n",
       "    </tr>\n",
       "  </thead>\n",
       "  <tbody>\n",
       "    <tr>\n",
       "      <th>1205</th>\n",
       "      <td>1.975540</td>\n",
       "      <td>-2.200099</td>\n",
       "      <td>0.345623</td>\n",
       "      <td>1</td>\n",
       "    </tr>\n",
       "    <tr>\n",
       "      <th>1206</th>\n",
       "      <td>2.093416</td>\n",
       "      <td>-1.592133</td>\n",
       "      <td>-1.300825</td>\n",
       "      <td>0</td>\n",
       "    </tr>\n",
       "    <tr>\n",
       "      <th>1207</th>\n",
       "      <td>2.010334</td>\n",
       "      <td>-1.758225</td>\n",
       "      <td>-1.173162</td>\n",
       "      <td>0</td>\n",
       "    </tr>\n",
       "    <tr>\n",
       "      <th>1208</th>\n",
       "      <td>4.451947</td>\n",
       "      <td>-0.502815</td>\n",
       "      <td>-2.355020</td>\n",
       "      <td>0</td>\n",
       "    </tr>\n",
       "    <tr>\n",
       "      <th>1209</th>\n",
       "      <td>2.141445</td>\n",
       "      <td>-1.993869</td>\n",
       "      <td>-0.946396</td>\n",
       "      <td>0</td>\n",
       "    </tr>\n",
       "  </tbody>\n",
       "</table>\n",
       "</div>"
      ],
      "text/plain": [
       "      Usage Stats  Referral History  Customer Rank  target\n",
       "1205     1.975540         -2.200099       0.345623       1\n",
       "1206     2.093416         -1.592133      -1.300825       0\n",
       "1207     2.010334         -1.758225      -1.173162       0\n",
       "1208     4.451947         -0.502815      -2.355020       0\n",
       "1209     2.141445         -1.993869      -0.946396       0"
      ]
     },
     "metadata": {},
     "output_type": "display_data"
    }
   ],
   "source": [
    "# Read the usage_stats.csv file from the Resources folder into a Pandas DataFrame\n",
    "customer_df = pd.read_csv(Path(\"../Resources/usage_stats.csv\"))\n",
    "\n",
    "# Review the DataFrame\n",
    "# YOUR CODE HERE\n",
    "display(customer_df.tail())\n",
    "display(customer_df.tail())\n"
   ]
  },
  {
   "cell_type": "markdown",
   "metadata": {},
   "source": [
    "## Step 2: Split the data into X and y and then into testing and training sets."
   ]
  },
  {
   "cell_type": "code",
   "execution_count": 24,
   "metadata": {},
   "outputs": [],
   "source": [
    "# Split the data into X (features) and y (target)\n",
    "\n",
    "# The y variable should focus on the target column\n",
    "y = customer_df[\"target\"]\n",
    "\n",
    "# The X variable should include all features except the target\n",
    "X = customer_df.loc[:,\"Usage Stats\":\"Customer Rank\"]\n"
   ]
  },
  {
   "cell_type": "code",
   "execution_count": 35,
   "metadata": {},
   "outputs": [],
   "source": [
    "# Split into testing and training sets using train_test_split\n",
    "X_train, X_test, y_train, y_test = train_test_split( X, \n",
    "                                                    y, \n",
    "                                                  #  test_size=0.33, \n",
    "                                                    random_state=42)\n"
   ]
  },
  {
   "cell_type": "markdown",
   "metadata": {},
   "source": [
    "## Step 3: Fit a logistic regression classifier."
   ]
  },
  {
   "cell_type": "code",
   "execution_count": 36,
   "metadata": {},
   "outputs": [],
   "source": [
    "# Declare a logistic regression model.\n",
    "# Apply a random_state of 9 to the model\n",
    "logistic_regression_model = LogisticRegression(random_state=9)\n",
    "\n",
    "# Fit and save the logistic regression model using the training data\n",
    "lr_model = logistic_regression_model.fit(X_train, y_train)\n"
   ]
  },
  {
   "cell_type": "markdown",
   "metadata": {},
   "source": [
    "## Step 4: Create the predicted values for the testing and the training data."
   ]
  },
  {
   "cell_type": "code",
   "execution_count": 37,
   "metadata": {},
   "outputs": [],
   "source": [
    "#Generate training predictions\n",
    "training_predictions = logistic_regression_model.predict(X_train)\n",
    "\n",
    "#Generate testing predictions\n",
    "testing_predictions = logistic_regression_model.predict(X_test)\n"
   ]
  },
  {
   "cell_type": "markdown",
   "metadata": {},
   "source": [
    "## Step 5: Print a confusion matrix for the training data."
   ]
  },
  {
   "cell_type": "code",
   "execution_count": 38,
   "metadata": {},
   "outputs": [
    {
     "name": "stdout",
     "output_type": "stream",
     "text": [
      "[[808   7]\n",
      " [ 19  73]]\n"
     ]
    }
   ],
   "source": [
    "# Import the model for sklearn's confusion matrix\n",
    "\n",
    "from sklearn.metrics import confusion_matrix\n",
    "\n",
    "# Create and save the confustion matrix for the training data\n",
    "training_matrix = confusion_matrix(y_train, training_predictions)\n",
    "\n",
    "# Print the confusion matrix for the training data\n",
    "print(training_matrix)\n"
   ]
  },
  {
   "cell_type": "markdown",
   "metadata": {},
   "source": [
    "## Step 6: Pring a confusion matrix for the texting data."
   ]
  },
  {
   "cell_type": "code",
   "execution_count": 39,
   "metadata": {},
   "outputs": [
    {
     "name": "stdout",
     "output_type": "stream",
     "text": [
      "[[274   0]\n",
      " [  2  27]]\n"
     ]
    }
   ],
   "source": [
    "# Create and save the confustion matrix for the testing data\n",
    "test_matrix = confusion_matrix(y_test, testing_predictions)\n",
    "\n",
    "# Print the confusion matrix for the testing data\n",
    "print(test_matrix)\n"
   ]
  },
  {
   "cell_type": "markdown",
   "metadata": {},
   "source": [
    "## Step 7: Print the training classification report."
   ]
  },
  {
   "cell_type": "code",
   "execution_count": 40,
   "metadata": {},
   "outputs": [
    {
     "name": "stdout",
     "output_type": "stream",
     "text": [
      "              precision    recall  f1-score   support\n",
      "\n",
      "           0       0.98      0.99      0.98       815\n",
      "           1       0.91      0.79      0.85        92\n",
      "\n",
      "    accuracy                           0.97       907\n",
      "   macro avg       0.94      0.89      0.92       907\n",
      "weighted avg       0.97      0.97      0.97       907\n",
      "\n"
     ]
    }
   ],
   "source": [
    "# Create and save the training classifiction report\n",
    "training_report = classification_report(y_train, training_predictions)\n",
    "\n",
    "# Print the training classification report\n",
    "print(training_report)\n"
   ]
  },
  {
   "cell_type": "markdown",
   "metadata": {},
   "source": [
    "## Step 8: Print the testing classification report."
   ]
  },
  {
   "cell_type": "code",
   "execution_count": 41,
   "metadata": {},
   "outputs": [
    {
     "name": "stdout",
     "output_type": "stream",
     "text": [
      "              precision    recall  f1-score   support\n",
      "\n",
      "           0       0.99      1.00      1.00       274\n",
      "           1       1.00      0.93      0.96        29\n",
      "\n",
      "    accuracy                           0.99       303\n",
      "   macro avg       1.00      0.97      0.98       303\n",
      "weighted avg       0.99      0.99      0.99       303\n",
      "\n"
     ]
    }
   ],
   "source": [
    "# Create and save the testing classifiction report\n",
    "testing_report = classification_report(y_test, testing_predictions)\n",
    "\n",
    "# Print the testing classification report\n",
    "print(testing_report)"
   ]
  },
  {
   "cell_type": "markdown",
   "metadata": {},
   "source": [
    "## Step 9: Answer the following question"
   ]
  },
  {
   "cell_type": "markdown",
   "metadata": {},
   "source": [
    "**Question:** How does the performance of the training and test dataset compare?\n",
    "\n",
    "**Sample Answer:** very similar"
   ]
  },
  {
   "cell_type": "markdown",
   "metadata": {},
   "source": [
    " "
   ]
  }
 ],
 "metadata": {
  "kernelspec": {
   "display_name": "ml-dev",
   "language": "python",
   "name": "ml-dev"
  },
  "language_info": {
   "codemirror_mode": {
    "name": "ipython",
    "version": 3
   },
   "file_extension": ".py",
   "mimetype": "text/x-python",
   "name": "python",
   "nbconvert_exporter": "python",
   "pygments_lexer": "ipython3",
   "version": "3.7.13"
  }
 },
 "nbformat": 4,
 "nbformat_minor": 4
}
