{
 "cells": [
  {
   "cell_type": "code",
   "execution_count": null,
   "id": "a1b4eae1-abf4-4280-ab1a-664ba15fae01",
   "metadata": {},
   "outputs": [],
   "source": []
  },
  {
   "cell_type": "code",
   "execution_count": 1,
   "id": "804b3297-c3bd-46f7-847f-5e4c8b9ead71",
   "metadata": {},
   "outputs": [
    {
     "name": "stdout",
     "output_type": "stream",
     "text": [
      "The daily return for the S&P 500 was  0.00187 or  0.19%\n"
     ]
    }
   ],
   "source": [
    "# Establishing the current and previous closing prices of the S&P 500.\n",
    "spx_current_close = 1884.660034\n",
    "spx_prior_close = 1881.140015\n",
    "\n",
    "# Daily Return Calculation\n",
    "daily_return = ((spx_current_close - spx_prior_close ) / spx_prior_close)\n",
    "\n",
    "# Converting daily_return to a percentage value\n",
    "daily_return_pct = daily_return * 100\n",
    "\n",
    "# Printing the result\n",
    "print(f\"The daily return for the S&P 500 was {daily_return: .5f} or {daily_return_pct: .2f}%\")\n"
   ]
  },
  {
   "cell_type": "code",
   "execution_count": 2,
   "id": "af1c09ad-92c2-4f9b-9e3b-7e8b1a93fa0f",
   "metadata": {},
   "outputs": [
    {
     "ename": "NameError",
     "evalue": "name 'pd' is not defined",
     "output_type": "error",
     "traceback": [
      "\u001b[0;31m---------------------------------------------------------------------------\u001b[0m",
      "\u001b[0;31mNameError\u001b[0m                                 Traceback (most recent call last)",
      "\u001b[0;32m/var/folders/1x/9qh6_xcs4m3fdny1ywkryf9w0000gq/T/ipykernel_20854/2378100692.py\u001b[0m in \u001b[0;36m<module>\u001b[0;34m\u001b[0m\n\u001b[1;32m      1\u001b[0m \u001b[0;31m# Read in the CSV as a DataFrame\u001b[0m\u001b[0;34m\u001b[0m\u001b[0;34m\u001b[0m\u001b[0;34m\u001b[0m\u001b[0m\n\u001b[0;32m----> 2\u001b[0;31m sp500_csv = pd.read_csv(\n\u001b[0m\u001b[1;32m      3\u001b[0m     \u001b[0mPath\u001b[0m\u001b[0;34m(\u001b[0m\u001b[0;34m'../Resources/sp500_close.csv'\u001b[0m\u001b[0;34m)\u001b[0m\u001b[0;34m,\u001b[0m\u001b[0;34m\u001b[0m\u001b[0;34m\u001b[0m\u001b[0m\n\u001b[1;32m      4\u001b[0m     \u001b[0mindex_col\u001b[0m\u001b[0;34m=\u001b[0m\u001b[0;34m\"Date\"\u001b[0m\u001b[0;34m,\u001b[0m\u001b[0;34m\u001b[0m\u001b[0;34m\u001b[0m\u001b[0m\n\u001b[1;32m      5\u001b[0m     \u001b[0mparse_dates\u001b[0m\u001b[0;34m=\u001b[0m\u001b[0;32mTrue\u001b[0m\u001b[0;34m,\u001b[0m\u001b[0;34m\u001b[0m\u001b[0;34m\u001b[0m\u001b[0m\n",
      "\u001b[0;31mNameError\u001b[0m: name 'pd' is not defined"
     ]
    }
   ],
   "source": [
    "# Read in the CSV as a DataFrame\n",
    "sp500_csv = pd.read_csv(\n",
    "    Path('../Resources/sp500_close.csv'),\n",
    "    index_col=\"Date\",\n",
    "    parse_dates=True,\n",
    "    infer_datetime_format=True\n",
    ")\n",
    "\n",
    "# View the first five rows of the DataFrame\n",
    "sp500_csv.head()\n",
    "\n",
    "# Use `shift()` with a parameter of 1 to shift every element in the 'Adj Close' column\n",
    "sp500_csv[\"Shift_1\"] = sp500_csv.shift(1)\n",
    "sp500_csv.head()\n"
   ]
  },
  {
   "cell_type": "code",
   "execution_count": null,
   "id": "6156b419-b30b-4d6c-a6c0-c47940babcbf",
   "metadata": {},
   "outputs": [],
   "source": []
  }
 ],
 "metadata": {
  "kernelspec": {
   "display_name": "dev",
   "language": "python",
   "name": "dev"
  },
  "language_info": {
   "codemirror_mode": {
    "name": "ipython",
    "version": 3
   },
   "file_extension": ".py",
   "mimetype": "text/x-python",
   "name": "python",
   "nbconvert_exporter": "python",
   "pygments_lexer": "ipython3",
   "version": "3.7.11"
  }
 },
 "nbformat": 4,
 "nbformat_minor": 5
}
