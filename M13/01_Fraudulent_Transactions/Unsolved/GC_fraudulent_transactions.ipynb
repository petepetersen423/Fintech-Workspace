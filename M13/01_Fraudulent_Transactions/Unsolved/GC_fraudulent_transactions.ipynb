{
  "nbformat": 4,
  "nbformat_minor": 0,
  "metadata": {
    "kernelspec": {
      "display_name": "Python 3",
      "language": "python",
      "name": "python3"
    },
    "language_info": {
      "codemirror_mode": {
        "name": "ipython",
        "version": 3
      },
      "file_extension": ".py",
      "mimetype": "text/x-python",
      "name": "python",
      "nbconvert_exporter": "python",
      "pygments_lexer": "ipython3",
      "version": "3.7.7"
    },
    "colab": {
      "name": "fraudulent_transactions.ipynb",
      "provenance": []
    }
  },
  "cells": [
    {
      "cell_type": "markdown",
      "metadata": {
        "id": "PXTIUdr8RnNk"
      },
      "source": [
        "# Predicting Fraudulent Transactions Using Neural Networks\n",
        "\n",
        "Now that you’ve learned how to build a deep neural network, you’ll apply those skills to create a deep learning model that can predict financial fraud. But in this activity, rather than a regression deep learning model, you will create a classification deep learning model.\n",
        "\n",
        "## Instructions:\n",
        "\n",
        "### Load and Preprocess the Data\n",
        "\n",
        "1. Read the data from the CSV file into a Pandas DataFrame.\n",
        "\n",
        "2. Create the target set `y` by assigning the values of the “isFraud” column of the DataFrame.\n",
        "\n",
        "3. Define the features set `X` by including all of the columns of the DataFrame except for the “isFraud” column.\n",
        "\n",
        "4. Create the training and testing sets using the `train_test_split` function from scikit-learn.\n",
        "\n",
        "5. Scale the features data using the `StandardScaler` from scikit-learn.\n",
        "\n",
        "### Create and Evaluate a Deep Neural Network Model\n",
        "\n",
        "1. Create a deep neural network model with the following structure:\n",
        "\n",
        "    * 9 inputs\n",
        "    * First hidden layer with 18 neurons\n",
        "    * Second hidden layer with 8 neurons\n",
        "    * Output layer with a single output\n",
        "    * Hidden layers use the ReLU activation function, and output layer uses the sigmoid activation function\n",
        "\n",
        "2. Display the model structure using the 'summary` function.\n",
        "\n",
        "3. Compile the neural network model using the `binary_crossentropy` loss function, the `adam` optimizer, and `accuracy` as an additional metric.\n",
        "\n",
        "4. Fit the model with the training data, using 100 epochs.\n",
        "\n",
        "5. Evaluate the model using testing data and the `evaluate` method.\n",
        "\n",
        "\n",
        "## References:\n",
        "\n",
        "[Keras Sequential model](https://keras.io/api/models/sequential/)\n",
        "\n",
        "[Keras Dense module](https://keras.io/api/layers/core_layers/dense/)\n",
        "\n",
        "[Keras evaluate](https://keras.io/api/models/model_training_apis/)"
      ]
    },
    {
      "cell_type": "code",
      "metadata": {
        "id": "zjBjScnhRnNn"
      },
      "source": [
        "# Imports\n",
        "import pandas as pd\n",
        "\n",
        "from tensorflow.keras.layers import Dense\n",
        "from tensorflow.keras.models import Sequential\n",
        "from sklearn.preprocessing import StandardScaler\n",
        "from sklearn.model_selection import train_test_split"
      ],
      "execution_count": 15,
      "outputs": []
    },
    {
      "cell_type": "markdown",
      "metadata": {
        "id": "oKIxfU9ZRnNo"
      },
      "source": [
        "## Load and Preprocess the Data"
      ]
    },
    {
      "cell_type": "markdown",
      "metadata": {
        "id": "EUjck3CJRnNo"
      },
      "source": [
        "### Step 1: Read the data from the CSV file into a Pandas DataFrame."
      ]
    },
    {
      "cell_type": "code",
      "metadata": {
        "id": "pyCn-exAR5uu",
        "outputId": "63b37877-2bd8-4b0e-8c1d-902d78a00e62",
        "colab": {
          "resources": {
            "http://localhost:8080/nbextensions/google.colab/files.js": {
              "data": "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",
              "ok": true,
              "headers": [
                [
                  "content-type",
                  "application/javascript"
                ]
              ],
              "status": 200,
              "status_text": ""
            }
          },
          "base_uri": "https://localhost:8080/",
          "height": 73
        }
      },
      "source": [
        "# Upload credit_card_transactions.csv to Colab\n",
        "from google.colab import files\n",
        "\n",
        "csv_file = files.upload()"
      ],
      "execution_count": 16,
      "outputs": [
        {
          "output_type": "display_data",
          "data": {
            "text/plain": [
              "<IPython.core.display.HTML object>"
            ],
            "text/html": [
              "\n",
              "     <input type=\"file\" id=\"files-adfc990b-264f-473c-afa2-2915131f930e\" name=\"files[]\" multiple disabled\n",
              "        style=\"border:none\" />\n",
              "     <output id=\"result-adfc990b-264f-473c-afa2-2915131f930e\">\n",
              "      Upload widget is only available when the cell has been executed in the\n",
              "      current browser session. Please rerun this cell to enable.\n",
              "      </output>\n",
              "      <script src=\"/nbextensions/google.colab/files.js\"></script> "
            ]
          },
          "metadata": {}
        },
        {
          "output_type": "stream",
          "name": "stdout",
          "text": [
            "Saving credit_card_transactions.csv to credit_card_transactions (1).csv\n"
          ]
        }
      ]
    },
    {
      "cell_type": "code",
      "metadata": {
        "id": "eWifJj19RnNo",
        "outputId": "c30e2a3b-fe34-4441-e59d-50c551ab5e25",
        "colab": {
          "base_uri": "https://localhost:8080/",
          "height": 423
        }
      },
      "source": [
        "# Read the credit_card_transactions.csv file from the Resources folder into a Pandas DataFrame\n",
        "cc_transactions_df = pd.read_csv(\"credit_card_transactions.csv\")\n",
        "\n",
        "# Review the DataFrame\n",
        "cc_transactions_df\n"
      ],
      "execution_count": 22,
      "outputs": [
        {
          "output_type": "execute_result",
          "data": {
            "text/plain": [
              "       dateMonth  dateWeekday  dateQuarter  operationType      amount  \\\n",
              "0              1            1            1              4      736.76   \n",
              "1              1            1            1              2   256226.20   \n",
              "2              1            1            1              5   310027.49   \n",
              "3              1            1            1              1    76695.35   \n",
              "4              1            1            1              4     4761.57   \n",
              "...          ...          ...          ...            ...         ...   \n",
              "99995         12            1            4              1   109534.19   \n",
              "99996         12            1            4              1   103920.74   \n",
              "99997         12            1            4              5  1298677.95   \n",
              "99998         12            1            4              1    82450.63   \n",
              "99999         12            1            4              1    78848.28   \n",
              "\n",
              "       oldbalanceOrig  newbalanceOrig  oldbalanceDest  newbalanceDest  isFraud  \n",
              "0             1120.00          383.24            0.00            0.00        0  \n",
              "1                0.00            0.00       518041.64      1305828.01        0  \n",
              "2            61594.00            0.00        10089.00      1157398.83        0  \n",
              "3          9064440.33      9141135.68       880045.33       206147.08        0  \n",
              "4                0.00            0.00            0.00            0.00        0  \n",
              "...               ...             ...             ...             ...      ...  \n",
              "99995     18292168.76     18401702.96       403737.01       294202.82        0  \n",
              "99996      5486901.65      5590822.39      1267095.24      2239899.53        0  \n",
              "99997            0.00            0.00       280579.46      1579257.41        0  \n",
              "99998      4135263.42      4217714.05      2289239.02      2436585.65        0  \n",
              "99999       144962.00       223810.28        13861.87            0.00        0  \n",
              "\n",
              "[100000 rows x 10 columns]"
            ],
            "text/html": [
              "\n",
              "  <div id=\"df-5889bae1-516b-40ad-81e9-82c5a2c4c5b9\">\n",
              "    <div class=\"colab-df-container\">\n",
              "      <div>\n",
              "<style scoped>\n",
              "    .dataframe tbody tr th:only-of-type {\n",
              "        vertical-align: middle;\n",
              "    }\n",
              "\n",
              "    .dataframe tbody tr th {\n",
              "        vertical-align: top;\n",
              "    }\n",
              "\n",
              "    .dataframe thead th {\n",
              "        text-align: right;\n",
              "    }\n",
              "</style>\n",
              "<table border=\"1\" class=\"dataframe\">\n",
              "  <thead>\n",
              "    <tr style=\"text-align: right;\">\n",
              "      <th></th>\n",
              "      <th>dateMonth</th>\n",
              "      <th>dateWeekday</th>\n",
              "      <th>dateQuarter</th>\n",
              "      <th>operationType</th>\n",
              "      <th>amount</th>\n",
              "      <th>oldbalanceOrig</th>\n",
              "      <th>newbalanceOrig</th>\n",
              "      <th>oldbalanceDest</th>\n",
              "      <th>newbalanceDest</th>\n",
              "      <th>isFraud</th>\n",
              "    </tr>\n",
              "  </thead>\n",
              "  <tbody>\n",
              "    <tr>\n",
              "      <th>0</th>\n",
              "      <td>1</td>\n",
              "      <td>1</td>\n",
              "      <td>1</td>\n",
              "      <td>4</td>\n",
              "      <td>736.76</td>\n",
              "      <td>1120.00</td>\n",
              "      <td>383.24</td>\n",
              "      <td>0.00</td>\n",
              "      <td>0.00</td>\n",
              "      <td>0</td>\n",
              "    </tr>\n",
              "    <tr>\n",
              "      <th>1</th>\n",
              "      <td>1</td>\n",
              "      <td>1</td>\n",
              "      <td>1</td>\n",
              "      <td>2</td>\n",
              "      <td>256226.20</td>\n",
              "      <td>0.00</td>\n",
              "      <td>0.00</td>\n",
              "      <td>518041.64</td>\n",
              "      <td>1305828.01</td>\n",
              "      <td>0</td>\n",
              "    </tr>\n",
              "    <tr>\n",
              "      <th>2</th>\n",
              "      <td>1</td>\n",
              "      <td>1</td>\n",
              "      <td>1</td>\n",
              "      <td>5</td>\n",
              "      <td>310027.49</td>\n",
              "      <td>61594.00</td>\n",
              "      <td>0.00</td>\n",
              "      <td>10089.00</td>\n",
              "      <td>1157398.83</td>\n",
              "      <td>0</td>\n",
              "    </tr>\n",
              "    <tr>\n",
              "      <th>3</th>\n",
              "      <td>1</td>\n",
              "      <td>1</td>\n",
              "      <td>1</td>\n",
              "      <td>1</td>\n",
              "      <td>76695.35</td>\n",
              "      <td>9064440.33</td>\n",
              "      <td>9141135.68</td>\n",
              "      <td>880045.33</td>\n",
              "      <td>206147.08</td>\n",
              "      <td>0</td>\n",
              "    </tr>\n",
              "    <tr>\n",
              "      <th>4</th>\n",
              "      <td>1</td>\n",
              "      <td>1</td>\n",
              "      <td>1</td>\n",
              "      <td>4</td>\n",
              "      <td>4761.57</td>\n",
              "      <td>0.00</td>\n",
              "      <td>0.00</td>\n",
              "      <td>0.00</td>\n",
              "      <td>0.00</td>\n",
              "      <td>0</td>\n",
              "    </tr>\n",
              "    <tr>\n",
              "      <th>...</th>\n",
              "      <td>...</td>\n",
              "      <td>...</td>\n",
              "      <td>...</td>\n",
              "      <td>...</td>\n",
              "      <td>...</td>\n",
              "      <td>...</td>\n",
              "      <td>...</td>\n",
              "      <td>...</td>\n",
              "      <td>...</td>\n",
              "      <td>...</td>\n",
              "    </tr>\n",
              "    <tr>\n",
              "      <th>99995</th>\n",
              "      <td>12</td>\n",
              "      <td>1</td>\n",
              "      <td>4</td>\n",
              "      <td>1</td>\n",
              "      <td>109534.19</td>\n",
              "      <td>18292168.76</td>\n",
              "      <td>18401702.96</td>\n",
              "      <td>403737.01</td>\n",
              "      <td>294202.82</td>\n",
              "      <td>0</td>\n",
              "    </tr>\n",
              "    <tr>\n",
              "      <th>99996</th>\n",
              "      <td>12</td>\n",
              "      <td>1</td>\n",
              "      <td>4</td>\n",
              "      <td>1</td>\n",
              "      <td>103920.74</td>\n",
              "      <td>5486901.65</td>\n",
              "      <td>5590822.39</td>\n",
              "      <td>1267095.24</td>\n",
              "      <td>2239899.53</td>\n",
              "      <td>0</td>\n",
              "    </tr>\n",
              "    <tr>\n",
              "      <th>99997</th>\n",
              "      <td>12</td>\n",
              "      <td>1</td>\n",
              "      <td>4</td>\n",
              "      <td>5</td>\n",
              "      <td>1298677.95</td>\n",
              "      <td>0.00</td>\n",
              "      <td>0.00</td>\n",
              "      <td>280579.46</td>\n",
              "      <td>1579257.41</td>\n",
              "      <td>0</td>\n",
              "    </tr>\n",
              "    <tr>\n",
              "      <th>99998</th>\n",
              "      <td>12</td>\n",
              "      <td>1</td>\n",
              "      <td>4</td>\n",
              "      <td>1</td>\n",
              "      <td>82450.63</td>\n",
              "      <td>4135263.42</td>\n",
              "      <td>4217714.05</td>\n",
              "      <td>2289239.02</td>\n",
              "      <td>2436585.65</td>\n",
              "      <td>0</td>\n",
              "    </tr>\n",
              "    <tr>\n",
              "      <th>99999</th>\n",
              "      <td>12</td>\n",
              "      <td>1</td>\n",
              "      <td>4</td>\n",
              "      <td>1</td>\n",
              "      <td>78848.28</td>\n",
              "      <td>144962.00</td>\n",
              "      <td>223810.28</td>\n",
              "      <td>13861.87</td>\n",
              "      <td>0.00</td>\n",
              "      <td>0</td>\n",
              "    </tr>\n",
              "  </tbody>\n",
              "</table>\n",
              "<p>100000 rows × 10 columns</p>\n",
              "</div>\n",
              "      <button class=\"colab-df-convert\" onclick=\"convertToInteractive('df-5889bae1-516b-40ad-81e9-82c5a2c4c5b9')\"\n",
              "              title=\"Convert this dataframe to an interactive table.\"\n",
              "              style=\"display:none;\">\n",
              "        \n",
              "  <svg xmlns=\"http://www.w3.org/2000/svg\" height=\"24px\"viewBox=\"0 0 24 24\"\n",
              "       width=\"24px\">\n",
              "    <path d=\"M0 0h24v24H0V0z\" fill=\"none\"/>\n",
              "    <path d=\"M18.56 5.44l.94 2.06.94-2.06 2.06-.94-2.06-.94-.94-2.06-.94 2.06-2.06.94zm-11 1L8.5 8.5l.94-2.06 2.06-.94-2.06-.94L8.5 2.5l-.94 2.06-2.06.94zm10 10l.94 2.06.94-2.06 2.06-.94-2.06-.94-.94-2.06-.94 2.06-2.06.94z\"/><path d=\"M17.41 7.96l-1.37-1.37c-.4-.4-.92-.59-1.43-.59-.52 0-1.04.2-1.43.59L10.3 9.45l-7.72 7.72c-.78.78-.78 2.05 0 2.83L4 21.41c.39.39.9.59 1.41.59.51 0 1.02-.2 1.41-.59l7.78-7.78 2.81-2.81c.8-.78.8-2.07 0-2.86zM5.41 20L4 18.59l7.72-7.72 1.47 1.35L5.41 20z\"/>\n",
              "  </svg>\n",
              "      </button>\n",
              "      \n",
              "  <style>\n",
              "    .colab-df-container {\n",
              "      display:flex;\n",
              "      flex-wrap:wrap;\n",
              "      gap: 12px;\n",
              "    }\n",
              "\n",
              "    .colab-df-convert {\n",
              "      background-color: #E8F0FE;\n",
              "      border: none;\n",
              "      border-radius: 50%;\n",
              "      cursor: pointer;\n",
              "      display: none;\n",
              "      fill: #1967D2;\n",
              "      height: 32px;\n",
              "      padding: 0 0 0 0;\n",
              "      width: 32px;\n",
              "    }\n",
              "\n",
              "    .colab-df-convert:hover {\n",
              "      background-color: #E2EBFA;\n",
              "      box-shadow: 0px 1px 2px rgba(60, 64, 67, 0.3), 0px 1px 3px 1px rgba(60, 64, 67, 0.15);\n",
              "      fill: #174EA6;\n",
              "    }\n",
              "\n",
              "    [theme=dark] .colab-df-convert {\n",
              "      background-color: #3B4455;\n",
              "      fill: #D2E3FC;\n",
              "    }\n",
              "\n",
              "    [theme=dark] .colab-df-convert:hover {\n",
              "      background-color: #434B5C;\n",
              "      box-shadow: 0px 1px 3px 1px rgba(0, 0, 0, 0.15);\n",
              "      filter: drop-shadow(0px 1px 2px rgba(0, 0, 0, 0.3));\n",
              "      fill: #FFFFFF;\n",
              "    }\n",
              "  </style>\n",
              "\n",
              "      <script>\n",
              "        const buttonEl =\n",
              "          document.querySelector('#df-5889bae1-516b-40ad-81e9-82c5a2c4c5b9 button.colab-df-convert');\n",
              "        buttonEl.style.display =\n",
              "          google.colab.kernel.accessAllowed ? 'block' : 'none';\n",
              "\n",
              "        async function convertToInteractive(key) {\n",
              "          const element = document.querySelector('#df-5889bae1-516b-40ad-81e9-82c5a2c4c5b9');\n",
              "          const dataTable =\n",
              "            await google.colab.kernel.invokeFunction('convertToInteractive',\n",
              "                                                     [key], {});\n",
              "          if (!dataTable) return;\n",
              "\n",
              "          const docLinkHtml = 'Like what you see? Visit the ' +\n",
              "            '<a target=\"_blank\" href=https://colab.research.google.com/notebooks/data_table.ipynb>data table notebook</a>'\n",
              "            + ' to learn more about interactive tables.';\n",
              "          element.innerHTML = '';\n",
              "          dataTable['output_type'] = 'display_data';\n",
              "          await google.colab.output.renderOutput(dataTable, element);\n",
              "          const docLink = document.createElement('div');\n",
              "          docLink.innerHTML = docLinkHtml;\n",
              "          element.appendChild(docLink);\n",
              "        }\n",
              "      </script>\n",
              "    </div>\n",
              "  </div>\n",
              "  "
            ]
          },
          "metadata": {},
          "execution_count": 22
        }
      ]
    },
    {
      "cell_type": "markdown",
      "metadata": {
        "id": "NIn9vbsZRnNp"
      },
      "source": [
        "### Step 2: Create the target set `y` by assigning the values of the “isFraud” column of the DataFrame."
      ]
    },
    {
      "cell_type": "code",
      "metadata": {
        "id": "nbpfrW5YRnNp",
        "outputId": "587c463d-3de9-4693-97db-1a37977b1ded",
        "colab": {
          "base_uri": "https://localhost:8080/"
        }
      },
      "source": [
        "# Define the target set by selecting the isFraud column\n",
        "y = cc_transactions_df['isFraud']\n",
        "# Display a sample of y\n",
        "y.head()\n"
      ],
      "execution_count": 23,
      "outputs": [
        {
          "output_type": "execute_result",
          "data": {
            "text/plain": [
              "0    0\n",
              "1    0\n",
              "2    0\n",
              "3    0\n",
              "4    0\n",
              "Name: isFraud, dtype: int64"
            ]
          },
          "metadata": {},
          "execution_count": 23
        }
      ]
    },
    {
      "cell_type": "markdown",
      "metadata": {
        "id": "l9r4vMTjRnNq"
      },
      "source": [
        "### Step 3: Define the features set `X` by including all of the columns of the DataFrame except for the “isFraud” column."
      ]
    },
    {
      "cell_type": "code",
      "metadata": {
        "id": "nQ30JoRyRnNq",
        "outputId": "2c996017-6027-462f-a27f-216f0013980d",
        "colab": {
          "base_uri": "https://localhost:8080/",
          "height": 206
        }
      },
      "source": [
        "# Define features set X by selecting all columns but the isFraud\n",
        "X = cc_transactions_df.drop(columns=['isFraud'])\n",
        "# Display the features DataFrame\n",
        "X.head()\n"
      ],
      "execution_count": 24,
      "outputs": [
        {
          "output_type": "execute_result",
          "data": {
            "text/plain": [
              "   dateMonth  dateWeekday  dateQuarter  operationType     amount  \\\n",
              "0          1            1            1              4     736.76   \n",
              "1          1            1            1              2  256226.20   \n",
              "2          1            1            1              5  310027.49   \n",
              "3          1            1            1              1   76695.35   \n",
              "4          1            1            1              4    4761.57   \n",
              "\n",
              "   oldbalanceOrig  newbalanceOrig  oldbalanceDest  newbalanceDest  \n",
              "0         1120.00          383.24            0.00            0.00  \n",
              "1            0.00            0.00       518041.64      1305828.01  \n",
              "2        61594.00            0.00        10089.00      1157398.83  \n",
              "3      9064440.33      9141135.68       880045.33       206147.08  \n",
              "4            0.00            0.00            0.00            0.00  "
            ],
            "text/html": [
              "\n",
              "  <div id=\"df-9c79eb22-63f1-47db-af26-f363a1dd67a6\">\n",
              "    <div class=\"colab-df-container\">\n",
              "      <div>\n",
              "<style scoped>\n",
              "    .dataframe tbody tr th:only-of-type {\n",
              "        vertical-align: middle;\n",
              "    }\n",
              "\n",
              "    .dataframe tbody tr th {\n",
              "        vertical-align: top;\n",
              "    }\n",
              "\n",
              "    .dataframe thead th {\n",
              "        text-align: right;\n",
              "    }\n",
              "</style>\n",
              "<table border=\"1\" class=\"dataframe\">\n",
              "  <thead>\n",
              "    <tr style=\"text-align: right;\">\n",
              "      <th></th>\n",
              "      <th>dateMonth</th>\n",
              "      <th>dateWeekday</th>\n",
              "      <th>dateQuarter</th>\n",
              "      <th>operationType</th>\n",
              "      <th>amount</th>\n",
              "      <th>oldbalanceOrig</th>\n",
              "      <th>newbalanceOrig</th>\n",
              "      <th>oldbalanceDest</th>\n",
              "      <th>newbalanceDest</th>\n",
              "    </tr>\n",
              "  </thead>\n",
              "  <tbody>\n",
              "    <tr>\n",
              "      <th>0</th>\n",
              "      <td>1</td>\n",
              "      <td>1</td>\n",
              "      <td>1</td>\n",
              "      <td>4</td>\n",
              "      <td>736.76</td>\n",
              "      <td>1120.00</td>\n",
              "      <td>383.24</td>\n",
              "      <td>0.00</td>\n",
              "      <td>0.00</td>\n",
              "    </tr>\n",
              "    <tr>\n",
              "      <th>1</th>\n",
              "      <td>1</td>\n",
              "      <td>1</td>\n",
              "      <td>1</td>\n",
              "      <td>2</td>\n",
              "      <td>256226.20</td>\n",
              "      <td>0.00</td>\n",
              "      <td>0.00</td>\n",
              "      <td>518041.64</td>\n",
              "      <td>1305828.01</td>\n",
              "    </tr>\n",
              "    <tr>\n",
              "      <th>2</th>\n",
              "      <td>1</td>\n",
              "      <td>1</td>\n",
              "      <td>1</td>\n",
              "      <td>5</td>\n",
              "      <td>310027.49</td>\n",
              "      <td>61594.00</td>\n",
              "      <td>0.00</td>\n",
              "      <td>10089.00</td>\n",
              "      <td>1157398.83</td>\n",
              "    </tr>\n",
              "    <tr>\n",
              "      <th>3</th>\n",
              "      <td>1</td>\n",
              "      <td>1</td>\n",
              "      <td>1</td>\n",
              "      <td>1</td>\n",
              "      <td>76695.35</td>\n",
              "      <td>9064440.33</td>\n",
              "      <td>9141135.68</td>\n",
              "      <td>880045.33</td>\n",
              "      <td>206147.08</td>\n",
              "    </tr>\n",
              "    <tr>\n",
              "      <th>4</th>\n",
              "      <td>1</td>\n",
              "      <td>1</td>\n",
              "      <td>1</td>\n",
              "      <td>4</td>\n",
              "      <td>4761.57</td>\n",
              "      <td>0.00</td>\n",
              "      <td>0.00</td>\n",
              "      <td>0.00</td>\n",
              "      <td>0.00</td>\n",
              "    </tr>\n",
              "  </tbody>\n",
              "</table>\n",
              "</div>\n",
              "      <button class=\"colab-df-convert\" onclick=\"convertToInteractive('df-9c79eb22-63f1-47db-af26-f363a1dd67a6')\"\n",
              "              title=\"Convert this dataframe to an interactive table.\"\n",
              "              style=\"display:none;\">\n",
              "        \n",
              "  <svg xmlns=\"http://www.w3.org/2000/svg\" height=\"24px\"viewBox=\"0 0 24 24\"\n",
              "       width=\"24px\">\n",
              "    <path d=\"M0 0h24v24H0V0z\" fill=\"none\"/>\n",
              "    <path d=\"M18.56 5.44l.94 2.06.94-2.06 2.06-.94-2.06-.94-.94-2.06-.94 2.06-2.06.94zm-11 1L8.5 8.5l.94-2.06 2.06-.94-2.06-.94L8.5 2.5l-.94 2.06-2.06.94zm10 10l.94 2.06.94-2.06 2.06-.94-2.06-.94-.94-2.06-.94 2.06-2.06.94z\"/><path d=\"M17.41 7.96l-1.37-1.37c-.4-.4-.92-.59-1.43-.59-.52 0-1.04.2-1.43.59L10.3 9.45l-7.72 7.72c-.78.78-.78 2.05 0 2.83L4 21.41c.39.39.9.59 1.41.59.51 0 1.02-.2 1.41-.59l7.78-7.78 2.81-2.81c.8-.78.8-2.07 0-2.86zM5.41 20L4 18.59l7.72-7.72 1.47 1.35L5.41 20z\"/>\n",
              "  </svg>\n",
              "      </button>\n",
              "      \n",
              "  <style>\n",
              "    .colab-df-container {\n",
              "      display:flex;\n",
              "      flex-wrap:wrap;\n",
              "      gap: 12px;\n",
              "    }\n",
              "\n",
              "    .colab-df-convert {\n",
              "      background-color: #E8F0FE;\n",
              "      border: none;\n",
              "      border-radius: 50%;\n",
              "      cursor: pointer;\n",
              "      display: none;\n",
              "      fill: #1967D2;\n",
              "      height: 32px;\n",
              "      padding: 0 0 0 0;\n",
              "      width: 32px;\n",
              "    }\n",
              "\n",
              "    .colab-df-convert:hover {\n",
              "      background-color: #E2EBFA;\n",
              "      box-shadow: 0px 1px 2px rgba(60, 64, 67, 0.3), 0px 1px 3px 1px rgba(60, 64, 67, 0.15);\n",
              "      fill: #174EA6;\n",
              "    }\n",
              "\n",
              "    [theme=dark] .colab-df-convert {\n",
              "      background-color: #3B4455;\n",
              "      fill: #D2E3FC;\n",
              "    }\n",
              "\n",
              "    [theme=dark] .colab-df-convert:hover {\n",
              "      background-color: #434B5C;\n",
              "      box-shadow: 0px 1px 3px 1px rgba(0, 0, 0, 0.15);\n",
              "      filter: drop-shadow(0px 1px 2px rgba(0, 0, 0, 0.3));\n",
              "      fill: #FFFFFF;\n",
              "    }\n",
              "  </style>\n",
              "\n",
              "      <script>\n",
              "        const buttonEl =\n",
              "          document.querySelector('#df-9c79eb22-63f1-47db-af26-f363a1dd67a6 button.colab-df-convert');\n",
              "        buttonEl.style.display =\n",
              "          google.colab.kernel.accessAllowed ? 'block' : 'none';\n",
              "\n",
              "        async function convertToInteractive(key) {\n",
              "          const element = document.querySelector('#df-9c79eb22-63f1-47db-af26-f363a1dd67a6');\n",
              "          const dataTable =\n",
              "            await google.colab.kernel.invokeFunction('convertToInteractive',\n",
              "                                                     [key], {});\n",
              "          if (!dataTable) return;\n",
              "\n",
              "          const docLinkHtml = 'Like what you see? Visit the ' +\n",
              "            '<a target=\"_blank\" href=https://colab.research.google.com/notebooks/data_table.ipynb>data table notebook</a>'\n",
              "            + ' to learn more about interactive tables.';\n",
              "          element.innerHTML = '';\n",
              "          dataTable['output_type'] = 'display_data';\n",
              "          await google.colab.output.renderOutput(dataTable, element);\n",
              "          const docLink = document.createElement('div');\n",
              "          docLink.innerHTML = docLinkHtml;\n",
              "          element.appendChild(docLink);\n",
              "        }\n",
              "      </script>\n",
              "    </div>\n",
              "  </div>\n",
              "  "
            ]
          },
          "metadata": {},
          "execution_count": 24
        }
      ]
    },
    {
      "cell_type": "markdown",
      "metadata": {
        "id": "HF1aa9n2RnNq"
      },
      "source": [
        "### Step 4: Create the training and testing sets using the `train_test_split` function from scikit-learn."
      ]
    },
    {
      "cell_type": "code",
      "metadata": {
        "id": "2WU65gmpRnNq"
      },
      "source": [
        "# Create training and testing datasets using train_teat_split\n",
        "# Assign the function a random_state equal to 1\n",
        "X_train, X_test, y_train, y_test = train_test_split(X,y)\n"
      ],
      "execution_count": 25,
      "outputs": []
    },
    {
      "cell_type": "markdown",
      "metadata": {
        "id": "bKRgVgHxRnNq"
      },
      "source": [
        "### Step 5:  Scale the features data using the `StandardScaler` from scikit-learn."
      ]
    },
    {
      "cell_type": "code",
      "metadata": {
        "id": "hPCjN6sZRnNr"
      },
      "source": [
        "# Create the StandardScaler instance\n",
        "X_scaler = StandardScaler()\n"
      ],
      "execution_count": 26,
      "outputs": []
    },
    {
      "cell_type": "code",
      "metadata": {
        "id": "4rWnn2kfRnNr",
        "outputId": "3ef3040a-4000-4ef5-af3c-8b14a57dc442",
        "colab": {
          "base_uri": "https://localhost:8080/"
        }
      },
      "source": [
        "# Fit the scaler to the features training dataset\n",
        "X_scaler.fit(X_train)\n"
      ],
      "execution_count": 27,
      "outputs": [
        {
          "output_type": "execute_result",
          "data": {
            "text/plain": [
              "StandardScaler()"
            ]
          },
          "metadata": {},
          "execution_count": 27
        }
      ]
    },
    {
      "cell_type": "code",
      "metadata": {
        "id": "CRDZepJSRnNr"
      },
      "source": [
        "# Scale both the training and testing data from the features dataset\n",
        "X_train_scaled = X_scaler.transform(X_train)\n",
        "X_test_scaled = X_scaler.transform(X_test)\n"
      ],
      "execution_count": 28,
      "outputs": []
    },
    {
      "cell_type": "markdown",
      "metadata": {
        "id": "A_AV7c2vRnNr"
      },
      "source": [
        "---\n",
        "\n",
        "## Create and Evaluate a Deep Neural Network Model"
      ]
    },
    {
      "cell_type": "markdown",
      "metadata": {
        "id": "jRz1cRZ9RnNr"
      },
      "source": [
        "### Step 1: Create a deep neural network model with the following structure:\n",
        "\n",
        "    * 9 inputs\n",
        "    * First hidden layer with 18 neurons\n",
        "    * Second hidden layer with 8 neurons\n",
        "    * Output layer with a single output\n",
        "    * Hidden layers use the ReLU activation function, and output layer uses the sigmoid activation function\n"
      ]
    },
    {
      "cell_type": "code",
      "metadata": {
        "id": "r7N1SFWKRnNs"
      },
      "source": [
        "# Define the model - deep neural net with two hidden layers\n",
        "number_input_features = 9\n",
        "hidden_nodes_layer1 = 18\n",
        "hidden_nodes_layer2 = 8\n",
        "\n",
        "# Create a sequential neural network model\n",
        "nn = Sequential()\n",
        "\n",
        "# Add the first hidden layer\n",
        "nn.add(Dense(units=hidden_nodes_layer1, input_dim=number_input_features, activation=\"relu\"))\n",
        "\n",
        "# Add the second hidden layer\n",
        "nn.add(Dense(units=hidden_nodes_layer2, activation=\"relu\"))\n",
        "\n",
        "# Add the output layer\n",
        "nn.add(Dense(units=1, activation=\"sigmoid\"))\n"
      ],
      "execution_count": 29,
      "outputs": []
    },
    {
      "cell_type": "markdown",
      "metadata": {
        "id": "m6-wnlv5RnNs"
      },
      "source": [
        "### Step 2. Display the model structure using the `summary` function."
      ]
    },
    {
      "cell_type": "code",
      "metadata": {
        "id": "xCm4JQ6JRnNs",
        "outputId": "2c4f9cd6-ca4b-489d-f455-df3d348e0e7a",
        "colab": {
          "base_uri": "https://localhost:8080/"
        }
      },
      "source": [
        "# Display the Sequential model summary\n",
        "nn.summary()\n"
      ],
      "execution_count": 30,
      "outputs": [
        {
          "output_type": "stream",
          "name": "stdout",
          "text": [
            "Model: \"sequential\"\n",
            "_________________________________________________________________\n",
            " Layer (type)                Output Shape              Param #   \n",
            "=================================================================\n",
            " dense (Dense)               (None, 18)                180       \n",
            "                                                                 \n",
            " dense_1 (Dense)             (None, 8)                 152       \n",
            "                                                                 \n",
            " dense_2 (Dense)             (None, 1)                 9         \n",
            "                                                                 \n",
            "=================================================================\n",
            "Total params: 341\n",
            "Trainable params: 341\n",
            "Non-trainable params: 0\n",
            "_________________________________________________________________\n"
          ]
        }
      ]
    },
    {
      "cell_type": "markdown",
      "metadata": {
        "id": "asddb2V2RnNs"
      },
      "source": [
        "### Step 3: Compile the neural network model using the `binary_crossentropy` loss function, the `adam` optimizer, and `accuracy` as an additional metric."
      ]
    },
    {
      "cell_type": "code",
      "metadata": {
        "id": "_1kGgbiRRnNt"
      },
      "source": [
        "# Compile the Sequential model\n",
        "# YOUR CODE HERE\n",
        "# Compile the model\n",
        "nn.compile(loss=\"binary_crossentropy\", optimizer=\"adam\", metrics=[\"accuracy\"])\n",
        "\n"
      ],
      "execution_count": 31,
      "outputs": []
    },
    {
      "cell_type": "markdown",
      "metadata": {
        "id": "rj9RyYeaRnNt"
      },
      "source": [
        "### Step 4: Fit the model with the training data, using 100 epochs."
      ]
    },
    {
      "cell_type": "code",
      "metadata": {
        "id": "TY1MvtcKRnNt",
        "outputId": "6205c2e6-d159-45f5-b632-e95b04f49d2e",
        "colab": {
          "base_uri": "https://localhost:8080/"
        }
      },
      "source": [
        "# Fit the model using 100 epochs and the training data\n",
        "\n",
        "# Fit the model\n",
        "model = nn.fit(X_train_scaled, y_train, epochs=100)"
      ],
      "execution_count": 32,
      "outputs": [
        {
          "output_type": "stream",
          "name": "stdout",
          "text": [
            "Epoch 1/100\n",
            "2344/2344 [==============================] - 6s 2ms/step - loss: 0.0590 - accuracy: 0.9805\n",
            "Epoch 2/100\n",
            "2344/2344 [==============================] - 6s 2ms/step - loss: 0.0098 - accuracy: 0.9988\n",
            "Epoch 3/100\n",
            "2344/2344 [==============================] - 5s 2ms/step - loss: 0.0090 - accuracy: 0.9988\n",
            "Epoch 4/100\n",
            "2344/2344 [==============================] - 5s 2ms/step - loss: 0.0084 - accuracy: 0.9989\n",
            "Epoch 5/100\n",
            "2344/2344 [==============================] - 6s 2ms/step - loss: 0.0081 - accuracy: 0.9989\n",
            "Epoch 6/100\n",
            "2344/2344 [==============================] - 6s 3ms/step - loss: 0.0080 - accuracy: 0.9989\n",
            "Epoch 7/100\n",
            "2344/2344 [==============================] - 5s 2ms/step - loss: 0.0079 - accuracy: 0.9989\n",
            "Epoch 8/100\n",
            "2344/2344 [==============================] - 5s 2ms/step - loss: 0.0076 - accuracy: 0.9989\n",
            "Epoch 9/100\n",
            "2344/2344 [==============================] - 5s 2ms/step - loss: 0.0074 - accuracy: 0.9989\n",
            "Epoch 10/100\n",
            "2344/2344 [==============================] - 4s 2ms/step - loss: 0.0072 - accuracy: 0.9989\n",
            "Epoch 11/100\n",
            "2344/2344 [==============================] - 5s 2ms/step - loss: 0.0069 - accuracy: 0.9989\n",
            "Epoch 12/100\n",
            "2344/2344 [==============================] - 5s 2ms/step - loss: 0.0067 - accuracy: 0.9989\n",
            "Epoch 13/100\n",
            "2344/2344 [==============================] - 7s 3ms/step - loss: 0.0064 - accuracy: 0.9989\n",
            "Epoch 14/100\n",
            "2344/2344 [==============================] - 5s 2ms/step - loss: 0.0063 - accuracy: 0.9989\n",
            "Epoch 15/100\n",
            "2344/2344 [==============================] - 5s 2ms/step - loss: 0.0061 - accuracy: 0.9989\n",
            "Epoch 16/100\n",
            "2344/2344 [==============================] - 5s 2ms/step - loss: 0.0058 - accuracy: 0.9989\n",
            "Epoch 17/100\n",
            "2344/2344 [==============================] - 5s 2ms/step - loss: 0.0057 - accuracy: 0.9990\n",
            "Epoch 18/100\n",
            "2344/2344 [==============================] - 4s 2ms/step - loss: 0.0056 - accuracy: 0.9990\n",
            "Epoch 19/100\n",
            "2344/2344 [==============================] - 4s 2ms/step - loss: 0.0055 - accuracy: 0.9990\n",
            "Epoch 20/100\n",
            "2344/2344 [==============================] - 4s 2ms/step - loss: 0.0053 - accuracy: 0.9990\n",
            "Epoch 21/100\n",
            "2344/2344 [==============================] - 4s 2ms/step - loss: 0.0053 - accuracy: 0.9990\n",
            "Epoch 22/100\n",
            "2344/2344 [==============================] - 4s 2ms/step - loss: 0.0053 - accuracy: 0.9990\n",
            "Epoch 23/100\n",
            "2344/2344 [==============================] - 5s 2ms/step - loss: 0.0052 - accuracy: 0.9990\n",
            "Epoch 24/100\n",
            "2344/2344 [==============================] - 6s 3ms/step - loss: 0.0052 - accuracy: 0.9990\n",
            "Epoch 25/100\n",
            "2344/2344 [==============================] - 5s 2ms/step - loss: 0.0050 - accuracy: 0.9990\n",
            "Epoch 26/100\n",
            "2344/2344 [==============================] - 6s 2ms/step - loss: 0.0051 - accuracy: 0.9990\n",
            "Epoch 27/100\n",
            "2344/2344 [==============================] - 4s 2ms/step - loss: 0.0050 - accuracy: 0.9990\n",
            "Epoch 28/100\n",
            "2344/2344 [==============================] - 4s 2ms/step - loss: 0.0049 - accuracy: 0.9990\n",
            "Epoch 29/100\n",
            "2344/2344 [==============================] - 4s 2ms/step - loss: 0.0050 - accuracy: 0.9990\n",
            "Epoch 30/100\n",
            "2344/2344 [==============================] - 4s 2ms/step - loss: 0.0048 - accuracy: 0.9990\n",
            "Epoch 31/100\n",
            "2344/2344 [==============================] - 4s 2ms/step - loss: 0.0049 - accuracy: 0.9990\n",
            "Epoch 32/100\n",
            "2344/2344 [==============================] - 4s 2ms/step - loss: 0.0048 - accuracy: 0.9990\n",
            "Epoch 33/100\n",
            "2344/2344 [==============================] - 4s 2ms/step - loss: 0.0048 - accuracy: 0.9990\n",
            "Epoch 34/100\n",
            "2344/2344 [==============================] - 4s 2ms/step - loss: 0.0048 - accuracy: 0.9990\n",
            "Epoch 35/100\n",
            "2344/2344 [==============================] - 6s 2ms/step - loss: 0.0047 - accuracy: 0.9990\n",
            "Epoch 36/100\n",
            "2344/2344 [==============================] - 6s 2ms/step - loss: 0.0047 - accuracy: 0.9990\n",
            "Epoch 37/100\n",
            "2344/2344 [==============================] - 5s 2ms/step - loss: 0.0047 - accuracy: 0.9990\n",
            "Epoch 38/100\n",
            "2344/2344 [==============================] - 5s 2ms/step - loss: 0.0047 - accuracy: 0.9990\n",
            "Epoch 39/100\n",
            "2344/2344 [==============================] - 6s 2ms/step - loss: 0.0047 - accuracy: 0.9990\n",
            "Epoch 40/100\n",
            "2344/2344 [==============================] - 14s 6ms/step - loss: 0.0046 - accuracy: 0.9990\n",
            "Epoch 41/100\n",
            "2344/2344 [==============================] - 7s 3ms/step - loss: 0.0046 - accuracy: 0.9990\n",
            "Epoch 42/100\n",
            "2344/2344 [==============================] - 9s 4ms/step - loss: 0.0046 - accuracy: 0.9990\n",
            "Epoch 43/100\n",
            "2344/2344 [==============================] - 5s 2ms/step - loss: 0.0045 - accuracy: 0.9990\n",
            "Epoch 44/100\n",
            "2344/2344 [==============================] - 5s 2ms/step - loss: 0.0045 - accuracy: 0.9990\n",
            "Epoch 45/100\n",
            "2344/2344 [==============================] - 4s 2ms/step - loss: 0.0046 - accuracy: 0.9989\n",
            "Epoch 46/100\n",
            "2344/2344 [==============================] - 4s 2ms/step - loss: 0.0044 - accuracy: 0.9990\n",
            "Epoch 47/100\n",
            "2344/2344 [==============================] - 5s 2ms/step - loss: 0.0044 - accuracy: 0.9990\n",
            "Epoch 48/100\n",
            "2344/2344 [==============================] - 5s 2ms/step - loss: 0.0045 - accuracy: 0.9990\n",
            "Epoch 49/100\n",
            "2344/2344 [==============================] - 5s 2ms/step - loss: 0.0045 - accuracy: 0.9990\n",
            "Epoch 50/100\n",
            "2344/2344 [==============================] - 4s 2ms/step - loss: 0.0044 - accuracy: 0.9990\n",
            "Epoch 51/100\n",
            "2344/2344 [==============================] - 4s 2ms/step - loss: 0.0043 - accuracy: 0.9990\n",
            "Epoch 52/100\n",
            "2344/2344 [==============================] - 4s 2ms/step - loss: 0.0043 - accuracy: 0.9991\n",
            "Epoch 53/100\n",
            "2344/2344 [==============================] - 5s 2ms/step - loss: 0.0043 - accuracy: 0.9990\n",
            "Epoch 54/100\n",
            "2344/2344 [==============================] - 4s 2ms/step - loss: 0.0044 - accuracy: 0.9990\n",
            "Epoch 55/100\n",
            "2344/2344 [==============================] - 4s 2ms/step - loss: 0.0043 - accuracy: 0.9990\n",
            "Epoch 56/100\n",
            "2344/2344 [==============================] - 4s 2ms/step - loss: 0.0044 - accuracy: 0.9990\n",
            "Epoch 57/100\n",
            "2344/2344 [==============================] - 4s 2ms/step - loss: 0.0043 - accuracy: 0.9990\n",
            "Epoch 58/100\n",
            "2344/2344 [==============================] - 5s 2ms/step - loss: 0.0043 - accuracy: 0.9990\n",
            "Epoch 59/100\n",
            "2344/2344 [==============================] - 5s 2ms/step - loss: 0.0043 - accuracy: 0.9990\n",
            "Epoch 60/100\n",
            "2344/2344 [==============================] - 5s 2ms/step - loss: 0.0043 - accuracy: 0.9990\n",
            "Epoch 61/100\n",
            "2344/2344 [==============================] - 4s 2ms/step - loss: 0.0042 - accuracy: 0.9990\n",
            "Epoch 62/100\n",
            "2344/2344 [==============================] - 5s 2ms/step - loss: 0.0043 - accuracy: 0.9990\n",
            "Epoch 63/100\n",
            "2344/2344 [==============================] - 4s 2ms/step - loss: 0.0043 - accuracy: 0.9990\n",
            "Epoch 64/100\n",
            "2344/2344 [==============================] - 6s 2ms/step - loss: 0.0042 - accuracy: 0.9990\n",
            "Epoch 65/100\n",
            "2344/2344 [==============================] - 5s 2ms/step - loss: 0.0042 - accuracy: 0.9990\n",
            "Epoch 66/100\n",
            "2344/2344 [==============================] - 5s 2ms/step - loss: 0.0042 - accuracy: 0.9990\n",
            "Epoch 67/100\n",
            "2344/2344 [==============================] - 5s 2ms/step - loss: 0.0043 - accuracy: 0.9990\n",
            "Epoch 68/100\n",
            "2344/2344 [==============================] - 6s 2ms/step - loss: 0.0043 - accuracy: 0.9990\n",
            "Epoch 69/100\n",
            "2344/2344 [==============================] - 6s 2ms/step - loss: 0.0042 - accuracy: 0.9991\n",
            "Epoch 70/100\n",
            "2344/2344 [==============================] - 6s 3ms/step - loss: 0.0043 - accuracy: 0.9990\n",
            "Epoch 71/100\n",
            "2344/2344 [==============================] - 7s 3ms/step - loss: 0.0040 - accuracy: 0.9990\n",
            "Epoch 72/100\n",
            "2344/2344 [==============================] - 6s 2ms/step - loss: 0.0043 - accuracy: 0.9989\n",
            "Epoch 73/100\n",
            "2344/2344 [==============================] - 6s 3ms/step - loss: 0.0042 - accuracy: 0.9990\n",
            "Epoch 74/100\n",
            "2344/2344 [==============================] - 5s 2ms/step - loss: 0.0041 - accuracy: 0.9990\n",
            "Epoch 75/100\n",
            "2344/2344 [==============================] - 5s 2ms/step - loss: 0.0042 - accuracy: 0.9990\n",
            "Epoch 76/100\n",
            "2344/2344 [==============================] - 5s 2ms/step - loss: 0.0041 - accuracy: 0.9990\n",
            "Epoch 77/100\n",
            "2344/2344 [==============================] - 6s 3ms/step - loss: 0.0042 - accuracy: 0.9990\n",
            "Epoch 78/100\n",
            "2344/2344 [==============================] - 6s 3ms/step - loss: 0.0041 - accuracy: 0.9990\n",
            "Epoch 79/100\n",
            "2344/2344 [==============================] - 5s 2ms/step - loss: 0.0042 - accuracy: 0.9990\n",
            "Epoch 80/100\n",
            "2344/2344 [==============================] - 5s 2ms/step - loss: 0.0041 - accuracy: 0.9991\n",
            "Epoch 81/100\n",
            "2344/2344 [==============================] - 4s 2ms/step - loss: 0.0041 - accuracy: 0.9990\n",
            "Epoch 82/100\n",
            "2344/2344 [==============================] - 5s 2ms/step - loss: 0.0040 - accuracy: 0.9990\n",
            "Epoch 83/100\n",
            "2344/2344 [==============================] - 5s 2ms/step - loss: 0.0042 - accuracy: 0.9990\n",
            "Epoch 84/100\n",
            "2344/2344 [==============================] - 6s 2ms/step - loss: 0.0041 - accuracy: 0.9990\n",
            "Epoch 85/100\n",
            "2344/2344 [==============================] - 4s 2ms/step - loss: 0.0041 - accuracy: 0.9990\n",
            "Epoch 86/100\n",
            "2344/2344 [==============================] - 4s 2ms/step - loss: 0.0040 - accuracy: 0.9990\n",
            "Epoch 87/100\n",
            "2344/2344 [==============================] - 4s 2ms/step - loss: 0.0042 - accuracy: 0.9990\n",
            "Epoch 88/100\n",
            "2344/2344 [==============================] - 4s 2ms/step - loss: 0.0042 - accuracy: 0.9990\n",
            "Epoch 89/100\n",
            "2344/2344 [==============================] - 4s 2ms/step - loss: 0.0041 - accuracy: 0.9990\n",
            "Epoch 90/100\n",
            "2344/2344 [==============================] - 6s 2ms/step - loss: 0.0040 - accuracy: 0.9990\n",
            "Epoch 91/100\n",
            "2344/2344 [==============================] - 6s 3ms/step - loss: 0.0041 - accuracy: 0.9990\n",
            "Epoch 92/100\n",
            "2344/2344 [==============================] - 6s 3ms/step - loss: 0.0041 - accuracy: 0.9991\n",
            "Epoch 93/100\n",
            "2344/2344 [==============================] - 6s 3ms/step - loss: 0.0041 - accuracy: 0.9990\n",
            "Epoch 94/100\n",
            "2344/2344 [==============================] - 7s 3ms/step - loss: 0.0041 - accuracy: 0.9990\n",
            "Epoch 95/100\n",
            "2344/2344 [==============================] - 7s 3ms/step - loss: 0.0040 - accuracy: 0.9991\n",
            "Epoch 96/100\n",
            "2344/2344 [==============================] - 7s 3ms/step - loss: 0.0040 - accuracy: 0.9991\n",
            "Epoch 97/100\n",
            "2344/2344 [==============================] - 7s 3ms/step - loss: 0.0039 - accuracy: 0.9990\n",
            "Epoch 98/100\n",
            "2344/2344 [==============================] - 7s 3ms/step - loss: 0.0040 - accuracy: 0.9991\n",
            "Epoch 99/100\n",
            "2344/2344 [==============================] - 7s 3ms/step - loss: 0.0041 - accuracy: 0.9990\n",
            "Epoch 100/100\n",
            "2344/2344 [==============================] - 6s 3ms/step - loss: 0.0041 - accuracy: 0.9990\n"
          ]
        }
      ]
    },
    {
      "cell_type": "markdown",
      "metadata": {
        "id": "duxpi2evRnNt"
      },
      "source": [
        "### Step 5: Evaluate the model using testing data and the `evaluate` method."
      ]
    },
    {
      "cell_type": "code",
      "metadata": {
        "id": "0kRmkizURnNt",
        "outputId": "3e914896-3fd2-46b5-b3d5-52cbff11c9f9",
        "colab": {
          "base_uri": "https://localhost:8080/"
        }
      },
      "source": [
        "# E# Evaluate the model loss and accuracy metrics using the evaluate method and the test data\n",
        "model_loss, model_accuracy = nn.evaluate(X_test_scaled, y_test, verbose=2)\n",
        "\n",
        "# Display the evaluation results\n",
        "print(f\"Loss: {model_loss}, Accuracy: {model_accuracy}\")"
      ],
      "execution_count": 33,
      "outputs": [
        {
          "output_type": "stream",
          "name": "stdout",
          "text": [
            "782/782 - 2s - loss: 0.0081 - accuracy: 0.9989 - 2s/epoch - 2ms/step\n",
            "Loss: 0.00809413380920887, Accuracy: 0.9988800287246704\n"
          ]
        }
      ]
    },
    {
      "cell_type": "code",
      "metadata": {
        "id": "JpiTjJKjRnNu"
      },
      "source": [
        ""
      ],
      "execution_count": null,
      "outputs": []
    }
  ]
}