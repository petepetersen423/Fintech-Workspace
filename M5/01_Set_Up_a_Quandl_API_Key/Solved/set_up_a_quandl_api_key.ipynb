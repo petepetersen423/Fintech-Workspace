{
 "cells": [
  {
   "cell_type": "markdown",
   "metadata": {},
   "source": [
    "# Set up a Quandl API Key\n",
    "\n",
    "In this activity you’ll make your own Quandl API key available in a Jupyter notebook with an environment file (`.env`).\n",
    "\n",
    "Instructions:\n",
    "\n",
    "1. Either on your desktop or in your working folder, create a folder named `Quandl_API_Key`.\n",
    "\n",
    "2. Open `Quandl_API_Key` in JupyterLab. Be sure to activate your Conda development (`dev`) environment.\n",
    "\n",
    "3. In the `Quandl_API_Key` folder, create a Jupyter notebook, and name it `quandl_api_key.ipynb`.\n",
    "\n",
    "4. In `quandl_api_key.ipynb`, import the two Python libraries that you need to access your environment file and API key: `os` and `load_dotenv` from `dotenv`.\n",
    "\n",
    "5. In the `Quandl_API_Key` folder that holds the Jupyter notebook, set up an environment file (`.env`) that holds your Quandl API key. Make the variable name `QUANDL_API_KEY`. Be sure to place the key’s value in quotation marks.\n",
    "\n",
    "6. Use the `load_dotenv` function to load the environment variables from the environment file into your notebook.\n",
    "\n",
    "7. Use the Python `os.getenv` function to access your `QUANDL_API_KEY` from the loaded environment file. Set it equal to a variable of the same name.\n",
    "\n",
    "8. Use the `type` function to confirm that your key is available for use.\n"
   ]
  },
  {
   "cell_type": "markdown",
   "metadata": {},
   "source": [
    "## Steps 1 - 3: These steps will be completed outside of this Jupyter notebook. \n",
    "\n",
    "1. Either on your desktop or in your working folder, create a folder named Quandl_API_Key.\n",
    "\n",
    "2. Open Quandl_API_Key in JupyterLab. Be sure to activate your Conda development (dev) environment.\n",
    "\n",
    "3. In the Quandl_API_Key folder, create a Jupyter notebook, and name it quandl_api_key.ipynb."
   ]
  },
  {
   "cell_type": "markdown",
   "metadata": {},
   "source": [
    "## Step 4: Import the two Python libraries that you need to access your environment file and API key: `os` and `load_dotenv` from `dotenv`."
   ]
  },
  {
   "cell_type": "code",
   "execution_count": 1,
   "metadata": {},
   "outputs": [],
   "source": [
    "# Import the required libraries and dependencies\n",
    "\n",
    "# Import the os library\n",
    "import os\n",
    "\n",
    "# Import the load_dotenv module from the dotenv library\n",
    "from dotenv import load_dotenv"
   ]
  },
  {
   "cell_type": "markdown",
   "metadata": {},
   "source": [
    "## Step 5: In the `Quandl_API_Key` folder that holds this Jupyter notebook, set up an environment file (`.env`) that holds your Quandl API key. Make the variable name QUANDL_API_KEY. Be sure to place the key’s value in quotation marks."
   ]
  },
  {
   "cell_type": "markdown",
   "metadata": {},
   "source": [
    "## Step 6: Use the `load_dotenv` function to load the environment variables from the environment file into your notebook."
   ]
  },
  {
   "cell_type": "code",
   "execution_count": 2,
   "metadata": {},
   "outputs": [
    {
     "data": {
      "text/plain": [
       "True"
      ]
     },
     "execution_count": 2,
     "metadata": {},
     "output_type": "execute_result"
    }
   ],
   "source": [
    "# Load .env environment variables into the notebook\n",
    "load_dotenv()\n"
   ]
  },
  {
   "cell_type": "markdown",
   "metadata": {},
   "source": [
    "## Step 7: Use the Python `os.getenv` function to access your `QUANDL_API_KEY` from the loaded environment file. Set it equal to a variable of the same name."
   ]
  },
  {
   "cell_type": "code",
   "execution_count": 3,
   "metadata": {},
   "outputs": [],
   "source": [
    "# Use the Pandas os module and getenv function to retrieve the Quandl API key from the environment variable file.\n",
    "# Store the Quandl API key in a variable of the same name.\n",
    "quandl_api_key = os.getenv(\"QUANDL_API_KEY\")\n"
   ]
  },
  {
   "cell_type": "markdown",
   "metadata": {},
   "source": [
    "## Step 8: Use the `type` function to confirm that your key is available for use."
   ]
  },
  {
   "cell_type": "code",
   "execution_count": 4,
   "metadata": {},
   "outputs": [
    {
     "data": {
      "text/plain": [
       "str"
      ]
     },
     "execution_count": 4,
     "metadata": {},
     "output_type": "execute_result"
    }
   ],
   "source": [
    "# Using the type funcion, confirm that the Quandl API key is available for use in the notebook. \n",
    "type(quandl_api_key)"
   ]
  },
  {
   "cell_type": "code",
   "execution_count": null,
   "metadata": {},
   "outputs": [],
   "source": []
  }
 ],
 "metadata": {
  "kernelspec": {
   "display_name": "Python (dev)",
   "language": "python",
   "name": "dev"
  },
  "language_info": {
   "codemirror_mode": {
    "name": "ipython",
    "version": 3
   },
   "file_extension": ".py",
   "mimetype": "text/x-python",
   "name": "python",
   "nbconvert_exporter": "python",
   "pygments_lexer": "ipython3",
   "version": "3.7.7"
  }
 },
 "nbformat": 4,
 "nbformat_minor": 4
}
