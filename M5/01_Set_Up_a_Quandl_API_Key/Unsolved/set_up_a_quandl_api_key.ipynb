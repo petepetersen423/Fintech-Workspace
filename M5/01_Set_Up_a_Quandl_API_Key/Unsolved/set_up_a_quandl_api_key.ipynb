{
 "cells": [
  {
   "cell_type": "markdown",
   "metadata": {},
   "source": [
    "# Set up a Quandl API Key\n",
    "\n",
    "In this activity you’ll make your own Quandl API key available in a Jupyter notebook with an environment file (`.env`).\n",
    "\n",
    "Instructions:\n",
    "\n",
    "1. Either on your desktop or in your working folder, create a folder named `Quandl_API_Key`.\n",
    "\n",
    "2. Open `Quandl_API_Key` in JupyterLab. Be sure to activate your Conda development (`dev`) environment.\n",
    "\n",
    "3. In the `Quandl_API_Key` folder, create a Jupyter notebook, and name it `quandl_api_key.ipynb`.\n",
    "\n",
    "4. In `quandl_api_key.ipynb`, import the two Python libraries that you need to access your environment file and API key: `os` and `load_dotenv` from `dotenv`.\n",
    "\n",
    "5. In the `Quandl_API_Key` folder that holds the Jupyter notebook, set up an environment file (`.env`) that holds your Quandl API key. Make the variable name `QUANDL_API_KEY`. Be sure to place the key’s value in quotation marks.\n",
    "\n",
    "6. Use the `load_dotenv` function to load the environment variables from the environment file into your notebook.\n",
    "\n",
    "7. Use the Python `os.getenv` function to access your `QUANDL_API_KEY` from the loaded environment file. Set it equal to a variable of the same name.\n",
    "\n",
    "8. Use the `type` function to confirm that your key is available for use.\n"
   ]
  },
  {
   "cell_type": "markdown",
   "metadata": {},
   "source": [
    "## Steps 1 - 3: These steps will be completed outside of this Jupyter notebook. \n",
    "\n",
    "1. Either on your desktop or in your working folder, create a folder named Quandl_API_Key.\n",
    "\n",
    "2. Open Quandl_API_Key in JupyterLab. Be sure to activate your Conda development (dev) environment.\n",
    "\n",
    "3. In the Quandl_API_Key folder, create a Jupyter notebook, and name it quandl_api_key.ipynb.\n"
   ]
  },
  {
   "cell_type": "markdown",
   "metadata": {},
   "source": [
    "## Step 4: Import the two Python libraries that you need to access your environment file and API key: `os` and `load_dotenv` from `dotenv`."
   ]
  },
  {
   "cell_type": "code",
   "execution_count": 1,
   "metadata": {},
   "outputs": [],
   "source": [
    "# Import the required libraries and dependencies\n",
    "import pandas as pd\n",
    "import json\n",
    "import requests\n",
    "import matplotlib.pyplot as plt\n",
    "\n",
    "# Import the os library\n",
    "# YOUR CODE HERE\n",
    "import os\n",
    "# Import the load_dotenv module from the dotenv library\n",
    "\n",
    "from dotenv import load_dotenv"
   ]
  },
  {
   "cell_type": "markdown",
   "metadata": {},
   "source": [
    "## Step 5: In the `Quandl_API_Key` folder that holds this Jupyter notebook, set up an environment file (`.env`) that holds your Quandl API key. Make the variable name QUANDL_API_KEY. Be sure to place the key’s value in quotation marks."
   ]
  },
  {
   "cell_type": "markdown",
   "metadata": {},
   "source": [
    "## Step 6: Use the `load_dotenv` function to load the environment variables from the environment file into your notebook."
   ]
  },
  {
   "cell_type": "code",
   "execution_count": 2,
   "metadata": {},
   "outputs": [
    {
     "data": {
      "text/plain": [
       "True"
      ]
     },
     "execution_count": 2,
     "metadata": {},
     "output_type": "execute_result"
    }
   ],
   "source": [
    "# Load .env environment variables into the notebook\n",
    "# YOUR CODE HERE\n",
    "load_dotenv()\n"
   ]
  },
  {
   "cell_type": "markdown",
   "metadata": {},
   "source": [
    "## Step 7: Use the Python `os.getenv` function to access your `QUANDL_API_KEY` from the loaded environment file. Set it equal to a variable of the same name."
   ]
  },
  {
   "cell_type": "code",
   "execution_count": 3,
   "metadata": {},
   "outputs": [],
   "source": [
    "# Use the Pandas os module and getenv function to retrieve the Quandl API key from the environment variable file.\n",
    "# Store the Quandl API key in a variable of the same name.\n",
    "quandl_api_key = os.getenv('QUANDL_API_KEY')\n"
   ]
  },
  {
   "cell_type": "markdown",
   "metadata": {},
   "source": [
    "## Step 8: Use the `type` function to confirm that your key is available for use."
   ]
  },
  {
   "cell_type": "code",
   "execution_count": 4,
   "metadata": {},
   "outputs": [
    {
     "data": {
      "text/plain": [
       "'-rzyqPE8UPZSQA_9cy6o'"
      ]
     },
     "execution_count": 4,
     "metadata": {},
     "output_type": "execute_result"
    }
   ],
   "source": [
    "# Using the type funcion, confirm that the Quandl API key is available for use in the notebookqu\n",
    "quandl_api_key"
   ]
  },
  {
   "cell_type": "code",
   "execution_count": 6,
   "metadata": {},
   "outputs": [
    {
     "name": "stdout",
     "output_type": "stream",
     "text": [
      "{\n",
      "    \"dataset\": {\n",
      "        \"collapse\": null,\n",
      "        \"column_index\": null,\n",
      "        \"column_names\": [\n",
      "            \"Date\",\n",
      "            \"Open\",\n",
      "            \"High\",\n",
      "            \"Low\",\n",
      "            \"Close\",\n",
      "            \"Volume\",\n",
      "            \"Ex-Dividend\",\n",
      "            \"Split Ratio\",\n",
      "            \"Adj. Open\",\n",
      "            \"Adj. High\",\n",
      "            \"Adj. Low\",\n",
      "            \"Adj. Close\",\n",
      "            \"Adj. Volume\"\n",
      "        ],\n",
      "        \"data\": [\n",
      "            [\n",
      "                \"2018-03-27\",\n",
      "                94.94,\n",
      "                95.139,\n",
      "                88.51,\n",
      "                89.47,\n",
      "                53704562.0,\n",
      "                0.0,\n",
      "                1.0,\n",
      "                94.94,\n",
      "                95.139,\n",
      "                88.51,\n",
      "                89.47,\n",
      "                53704562.0\n",
      "            ],\n",
      "            [\n",
      "                \"2018-03-26\",\n",
      "                90.61,\n",
      "                94.0,\n",
      "                90.4,\n",
      "                93.78,\n",
      "                55031149.0,\n",
      "                0.0,\n",
      "                1.0,\n",
      "                90.61,\n",
      "                94.0,\n",
      "                90.4,\n",
      "                93.78,\n",
      "                55031149.0\n",
      "            ],\n",
      "            [\n",
      "                \"2018-03-23\",\n",
      "                89.5,\n",
      "                90.46,\n",
      "                87.08,\n",
      "                87.18,\n",
      "                42159397.0,\n",
      "                0.0,\n",
      "                1.0,\n",
      "                89.5,\n",
      "                90.46,\n",
      "                87.08,\n",
      "                87.18,\n",
      "                42159397.0\n",
      "            ],\n",
      "            [\n",
      "                \"2018-03-22\",\n",
      "                91.265,\n",
      "                91.75,\n",
      "                89.66,\n",
      "                89.79,\n",
      "                37578166.0,\n",
      "                0.0,\n",
      "                1.0,\n",
      "                91.265,\n",
      "                91.75,\n",
      "                89.66,\n",
      "                89.79,\n",
      "                37578166.0\n",
      "            ],\n",
      "            [\n",
      "                \"2018-03-21\",\n",
      "                92.93,\n",
      "                94.05,\n",
      "                92.21,\n",
      "                92.48,\n",
      "                23753263.0,\n",
      "                0.0,\n",
      "                1.0,\n",
      "                92.93,\n",
      "                94.05,\n",
      "                92.21,\n",
      "                92.48,\n",
      "                23753263.0\n",
      "            ],\n",
      "            [\n",
      "                \"2018-03-20\",\n",
      "                93.05,\n",
      "                93.77,\n",
      "                93.0,\n",
      "                93.13,\n",
      "                21787780.0,\n",
      "                0.0,\n",
      "                1.0,\n",
      "                93.05,\n",
      "                93.77,\n",
      "                93.0,\n",
      "                93.13,\n",
      "                21787780.0\n",
      "            ],\n",
      "            [\n",
      "                \"2018-03-19\",\n",
      "                93.74,\n",
      "                93.9,\n",
      "                92.11,\n",
      "                92.89,\n",
      "                31752589.0,\n",
      "                0.0,\n",
      "                1.0,\n",
      "                93.74,\n",
      "                93.9,\n",
      "                92.11,\n",
      "                92.89,\n",
      "                31752589.0\n",
      "            ],\n",
      "            [\n",
      "                \"2018-03-16\",\n",
      "                94.68,\n",
      "                95.38,\n",
      "                93.92,\n",
      "                94.6,\n",
      "                47329521.0,\n",
      "                0.0,\n",
      "                1.0,\n",
      "                94.68,\n",
      "                95.38,\n",
      "                93.92,\n",
      "                94.6,\n",
      "                47329521.0\n",
      "            ],\n",
      "            [\n",
      "                \"2018-03-15\",\n",
      "                93.53,\n",
      "                94.58,\n",
      "                92.83,\n",
      "                94.18,\n",
      "                26279014.0,\n",
      "                0.0,\n",
      "                1.0,\n",
      "                93.53,\n",
      "                94.58,\n",
      "                92.83,\n",
      "                94.18,\n",
      "                26279014.0\n",
      "            ],\n",
      "            [\n",
      "                \"2018-03-14\",\n",
      "                95.12,\n",
      "                95.41,\n",
      "                93.5,\n",
      "                93.85,\n",
      "                31576898.0,\n",
      "                0.0,\n",
      "                1.0,\n",
      "                95.12,\n",
      "                95.41,\n",
      "                93.5,\n",
      "                93.85,\n",
      "                31576898.0\n",
      "            ]\n",
      "        ],\n",
      "        \"database_code\": \"WIKI\",\n",
      "        \"database_id\": 4922,\n",
      "        \"dataset_code\": \"MSFT\",\n",
      "        \"description\": \"End of day open, high, low, close and volume, dividends and splits, and split/dividend adjusted open, high, low close and volume for Microsoft Corporation (MSFT). Ex-Dividend is non-zero on ex-dividend dates. Split Ratio is 1 on non-split dates. Adjusted prices are calculated per CRSP (www.crsp.com/products/documentation/crsp-calculations)\\n\\nThis data is in the public domain. You may copy, distribute, disseminate or include the data in other products for commercial and/or noncommercial purposes.\\n\\nThis data is part of Quandl's Wiki initiative to get financial data permanently into the public domain. Quandl relies on users like you to flag errors and provide data where data is wrong or missing. Get involved: connect@quandl.com\\n\",\n",
      "        \"end_date\": \"2018-03-27\",\n",
      "        \"frequency\": \"daily\",\n",
      "        \"id\": 9775827,\n",
      "        \"limit\": 10,\n",
      "        \"name\": \"Microsoft Corporation (MSFT) Prices, Dividends, Splits and Trading Volume\",\n",
      "        \"newest_available_date\": \"2018-03-27\",\n",
      "        \"oldest_available_date\": \"1986-03-13\",\n",
      "        \"order\": null,\n",
      "        \"premium\": false,\n",
      "        \"refreshed_at\": \"2018-03-27T21:46:11.788Z\",\n",
      "        \"start_date\": \"1986-03-13\",\n",
      "        \"transform\": null,\n",
      "        \"type\": \"Time Series\"\n",
      "    }\n",
      "}\n"
     ]
    }
   ],
   "source": [
    "# Retrieve the API key from the environment variable and store as Python variable\n",
    "quandl_api_key = os.getenv(\"QUANDL_API_KEY\")\n",
    "type(quandl_api_key)\n",
    "\n",
    "# Define the base request URL for Quandl\n",
    "# Note the `limit=10` and api_key=` parameters.\n",
    "request_url = \"https://www.quandl.com/api/v3/datasets/WIKI/MSFT.json?limit=10&api_key=\"\n",
    "\n",
    "# Concatenate request_url and quandl_api_key and store as a new variable\n",
    "quandl_request_url = request_url + quandl_api_key\n",
    "\n",
    "# Execute the API call to Quandl using requests.get\n",
    "response = requests.get(quandl_request_url).json()\n",
    "\n",
    "# Display response data using json.dumps\n",
    "print(json.dumps(response, indent=4, sort_keys=True))\n"
   ]
  },
  {
   "cell_type": "code",
   "execution_count": null,
   "metadata": {},
   "outputs": [],
   "source": []
  }
 ],
 "metadata": {
  "kernelspec": {
   "display_name": "dev",
   "language": "python",
   "name": "dev"
  },
  "language_info": {
   "codemirror_mode": {
    "name": "ipython",
    "version": 3
   },
   "file_extension": ".py",
   "mimetype": "text/x-python",
   "name": "python",
   "nbconvert_exporter": "python",
   "pygments_lexer": "ipython3",
   "version": "3.7.11"
  }
 },
 "nbformat": 4,
 "nbformat_minor": 4
}
