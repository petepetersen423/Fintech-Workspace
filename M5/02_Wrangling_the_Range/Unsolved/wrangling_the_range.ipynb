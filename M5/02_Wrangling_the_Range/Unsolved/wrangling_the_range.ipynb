{
 "cells": [
  {
   "cell_type": "markdown",
   "metadata": {},
   "source": [
    "# Wrangling the Range\n",
    "\n",
    "In this activity, you’ll calculate a range of possible performance outcomes by using confidence intervals and the related z-scores.\n",
    "\n",
    "Instructions:\n",
    "\n",
    "1. Create an environment file (`.env`) in the root of the `Unsolved` folder. This file will hold your Alpaca API and secret keys.\n",
    "\n",
    "2. Load the Alpaca API and secret keys into `decisive_distributions.ipynb`, and set the values equal to variables of the same name.\n",
    "\n",
    "3. Create the Alpaca API `REST` object by calling the Alpaca `tradeapi.REST` function and setting `alpaca_api_key`, `alpaca_secret_key`, and `api_version`.\n",
    "\n",
    "4. Use the Alpaca SDK to make an API call that gets one year of daily stock information (from 2019-05-01 to 2020-05-01) for the following stock tickers:\n",
    "\n",
    "    - `SPY` (SPDR S&P 500 ETF Trust)\n",
    "\n",
    "    - `V` (Visa)\n",
    "\n",
    "    - `SQ` (Square, Inc.)\n",
    "\n",
    "    - `GS` (Goldman Sachs)\n",
    " \n",
    "> **Hint** Remember to set the tickers, time frame, start and end dates (‘2019-05-01’ and ‘2020-05-01’) and the number of rows returned. Then use the Alpaca `get_barset` function to make the API call. Be sure to set the `df` property at the end of the `get_barset` function so that the API response is returned as a DataFrame.\n",
    "\n",
    "5. Create a new DataFrame that holds the closing prices of each stock.\n",
    "\n",
    "> **Hint** Use both the head and tail functions to display the first five and the last five rows of the DataFrame. You need the price of each stock on the last day of the period for later use in your confidence interval calculations.\n",
    "\n",
    "6. Generate a daily returns DataFrame that’s based on the closing prices of each stock.\n",
    "\n",
    "7. Generate the summary statistics for the daily returns DataFrame. This provides your first review of the distribution information for your stocks.\n",
    "\n",
    "8. Visualize the distribution of the daily returns DataFrame by creating a histogram plot and a density plot.\n",
    "\n",
    "> **Hint** Generate only two plots. Both the histogram and the density plot will show the data for all four stocks.\n",
    "\n",
    "9. Based on your calculations and plots, answer the following questions: Which is the least volatile stock in the group? Which is the most volatile?\n",
    "\n",
    "10. With a 95% confidence level, calculate the downside and upside performance expectations for both SPY and V based on the mean and standard deviation values.\n",
    "\n",
    "11. With a 99% level of confidence, calculate the downside and upside performance expectations for both SQ and GS based on the mean and standard deviation values. \n",
    "\n",
    "12. Identify the lower and upper performance bounds for the start of each tail for SPY and SQ stocks. Note that the tail risk occurs when the performance measures outside the 99.7% confidence interval.\n",
    "\n",
    "\n",
    "References:\n",
    "\n",
    "[Alpaca API Docs](https://alpaca.markets/docs/api-documentation/)\n",
    "\n",
    "[Pandas Histogram plot](https://pandas.pydata.org/pandas-docs/stable/reference/api/pandas.DataFrame.hist.html)\n",
    "\n",
    "[Pandas Density plot](https://pandas.pydata.org/pandas-docs/stable/reference/api/pandas.DataFrame.plot.density.html)\n",
    "\n"
   ]
  },
  {
   "cell_type": "markdown",
   "metadata": {},
   "source": [
    "## Import the required libraries and dependencies"
   ]
  },
  {
   "cell_type": "code",
   "execution_count": 1,
   "metadata": {
    "tags": []
   },
   "outputs": [],
   "source": [
    "\n",
    "# Import the required libraries and dependencies\n",
    "import os\n",
    "import requests\n",
    "import pandas as pd\n",
    "from dotenv import load_dotenv\n",
    "import alpaca_trade_api as tradeapi\n",
    "from alpaca_trade_api.rest import TimeFrame\n",
    "import seaborn as sns\n",
    "%matplotlib inline"
   ]
  },
  {
   "cell_type": "markdown",
   "metadata": {},
   "source": [
    "## Step 1: Create an environment file (`.env`) in the root of the `Unsolved` folder. This file will hold your Alpaca API and secret keys."
   ]
  },
  {
   "cell_type": "markdown",
   "metadata": {},
   "source": [
    "## Step 2: Load the Alpaca API and secret keys into `decisive_probability_distributions.ipynb`, and set the values equal to variables of the same name.\n",
    "\n",
    "* Load the environment variable by calling the `load_dotenv()` function.\n",
    "* Set the value of the variables `alpaca_api_key` and `alpaca_secret_key` equal to their respective environment variables. \n",
    "* Confirm the variables are available by checking the `type` of each. "
   ]
  },
  {
   "cell_type": "code",
   "execution_count": 2,
   "metadata": {},
   "outputs": [
    {
     "data": {
      "text/plain": [
       "True"
      ]
     },
     "execution_count": 2,
     "metadata": {},
     "output_type": "execute_result"
    }
   ],
   "source": [
    "# Load the environment variables by calling the load_dotenv function\n",
    "# YOUR CODE HERE \n",
    "load_dotenv()"
   ]
  },
  {
   "cell_type": "code",
   "execution_count": 3,
   "metadata": {},
   "outputs": [
    {
     "data": {
      "text/plain": [
       "str"
      ]
     },
     "metadata": {},
     "output_type": "display_data"
    },
    {
     "data": {
      "text/plain": [
       "str"
      ]
     },
     "metadata": {},
     "output_type": "display_data"
    }
   ],
   "source": [
    "# Set Alpaca API key and secret by calling the os.getenv function and referencing the environment variable names\n",
    "# Set each environment variable to a notebook variable of the same name\n",
    "\n",
    "alpaca_api_key = os.getenv(\"ALPACA_API_KEY\")\n",
    "alpaca_secret_key = os.getenv(\"ALPACA_SECRET_KEY\")\n",
    "\n",
    "# Check the values were imported correctly by evaluating the type of each\n",
    "display(type(\"ALPACA_API_KEY\"))\n",
    "display(type(\"ALPACA_SECRET_KEY\"))\n",
    "    \n",
    "    "
   ]
  },
  {
   "cell_type": "markdown",
   "metadata": {},
   "source": [
    "## Step 3: Create the Alpaca API `REST` object by calling the Alpaca `tradeapi.REST` function and setting `alpaca_api_key`, `alpaca_secret_key`, and `api_version`."
   ]
  },
  {
   "cell_type": "code",
   "execution_count": 4,
   "metadata": {
    "tags": []
   },
   "outputs": [],
   "source": [
    "# Create your Alpaca API REST object by calling Alpaca's tradeapi.REST function\n",
    "# Set the parameters to your alpaca_api_key, alpaca_secret_key and api_version=\"v2\" \n",
    "alpaca = tradeapi.REST(\n",
    "    alpaca_api_key,\n",
    "    alpaca_secret_key,\n",
    "    api_version=\"v2\")"
   ]
  },
  {
   "cell_type": "markdown",
   "metadata": {},
   "source": [
    "## Step 4: Use the Alpaca SDK to make an API call that gets one year of daily stock information (from 2019-05-01 to 2020-05-01) for the following stock tickers:\n",
    ".\n",
    "* Create the value for the required `tickers`.\n",
    "* Set the values for `start_date` and `end_date` using the `pd.Timestamp` function. The dates should be 2019-05-01 through 2020-05-01.\n",
    "* Set the `timeframe` value to 1 day.\n",
    "* Create the `portfolio_prices_df` DataFrame by setting it equal to the `alpaca.get_barset` function. "
   ]
  },
  {
   "cell_type": "code",
   "execution_count": 9,
   "metadata": {},
   "outputs": [],
   "source": [
    "# Create the list for the required tickers\n",
    "tickers = [\"SPY\", \"V\", \"SQ\", \"GS\"]\n"
   ]
  },
  {
   "cell_type": "code",
   "execution_count": 10,
   "metadata": {},
   "outputs": [],
   "source": [
    "# Set the values for start_date and end_date using the pd.Timestamp function\n",
    "# The start and end data should be 2019-05-01 to 2020-05-01\n",
    "# Set the parameter tz to \"America/New_York\", \n",
    "# Set this all to the ISO format by calling the isoformat function \n",
    "start_date = pd.Timestamp(\"2019-05-01\", tz=\"America/New_York\").isoformat()\n",
    "end_date = pd.Timestamp(\"2020-05-01\", tz=\"America/New_York\").isoformat()\n",
    "\n"
   ]
  },
  {
   "cell_type": "code",
   "execution_count": 11,
   "metadata": {},
   "outputs": [],
   "source": [
    "# Set timeframe to one day (1D)\n",
    "#timeframe = # YOUR CODE HERE \n",
    "\n",
    "# Set number of rows to 1000 to retrieve the maximum amount of rows\n",
    "#limit_rows = # YOUR CODE HERE"
   ]
  },
  {
   "cell_type": "code",
   "execution_count": 13,
   "metadata": {},
   "outputs": [
    {
     "data": {
      "text/html": [
       "<div>\n",
       "<style scoped>\n",
       "    .dataframe tbody tr th:only-of-type {\n",
       "        vertical-align: middle;\n",
       "    }\n",
       "\n",
       "    .dataframe tbody tr th {\n",
       "        vertical-align: top;\n",
       "    }\n",
       "\n",
       "    .dataframe thead th {\n",
       "        text-align: right;\n",
       "    }\n",
       "</style>\n",
       "<table border=\"1\" class=\"dataframe\">\n",
       "  <thead>\n",
       "    <tr style=\"text-align: right;\">\n",
       "      <th></th>\n",
       "      <th>open</th>\n",
       "      <th>high</th>\n",
       "      <th>low</th>\n",
       "      <th>close</th>\n",
       "      <th>volume</th>\n",
       "      <th>trade_count</th>\n",
       "      <th>vwap</th>\n",
       "      <th>symbol</th>\n",
       "    </tr>\n",
       "    <tr>\n",
       "      <th>timestamp</th>\n",
       "      <th></th>\n",
       "      <th></th>\n",
       "      <th></th>\n",
       "      <th></th>\n",
       "      <th></th>\n",
       "      <th></th>\n",
       "      <th></th>\n",
       "      <th></th>\n",
       "    </tr>\n",
       "  </thead>\n",
       "  <tbody>\n",
       "    <tr>\n",
       "      <th>2019-05-01 04:00:00+00:00</th>\n",
       "      <td>206.14</td>\n",
       "      <td>208.4086</td>\n",
       "      <td>204.03</td>\n",
       "      <td>204.73</td>\n",
       "      <td>1981789</td>\n",
       "      <td>25133</td>\n",
       "      <td>205.716265</td>\n",
       "      <td>GS</td>\n",
       "    </tr>\n",
       "    <tr>\n",
       "      <th>2019-05-02 04:00:00+00:00</th>\n",
       "      <td>204.43</td>\n",
       "      <td>206.2200</td>\n",
       "      <td>203.12</td>\n",
       "      <td>204.99</td>\n",
       "      <td>1514660</td>\n",
       "      <td>20898</td>\n",
       "      <td>204.848131</td>\n",
       "      <td>GS</td>\n",
       "    </tr>\n",
       "    <tr>\n",
       "      <th>2019-05-03 04:00:00+00:00</th>\n",
       "      <td>206.01</td>\n",
       "      <td>208.7500</td>\n",
       "      <td>205.67</td>\n",
       "      <td>207.52</td>\n",
       "      <td>1897692</td>\n",
       "      <td>24043</td>\n",
       "      <td>207.379014</td>\n",
       "      <td>GS</td>\n",
       "    </tr>\n",
       "    <tr>\n",
       "      <th>2019-05-06 04:00:00+00:00</th>\n",
       "      <td>202.80</td>\n",
       "      <td>206.9800</td>\n",
       "      <td>201.71</td>\n",
       "      <td>206.43</td>\n",
       "      <td>1927994</td>\n",
       "      <td>23664</td>\n",
       "      <td>204.807924</td>\n",
       "      <td>GS</td>\n",
       "    </tr>\n",
       "    <tr>\n",
       "      <th>2019-05-07 04:00:00+00:00</th>\n",
       "      <td>203.34</td>\n",
       "      <td>204.0000</td>\n",
       "      <td>201.01</td>\n",
       "      <td>202.63</td>\n",
       "      <td>2839464</td>\n",
       "      <td>32157</td>\n",
       "      <td>202.373376</td>\n",
       "      <td>GS</td>\n",
       "    </tr>\n",
       "  </tbody>\n",
       "</table>\n",
       "</div>"
      ],
      "text/plain": [
       "                             open      high     low   close   volume  \\\n",
       "timestamp                                                              \n",
       "2019-05-01 04:00:00+00:00  206.14  208.4086  204.03  204.73  1981789   \n",
       "2019-05-02 04:00:00+00:00  204.43  206.2200  203.12  204.99  1514660   \n",
       "2019-05-03 04:00:00+00:00  206.01  208.7500  205.67  207.52  1897692   \n",
       "2019-05-06 04:00:00+00:00  202.80  206.9800  201.71  206.43  1927994   \n",
       "2019-05-07 04:00:00+00:00  203.34  204.0000  201.01  202.63  2839464   \n",
       "\n",
       "                           trade_count        vwap symbol  \n",
       "timestamp                                                  \n",
       "2019-05-01 04:00:00+00:00        25133  205.716265     GS  \n",
       "2019-05-02 04:00:00+00:00        20898  204.848131     GS  \n",
       "2019-05-03 04:00:00+00:00        24043  207.379014     GS  \n",
       "2019-05-06 04:00:00+00:00        23664  204.807924     GS  \n",
       "2019-05-07 04:00:00+00:00        32157  202.373376     GS  "
      ]
     },
     "execution_count": 13,
     "metadata": {},
     "output_type": "execute_result"
    }
   ],
   "source": [
    "# Use the Alpaca get_barset function to gather the price information for each ticker\n",
    "# Include the function parameters: tickers, timeframe, start, end, and limit\n",
    "# Be sure to call the df property to ensure that the returned information is set as a DataFrame\n",
    "prices_df = prices_df = portfolio_prices_df = alpaca.get_bars(\n",
    "    tickers,\n",
    "    TimeFrame.Day,\n",
    "    start = start_date,\n",
    "    end = end_date\n",
    ").df\n",
    "\n",
    "# Review the first five rows of the resulting DataFrame \n",
    "# YOUR CODE HERE \n",
    "prices_df.head()"
   ]
  },
  {
   "cell_type": "markdown",
   "metadata": {},
   "source": [
    "## Step 5: Create a new DataFrame that holds the closing prices of each stock.\n",
    "\n",
    "1. Create a `closing_prices_df` DataFrame.\n",
    "2. Using a for-loop, for every `ticker` in the `tickers` list, select the `close` price for each ticker in the `prices_df` Dataframe. That expression will be set equal to  the new `closing_prices_df` for the same `ticker`.\n",
    "3. For the new closing_prices_df DataFrame, keep only the date component (drop the time component).\n",
    "4. View the `closing_prices_df` DataFrame. "
   ]
  },
  {
   "cell_type": "code",
   "execution_count": 28,
   "metadata": {},
   "outputs": [
    {
     "data": {
      "text/html": [
       "<div>\n",
       "<style scoped>\n",
       "    .dataframe tbody tr th:only-of-type {\n",
       "        vertical-align: middle;\n",
       "    }\n",
       "\n",
       "    .dataframe tbody tr th {\n",
       "        vertical-align: top;\n",
       "    }\n",
       "\n",
       "    .dataframe thead th {\n",
       "        text-align: right;\n",
       "    }\n",
       "</style>\n",
       "<table border=\"1\" class=\"dataframe\">\n",
       "  <thead>\n",
       "    <tr style=\"text-align: right;\">\n",
       "      <th></th>\n",
       "      <th>symbol</th>\n",
       "      <th>close</th>\n",
       "    </tr>\n",
       "  </thead>\n",
       "  <tbody>\n",
       "    <tr>\n",
       "      <th>2019-05-01</th>\n",
       "      <td>GS</td>\n",
       "      <td>204.73</td>\n",
       "    </tr>\n",
       "    <tr>\n",
       "      <th>2019-05-02</th>\n",
       "      <td>GS</td>\n",
       "      <td>204.99</td>\n",
       "    </tr>\n",
       "    <tr>\n",
       "      <th>2019-05-03</th>\n",
       "      <td>GS</td>\n",
       "      <td>207.52</td>\n",
       "    </tr>\n",
       "    <tr>\n",
       "      <th>2019-05-06</th>\n",
       "      <td>GS</td>\n",
       "      <td>206.43</td>\n",
       "    </tr>\n",
       "    <tr>\n",
       "      <th>2019-05-07</th>\n",
       "      <td>GS</td>\n",
       "      <td>202.63</td>\n",
       "    </tr>\n",
       "  </tbody>\n",
       "</table>\n",
       "</div>"
      ],
      "text/plain": [
       "           symbol   close\n",
       "2019-05-01     GS  204.73\n",
       "2019-05-02     GS  204.99\n",
       "2019-05-03     GS  207.52\n",
       "2019-05-06     GS  206.43\n",
       "2019-05-07     GS  202.63"
      ]
     },
     "metadata": {},
     "output_type": "display_data"
    },
    {
     "data": {
      "text/html": [
       "<div>\n",
       "<style scoped>\n",
       "    .dataframe tbody tr th:only-of-type {\n",
       "        vertical-align: middle;\n",
       "    }\n",
       "\n",
       "    .dataframe tbody tr th {\n",
       "        vertical-align: top;\n",
       "    }\n",
       "\n",
       "    .dataframe thead th {\n",
       "        text-align: right;\n",
       "    }\n",
       "</style>\n",
       "<table border=\"1\" class=\"dataframe\">\n",
       "  <thead>\n",
       "    <tr style=\"text-align: right;\">\n",
       "      <th></th>\n",
       "      <th>symbol</th>\n",
       "      <th>close</th>\n",
       "    </tr>\n",
       "  </thead>\n",
       "  <tbody>\n",
       "    <tr>\n",
       "      <th>2020-04-27</th>\n",
       "      <td>V</td>\n",
       "      <td>171.76</td>\n",
       "    </tr>\n",
       "    <tr>\n",
       "      <th>2020-04-28</th>\n",
       "      <td>V</td>\n",
       "      <td>171.25</td>\n",
       "    </tr>\n",
       "    <tr>\n",
       "      <th>2020-04-29</th>\n",
       "      <td>V</td>\n",
       "      <td>181.79</td>\n",
       "    </tr>\n",
       "    <tr>\n",
       "      <th>2020-04-30</th>\n",
       "      <td>V</td>\n",
       "      <td>178.72</td>\n",
       "    </tr>\n",
       "    <tr>\n",
       "      <th>2020-05-01</th>\n",
       "      <td>V</td>\n",
       "      <td>175.57</td>\n",
       "    </tr>\n",
       "  </tbody>\n",
       "</table>\n",
       "</div>"
      ],
      "text/plain": [
       "           symbol   close\n",
       "2020-04-27      V  171.76\n",
       "2020-04-28      V  171.25\n",
       "2020-04-29      V  181.79\n",
       "2020-04-30      V  178.72\n",
       "2020-05-01      V  175.57"
      ]
     },
     "metadata": {},
     "output_type": "display_data"
    }
   ],
   "source": [
    "# Create an empty DataFrame for holding the closing prices\n",
    "\n",
    "closing_prices_df = prices_df.loc[:,('symbol', 'close')]\n",
    "# Using a for loop, for every ticker in the tickers list, \n",
    "# Select the close price for each ticker in the prices_df Dataframe\n",
    "# That will be set equal to closing_prices_df for the same ticker value\n",
    "#for ticker in tickers:\n",
    "    # YOUR CODE HERE \n",
    "\n",
    "# For the new closing_prices_df DataFrame, keep only the date component\n",
    "closing_prices_df.index = closing_prices_df.index.date\n",
    "\n",
    "# View the first and last five rows of the closing_prices_df DataFrame\n",
    "display(closing_prices_df.head())\n",
    "display(closing_prices_df.tail())\n",
    "    "
   ]
  },
  {
   "cell_type": "markdown",
   "metadata": {},
   "source": [
    "## Step 6: Generate a daily returns DataFrame that’s based on the closing prices of each stock."
   ]
  },
  {
   "cell_type": "code",
   "execution_count": 29,
   "metadata": {},
   "outputs": [
    {
     "data": {
      "text/html": [
       "<div>\n",
       "<style scoped>\n",
       "    .dataframe tbody tr th:only-of-type {\n",
       "        vertical-align: middle;\n",
       "    }\n",
       "\n",
       "    .dataframe tbody tr th {\n",
       "        vertical-align: top;\n",
       "    }\n",
       "\n",
       "    .dataframe thead th {\n",
       "        text-align: right;\n",
       "    }\n",
       "</style>\n",
       "<table border=\"1\" class=\"dataframe\">\n",
       "  <thead>\n",
       "    <tr style=\"text-align: right;\">\n",
       "      <th></th>\n",
       "      <th>symbol</th>\n",
       "      <th>close</th>\n",
       "      <th>rtn</th>\n",
       "    </tr>\n",
       "  </thead>\n",
       "  <tbody>\n",
       "    <tr>\n",
       "      <th>2019-05-01</th>\n",
       "      <td>GS</td>\n",
       "      <td>204.73</td>\n",
       "      <td>NaN</td>\n",
       "    </tr>\n",
       "    <tr>\n",
       "      <th>2019-05-02</th>\n",
       "      <td>GS</td>\n",
       "      <td>204.99</td>\n",
       "      <td>0.001270</td>\n",
       "    </tr>\n",
       "    <tr>\n",
       "      <th>2019-05-03</th>\n",
       "      <td>GS</td>\n",
       "      <td>207.52</td>\n",
       "      <td>0.012342</td>\n",
       "    </tr>\n",
       "    <tr>\n",
       "      <th>2019-05-06</th>\n",
       "      <td>GS</td>\n",
       "      <td>206.43</td>\n",
       "      <td>-0.005253</td>\n",
       "    </tr>\n",
       "    <tr>\n",
       "      <th>2019-05-07</th>\n",
       "      <td>GS</td>\n",
       "      <td>202.63</td>\n",
       "      <td>-0.018408</td>\n",
       "    </tr>\n",
       "  </tbody>\n",
       "</table>\n",
       "</div>"
      ],
      "text/plain": [
       "           symbol   close       rtn\n",
       "2019-05-01     GS  204.73       NaN\n",
       "2019-05-02     GS  204.99  0.001270\n",
       "2019-05-03     GS  207.52  0.012342\n",
       "2019-05-06     GS  206.43 -0.005253\n",
       "2019-05-07     GS  202.63 -0.018408"
      ]
     },
     "metadata": {},
     "output_type": "display_data"
    },
    {
     "data": {
      "text/html": [
       "<div>\n",
       "<style scoped>\n",
       "    .dataframe tbody tr th:only-of-type {\n",
       "        vertical-align: middle;\n",
       "    }\n",
       "\n",
       "    .dataframe tbody tr th {\n",
       "        vertical-align: top;\n",
       "    }\n",
       "\n",
       "    .dataframe thead th {\n",
       "        text-align: right;\n",
       "    }\n",
       "</style>\n",
       "<table border=\"1\" class=\"dataframe\">\n",
       "  <thead>\n",
       "    <tr style=\"text-align: right;\">\n",
       "      <th></th>\n",
       "      <th>symbol</th>\n",
       "      <th>close</th>\n",
       "      <th>rtn</th>\n",
       "    </tr>\n",
       "  </thead>\n",
       "  <tbody>\n",
       "    <tr>\n",
       "      <th>2020-04-27</th>\n",
       "      <td>V</td>\n",
       "      <td>171.76</td>\n",
       "      <td>0.026536</td>\n",
       "    </tr>\n",
       "    <tr>\n",
       "      <th>2020-04-28</th>\n",
       "      <td>V</td>\n",
       "      <td>171.25</td>\n",
       "      <td>-0.002969</td>\n",
       "    </tr>\n",
       "    <tr>\n",
       "      <th>2020-04-29</th>\n",
       "      <td>V</td>\n",
       "      <td>181.79</td>\n",
       "      <td>0.061547</td>\n",
       "    </tr>\n",
       "    <tr>\n",
       "      <th>2020-04-30</th>\n",
       "      <td>V</td>\n",
       "      <td>178.72</td>\n",
       "      <td>-0.016888</td>\n",
       "    </tr>\n",
       "    <tr>\n",
       "      <th>2020-05-01</th>\n",
       "      <td>V</td>\n",
       "      <td>175.57</td>\n",
       "      <td>-0.017625</td>\n",
       "    </tr>\n",
       "  </tbody>\n",
       "</table>\n",
       "</div>"
      ],
      "text/plain": [
       "           symbol   close       rtn\n",
       "2020-04-27      V  171.76  0.026536\n",
       "2020-04-28      V  171.25 -0.002969\n",
       "2020-04-29      V  181.79  0.061547\n",
       "2020-04-30      V  178.72 -0.016888\n",
       "2020-05-01      V  175.57 -0.017625"
      ]
     },
     "metadata": {},
     "output_type": "display_data"
    }
   ],
   "source": [
    "# Compute daily returns of the closing_prices_df DataFrame using the pct_change function \n",
    "# Be sure to drop the first row of NaN values\n",
    "daily_returns_df = closing_prices_df\n",
    "daily_returns_df['rtn'] = daily_returns_df['close'].pct_change()\n",
    "daily_returns = daily_returns_df.dropna()\n",
    "\n",
    "# Review the first and last five rows of the daily_returns_df DataFrame\n",
    "\n",
    "display(daily_returns_df.head())\n",
    "display(daily_returns_df.tail())\n",
    "    "
   ]
  },
  {
   "cell_type": "markdown",
   "metadata": {},
   "source": [
    "## Step 7: Generate the summary statistics for the daily returns DataFrame. This provides your first review of the distribution information for your stocks."
   ]
  },
  {
   "cell_type": "code",
   "execution_count": 30,
   "metadata": {},
   "outputs": [
    {
     "data": {
      "text/html": [
       "<div>\n",
       "<style scoped>\n",
       "    .dataframe tbody tr th:only-of-type {\n",
       "        vertical-align: middle;\n",
       "    }\n",
       "\n",
       "    .dataframe tbody tr th {\n",
       "        vertical-align: top;\n",
       "    }\n",
       "\n",
       "    .dataframe thead tr th {\n",
       "        text-align: left;\n",
       "    }\n",
       "\n",
       "    .dataframe thead tr:last-of-type th {\n",
       "        text-align: right;\n",
       "    }\n",
       "</style>\n",
       "<table border=\"1\" class=\"dataframe\">\n",
       "  <thead>\n",
       "    <tr>\n",
       "      <th></th>\n",
       "      <th colspan=\"8\" halign=\"left\">rtn</th>\n",
       "    </tr>\n",
       "    <tr>\n",
       "      <th></th>\n",
       "      <th>count</th>\n",
       "      <th>mean</th>\n",
       "      <th>std</th>\n",
       "      <th>min</th>\n",
       "      <th>25%</th>\n",
       "      <th>50%</th>\n",
       "      <th>75%</th>\n",
       "      <th>max</th>\n",
       "    </tr>\n",
       "    <tr>\n",
       "      <th>symbol</th>\n",
       "      <th></th>\n",
       "      <th></th>\n",
       "      <th></th>\n",
       "      <th></th>\n",
       "      <th></th>\n",
       "      <th></th>\n",
       "      <th></th>\n",
       "      <th></th>\n",
       "    </tr>\n",
       "  </thead>\n",
       "  <tbody>\n",
       "    <tr>\n",
       "      <th>GS</th>\n",
       "      <td>253.0</td>\n",
       "      <td>-0.000211</td>\n",
       "      <td>0.026883</td>\n",
       "      <td>-0.127053</td>\n",
       "      <td>-0.009066</td>\n",
       "      <td>0.000566</td>\n",
       "      <td>0.011213</td>\n",
       "      <td>0.138031</td>\n",
       "    </tr>\n",
       "    <tr>\n",
       "      <th>SPY</th>\n",
       "      <td>254.0</td>\n",
       "      <td>0.002608</td>\n",
       "      <td>0.044840</td>\n",
       "      <td>-0.107828</td>\n",
       "      <td>-0.004631</td>\n",
       "      <td>0.000919</td>\n",
       "      <td>0.006985</td>\n",
       "      <td>0.647770</td>\n",
       "    </tr>\n",
       "    <tr>\n",
       "      <th>SQ</th>\n",
       "      <td>254.0</td>\n",
       "      <td>-0.002671</td>\n",
       "      <td>0.061606</td>\n",
       "      <td>-0.739702</td>\n",
       "      <td>-0.016049</td>\n",
       "      <td>0.002455</td>\n",
       "      <td>0.016586</td>\n",
       "      <td>0.157461</td>\n",
       "    </tr>\n",
       "    <tr>\n",
       "      <th>V</th>\n",
       "      <td>254.0</td>\n",
       "      <td>0.006856</td>\n",
       "      <td>0.102558</td>\n",
       "      <td>-0.138600</td>\n",
       "      <td>-0.007307</td>\n",
       "      <td>0.001660</td>\n",
       "      <td>0.009690</td>\n",
       "      <td>1.583968</td>\n",
       "    </tr>\n",
       "  </tbody>\n",
       "</table>\n",
       "</div>"
      ],
      "text/plain": [
       "          rtn                                                              \\\n",
       "        count      mean       std       min       25%       50%       75%   \n",
       "symbol                                                                      \n",
       "GS      253.0 -0.000211  0.026883 -0.127053 -0.009066  0.000566  0.011213   \n",
       "SPY     254.0  0.002608  0.044840 -0.107828 -0.004631  0.000919  0.006985   \n",
       "SQ      254.0 -0.002671  0.061606 -0.739702 -0.016049  0.002455  0.016586   \n",
       "V       254.0  0.006856  0.102558 -0.138600 -0.007307  0.001660  0.009690   \n",
       "\n",
       "                  \n",
       "             max  \n",
       "symbol            \n",
       "GS      0.138031  \n",
       "SPY     0.647770  \n",
       "SQ      0.157461  \n",
       "V       1.583968  "
      ]
     },
     "execution_count": 30,
     "metadata": {},
     "output_type": "execute_result"
    }
   ],
   "source": [
    "# Using the Pandas describe function, generate summary statistics\n",
    "# for each of the tickers in the daily_returns_df DataFrame\n",
    "daily_returns_df.drop('close', axis=1, inplace=True)\n",
    "daily_returns_df.groupby('symbol').describe()\n"
   ]
  },
  {
   "cell_type": "markdown",
   "metadata": {},
   "source": [
    "## Step 8: Visualize the distribution of the daily returns DataFrame by creating a histogram plot and a density plot."
   ]
  },
  {
   "cell_type": "code",
   "execution_count": 32,
   "metadata": {},
   "outputs": [
    {
     "data": {
      "image/png": "[encoded data removed]",
      "text/plain": [
       "<Figure size 1152x576 with 1 Axes>"
      ]
     },
     "metadata": {
      "needs_background": "light"
     },
     "output_type": "display_data"
    }
   ],
   "source": [
    "# Visualize the distribution of daily returns across all stocks using a histogram plot\n",
    "# Give the plot a title and adjust the figure size\n",
    "# YOUR CODE HERE \n",
    "ax = daily_returns_df.groupby('symbol')['rtn'].plot.hist(title='Density Plots', figsize = (16,8),\n",
    "                                    by=None, grid=True, \n",
    "                                    bins = 100,\n",
    "                                    sharex=False, \n",
    "                                    sharey=False, layout=None,backend=None, legend = True,\n",
    "                                    xlim=(-.1,.10), alpha = .5\n",
    "                                      )\n"
   ]
  },
  {
   "cell_type": "code",
   "execution_count": 33,
   "metadata": {},
   "outputs": [
    {
     "data": {
      "image/png": "[encoded data removed]",
      "text/plain": [
       "<Figure size 1152x576 with 1 Axes>"
      ]
     },
     "metadata": {
      "needs_background": "light"
     },
     "output_type": "display_data"
    }
   ],
   "source": [
    "# Visualize the distribution of daily returns across all stocks using a density plot\n",
    "# Give the plot a title and adjust the figure size \n",
    "ax = daily_returns_df.groupby('symbol')['rtn'].plot.density(title='Density Plots', figsize = (16,8),\n",
    "                                    by=None, grid=True, \n",
    "                                    sharex=False, \n",
    "                                    sharey=False, layout=None,backend=None, legend = True,\n",
    "                                    xlim=(-.05,.05)\n",
    "                                      )"
   ]
  },
  {
   "cell_type": "markdown",
   "metadata": {},
   "source": [
    "## Step 9: Answer the following question. "
   ]
  },
  {
   "cell_type": "markdown",
   "metadata": {},
   "source": [
    "**Question** Which is the least volatile stock in the group? Which is the most volatile?\n",
    "    \n",
    "**Answer** least is GS mose is VZ"
   ]
  },
  {
   "cell_type": "markdown",
   "metadata": {},
   "source": [
    "## Step 10: With a 95% confidence level, calculate the downside and upside performance expectations for both SPY and V based on the mean and standard deviation values."
   ]
  },
  {
   "cell_type": "code",
   "execution_count": 58,
   "metadata": {},
   "outputs": [
    {
     "data": {
      "text/html": [
       "<div>\n",
       "<style scoped>\n",
       "    .dataframe tbody tr th:only-of-type {\n",
       "        vertical-align: middle;\n",
       "    }\n",
       "\n",
       "    .dataframe tbody tr th {\n",
       "        vertical-align: top;\n",
       "    }\n",
       "\n",
       "    .dataframe thead th {\n",
       "        text-align: right;\n",
       "    }\n",
       "</style>\n",
       "<table border=\"1\" class=\"dataframe\">\n",
       "  <thead>\n",
       "    <tr style=\"text-align: right;\">\n",
       "      <th></th>\n",
       "      <th>mean</th>\n",
       "      <th>std</th>\n",
       "      <th>upside 95</th>\n",
       "      <th>downside 95</th>\n",
       "      <th>upside 99</th>\n",
       "      <th>downside 99</th>\n",
       "    </tr>\n",
       "    <tr>\n",
       "      <th>symbol</th>\n",
       "      <th></th>\n",
       "      <th></th>\n",
       "      <th></th>\n",
       "      <th></th>\n",
       "      <th></th>\n",
       "      <th></th>\n",
       "    </tr>\n",
       "  </thead>\n",
       "  <tbody>\n",
       "    <tr>\n",
       "      <th>GS</th>\n",
       "      <td>-0.000211</td>\n",
       "      <td>0.026883</td>\n",
       "      <td>0.052480</td>\n",
       "      <td>-0.052902</td>\n",
       "      <td>0.069040</td>\n",
       "      <td>-0.069462</td>\n",
       "    </tr>\n",
       "    <tr>\n",
       "      <th>SPY</th>\n",
       "      <td>0.002608</td>\n",
       "      <td>0.044840</td>\n",
       "      <td>0.090494</td>\n",
       "      <td>-0.085279</td>\n",
       "      <td>0.118116</td>\n",
       "      <td>-0.112901</td>\n",
       "    </tr>\n",
       "    <tr>\n",
       "      <th>SQ</th>\n",
       "      <td>-0.002671</td>\n",
       "      <td>0.061606</td>\n",
       "      <td>0.118077</td>\n",
       "      <td>-0.123420</td>\n",
       "      <td>0.156027</td>\n",
       "      <td>-0.161369</td>\n",
       "    </tr>\n",
       "    <tr>\n",
       "      <th>V</th>\n",
       "      <td>0.006856</td>\n",
       "      <td>0.102558</td>\n",
       "      <td>0.207869</td>\n",
       "      <td>-0.194157</td>\n",
       "      <td>0.271045</td>\n",
       "      <td>-0.257332</td>\n",
       "    </tr>\n",
       "  </tbody>\n",
       "</table>\n",
       "</div>"
      ],
      "text/plain": [
       "            mean       std  upside 95  downside 95  upside 99  downside 99\n",
       "symbol                                                                    \n",
       "GS     -0.000211  0.026883   0.052480    -0.052902   0.069040    -0.069462\n",
       "SPY     0.002608  0.044840   0.090494    -0.085279   0.118116    -0.112901\n",
       "SQ     -0.002671  0.061606   0.118077    -0.123420   0.156027    -0.161369\n",
       "V       0.006856  0.102558   0.207869    -0.194157   0.271045    -0.257332"
      ]
     },
     "execution_count": 58,
     "metadata": {},
     "output_type": "execute_result"
    }
   ],
   "source": [
    "\n",
    "stats_df = daily_returns_df.groupby('symbol')['rtn'].describe()[['mean', 'std']]\n",
    "stats_df['upside 95'] = stats_df['mean'] + (1.96 * stats_df['std'])\n",
    "stats_df['downside 95'] = stats_df['mean'] - (1.96 * stats_df['std'])\n",
    "stats_df['upside 99'] = stats_df['mean'] + (2.576 * stats_df['std'])\n",
    "stats_df['downside 99'] = stats_df['mean'] - (2.576 * stats_df['std'])\n",
    "#mean_returns.loc['std'] = daily_returns_df.groupby('symbol')['rtn'].std()\n",
    "#mean_returns\n",
    "#stats_df = pd.DataFrame(mean_returns,std)\n",
    "#stats_df\n",
    "\n",
    "stats_df"
   ]
  },
  {
   "cell_type": "code",
   "execution_count": 14,
   "metadata": {},
   "outputs": [
    {
     "name": "stdout",
     "output_type": "stream",
     "text": [
      "Using a 95% confidence interval, the SPDR S&P 500 ETF Trust could trade down as much as -3.9739%, and up as much as  3.9903%.\n"
     ]
    }
   ],
   "source": [
    "# Based on the daily return summary statistics, access the mean and standard deviation \n",
    "# values for the SPDR S&P 500 ETF Trust (ticker: SPY)\n",
    "# Calculate the upside and downside performance expectations using a 95% confidence interval.\n",
    "# The z-score associated with a 95% confidence interval is 1.96.\n",
    "\n",
    "# Calculate the downside performance expectation:\n",
    "# downside performane = mean - (z-score * standard deviation)\n",
    "downside_SPY = # YOUR CODE HERE \n",
    "\n",
    "# Calculate the upside performance expectation:\n",
    "# upside performane = mean + (z-score * standard deviation)\n",
    "upside_SPY = # YOUR CODE HERE \n",
    "\n",
    "# Print the expected range of SPY's performance\n",
    "# YOUR CODE HERE \n"
   ]
  },
  {
   "cell_type": "code",
   "execution_count": 15,
   "metadata": {},
   "outputs": [
    {
     "name": "stdout",
     "output_type": "stream",
     "text": [
      "Using a 95% confidence interval, Visa could trade down as much as -4.9030%,  and up as much as  5.0276%.\n"
     ]
    }
   ],
   "source": [
    "# Based on the daily return summary statistics, access the mean and standard deviation\n",
    "# values for stock Visa (ticker: V)\n",
    "# Calculate the upside and downside performance expectations using a 95% confidence interval\n",
    "# The z-score associated with a 95% confidence interval is 1.96\n",
    "\n",
    "# Calculate the downside performance expectation:\n",
    "# downside performane = mean - (z-score * standard deviation)\n",
    "downside_V = # YOUR CODE HERE \n",
    "\n",
    "# Calculate the upside performance expectation:\n",
    "# upside performane = mean + (z-score * standard deviation)\n",
    "upside_V = # YOUR CODE HERE \n",
    "\n",
    "# Print the expected range of Visa's performance\n",
    "# YOUR CODE HERE \n"
   ]
  },
  {
   "cell_type": "markdown",
   "metadata": {},
   "source": [
    "## Step 11: With a 99% level of confidence, calculate the downside and upside performance expectations for both SQ and GS based on the mean and standard deviation values. "
   ]
  },
  {
   "cell_type": "code",
   "execution_count": 16,
   "metadata": {},
   "outputs": [
    {
     "name": "stdout",
     "output_type": "stream",
     "text": [
      "Using a 99% confidence interval, Square, Inc. could trade down as much as -10.4578%, and up as much as  10.5062%.\n"
     ]
    }
   ],
   "source": [
    "# Based on the daily return summary statistics, access the mean and standard deviation \n",
    "# values for Square, Inc. (ticker: SQ). \n",
    "# Calculate the upside and downside performance expectations using a 99% confidence interval.\n",
    "# The z-score associated with a 99% confidence interval is 2.576.\n",
    "\n",
    "# Calculate the downside performance expectation:\n",
    "# downside performane = mean - (z-score * standard deviation)\n",
    "downside_SQ = # YOUR CODE HERE \n",
    "\n",
    "# Calculate the upside performance expectation:\n",
    "# upside performane = mean + (z-score * standard deviation)\n",
    "upside_SQ = # YOUR CODE HERE \n",
    "\n",
    "# Print the expected range of Square, Inc's performance.\n",
    "# YOUR CODE HERE \n"
   ]
  },
  {
   "cell_type": "code",
   "execution_count": 17,
   "metadata": {},
   "outputs": [
    {
     "name": "stdout",
     "output_type": "stream",
     "text": [
      "Using a 99% confidence interval, Goldman Sachs could trade down as much as -7.4650%, and up as much as  7.4340%.\n"
     ]
    }
   ],
   "source": [
    "# Based on the daily return summary statistics, access the mean and standard deviation \n",
    "# values for Goldman Sachs (ticker: GS). \n",
    "# Calculate the upside and downside performance expectations using a 99% confidence interval.\n",
    "# The z-score associated with a 99% confidence interval is 2.576.\n",
    "\n",
    "# Calculate the downside performance expectation:\n",
    "# downside performane = mean - (z-score * standard deviation)\n",
    "downside_GS = # YOUR CODE HERE \n",
    "\n",
    "# Calculate the upside performance expectation:\n",
    "# upside performane = mean + (z-score * standard deviation)\n",
    "upside_GS = # YOUR CODE HERE \n",
    "\n",
    "# Print the expected range of Goldman Sach's performance.\n",
    "# YOUR CODE HERE \n"
   ]
  },
  {
   "cell_type": "markdown",
   "metadata": {},
   "source": [
    "## Step 12: Identify the lower and upper performance bounds for the start of each tail for SPY and SQ stocks. Note that the tail risk occurs when the performance measures outside the 99.7% confidence interval."
   ]
  },
  {
   "cell_type": "code",
   "execution_count": 18,
   "metadata": {},
   "outputs": [
    {
     "name": "stdout",
     "output_type": "stream",
     "text": [
      "There is a probability of 0.15% that the SPDR S&P 500 ETF Trust could trade down more than -6.0869%, or that it could trade up more than  6.1033%.\n"
     ]
    }
   ],
   "source": [
    "# Based on the daily return summary statistics, access the mean \n",
    "# and standard deviation values for the SPDR S&P 500 ETF Trust (ticker: SPY)\n",
    "# Identify the lower and upper bounds associated with the tail risk measures\n",
    "# The tail risk occurs when performance measures outside \n",
    "# of the 99.7% confidence interval, or a z-score of 3\n",
    "\n",
    "# Calculate the downside performance expectation:\n",
    "# downside performane = mean - (z-score * standard deviation)\n",
    "downside_tail_SPY = # YOUR CODE HERE \n",
    "\n",
    "# Calculate the upside performance expectation:\n",
    "# upside performane = mean + (z-score * standard deviation)\n",
    "upside_tail_SPY = # YOUR CODE HERE \n",
    "\n",
    "# Print the expected range of the SPY's performance\n",
    "# YOUR CODE HERE \n"
   ]
  },
  {
   "cell_type": "code",
   "execution_count": 19,
   "metadata": {},
   "outputs": [
    {
     "name": "stdout",
     "output_type": "stream",
     "text": [
      "There is a probability of 0.15% that the Square, Inc. could trade down more than -12.1831%, or that it could trade up more than  12.2315%.\n"
     ]
    }
   ],
   "source": [
    "# Based on the daily return summary statistics, access the mean \n",
    "# and standard deviation values for Square, Inc. (ticker: SQ). \n",
    "# Identify the lower and upper bounds associated with the tail risk measures. \n",
    "# The tail risk occurs when performance measures outside \n",
    "# of the 99.7% confidence interval, or a z-score of 3 \n",
    "\n",
    "# Calculate the downside performance expectation:\n",
    "# downside performane = mean - (z-score * standard deviation)\n",
    "downside_tail_SQ = # YOUR CODE HERE \n",
    "\n",
    "# Calculate the upside performance expectation:\n",
    "# upside performane = mean + (z-score * standard deviation)\n",
    "upside_tail_SQ = # YOUR CODE HERE \n",
    "\n",
    "# Print the expected range of the Square Inc's performance\n",
    "# YOUR CODE HERE \n"
   ]
  }
 ],
 "metadata": {
  "kernel_info": {
   "name": "python3"
  },
  "kernelspec": {
   "display_name": "dev",
   "language": "python",
   "name": "dev"
  },
  "language_info": {
   "codemirror_mode": {
    "name": "ipython",
    "version": 3
   },
   "file_extension": ".py",
   "mimetype": "text/x-python",
   "name": "python",
   "nbconvert_exporter": "python",
   "pygments_lexer": "ipython3",
   "version": "3.7.11"
  },
  "nteract": {
   "version": "0.12.3"
  }
 },
 "nbformat": 4,
 "nbformat_minor": 4
}
